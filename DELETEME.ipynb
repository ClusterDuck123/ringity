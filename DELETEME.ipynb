{
 "cells": [
  {
   "cell_type": "code",
   "execution_count": 1,
   "metadata": {},
   "outputs": [],
   "source": [
    "from scipy.spatial.distance import pdist, squareform\n",
    "from ripser import ripser\n",
    "from ringity.new_centralities import current_distance as new_current_distance\n",
    "from itertools import product\n",
    "\n",
    "import ringity\n",
    "import numpy as np\n",
    "import os\n",
    "import time\n",
    "import networkx as nx"
   ]
  },
  {
   "cell_type": "code",
   "execution_count": 2,
   "metadata": {},
   "outputs": [],
   "source": [
    "RINGITY_PATH = os.path.dirname(ringity.__file__)"
   ]
  },
  {
   "cell_type": "code",
   "execution_count": 3,
   "metadata": {},
   "outputs": [],
   "source": [
    "G = nx.read_edgelist(f\"{RINGITY_PATH}/test_data/lipid_coexp_network.csv\",\n",
    "                            nodetype=int)"
   ]
  },
  {
   "cell_type": "code",
   "execution_count": 4,
   "metadata": {},
   "outputs": [
    {
     "name": "stdout",
     "output_type": "stream",
     "text": [
      "'floyd_warshall' will be used for SPL calculation.\n",
      "Current-distance will be induced.\n",
      "Self loops in graph detected. They will be removed!\n",
      "Time for current_flow_matrix calculation nr.0: 0.10440993309020996sec\n",
      "Time for current_distance loop           nr.0: 2.98772931098938sec\n",
      "\n",
      "Using edge attribute 'current-distance' as toa.\n",
      "Time for Floyd-Warshall calculation: 0.06075286865234375sec\n"
     ]
    },
    {
     "data": {
      "text/plain": [
       "matrix([[0., 2., 2., ..., 4., 4., 4.],\n",
       "        [2., 0., 2., ..., 4., 4., 4.],\n",
       "        [2., 2., 0., ..., 3., 3., 3.],\n",
       "        ...,\n",
       "        [4., 4., 3., ..., 0., 1., 6.],\n",
       "        [4., 4., 3., ..., 1., 0., 6.],\n",
       "        [4., 4., 3., ..., 6., 6., 0.]])"
      ]
     },
     "execution_count": 4,
     "metadata": {},
     "output_type": "execute_result"
    }
   ],
   "source": [
    "ringity.get_distance_matrix(G, toa='induce', verbose=True)"
   ]
  },
  {
   "cell_type": "code",
   "execution_count": 5,
   "metadata": {},
   "outputs": [
    {
     "data": {
      "text/plain": [
       "matrix([[0., 2., 2., ..., 4., 4., 4.],\n",
       "        [2., 0., 2., ..., 4., 4., 4.],\n",
       "        [2., 2., 0., ..., 3., 3., 3.],\n",
       "        ...,\n",
       "        [4., 4., 3., ..., 0., 1., 6.],\n",
       "        [4., 4., 3., ..., 1., 0., 6.],\n",
       "        [4., 4., 3., ..., 6., 6., 0.]])"
      ]
     },
     "execution_count": 5,
     "metadata": {},
     "output_type": "execute_result"
    }
   ],
   "source": [
    "nx.floyd_warshall_numpy(G, weight='current-distance')"
   ]
  },
  {
   "cell_type": "code",
   "execution_count": 15,
   "metadata": {},
   "outputs": [
    {
     "ename": "AttributeError",
     "evalue": "'Graph' object has no attribute 'selfloop_edges'",
     "output_type": "error",
     "traceback": [
      "\u001b[0;31m---------------------------------------------------------------------------\u001b[0m",
      "\u001b[0;31mAttributeError\u001b[0m                            Traceback (most recent call last)",
      "\u001b[0;32m<ipython-input-15-e07982986b04>\u001b[0m in \u001b[0;36m<module>\u001b[0;34m\u001b[0m\n\u001b[0;32m----> 1\u001b[0;31m \u001b[0mringity\u001b[0m\u001b[0;34m.\u001b[0m\u001b[0mcentralities\u001b[0m\u001b[0;34m.\u001b[0m\u001b[0mcurrent_distance\u001b[0m\u001b[0;34m(\u001b[0m\u001b[0mG\u001b[0m\u001b[0;34m)\u001b[0m\u001b[0;34m\u001b[0m\u001b[0;34m\u001b[0m\u001b[0m\n\u001b[0m",
      "\u001b[0;32m~/Desktop/git/ringity/ringity/centralities.py\u001b[0m in \u001b[0;36mcurrent_distance\u001b[0;34m(G, verbose)\u001b[0m\n\u001b[1;32m     66\u001b[0m             \u001b[0;32mif\u001b[0m \u001b[0mverbose\u001b[0m\u001b[0;34m:\u001b[0m\u001b[0;34m\u001b[0m\u001b[0;34m\u001b[0m\u001b[0m\n\u001b[1;32m     67\u001b[0m                 \u001b[0mprint\u001b[0m\u001b[0;34m(\u001b[0m\u001b[0;34m'Self loops in graph detected. They will be removed!'\u001b[0m\u001b[0;34m)\u001b[0m\u001b[0;34m\u001b[0m\u001b[0;34m\u001b[0m\u001b[0m\n\u001b[0;32m---> 68\u001b[0;31m             \u001b[0mG\u001b[0m\u001b[0;34m.\u001b[0m\u001b[0mremove_edges_from\u001b[0m\u001b[0;34m(\u001b[0m\u001b[0mG\u001b[0m\u001b[0;34m.\u001b[0m\u001b[0mselfloop_edges\u001b[0m\u001b[0;34m(\u001b[0m\u001b[0;34m)\u001b[0m\u001b[0;34m)\u001b[0m\u001b[0;34m\u001b[0m\u001b[0;34m\u001b[0m\u001b[0m\n\u001b[0m\u001b[1;32m     69\u001b[0m \u001b[0;34m\u001b[0m\u001b[0m\n\u001b[1;32m     70\u001b[0m \u001b[0;34m\u001b[0m\u001b[0m\n",
      "\u001b[0;31mAttributeError\u001b[0m: 'Graph' object has no attribute 'selfloop_edges'"
     ]
    }
   ],
   "source": [
    "ringity.centralities.current_distance(G)"
   ]
  },
  {
   "cell_type": "code",
   "execution_count": 4,
   "metadata": {},
   "outputs": [
    {
     "name": "stdout",
     "output_type": "stream",
     "text": [
      "'floyd_warshall' will be used for SPL calculation.\n",
      "Current-distance will be induced.\n",
      "Self loops in graph detected. They will be removed!\n",
      "Time for current_flow_matrix calculation nr.0: 0.10583901405334473sec\n",
      "Time for current_distance loop           nr.0: 2.6247589588165283sec\n",
      "\n",
      "Using edge attribute 'current-distance' as toa.\n",
      "Time for Floyd-Warshall calculation: 0.06238913536071777sec\n",
      "Time for ripser calculation: 0.21931910514831543sec\n"
     ]
    },
    {
     "data": {
      "text/plain": [
       "Dgm([(1.0, 2.0), (1.0, 2.0), (1.0, 2.0), (1.0, 2.0), (1.0, 2.0), (1.0, 2.0), (1.0, 2.0), (1.0, 2.0), (1.0, 2.0), (1.0, 2.0), (1.0, 2.0), (1.0, 2.0), (1.0, 2.0), (1.0, 2.0), (1.0, 2.0), (1.0, 2.0), (1.0, 2.0), (1.0, 2.0), (1.0, 2.0), (1.0, 2.0), (1.0, 2.0), (1.0, 2.0), (1.0, 2.0)])"
      ]
     },
     "execution_count": 4,
     "metadata": {},
     "output_type": "execute_result"
    }
   ],
   "source": [
    "ringity.diagram(G, verbose=True)"
   ]
  },
  {
   "cell_type": "code",
   "execution_count": 5,
   "metadata": {},
   "outputs": [
    {
     "data": {
      "text/plain": [
       "{'current-distance': 15.097529008033764}"
      ]
     },
     "execution_count": 5,
     "metadata": {},
     "output_type": "execute_result"
    }
   ],
   "source": [
    "G[0][1]"
   ]
  },
  {
   "cell_type": "code",
   "execution_count": 6,
   "metadata": {},
   "outputs": [],
   "source": [
    "if induce:\n",
    "    toa = 'induce'\n",
    "\n",
    "\n",
    "D = get_distance_matrix(G          = G,\n",
    "                        toa        = toa,\n",
    "                        verbose    = verbose,\n",
    "                        spl_method = spl_method,\n",
    "                        split      = split)"
   ]
  },
  {
   "cell_type": "code",
   "execution_count": 13,
   "metadata": {},
   "outputs": [
    {
     "data": {
      "text/plain": [
       "matrix([[0., 2., 2., ..., 4., 4., 4.],\n",
       "        [2., 0., 2., ..., 4., 4., 4.],\n",
       "        [2., 2., 0., ..., 3., 3., 3.],\n",
       "        ...,\n",
       "        [4., 4., 3., ..., 0., 1., 6.],\n",
       "        [4., 4., 3., ..., 1., 0., 6.],\n",
       "        [4., 4., 3., ..., 6., 6., 0.]])"
      ]
     },
     "execution_count": 13,
     "metadata": {},
     "output_type": "execute_result"
    }
   ],
   "source": [
    "D"
   ]
  },
  {
   "cell_type": "code",
   "execution_count": 14,
   "metadata": {},
   "outputs": [],
   "source": [
    "A = np.random.uniform(size=[244,3])\n",
    "D2 = squareform(pdist(A))"
   ]
  },
  {
   "cell_type": "code",
   "execution_count": 35,
   "metadata": {},
   "outputs": [
    {
     "data": {
      "text/plain": [
       "{'dgms': [array([[ 0.,  2.],\n",
       "         [ 0.,  2.],\n",
       "         [ 0., inf]]), array([], shape=(0, 2), dtype=float64)],\n",
       " 'cocycles': [[], []],\n",
       " 'num_edges': 3,\n",
       " 'dperm2all': array([[0., 2., 2.],\n",
       "        [2., 0., 2.],\n",
       "        [2., 2., 0.]]),\n",
       " 'idx_perm': array([0, 1, 2]),\n",
       " 'r_cover': 0.0}"
      ]
     },
     "execution_count": 35,
     "metadata": {},
     "output_type": "execute_result"
    }
   ],
   "source": [
    "D2 = D[:3,:3]\n",
    "ripser(np.array(D2), distance_matrix=True)"
   ]
  },
  {
   "cell_type": "code",
   "execution_count": 34,
   "metadata": {},
   "outputs": [
    {
     "data": {
      "text/plain": [
       "array([[0., 2., 2.],\n",
       "       [2., 0., 2.],\n",
       "       [2., 2., 0.]])"
      ]
     },
     "execution_count": 34,
     "metadata": {},
     "output_type": "execute_result"
    }
   ],
   "source": [
    "np.array(D2)"
   ]
  },
  {
   "cell_type": "code",
   "execution_count": 11,
   "metadata": {},
   "outputs": [
    {
     "name": "stdout",
     "output_type": "stream",
     "text": [
      "<class 'numpy.matrix'>\n",
      "\n"
     ]
    },
    {
     "ename": "ValueError",
     "evalue": "Buffer has wrong number of dimensions (expected 1, got 2)",
     "output_type": "error",
     "traceback": [
      "\u001b[0;31m---------------------------------------------------------------------------\u001b[0m",
      "\u001b[0;31mValueError\u001b[0m                                Traceback (most recent call last)",
      "\u001b[0;32m<ipython-input-11-5067becc4659>\u001b[0m in \u001b[0;36m<module>\u001b[0;34m\u001b[0m\n\u001b[1;32m     15\u001b[0m \u001b[0;34m\u001b[0m\u001b[0m\n\u001b[1;32m     16\u001b[0m \u001b[0mt1\u001b[0m \u001b[0;34m=\u001b[0m \u001b[0mtime\u001b[0m\u001b[0;34m.\u001b[0m\u001b[0mtime\u001b[0m\u001b[0;34m(\u001b[0m\u001b[0;34m)\u001b[0m\u001b[0;34m\u001b[0m\u001b[0;34m\u001b[0m\u001b[0m\n\u001b[0;32m---> 17\u001b[0;31m \u001b[0mripser_output\u001b[0m \u001b[0;34m=\u001b[0m \u001b[0mripser\u001b[0m\u001b[0;34m(\u001b[0m\u001b[0mD\u001b[0m\u001b[0;34m,\u001b[0m \u001b[0mmaxdim\u001b[0m\u001b[0;34m=\u001b[0m\u001b[0mp\u001b[0m\u001b[0;34m,\u001b[0m \u001b[0mdistance_matrix\u001b[0m\u001b[0;34m=\u001b[0m\u001b[0;32mTrue\u001b[0m\u001b[0;34m)\u001b[0m\u001b[0;34m\u001b[0m\u001b[0;34m\u001b[0m\u001b[0m\n\u001b[0m\u001b[1;32m     18\u001b[0m \u001b[0mdgm\u001b[0m \u001b[0;34m=\u001b[0m \u001b[0mDgm\u001b[0m\u001b[0;34m(\u001b[0m\u001b[0mripser_output\u001b[0m\u001b[0;34m[\u001b[0m\u001b[0;34m'dgms'\u001b[0m\u001b[0;34m]\u001b[0m\u001b[0;34m[\u001b[0m\u001b[0mp\u001b[0m\u001b[0;34m]\u001b[0m\u001b[0;34m)\u001b[0m\u001b[0;34m\u001b[0m\u001b[0;34m\u001b[0m\u001b[0m\n\u001b[1;32m     19\u001b[0m \u001b[0mt2\u001b[0m \u001b[0;34m=\u001b[0m \u001b[0mtime\u001b[0m\u001b[0;34m.\u001b[0m\u001b[0mtime\u001b[0m\u001b[0;34m(\u001b[0m\u001b[0;34m)\u001b[0m\u001b[0;34m\u001b[0m\u001b[0;34m\u001b[0m\u001b[0m\n",
      "\u001b[0;32m/anaconda3/lib/python3.7/site-packages/ripser/ripser.py\u001b[0m in \u001b[0;36mripser\u001b[0;34m(X, maxdim, thresh, coeff, distance_matrix, do_cocycles, metric, n_perm)\u001b[0m\n\u001b[1;32m    274\u001b[0m         \u001b[0mI\u001b[0m\u001b[0;34m,\u001b[0m \u001b[0mJ\u001b[0m \u001b[0;34m=\u001b[0m \u001b[0mnp\u001b[0m\u001b[0;34m.\u001b[0m\u001b[0mmeshgrid\u001b[0m\u001b[0;34m(\u001b[0m\u001b[0mnp\u001b[0m\u001b[0;34m.\u001b[0m\u001b[0marange\u001b[0m\u001b[0;34m(\u001b[0m\u001b[0mn_points\u001b[0m\u001b[0;34m)\u001b[0m\u001b[0;34m,\u001b[0m \u001b[0mnp\u001b[0m\u001b[0;34m.\u001b[0m\u001b[0marange\u001b[0m\u001b[0;34m(\u001b[0m\u001b[0mn_points\u001b[0m\u001b[0;34m)\u001b[0m\u001b[0;34m)\u001b[0m\u001b[0;34m\u001b[0m\u001b[0;34m\u001b[0m\u001b[0m\n\u001b[1;32m    275\u001b[0m         \u001b[0mDParam\u001b[0m \u001b[0;34m=\u001b[0m \u001b[0mnp\u001b[0m\u001b[0;34m.\u001b[0m\u001b[0marray\u001b[0m\u001b[0;34m(\u001b[0m\u001b[0mdm\u001b[0m\u001b[0;34m[\u001b[0m\u001b[0mI\u001b[0m \u001b[0;34m>\u001b[0m \u001b[0mJ\u001b[0m\u001b[0;34m]\u001b[0m\u001b[0;34m,\u001b[0m \u001b[0mdtype\u001b[0m\u001b[0;34m=\u001b[0m\u001b[0mnp\u001b[0m\u001b[0;34m.\u001b[0m\u001b[0mfloat32\u001b[0m\u001b[0;34m)\u001b[0m\u001b[0;34m\u001b[0m\u001b[0;34m\u001b[0m\u001b[0m\n\u001b[0;32m--> 276\u001b[0;31m         \u001b[0mres\u001b[0m \u001b[0;34m=\u001b[0m \u001b[0mDRFDM\u001b[0m\u001b[0;34m(\u001b[0m\u001b[0mDParam\u001b[0m\u001b[0;34m,\u001b[0m \u001b[0mmaxdim\u001b[0m\u001b[0;34m,\u001b[0m \u001b[0mthresh\u001b[0m\u001b[0;34m,\u001b[0m \u001b[0mcoeff\u001b[0m\u001b[0;34m,\u001b[0m \u001b[0mint\u001b[0m\u001b[0;34m(\u001b[0m\u001b[0mdo_cocycles\u001b[0m\u001b[0;34m)\u001b[0m\u001b[0;34m)\u001b[0m\u001b[0;34m\u001b[0m\u001b[0;34m\u001b[0m\u001b[0m\n\u001b[0m\u001b[1;32m    277\u001b[0m \u001b[0;34m\u001b[0m\u001b[0m\n\u001b[1;32m    278\u001b[0m     \u001b[0;31m# Unwrap persistence diagrams\u001b[0m\u001b[0;34m\u001b[0m\u001b[0;34m\u001b[0m\u001b[0;34m\u001b[0m\u001b[0m\n",
      "\u001b[0;32mripser/pyRipser.pyx\u001b[0m in \u001b[0;36mpyRipser.doRipsFiltrationDM\u001b[0;34m()\u001b[0m\n",
      "\u001b[0;31mValueError\u001b[0m: Buffer has wrong number of dimensions (expected 1, got 2)"
     ]
    }
   ],
   "source": [
    "t1 = time.time()\n",
    "ripser_output = ripser(D, maxdim=p, distance_matrix=True)\n",
    "dgm = Dgm(ripser_output['dgms'][p])\n",
    "t2 = time.time()\n",
    "\n",
    "if verbose:\n",
    "    print(f'Time for ripser calculation: {t2-t1}sec')\n",
    "return dgm"
   ]
  },
  {
   "cell_type": "code",
   "execution_count": 23,
   "metadata": {},
   "outputs": [],
   "source": [
    "for (i,j,k) in product(range(244),repeat=3):\n",
    "    if D[i,j] + D[j,k] < D[i,k]:\n",
    "        print(5)\n",
    "        break"
   ]
  },
  {
   "cell_type": "code",
   "execution_count": 8,
   "metadata": {},
   "outputs": [],
   "source": [
    "? nx.convert_node_labels_to_integers"
   ]
  },
  {
   "cell_type": "code",
   "execution_count": 6,
   "metadata": {},
   "outputs": [
    {
     "data": {
      "text/plain": [
       "NodeView((0, 1, 2, 5, 10, 13, 14, 15, 17, 18, 19, 21, 27, 35, 41, 42, 57, 58, 59, 60, 62, 63, 64, 67, 70, 71, 79, 84, 85, 87, 92, 95, 100, 101, 102, 103, 106, 107, 108, 109, 110, 111, 112, 113, 114, 115, 127, 136, 149, 154, 155, 156, 158, 166, 175, 178, 188, 192, 199, 213, 216, 222, 223, 224, 234, 148, 159, 11, 26, 37, 38, 66, 86, 91, 128, 132, 133, 137, 180, 183, 204, 205, 218, 6, 50, 51, 96, 126, 135, 139, 141, 142, 143, 20, 34, 129, 162, 118, 181, 237, 25, 43, 160, 196, 201, 16, 23, 24, 33, 36, 45, 48, 49, 74, 75, 76, 78, 80, 82, 83, 88, 89, 90, 93, 97, 98, 104, 140, 144, 145, 150, 151, 152, 157, 194, 229, 125, 29, 30, 31, 44, 52, 69, 94, 119, 198, 182, 12, 122, 176, 56, 228, 123, 153, 193, 65, 134, 207, 3, 4, 77, 68, 81, 105, 116, 138, 168, 53, 54, 61, 164, 212, 225, 243, 202, 203, 46, 55, 167, 7, 40, 28, 217, 147, 172, 173, 22, 117, 161, 163, 165, 195, 121, 210, 240, 32, 73, 99, 120, 124, 130, 131, 179, 186, 232, 47, 72, 174, 241, 169, 191, 219, 171, 206, 189, 208, 214, 238, 221, 9, 200, 215, 209, 230, 170, 146, 231, 184, 239, 211, 190, 187, 235, 197, 220, 177, 236, 227, 226, 185, 39, 8, 233, 242))"
      ]
     },
     "execution_count": 6,
     "metadata": {},
     "output_type": "execute_result"
    }
   ],
   "source": [
    "G.nodes()"
   ]
  },
  {
   "cell_type": "code",
   "execution_count": null,
   "metadata": {},
   "outputs": [],
   "source": []
  }
 ],
 "metadata": {
  "kernelspec": {
   "display_name": "Python 3",
   "language": "python",
   "name": "python3"
  },
  "language_info": {
   "codemirror_mode": {
    "name": "ipython",
    "version": 3
   },
   "file_extension": ".py",
   "mimetype": "text/x-python",
   "name": "python",
   "nbconvert_exporter": "python",
   "pygments_lexer": "ipython3",
   "version": "3.7.3"
  }
 },
 "nbformat": 4,
 "nbformat_minor": 2
}
