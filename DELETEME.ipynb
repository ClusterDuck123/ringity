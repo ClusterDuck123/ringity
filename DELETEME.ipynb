{
 "cells": [
  {
   "cell_type": "code",
   "execution_count": 2,
   "metadata": {},
   "outputs": [],
   "source": [
    "from scipy.spatial.distance import pdist, squareform\n",
    "from ripser import ripser\n",
    "from itertools import product\n",
    "\n",
    "import scipy\n",
    "import ringity\n",
    "import numpy as np\n",
    "import os\n",
    "import time\n",
    "import networkx as nx"
   ]
  },
  {
   "cell_type": "code",
   "execution_count": 3,
   "metadata": {},
   "outputs": [],
   "source": [
    "G = nx.erdos_renyi_graph(100, 0.1)"
   ]
  },
  {
   "cell_type": "code",
   "execution_count": 10,
   "metadata": {},
   "outputs": [
    {
     "name": "stdout",
     "output_type": "stream",
     "text": [
      "884 ms ± 19.3 ms per loop (mean ± std. dev. of 7 runs, 1 loop each)\n"
     ]
    }
   ],
   "source": [
    "%%timeit\n",
    "G = nx.erdos_renyi_graph(200, 0.1)\n",
    "ringity.net_flow(G)"
   ]
  },
  {
   "cell_type": "code",
   "execution_count": 11,
   "metadata": {},
   "outputs": [
    {
     "name": "stdout",
     "output_type": "stream",
     "text": [
      "905 ms ± 23 ms per loop (mean ± std. dev. of 7 runs, 1 loop each)\n"
     ]
    }
   ],
   "source": [
    "%%timeit\n",
    "G = nx.erdos_renyi_graph(200, 0.1)\n",
    "ringity.current_distance(G)"
   ]
  },
  {
   "cell_type": "code",
   "execution_count": 12,
   "metadata": {},
   "outputs": [],
   "source": [
    "L = nx.laplacian_matrix(G).toarray()\n",
    "\n",
    "C = np.zeros(L.shape)\n",
    "C[1:,1:] = np.linalg.inv(L[1:,1:])\n",
    "\n",
    "A = nx.adjacency_matrix(G)\n",
    "\n",
    "N = G.number_of_nodes()\n",
    "E = G.number_of_edges()\n",
    "B = scipy.sparse.lil_matrix((E, N))\n",
    "\n",
    "for ei, (u,v) in enumerate(G.edges):\n",
    "    B[ei, u] = -1\n",
    "    B[ei, v] = 1\n",
    "\n",
    "F = B@C\n",
    "\n"
   ]
  },
  {
   "cell_type": "code",
   "execution_count": 104,
   "metadata": {},
   "outputs": [
    {
     "name": "stdout",
     "output_type": "stream",
     "text": [
      "122 ms ± 1.7 ms per loop (mean ± std. dev. of 7 runs, 10 loops each)\n"
     ]
    }
   ],
   "source": [
    "%%timeit\n",
    "edge_dict  = {}\n",
    "for ei, e in enumerate(G.edges):\n",
    "    F_ei = F[ei,:]\n",
    "    rank = scipy.stats.rankdata(F_ei)\n",
    "    edge_dict[e] = sum([(2*rank[j]-1-N)*F[ei,j] for j in range(N)])"
   ]
  },
  {
   "cell_type": "code",
   "execution_count": 107,
   "metadata": {},
   "outputs": [
    {
     "name": "stdout",
     "output_type": "stream",
     "text": [
      "41.6 ms ± 1.31 ms per loop (mean ± std. dev. of 7 runs, 10 loops each)\n"
     ]
    }
   ],
   "source": [
    "%%timeit\n",
    "ranks = map(scipy.stats.rankdata, F)\n",
    "vectors = iter(F)\n",
    "edge_dict2  = {}\n",
    "for e in G.edges:\n",
    "    edge_dict2[e] = np.sum((2*next(ranks)-1-N)*next(vectors))"
   ]
  },
  {
   "cell_type": "code",
   "execution_count": 108,
   "metadata": {},
   "outputs": [
    {
     "name": "stdout",
     "output_type": "stream",
     "text": [
      "56.5 ms ± 14.9 ms per loop (mean ± std. dev. of 7 runs, 10 loops each)\n"
     ]
    }
   ],
   "source": [
    "%%timeit\n",
    "ranks = map(scipy.stats.rankdata, F)\n",
    "vectors = iter(F)\n",
    "edge_dict3  = {e : np.sum((2*rank-1-N)*vector) for\n",
    "                  e,rank,vector in zip(G.edges, ranks, vectors)}"
   ]
  },
  {
   "cell_type": "code",
   "execution_count": 102,
   "metadata": {},
   "outputs": [
    {
     "data": {
      "text/plain": [
       "(True, True)"
      ]
     },
     "execution_count": 102,
     "metadata": {},
     "output_type": "execute_result"
    }
   ],
   "source": [
    "edge_dict.keys() == edge_dict2.keys(), edge_dict2.keys() == edge_dict3.keys()"
   ]
  },
  {
   "cell_type": "code",
   "execution_count": 103,
   "metadata": {},
   "outputs": [
    {
     "data": {
      "text/plain": [
       "(True, True)"
      ]
     },
     "execution_count": 103,
     "metadata": {},
     "output_type": "execute_result"
    }
   ],
   "source": [
    "all([abs(v1-v2) < 10**(-10) for (v1,v2) in zip(edge_dict.values() , edge_dict2.values())]), \\\n",
    "all([abs(v1-v2) < 10**(-10) for (v1,v2) in zip(edge_dict2.values(), edge_dict3.values())])"
   ]
  },
  {
   "cell_type": "code",
   "execution_count": null,
   "metadata": {},
   "outputs": [],
   "source": []
  }
 ],
 "metadata": {
  "kernelspec": {
   "display_name": "Python 3",
   "language": "python",
   "name": "python3"
  },
  "language_info": {
   "codemirror_mode": {
    "name": "ipython",
    "version": 3
   },
   "file_extension": ".py",
   "mimetype": "text/x-python",
   "name": "python",
   "nbconvert_exporter": "python",
   "pygments_lexer": "ipython3",
   "version": "3.7.3"
  }
 },
 "nbformat": 4,
 "nbformat_minor": 2
}
