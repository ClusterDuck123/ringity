{
 "cells": [
  {
   "cell_type": "code",
   "execution_count": 1,
   "metadata": {},
   "outputs": [],
   "source": [
    "from scipy.spatial.distance import pdist, squareform\n",
    "from ripser import ripser\n",
    "from itertools import product, starmap, islice\n",
    "from ringity.classes import Dgm, DgmPt\n",
    "from random import randint\n",
    "\n",
    "import random\n",
    "import scipy\n",
    "import ringity\n",
    "import numpy as np\n",
    "import os\n",
    "import time\n",
    "import networkx as nx"
   ]
  },
  {
   "cell_type": "code",
   "execution_count": 2,
   "metadata": {},
   "outputs": [],
   "source": [
    "RINGITY_PATH = os.path.dirname(ringity.__file__)\n",
    "\n",
    "G = nx.read_edgelist(f\"{RINGITY_PATH}/test_data/lipid_coexp_network.txt\",\n",
    "                    nodetype=int)\n",
    "G = nx.convert_node_labels_to_integers(G)\n",
    "dgm1 = ringity.core.diagram(G)"
   ]
  },
  {
   "cell_type": "code",
   "execution_count": 3,
   "metadata": {},
   "outputs": [
    {
     "data": {
      "text/plain": [
       "AtlasView({1: {'net-flow': 15.097529008033787}, 2: {'net-flow': 24.933094332728327}, 3: {'net-flow': 29.792767289953545}, 4: {'net-flow': 20.423131648437703}, 5: {'net-flow': 23.993546332013082}, 6: {'net-flow': 23.872911276110855}, 7: {'net-flow': 13.075032163501263}, 8: {'net-flow': 47.38852257961669}, 9: {'net-flow': 24.193714517658833}, 10: {'net-flow': 36.470159760217996}, 11: {'net-flow': 23.153966556646694}, 12: {'net-flow': 37.9194247072103}, 13: {'net-flow': 37.52936306769482}, 14: {'net-flow': 35.5437923171357}, 15: {'net-flow': 24.448942435634372}, 16: {'net-flow': 23.934528235132237}, 17: {'net-flow': 23.330903751295576}, 18: {'net-flow': 27.26914523507974}, 19: {'net-flow': 22.93782100068431}, 20: {'net-flow': 26.995124889807144}, 21: {'net-flow': 26.824180232037683}, 22: {'net-flow': 24.79056820003825}, 23: {'net-flow': 37.47747084255292}, 24: {'net-flow': 41.79962463634473}, 25: {'net-flow': 59.25376182961267}, 26: {'net-flow': 33.942178334183254}, 27: {'net-flow': 42.798850080537136}, 28: {'net-flow': 25.00646618376853}, 29: {'net-flow': 33.36544281622309}, 30: {'net-flow': 40.23401747725943}, 31: {'net-flow': 39.81768119455941}, 32: {'net-flow': 26.273957913004548}, 33: {'net-flow': 24.822996870995837}, 34: {'net-flow': 19.602403708457196}, 35: {'net-flow': 42.85934730462475}, 36: {'net-flow': 28.059085921330805}, 37: {'net-flow': 25.519485974174753}, 38: {'net-flow': 24.962012659958432}, 39: {'net-flow': 23.92330996518571}, 40: {'net-flow': 40.64772784963574}, 41: {'net-flow': 44.96929651792789}, 42: {'net-flow': 27.748128327732864}, 43: {'net-flow': 24.526325354558097}, 44: {'net-flow': 25.425045996751415}, 45: {'net-flow': 25.425045996751393}, 46: {'net-flow': 18.881576772644003}, 47: {'net-flow': 60.07348949462536}, 48: {'net-flow': 43.60363240567911}, 49: {'net-flow': 25.665650035238556}, 50: {'net-flow': 25.971257473889878}, 51: {'net-flow': 76.48823194345364}, 52: {'net-flow': 41.6782973251463}, 53: {'net-flow': 27.61206208676553}, 54: {'net-flow': 26.782789222233408}, 55: {'net-flow': 33.86470731487035}, 56: {'net-flow': 33.70527241447164}, 57: {'net-flow': 25.741909755847505}, 58: {'net-flow': 37.86047472963565}, 59: {'net-flow': 25.629820714294322}, 60: {'net-flow': 17.116939829518167}, 61: {'net-flow': 21.83395176884084}, 62: {'net-flow': 38.463678596234175}, 63: {'net-flow': 21.906027021223338}, 64: {'net-flow': 18.160537464118462}})"
      ]
     },
     "execution_count": 3,
     "metadata": {},
     "output_type": "execute_result"
    }
   ],
   "source": [
    "G[0]"
   ]
  },
  {
   "cell_type": "code",
   "execution_count": null,
   "metadata": {},
   "outputs": [],
   "source": []
  }
 ],
 "metadata": {
  "kernelspec": {
   "display_name": "Python 3",
   "language": "python",
   "name": "python3"
  },
  "language_info": {
   "codemirror_mode": {
    "name": "ipython",
    "version": 3
   },
   "file_extension": ".py",
   "mimetype": "text/x-python",
   "name": "python",
   "nbconvert_exporter": "python",
   "pygments_lexer": "ipython3",
   "version": "3.7.3"
  }
 },
 "nbformat": 4,
 "nbformat_minor": 2
}
