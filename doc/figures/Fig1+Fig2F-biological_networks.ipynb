{
 "cells": [
  {
   "cell_type": "markdown",
   "metadata": {},
   "source": [
    "# Imports"
   ]
  },
  {
   "cell_type": "code",
   "execution_count": null,
   "metadata": {},
   "outputs": [],
   "source": [
    "import os\n",
    "import re\n",
    "import cv2\n",
    "import time\n",
    "import ffmpeg\n",
    "import tarfile\n",
    "import requests\n",
    "import numpy as np\n",
    "import pandas as pd\n",
    "import networkx as nx\n",
    "import ringity as rng\n",
    "import seaborn as sns\n",
    "import urllib.request\n",
    "import matplotlib.pyplot as plt\n",
    "import matplotlib.image as mpimg\n",
    "import xml.etree.ElementTree as ET\n",
    "\n",
    "from zipfile import ZipFile\n",
    "from collections import Counter\n",
    "from pathlib import Path\n",
    "from itertools import combinations, product as iter_product\n",
    "from skimage.metrics import mean_squared_error as mse\n",
    "from scipy.spatial.distance import pdist, squareform\n",
    "\n",
    "rng.set_theme()\n",
    "DATA_DIR = Path(\"..\") / \"data\"\n",
    "EMPIRICALNET_DIR = DATA_DIR / \"empirical_networks\"\n",
    "PLOTS_DIR = DATA_DIR / \"plots\"\n",
    "RAWDATA_DIR = DATA_DIR / \"raw_data\"\n",
    "BLUE = sns.color_palette()[0]"
   ]
  },
  {
   "cell_type": "markdown",
   "metadata": {},
   "source": [
    "# Lipid co-regulation network"
   ]
  },
  {
   "cell_type": "markdown",
   "metadata": {},
   "source": [
    "## Download data"
   ]
  },
  {
   "cell_type": "markdown",
   "metadata": {},
   "source": [
    "### paths and URLs"
   ]
  },
  {
   "cell_type": "code",
   "execution_count": null,
   "metadata": {},
   "outputs": [],
   "source": [
    "LIPID_FOLDER = RAWDATA_DIR / \"lipid_network\"\n",
    "LIPID_URL = \"https://ars.els-cdn.com/content/image/1-s2.0-S0092867415006418-mmc3.xlsx\"\n",
    "LIPID_EXCEL_FILE = LIPID_FOLDER / \"1-s2.0-S0092867415006418-mmc3.xlsx\"\n",
    "LIPID_CORR_FILE = LIPID_FOLDER / \"lipid_corr.txt\"\n",
    "LIPID_GRAPH_FILE = EMPIRICALNET_DIR / \"lipid.gml\""
   ]
  },
  {
   "cell_type": "markdown",
   "metadata": {},
   "source": [
    "### download data"
   ]
  },
  {
   "cell_type": "code",
   "execution_count": null,
   "metadata": {},
   "outputs": [],
   "source": [
    "os.makedirs(LIPID_FOLDER, exist_ok=True)\n",
    "\n",
    "r = requests.get(LIPID_URL, allow_redirects=True)\n",
    "with open(LIPID_EXCEL_FILE, \"wb\") as f:\n",
    "    f.write(r.content)"
   ]
  },
  {
   "cell_type": "markdown",
   "metadata": {},
   "source": [
    "## Analysis"
   ]
  },
  {
   "cell_type": "markdown",
   "metadata": {},
   "source": [
    "### calculate correlations"
   ]
  },
  {
   "cell_type": "code",
   "execution_count": null,
   "metadata": {},
   "outputs": [],
   "source": [
    "skiprows = [168]  # No data for C20 Sphingomyelin available\n",
    "\n",
    "genes = [\n",
    "    \"sh:Sptlc2\",\n",
    "    \"sh:CerS2\",\n",
    "    \"sh:CerS6\",\n",
    "    \"sh:Smpd1\",\n",
    "    \"sh:Asah1\",\n",
    "    \"sh:Ugcg\",\n",
    "    \"sh:CLN3\",\n",
    "    \"sh:Lyst\",\n",
    "    \"sh:Ormdl1\",\n",
    "    #'sh:GFP'        #(green fluorescent protein) used to normalize data\n",
    "]\n",
    "\n",
    "lipid_excel_df = pd.read_excel(\n",
    "    LIPID_EXCEL_FILE, header=1, index_col=0, skiprows=skiprows\n",
    ")[genes]\n",
    "\n",
    "lipid_corr_df = lipid_excel_df.T.corr()"
   ]
  },
  {
   "cell_type": "markdown",
   "metadata": {},
   "source": [
    "### define thresholded network"
   ]
  },
  {
   "cell_type": "code",
   "execution_count": null,
   "metadata": {},
   "outputs": [],
   "source": [
    "c = 0.6  # threshold\n",
    "\n",
    "# create (binary) network\n",
    "D_lipid = 1 - lipid_corr_df.abs().values\n",
    "G_lipid = nx.from_numpy_array(np.where(D_lipid < 1 - c, 1, 0))\n",
    "G_lipid.remove_edges_from(nx.selfloop_edges(nx.Graph(G_lipid)))\n",
    "# get lcc\n",
    "G_lipid = G_lipid.subgraph(max(nx.connected_components(G_lipid), key=len))\n",
    "\n",
    "nx.write_gml(G_lipid, LIPID_GRAPH_FILE)\n",
    "\n",
    "pos = nx.spring_layout(G_lipid)"
   ]
  },
  {
   "cell_type": "code",
   "execution_count": null,
   "metadata": {},
   "outputs": [],
   "source": [
    "rng.plot_nx(G_lipid, pos=pos, node_alpha=0.5)"
   ]
  },
  {
   "cell_type": "markdown",
   "metadata": {},
   "source": [
    "### degree distribution"
   ]
  },
  {
   "cell_type": "code",
   "execution_count": null,
   "metadata": {},
   "outputs": [],
   "source": [
    "degree_sequence = sorted([d for n, d in G_lipid.degree()])\n",
    "deg_fig, ax = plt.subplots(figsize=(8, 6))\n",
    "\n",
    "degs, freqs, bars = ax.hist(degree_sequence, bins=2**5, rwidth=0.9, color=BLUE)"
   ]
  },
  {
   "cell_type": "markdown",
   "metadata": {},
   "source": [
    "### persistence diagrams"
   ]
  },
  {
   "cell_type": "code",
   "execution_count": null,
   "metadata": {},
   "outputs": [],
   "source": [
    "dgm_lipid = rng.pdiagram(D_lipid, distance_matrix=True)\n",
    "dgm_lipid_c = rng.pdiagram_from_network(G_lipid)"
   ]
  },
  {
   "cell_type": "code",
   "execution_count": null,
   "metadata": {},
   "outputs": [],
   "source": [
    "fig, axes = plt.subplots(2, 2, figsize=(14, 13))\n",
    "\n",
    "axes[0, 0].set_title(\"Full Distance Matrix\", fontsize=20)\n",
    "axes[0, 1].set_title(f\"Cutoff at c={c:.2f}\", fontsize=20)\n",
    "\n",
    "rng.plot_seq(dgm_lipid, ax=axes[0, 0], trim=50)\n",
    "rng.plot_seq(dgm_lipid_c, ax=axes[0, 1], trim=50)\n",
    "rng.plot_dgm(dgm_lipid, ax=axes[1, 0])\n",
    "rng.plot_dgm(dgm_lipid_c, ax=axes[1, 1])\n",
    "\n",
    "for nr, (ypos, pdgm) in enumerate(\n",
    "    iter_product([0.875, 0.125], [dgm_lipid, dgm_lipid_c])\n",
    "):\n",
    "    anno = axes.flatten()[nr].annotate(\n",
    "        f\"score = {pdgm.ring_score():.3f}\",\n",
    "        xy=(0.6, ypos),\n",
    "        xycoords=\"axes fraction\",\n",
    "        fontsize=16,\n",
    "    )"
   ]
  },
  {
   "cell_type": "markdown",
   "metadata": {},
   "source": [
    "### Summary statistics"
   ]
  },
  {
   "cell_type": "code",
   "execution_count": null,
   "metadata": {},
   "outputs": [],
   "source": [
    "N_lipid = nx.number_of_nodes(G_lipid)\n",
    "M_lipid = nx.number_of_edges(G_lipid)\n",
    "rho_lipid = nx.density(G_lipid)\n",
    "d_lipid = nx.average_shortest_path_length(G_lipid)\n",
    "c_lipid = nx.average_clustering(G_lipid)\n",
    "s_lipid_w = dgm_lipid.ring_score()\n",
    "s_lipid_u = dgm_lipid_c.ring_score()\n",
    "\n",
    "print(f\"Nodes N: {N_lipid}\")\n",
    "print(f\"Links M: {M_lipid}\")\n",
    "print(f\"Density rho: {rho_lipid:.3f}\")\n",
    "print(f\"Distance d: {d_lipid:.3f}\")\n",
    "print(f\"Clustering c: {c_lipid:.3f}\")\n",
    "print(f\"Ring score S (weighted): {s_lipid_w:.3f}\")\n",
    "print(f\"Ring score S (unweighted): {s_lipid_u:.3f}\")"
   ]
  },
  {
   "cell_type": "markdown",
   "metadata": {},
   "source": [
    "## Save data"
   ]
  },
  {
   "cell_type": "code",
   "execution_count": null,
   "metadata": {},
   "outputs": [],
   "source": [
    "deg_fig.savefig(PLOTS_DIR / \"Fig1-lipid-degreedist.pdf\", transparent=True)\n",
    "deg_fig.savefig(PLOTS_DIR / \"Fig1-lipid-degreedist.png\", transparent=True)"
   ]
  },
  {
   "cell_type": "markdown",
   "metadata": {},
   "source": [
    "# Fibroblast proximity network"
   ]
  },
  {
   "cell_type": "markdown",
   "metadata": {},
   "source": [
    "## Analysis"
   ]
  },
  {
   "cell_type": "markdown",
   "metadata": {},
   "source": [
    "### paths"
   ]
  },
  {
   "cell_type": "code",
   "execution_count": null,
   "metadata": {},
   "outputs": [],
   "source": [
    "FIBRO_FOLDER = RAWDATA_DIR / \"fibroblast_network\"\n",
    "FIBRO_FILE = FIBRO_FOLDER / \"connectivity_FLS11_data.xls\"\n",
    "FIBRO_GRAPH_FILE = EMPIRICALNET_DIR / \"fibro.gml\"\n",
    "\n",
    "name = \"FLS18 TNF\""
   ]
  },
  {
   "cell_type": "markdown",
   "metadata": {},
   "source": [
    "### define thresholded network"
   ]
  },
  {
   "cell_type": "code",
   "execution_count": null,
   "metadata": {},
   "outputs": [],
   "source": [
    "d = 115  # threshold\n",
    "\n",
    "fibro_position_df = pd.read_excel(FIBRO_FILE, sheet_name=name)\n",
    "# distance matrix\n",
    "D_fibro = squareform(\n",
    "    pdist(fibro_position_df[[\"Position X\", \"Position Y\", \"Position Z\"]])\n",
    ")\n",
    "\n",
    "# create (unweighted) network\n",
    "G_fibro = nx.from_numpy_array(np.where(D_fibro > d, 0, 1))\n",
    "G_fibro.remove_edges_from(nx.selfloop_edges(nx.Graph(G_fibro)))\n",
    "\n",
    "# get lcc, in case threshold was chosen too low\n",
    "G_fibro = G_fibro.subgraph(max(nx.connected_components(G_fibro), key=len)).copy()\n",
    "\n",
    "nx.write_gml(G_fibro, FIBRO_GRAPH_FILE)\n",
    "\n",
    "pos = nx.spring_layout(G_fibro)"
   ]
  },
  {
   "cell_type": "code",
   "execution_count": null,
   "metadata": {},
   "outputs": [],
   "source": [
    "rng.plot_nx(G_fibro, pos=pos, node_alpha=0.5)"
   ]
  },
  {
   "cell_type": "markdown",
   "metadata": {},
   "source": [
    "### degree distribution"
   ]
  },
  {
   "cell_type": "code",
   "execution_count": null,
   "metadata": {},
   "outputs": [],
   "source": [
    "degree_sequence = sorted([d for n, d in G_fibro.degree()])\n",
    "deg_fig, ax = plt.subplots(figsize=(8, 6))\n",
    "\n",
    "degs, freqs, bars = ax.hist(degree_sequence, bins=2**5, rwidth=0.9, color=BLUE)"
   ]
  },
  {
   "cell_type": "markdown",
   "metadata": {},
   "source": [
    "### persistence diagrams"
   ]
  },
  {
   "cell_type": "code",
   "execution_count": null,
   "metadata": {},
   "outputs": [],
   "source": [
    "dgm_fibro = rng.pdiagram(D_fibro, distance_matrix=True)\n",
    "dgm_fibro_d = rng.pdiagram(G_fibro)"
   ]
  },
  {
   "cell_type": "code",
   "execution_count": null,
   "metadata": {},
   "outputs": [],
   "source": [
    "fig, axes = plt.subplots(2, 2, figsize=(14, 13))\n",
    "\n",
    "axes[0, 0].set_title(\"Full Distance Matrix\", fontsize=20)\n",
    "axes[0, 1].set_title(f\"Cutoff at c={c:.2f}\", fontsize=20)\n",
    "\n",
    "rng.plot_seq(dgm_fibro, ax=axes[0, 0], trim=50)\n",
    "rng.plot_seq(dgm_fibro_d, ax=axes[0, 1], trim=50)\n",
    "rng.plot_dgm(dgm_fibro, ax=axes[1, 0])\n",
    "rng.plot_dgm(dgm_fibro_d, ax=axes[1, 1])\n",
    "\n",
    "for nr, (ypos, pdgm) in enumerate(\n",
    "    iter_product([0.875, 0.125], [dgm_fibro, dgm_fibro_d])\n",
    "):\n",
    "    anno = axes.flatten()[nr].annotate(\n",
    "        f\"score = {pdgm.ring_score():.3f}\",\n",
    "        xy=(0.6, ypos),\n",
    "        xycoords=\"axes fraction\",\n",
    "        fontsize=16,\n",
    "    )"
   ]
  },
  {
   "cell_type": "markdown",
   "metadata": {},
   "source": [
    "### Summary statistics"
   ]
  },
  {
   "cell_type": "code",
   "execution_count": null,
   "metadata": {},
   "outputs": [],
   "source": [
    "N_fibro = nx.number_of_nodes(G_fibro)\n",
    "M_fibro = nx.number_of_edges(G_fibro)\n",
    "rho_fibro = nx.density(G_fibro)\n",
    "d_fibro = nx.average_shortest_path_length(G_fibro)\n",
    "c_fibro = nx.average_clustering(G_fibro)\n",
    "s_fibro_w = dgm_fibro.ring_score()\n",
    "s_fibro_u = dgm_fibro_d.ring_score()\n",
    "\n",
    "print(f\"Nodes N: {N_fibro}\")\n",
    "print(f\"Links M: {M_fibro}\")\n",
    "print(f\"Density rho: {rho_fibro:.3f}\")\n",
    "print(f\"Distance d: {d_fibro:.3f}\")\n",
    "print(f\"Clustering c: {c_fibro:.3f}\")\n",
    "print(f\"Ring score S (weighted): {s_fibro_w:.3f}\")\n",
    "print(f\"Ring score S (unweighted): {s_fibro_u:.3f}\")"
   ]
  },
  {
   "cell_type": "markdown",
   "metadata": {},
   "source": [
    "## Save data"
   ]
  },
  {
   "cell_type": "code",
   "execution_count": null,
   "metadata": {},
   "outputs": [],
   "source": [
    "deg_fig.savefig(PLOTS_DIR / \"Fig1-fibro-degreedist.pdf\", transparent=True)\n",
    "deg_fig.savefig(PLOTS_DIR / \"Fig1-fibro-degreedist.png\", transparent=True)"
   ]
  },
  {
   "cell_type": "markdown",
   "metadata": {},
   "source": [
    "# Reactome networks"
   ]
  },
  {
   "cell_type": "markdown",
   "metadata": {},
   "source": [
    "## Download and filter"
   ]
  },
  {
   "cell_type": "markdown",
   "metadata": {},
   "source": [
    "### Paths and URLs"
   ]
  },
  {
   "cell_type": "code",
   "execution_count": null,
   "metadata": {},
   "outputs": [],
   "source": [
    "IMMUNE_FOLDER = RAWDATA_DIR / \"immune_network\"\n",
    "IMMUNE_FILE = IMMUNE_FOLDER / \"reactome_smbl.tgz\"\n",
    "IMMUNE_URL = \"https://reactome.org/download/current/homo_sapiens.3.1.sbml.tgz\"\n",
    "IMMUNE_GRAPH_FILE = EMPIRICALNET_DIR / \"immune.gml\"\n",
    "\n",
    "ROOT_DIR = IMMUNE_FOLDER / \"homo_sapiens\""
   ]
  },
  {
   "cell_type": "markdown",
   "metadata": {},
   "source": [
    "### download data"
   ]
  },
  {
   "cell_type": "code",
   "execution_count": null,
   "metadata": {},
   "outputs": [],
   "source": [
    "os.makedirs(IMMUNE_FOLDER, exist_ok=True)\n",
    "\n",
    "# Download all human reactions from Reactome in SBML format\n",
    "urllib.request.urlretrieve(IMMUNE_URL, IMMUNE_FILE)\n",
    "tar = tarfile.open(IMMUNE_FILE)\n",
    "tar.extractall(ROOT_DIR)\n",
    "tar.close()"
   ]
  },
  {
   "cell_type": "markdown",
   "metadata": {},
   "source": [
    "### choose parameters to filter databank"
   ]
  },
  {
   "cell_type": "code",
   "execution_count": null,
   "metadata": {},
   "outputs": [],
   "source": [
    "ringy_threshold = 0.6\n",
    "min_nodes = 100"
   ]
  },
  {
   "cell_type": "markdown",
   "metadata": {},
   "source": [
    "### extract ringy Reactome pathways"
   ]
  },
  {
   "cell_type": "code",
   "execution_count": null,
   "metadata": {},
   "outputs": [],
   "source": [
    "ringiy_graph_list = []\n",
    "namespace = \"{http://www.sbml.org/sbml/level3/version1/core}\"\n",
    "\n",
    "for nr, pathway_file in enumerate(os.listdir(ROOT_DIR), 1):\n",
    "    print(f\"{100*nr/len(os.listdir(ROOT_DIR)):.2f}%\", end=\"\\r\")\n",
    "\n",
    "    sbml = ET.parse(ROOT_DIR / pathway_file)\n",
    "\n",
    "    model = sbml.getroot().find(namespace + \"model\")\n",
    "    reactions = model.find(namespace + \"listOfReactions\")\n",
    "\n",
    "    # List species annotated as \"simple chemical\" to remove them from networks,\n",
    "    # to avoid creating star structures with the most common small molecules\n",
    "    small_molecs = {\n",
    "        term.attrib[\"id\"]\n",
    "        for term in model.find(namespace + \"listOfSpecies\")\n",
    "        if term.attrib.get(\"sboTerm\") == \"SBO:0000247\"\n",
    "    }\n",
    "\n",
    "    pathway_name = model.attrib[\"name\"]\n",
    "    pathway_ID = model.attrib[\"id\"]\n",
    "\n",
    "    # Create directed graph here\n",
    "    G = nx.Graph(name=model.attrib[\"name\"], id=model.attrib[\"id\"])\n",
    "\n",
    "    for reaction in reactions:\n",
    "\n",
    "        list_of_products = reaction.find(namespace + \"listOfProducts\")\n",
    "        list_of_reactants = reaction.find(namespace + \"listOfReactants\")\n",
    "\n",
    "        if (not list_of_products) or (not list_of_reactants):\n",
    "            continue\n",
    "\n",
    "        products = {\n",
    "            product.attrib[\"species\"]\n",
    "            for product in list_of_products\n",
    "            if product.attrib[\"species\"] not in small_molecs\n",
    "        }\n",
    "        reactants = {\n",
    "            reagent.attrib[\"species\"]\n",
    "            for reagent in list_of_reactants\n",
    "            if reagent.attrib[\"species\"] not in small_molecs\n",
    "        }\n",
    "\n",
    "        # Add edge from reagents to products\n",
    "        G.add_edges_from((r, p) for (r, p) in iter_product(reactants, products))\n",
    "\n",
    "    if len(G.edges):\n",
    "        H = G.subgraph(max(nx.connected_components(G), key=len)).copy()\n",
    "        if len(H) < min_nodes:\n",
    "            continue\n",
    "        dgm = rng.pdiagram(H)\n",
    "        if dgm.ring_score() >= ringy_threshold:\n",
    "            ringiy_graph_list.append(H)\n",
    "            print(G.name)\n",
    "            print(\"#Nodes in graph: \", len(G))\n",
    "            print(\"#Nodes in LCC:   \", len(H))\n",
    "            print(\"ring-score:      \", round(dgm.ring_score(), 3))\n",
    "            print()"
   ]
  },
  {
   "cell_type": "markdown",
   "metadata": {},
   "source": [
    "## Analysis"
   ]
  },
  {
   "cell_type": "markdown",
   "metadata": {},
   "source": [
    "### choose network to analyse"
   ]
  },
  {
   "cell_type": "code",
   "execution_count": null,
   "metadata": {},
   "outputs": [],
   "source": [
    "graph_name = \"Interferon Signaling\"\n",
    "\n",
    "(G_immune,) = [G for G in ringiy_graph_list if G.name == graph_name]\n",
    "\n",
    "nx.write_gml(G_immune, IMMUNE_GRAPH_FILE)\n",
    "\n",
    "pos = nx.spring_layout(G_immune)"
   ]
  },
  {
   "cell_type": "code",
   "execution_count": null,
   "metadata": {},
   "outputs": [],
   "source": [
    "rng.plot_nx(G_immune, pos=pos, node_alpha=0.5)"
   ]
  },
  {
   "cell_type": "markdown",
   "metadata": {},
   "source": [
    "### degree distribution"
   ]
  },
  {
   "cell_type": "code",
   "execution_count": null,
   "metadata": {},
   "outputs": [],
   "source": [
    "degree_sequence = sorted([d for n, d in G_immune.degree()])\n",
    "deg_fig, ax = plt.subplots(figsize=(8, 6))\n",
    "\n",
    "degs, freqs, bars = ax.hist(degree_sequence, bins=2**5, rwidth=0.9, color=BLUE)"
   ]
  },
  {
   "cell_type": "markdown",
   "metadata": {},
   "source": [
    "### persistence diagrams"
   ]
  },
  {
   "cell_type": "code",
   "execution_count": null,
   "metadata": {},
   "outputs": [],
   "source": [
    "dgm_immune = rng.pdiagram(G_immune)"
   ]
  },
  {
   "cell_type": "code",
   "execution_count": null,
   "metadata": {},
   "outputs": [],
   "source": [
    "fig, axes = plt.subplots(2, figsize=(7, 13))\n",
    "\n",
    "axes[0].set_title(graph_name, fontsize=20)\n",
    "\n",
    "rng.plot_seq(dgm_immune, ax=axes[0], trim=50)\n",
    "rng.plot_dgm(dgm_immune, ax=axes[1])\n",
    "\n",
    "for nr, ypos in enumerate([0.875, 0.125]):\n",
    "    anno = axes[nr].annotate(\n",
    "        f\"score = {dgm_immune.ring_score():.3f}\",\n",
    "        xy=(0.7, ypos),\n",
    "        xycoords=\"axes fraction\",\n",
    "        fontsize=16,\n",
    "    )"
   ]
  },
  {
   "cell_type": "markdown",
   "metadata": {},
   "source": [
    "### summary statistics"
   ]
  },
  {
   "cell_type": "code",
   "execution_count": null,
   "metadata": {},
   "outputs": [],
   "source": [
    "N_immune = nx.number_of_nodes(G_immune)\n",
    "M_immune = nx.number_of_edges(G_immune)\n",
    "rho_immune = nx.density(G_immune)\n",
    "d_immune = nx.average_shortest_path_length(G_immune)\n",
    "c_immune = nx.average_clustering(G_immune)\n",
    "s_immune_u = dgm_immune.ring_score()\n",
    "\n",
    "print(f\"Nodes N: {N_immune}\")\n",
    "print(f\"Links M: {M_immune}\")\n",
    "print(f\"Density rho: {rho_immune:.3f}\")\n",
    "print(f\"Distance d: {d_immune:.3f}\")\n",
    "print(f\"Clustering c: {c_immune:.3f}\")\n",
    "print(f\"Ring score S (unweighted): {s_immune_u:.3f}\")"
   ]
  },
  {
   "cell_type": "markdown",
   "metadata": {},
   "source": [
    "## Save data"
   ]
  },
  {
   "cell_type": "code",
   "execution_count": null,
   "metadata": {},
   "outputs": [],
   "source": [
    "deg_fig.savefig(PLOTS_DIR / 'Fig1-immune-degreedist.pdf', transparent=True)\n",
    "deg_fig.savefig(PLOTS_DIR / 'Fig1-immune-degreedist.png', transparent=True)"
   ]
  },
  {
   "cell_type": "markdown",
   "metadata": {},
   "source": [
    "## Gene expression network"
   ]
  },
  {
   "cell_type": "markdown",
   "metadata": {},
   "source": [
    "## download data"
   ]
  },
  {
   "cell_type": "markdown",
   "metadata": {},
   "source": [
    "### paths and URLs"
   ]
  },
  {
   "cell_type": "code",
   "execution_count": null,
   "metadata": {},
   "outputs": [],
   "source": [
    "GENE_FOLDER = RAWDATA_DIR / \"gene_network/\"\n",
    "GENE_URL    = \"https://www.dropbox.com/s/ms8k4kcga7j4uc0/circadiaNET_correlation_matrices.zip\"\n",
    "GENE_ZIP_FILE = GENE_FOLDER / \"circadiaNET_correlation_matrices.zip\"\n",
    "GENE_GRAPH_FILE = EMPIRICALNET_DIR / \"gene.gml\""
   ]
  },
  {
   "cell_type": "markdown",
   "metadata": {},
   "source": [
    "### download data"
   ]
  },
  {
   "cell_type": "markdown",
   "metadata": {},
   "source": [
    "For some reason this doesn't seem to work properly.   \n",
    "Please manually download the zip-file from the `GENE_URL` into the `GENE_FOLDER` (after creating it)."
   ]
  },
  {
   "cell_type": "code",
   "execution_count": null,
   "metadata": {},
   "outputs": [],
   "source": [
    "os.makedirs(GENE_FOLDER, exist_ok=True)\n",
    "\n",
    "# r = requests.get(GENE_URL, allow_redirects=True)\n",
    "# with open(GENE_ZIP_FILE, 'wb') as f:\n",
    "#     f.write(r.content)"
   ]
  },
  {
   "cell_type": "markdown",
   "metadata": {},
   "source": [
    "### unzip data"
   ]
  },
  {
   "cell_type": "code",
   "execution_count": null,
   "metadata": {},
   "outputs": [],
   "source": [
    "# In case it is not unziped it already\n",
    "GENE_FILENAME = (\n",
    "    Path(\"circadiaNET_correlation_matrices\")\n",
    "    / \"arabidopsis_thaliana_correlation_matrix.txt\"\n",
    ")\n",
    "# with ZipFile(GENE_ZIP_FILE, 'r') as z:\n",
    "#     z.extract(GENE_FILENAME, GENE_FOLDER)"
   ]
  },
  {
   "cell_type": "markdown",
   "metadata": {},
   "source": [
    "## Analysis"
   ]
  },
  {
   "cell_type": "markdown",
   "metadata": {},
   "source": [
    "### define thresholded network"
   ]
  },
  {
   "cell_type": "code",
   "execution_count": null,
   "metadata": {},
   "outputs": [],
   "source": [
    "c = 0.95\n",
    "\n",
    "# get unweighted network\n",
    "gene_corr_df = pd.read_csv(GENE_FOLDER / GENE_FILENAME, delimiter=\" \")\n",
    "G_gene = nx.from_numpy_array(np.where(gene_corr_df.abs() > c, 1, 0))\n",
    "G_gene.remove_edges_from(nx.selfloop_edges(nx.Graph(G_gene)))\n",
    "\n",
    "# get LCC\n",
    "G_gene = G_gene.subgraph(max(nx.connected_components(G_gene), key=len))\n",
    "G_gene = nx.convert_node_labels_to_integers(G_gene)\n",
    "\n",
    "nx.write_gml(G_gene, GENE_GRAPH_FILE)\n",
    "\n",
    "pos = nx.spring_layout(G_gene)"
   ]
  },
  {
   "cell_type": "code",
   "execution_count": null,
   "metadata": {},
   "outputs": [],
   "source": [
    "rng.plot_nx(G_gene, pos=pos, node_alpha=0.5)"
   ]
  },
  {
   "cell_type": "markdown",
   "metadata": {},
   "source": [
    "### degree distribution"
   ]
  },
  {
   "cell_type": "code",
   "execution_count": null,
   "metadata": {},
   "outputs": [],
   "source": [
    "degree_sequence = sorted([d for n, d in G_gene.degree()])\n",
    "deg_fig, ax = plt.subplots(figsize=(8, 6))\n",
    "\n",
    "degs, freqs, bars = ax.hist(degree_sequence, bins=2**5, rwidth=0.9, color=BLUE)"
   ]
  },
  {
   "cell_type": "markdown",
   "metadata": {},
   "source": [
    "### persistence diagram"
   ]
  },
  {
   "cell_type": "code",
   "execution_count": null,
   "metadata": {},
   "outputs": [],
   "source": [
    "D_gene = (1 - gene_corr_df.abs()).values  # calculate distance matrix\n",
    "dgm_gene = rng.pdiagram(D_gene, distance_matrix=True)\n",
    "dgm_gene_c = rng.pdiagram(G_gene)"
   ]
  },
  {
   "cell_type": "code",
   "execution_count": null,
   "metadata": {},
   "outputs": [],
   "source": [
    "fig, axes = plt.subplots(2, 2, figsize=(14, 13))\n",
    "\n",
    "axes[0, 0].set_title(\"Full Distance Matrix\", fontsize=20)\n",
    "axes[0, 1].set_title(f\"Cutoff at c={c:.2f}\", fontsize=20)\n",
    "\n",
    "rng.plot_seq(dgm_gene, ax=axes[0, 0], trim=50)\n",
    "rng.plot_seq(dgm_gene_c, ax=axes[0, 1], trim=50)\n",
    "rng.plot_dgm(dgm_gene, ax=axes[1, 0])\n",
    "rng.plot_dgm(dgm_gene_c, ax=axes[1, 1])\n",
    "\n",
    "for nr, (ypos, pdgm) in enumerate(iter_product([0.875, 0.125], [dgm_gene, dgm_gene_c])):\n",
    "    anno = axes.flatten()[nr].annotate(\n",
    "        f\"score = {pdgm.ring_score():.3f}\",\n",
    "        xy=(0.6, ypos),\n",
    "        xycoords=\"axes fraction\",\n",
    "        fontsize=16,\n",
    "    )"
   ]
  },
  {
   "cell_type": "markdown",
   "metadata": {},
   "source": [
    "### Summary statistics"
   ]
  },
  {
   "cell_type": "code",
   "execution_count": null,
   "metadata": {},
   "outputs": [],
   "source": [
    "N_gene = nx.number_of_nodes(G_gene)\n",
    "M_gene = nx.number_of_edges(G_gene)\n",
    "rho_gene = nx.density(G_gene)\n",
    "d_gene = nx.average_shortest_path_length(G_gene)\n",
    "c_gene = nx.average_clustering(G_gene)\n",
    "s_gene_w = dgm_gene.ring_score()\n",
    "s_gene_u = dgm_gene_c.ring_score()\n",
    "\n",
    "print(f\"Nodes N: {N_gene}\")\n",
    "print(f\"Links M: {M_gene}\")\n",
    "print(f\"Density rho: {rho_gene:.3f}\")\n",
    "print(f\"Distance d: {d_gene:.3f}\")\n",
    "print(f\"Clustering c: {c_gene:.3f}\")\n",
    "print(f\"Ring score S (weighted): {s_gene_w:.3f}\")\n",
    "print(f\"Ring score S (unweighted): {s_gene_u:.3f}\")"
   ]
  },
  {
   "cell_type": "markdown",
   "metadata": {},
   "source": [
    "## Save data"
   ]
  },
  {
   "cell_type": "code",
   "execution_count": null,
   "metadata": {},
   "outputs": [],
   "source": [
    "deg_fig.savefig(PLOTS_DIR / \"Fig1-gene-degreedist.pdf\", transparent=True)\n",
    "deg_fig.savefig(PLOTS_DIR / \"Fig1-gene-degreedist.png\", transparent=True)"
   ]
  },
  {
   "cell_type": "markdown",
   "metadata": {},
   "source": [
    "# Soil moisture network "
   ]
  },
  {
   "cell_type": "markdown",
   "metadata": {},
   "source": [
    "## download data"
   ]
  },
  {
   "cell_type": "code",
   "execution_count": null,
   "metadata": {},
   "outputs": [],
   "source": [
    "SOIL_FOLDER = RAWDATA_DIR / \"soil_network\"\n",
    "SOIL_URL = \"https://dlmultimedia.esa.int/download/public/videos/2017/11/002/orig-1711_002_AR_EN.mp4\"\n",
    "SOIL_MP4 = SOIL_FOLDER / \"orig-1711_002_AR_EN.mp4\"\n",
    "SOIL_GRAPH_FILE = EMPIRICALNET_DIR / \"soil.gml\""
   ]
  },
  {
   "cell_type": "markdown",
   "metadata": {},
   "source": [
    "### download data"
   ]
  },
  {
   "cell_type": "code",
   "execution_count": null,
   "metadata": {},
   "outputs": [],
   "source": [
    "os.makedirs(SOIL_FOLDER, exist_ok=True)\n",
    "\n",
    "r = requests.get(SOIL_URL, allow_redirects=True)\n",
    "with open(SOIL_MP4, \"wb\") as f:\n",
    "    f.write(r.content)"
   ]
  },
  {
   "cell_type": "markdown",
   "metadata": {},
   "source": [
    "### extract frames from video"
   ]
  },
  {
   "cell_type": "code",
   "execution_count": null,
   "metadata": {},
   "outputs": [],
   "source": [
    "cap = cv2.VideoCapture(str(SOIL_MP4))\n",
    "i = 0\n",
    "while cap.isOpened():\n",
    "    ret, frame = cap.read()\n",
    "    if ret == False:\n",
    "        break\n",
    "    cv2.imwrite(str(SOIL_FOLDER / f\"img{i}.jpg\"), frame)\n",
    "    i += 1\n",
    "\n",
    "cap.release()\n",
    "cv2.destroyAllWindows()"
   ]
  },
  {
   "cell_type": "markdown",
   "metadata": {},
   "source": [
    "## Analysis"
   ]
  },
  {
   "cell_type": "markdown",
   "metadata": {},
   "source": [
    "### calculate pairwise $\\texttt{mse}$"
   ]
  },
  {
   "cell_type": "code",
   "execution_count": null,
   "metadata": {},
   "outputs": [],
   "source": [
    "pic_list = sorted(file for file in os.listdir(SOIL_FOLDER) if file.endswith(\"jpg\"))\n",
    "\n",
    "n = len(pic_list)\n",
    "\n",
    "D_mse = np.zeros([n, n])\n",
    "\n",
    "node2img = {}\n",
    "for jpg in pic_list:\n",
    "    node_id = int(*re.findall(r\"\\d+\", jpg))\n",
    "    img = mpimg.imread(f\"{SOIL_FOLDER}/{jpg}\", 0)\n",
    "    img = cv2.cvtColor(img, cv2.COLOR_BGR2GRAY)\n",
    "    node2img[node_id] = img\n",
    "\n",
    "t1 = time.time()\n",
    "for i, (jpg_a, jpg_b) in enumerate(combinations(pic_list, 2)):\n",
    "    node_a = int(*re.findall(r\"\\d+\", jpg_a))\n",
    "    node_b = int(*re.findall(r\"\\d+\", jpg_b))\n",
    "\n",
    "    D_mse[node_a, node_b] = mse(node2img[node_a], node2img[node_b])\n",
    "    D_mse[node_b, node_a] = D_mse[node_a, node_b]\n",
    "\n",
    "    t2 = time.time()\n",
    "    print(f\"{i/782.1:.3f}% - {t2-t1:.3f}sec\", end=\"\\r\")"
   ]
  },
  {
   "cell_type": "markdown",
   "metadata": {},
   "source": [
    "### define thresholded network"
   ]
  },
  {
   "cell_type": "code",
   "execution_count": null,
   "metadata": {},
   "outputs": [],
   "source": [
    "d = 90\n",
    "\n",
    "# get unweighted network\n",
    "G_soil = nx.from_numpy_array(D_mse < d)\n",
    "G_soil.remove_edges_from(nx.selfloop_edges(nx.Graph(G_soil)))\n",
    "\n",
    "# get LCC\n",
    "G_soil = G_soil.subgraph(max(nx.connected_components(G_soil), key=len))\n",
    "\n",
    "nx.write_gml(G_soil, SOIL_GRAPH_FILE)\n",
    "\n",
    "pos = nx.spring_layout(G_soil)"
   ]
  },
  {
   "cell_type": "code",
   "execution_count": null,
   "metadata": {},
   "outputs": [],
   "source": [
    "rng.plot_nx(G_soil, pos=pos, node_alpha=0.5)"
   ]
  },
  {
   "cell_type": "markdown",
   "metadata": {},
   "source": [
    "### degree distribution"
   ]
  },
  {
   "cell_type": "code",
   "execution_count": null,
   "metadata": {},
   "outputs": [],
   "source": [
    "degree_sequence = sorted([d for n, d in G_soil.degree()])\n",
    "deg_fig, ax = plt.subplots(figsize=(8, 6))\n",
    "\n",
    "degs, freqs, bars = ax.hist(degree_sequence, bins=2**5, rwidth=0.9, color=BLUE)"
   ]
  },
  {
   "cell_type": "markdown",
   "metadata": {},
   "source": [
    "### persistence diagrams"
   ]
  },
  {
   "cell_type": "code",
   "execution_count": null,
   "metadata": {},
   "outputs": [],
   "source": [
    "dgm_soil = rng.pdiagram(D_mse, distance_matrix=True)\n",
    "dgm_soil_d = rng.pdiagram(G_soil.copy())"
   ]
  },
  {
   "cell_type": "code",
   "execution_count": null,
   "metadata": {},
   "outputs": [],
   "source": [
    "fig, axes = plt.subplots(2, 2, figsize=(14, 13))\n",
    "\n",
    "axes[0, 0].set_title(\"Full Distance Matrix\", fontsize=20)\n",
    "axes[0, 1].set_title(f\"Cutoff at c={d:.2f}\", fontsize=20)\n",
    "\n",
    "rng.plot_seq(dgm_soil, ax=axes[0, 0], trim=50)\n",
    "rng.plot_seq(dgm_soil_d, ax=axes[0, 1], trim=50)\n",
    "rng.plot_dgm(dgm_soil, ax=axes[1, 0])\n",
    "rng.plot_dgm(dgm_soil_d, ax=axes[1, 1])\n",
    "\n",
    "for nr, (ypos, pdgm) in enumerate(iter_product([0.875, 0.125], [dgm_soil, dgm_soil_d])):\n",
    "    anno = axes.flatten()[nr].annotate(\n",
    "        f\"score = {pdgm.ring_score():.3f}\",\n",
    "        xy=(0.6, ypos),\n",
    "        xycoords=\"axes fraction\",\n",
    "        fontsize=16,\n",
    "    )"
   ]
  },
  {
   "cell_type": "markdown",
   "metadata": {},
   "source": [
    "## Summary statistics"
   ]
  },
  {
   "cell_type": "code",
   "execution_count": null,
   "metadata": {},
   "outputs": [],
   "source": [
    "N_soil = nx.number_of_nodes(G_soil)\n",
    "M_soil = nx.number_of_edges(G_soil)\n",
    "rho_soil = nx.density(G_soil)\n",
    "d_soil = nx.average_shortest_path_length(G_soil)\n",
    "c_soil = nx.average_clustering(G_soil)\n",
    "s_soil_w = dgm_soil.ring_score()\n",
    "s_soil_u = dgm_soil_d.ring_score()\n",
    "\n",
    "print(f\"Nodes N: {N_soil}\")\n",
    "print(f\"Links M: {M_soil}\")\n",
    "print(f\"Density rho: {rho_soil:.3f}\")\n",
    "print(f\"Distance d: {d_soil:.3f}\")\n",
    "print(f\"Clustering c: {c_soil:.3f}\")\n",
    "print(f\"Ring score S (weighted): {s_soil_w:.3f}\")\n",
    "print(f\"Ring score S (unweighted): {s_soil_u:.3f}\")"
   ]
  },
  {
   "cell_type": "markdown",
   "metadata": {},
   "source": [
    "## Save data"
   ]
  },
  {
   "cell_type": "code",
   "execution_count": null,
   "metadata": {},
   "outputs": [],
   "source": [
    "deg_fig.savefig(PLOTS_DIR / \"Fig1-soil-degreedist.pdf\", transparent=True)\n",
    "deg_fig.savefig(PLOTS_DIR / \"Fig1-soil-degreedist.png\", transparent=True)"
   ]
  }
 ],
 "metadata": {
  "kernelspec": {
   "display_name": "ringity",
   "language": "python",
   "name": "ringity"
  },
  "language_info": {
   "codemirror_mode": {
    "name": "ipython",
    "version": 3
   },
   "file_extension": ".py",
   "mimetype": "text/x-python",
   "name": "python",
   "nbconvert_exporter": "python",
   "pygments_lexer": "ipython3",
   "version": "3.9.5"
  }
 },
 "nbformat": 4,
 "nbformat_minor": 4
}
