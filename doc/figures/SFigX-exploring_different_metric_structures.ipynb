{
 "cells": [
  {
   "cell_type": "markdown",
   "id": "9cc7e1a0",
   "metadata": {},
   "source": [
    "# Preparation"
   ]
  },
  {
   "cell_type": "code",
   "execution_count": null,
   "id": "03d943d6",
   "metadata": {
    "tags": []
   },
   "outputs": [],
   "source": [
    "import numpy as np\n",
    "import pandas as pd\n",
    "import ringity as rng\n",
    "import seaborn as sns\n",
    "import networkx as nx\n",
    "import matplotlib.pyplot as plt\n",
    "import ringity.networks.geometric_networks as rgeom\n",
    "\n",
    "from tqdm import tqdm\n",
    "from pathlib import Path\n",
    "from itertools import product, combinations\n",
    "from collections import defaultdict\n",
    "from scipy.spatial import distance, Delaunay\n",
    "from sklearn.neighbors import kneighbors_graph\n",
    "from ringity.tda.pdiagram.readwrite import json_to_dictofdictoflist, data_to_json"
   ]
  },
  {
   "cell_type": "code",
   "execution_count": null,
   "id": "54908b80",
   "metadata": {
    "tags": []
   },
   "outputs": [],
   "source": [
    "METRICS = ['spl', 'resistance', 'betweenness', 'current_flow']\n",
    "PALETTE = sns.color_palette(n_colors = len(METRICS))\n",
    "COLOR_X = sns.color_palette('dark', n_colors = 8)[-1]\n",
    "\n",
    "DIRNAME_DATA = Path.cwd().parent / 'data'"
   ]
  },
  {
   "cell_type": "code",
   "execution_count": null,
   "id": "7e4dbf5f",
   "metadata": {
    "tags": []
   },
   "outputs": [],
   "source": [
    "def knn_cylinder(n, height,\n",
    "                 seed = None,\n",
    "                 **network_params):\n",
    "    X = rgeom.point_clouds.cylinder(N = n, height = height, seed = seed)\n",
    "    X += np.random.normal(scale = 2**(-10), size = X.shape)\n",
    "    G = knn_graph(X, k)\n",
    "    return G, X\n",
    "\n",
    "\n",
    "def knn_graph(X, k):\n",
    "    A = kneighbors_graph(X, k, mode = 'connectivity', include_self = False)\n",
    "    B = A.tocoo()\n",
    "    edges = [edge for edge in zip(B.row, B.col)]\n",
    "    G = nx.Graph()\n",
    "    G.add_edges_from(edges)\n",
    "    return G\n",
    "\n",
    "def update_data_dict(data_dict, \n",
    "                     network_generator,\n",
    "                     network_params, \n",
    "                     sweep_val,\n",
    "                     sweep_param,\n",
    "                     point_cloud = False):\n",
    "    while True:\n",
    "        if point_cloud:\n",
    "            G, X = network_generator(**network_params, \n",
    "                                     **{sweep_param : sweep_val})  \n",
    "        else:\n",
    "            G = network_generator(**network_params, \n",
    "                                  **{sweep_param : sweep_val})\n",
    "        if nx.is_connected(G):\n",
    "            break\n",
    "    \n",
    "    if point_cloud:\n",
    "        pdgm_X = rng.pdiagram_from_point_cloud(X)\n",
    "        data_dict['X'][sweep_val].append(pdgm_X.trimmed(25))\n",
    "\n",
    "    for metric in METRICS:\n",
    "        pdgm = rng.pdiagram_from_network(G, metric = metric)\n",
    "        data_dict[metric][sweep_val].append(pdgm.trimmed(25))\n",
    "        \n",
    "        \n",
    "def data_dict_to_scores_df(data_dict, \n",
    "                           key1_name = 'metric',\n",
    "                           key2_name = 'sweep_param'):\n",
    "    to_concatinate = []\n",
    "    for key1, data in data_dict.items():\n",
    "        for key2, pdgms in data.items():\n",
    "            scores = list(map(rng.ring_score, pdgms))\n",
    "            df_metric_chunk = pd.DataFrame({'scores' : scores,\n",
    "                                            key1_name : key1,\n",
    "                                            key2_name : key2})\n",
    "            to_concatinate.append(df_metric_chunk)\n",
    "\n",
    "    scores_df = pd.concat(to_concatinate, ignore_index = True)\n",
    "    return scores_df"
   ]
  },
  {
   "cell_type": "markdown",
   "id": "948b2373",
   "metadata": {},
   "source": [
    "--- "
   ]
  },
  {
   "cell_type": "markdown",
   "id": "e962e1f6",
   "metadata": {},
   "source": [
    "# Watts-Strogatz Example"
   ]
  },
  {
   "cell_type": "markdown",
   "id": "ce3600e1",
   "metadata": {},
   "source": [
    "## Set Network Parameters"
   ]
  },
  {
   "cell_type": "code",
   "execution_count": null,
   "id": "5e163498",
   "metadata": {
    "tags": []
   },
   "outputs": [],
   "source": [
    "# Network parameters\n",
    "n = 1000\n",
    "k = 10\n",
    "\n",
    "sweep_param = 'p'\n",
    "nb_sweep_vals = 2**5 + 1\n",
    "min_sweep_val = 0\n",
    "max_sweep_val = 1\n",
    "\n",
    "network_generator = nx.watts_strogatz_graph\n",
    "network_params = {'n' : n, 'k' : k}\n",
    "fname_pdgms = DIRNAME_DATA / 'results' / f'pdgms-WS-N{n}_k{k}.json'"
   ]
  },
  {
   "cell_type": "code",
   "execution_count": null,
   "id": "2c1b7339",
   "metadata": {
    "tags": []
   },
   "outputs": [],
   "source": [
    "nb_plots = 4\n",
    "\n",
    "sweep_vals = np.hstack([0.0, np.logspace(-(nb_plots-2), np.log10(max_sweep_val), nb_plots-1)])\n",
    "\n",
    "fig, axes = plt.subplots(1, nb_plots, figsize = (6*nb_plots, 5))\n",
    "pos = {i:(np.cos(i*2*np.pi/n), np.sin(i*2*np.pi/n)) for i in range(n)}\n",
    "for i, sweep_val in enumerate(sweep_vals):\n",
    "    ax = axes[i]\n",
    "    G = network_generator(**network_params, **{sweep_param : sweep_val})\n",
    "    rng.plot_nx(G, ax = ax, pos = pos)\n",
    "    ax.set_title(f'{sweep_param} = {sweep_val:.2f}', size = 24)"
   ]
  },
  {
   "cell_type": "markdown",
   "id": "f5b4035c",
   "metadata": {},
   "source": [
    "## Calculations"
   ]
  },
  {
   "cell_type": "code",
   "execution_count": null,
   "id": "bb5e902c",
   "metadata": {
    "tags": []
   },
   "outputs": [],
   "source": [
    "# Calculation parameters\n",
    "nb_samples = 2**0\n",
    "new_calculation = False"
   ]
  },
  {
   "cell_type": "code",
   "execution_count": null,
   "id": "40bac3dd",
   "metadata": {
    "tags": []
   },
   "outputs": [],
   "source": [
    "samples = range(nb_samples)\n",
    "sweep_vals = np.linspace(start = min_sweep_val, \n",
    "                         stop = max_sweep_val, \n",
    "                         num = nb_sweep_vals).round(6)\n",
    "\n",
    "total = nb_samples * nb_sweep_vals\n",
    "pbar = tqdm(product(sweep_vals, samples), total = total)\n",
    "\n",
    "data_dict = json_to_dictofdictoflist(fname_pdgms, \n",
    "                                     new = new_calculation, \n",
    "                                     lambda_key2 = float)\n",
    "for sweep_val, _ in pbar:\n",
    "    update_data_dict(data_dict = data_dict,\n",
    "                     network_generator = network_generator, \n",
    "                     network_params = network_params, \n",
    "                     sweep_val = sweep_val,\n",
    "                     sweep_param = sweep_param,\n",
    "                     point_cloud = False)"
   ]
  },
  {
   "cell_type": "code",
   "execution_count": null,
   "id": "2a7cd123",
   "metadata": {
    "tags": []
   },
   "outputs": [],
   "source": [
    "data_to_json(fname_pdgms, data_dict)"
   ]
  },
  {
   "cell_type": "markdown",
   "id": "74e5a188",
   "metadata": {},
   "source": [
    "## Plotting"
   ]
  },
  {
   "cell_type": "code",
   "execution_count": null,
   "id": "671b1fc0",
   "metadata": {
    "tags": []
   },
   "outputs": [],
   "source": [
    "data_dict = json_to_dictofdictoflist(fname_pdgms, lambda_key2=float)"
   ]
  },
  {
   "cell_type": "code",
   "execution_count": null,
   "id": "f275d8c4",
   "metadata": {
    "tags": []
   },
   "outputs": [],
   "source": [
    "scores_df = (data_dict_to_scores_df(data_dict, key2_name = sweep_param).\n",
    "                rename({'sweep' : sweep_param}, axis = 1))"
   ]
  },
  {
   "cell_type": "code",
   "execution_count": null,
   "id": "68f9bfca",
   "metadata": {
    "tags": []
   },
   "outputs": [],
   "source": [
    "SFig_sum, ax_sum = plt.subplots(figsize = (12,8))\n",
    "\n",
    "# plot_data = scores_df[scores_df.metric.isin({'X', 'spl', 'resistance'})]\n",
    "plot_data = scores_df\n",
    "\n",
    "ax_sum = sns.lineplot(data = plot_data, \n",
    "                      x = sweep_param, \n",
    "                      y = 'scores', \n",
    "                      hue = 'metric', \n",
    "                      linewidth = 2.5,\n",
    "                      errorbar = ('pi', 50),\n",
    "                      palette = PALETTE[:plot_data.metric.nunique()],\n",
    "                      ax = ax_sum)\n",
    "\n",
    "rng.utils.plotting.styling.ax_setup(ax_sum)\n",
    "\n",
    "leg = ax_sum.legend(fontsize = 14)\n",
    "\n",
    "SFig_sum.savefig(DIRNAME_DATA / 'plots'/ f'SFig-metric_analysis-WS_N{n}_k{k}-summary.png')\n",
    "SFig_sum.savefig(DIRNAME_DATA / 'plots'/ f'SFig-metric_analysis-WS_N{n}_k{k}-summary.pdf')"
   ]
  },
  {
   "cell_type": "markdown",
   "id": "9225098d",
   "metadata": {},
   "source": [
    "### Panel plot"
   ]
  },
  {
   "cell_type": "code",
   "execution_count": null,
   "id": "7ceefb7f",
   "metadata": {
    "tags": []
   },
   "outputs": [],
   "source": [
    "nb_sweep_vals = 4\n",
    "\n",
    "sweep_vals = [0.0, 0.01, 0.1, 1]\n",
    "\n",
    "SFig_net, axes_net = plt.subplots(1, nb_sweep_vals, figsize = (6*nb_sweep_vals, 5))\n",
    "pos = {i:(np.cos(i*2*np.pi/n), np.sin(i*2*np.pi/n)) for i in range(n)}\n",
    "for i, sweep_val in enumerate(sweep_vals):\n",
    "    ax = axes_net[i]\n",
    "    \n",
    "    G = network_generator(**network_params, **{sweep_param : sweep_val})\n",
    "    rng.plot_nx(G, ax = ax, pos = pos)\n",
    "    ax.set_title(f'{sweep_param} = {sweep_val:.2f}', size = 24)\n",
    "    \n",
    "SFig_net.savefig(DIRNAME_DATA / 'plots'/ f'SFig-metric_analysis-WS_N{n}_k{k}-networks.png')\n",
    "SFig_net.savefig(DIRNAME_DATA / 'plots'/ f'SFig-metric_analysis-WS_N{n}_k{k}-networks.pdf')"
   ]
  },
  {
   "cell_type": "code",
   "execution_count": null,
   "id": "5130a3ae",
   "metadata": {
    "tags": []
   },
   "outputs": [],
   "source": [
    "pbar = tqdm(sweep_vals, total = nb_sweep_vals)\n",
    "\n",
    "data_dict = json_to_dictofdictoflist('', \n",
    "                                     new = True, \n",
    "                                     lambda_key2 = float)\n",
    "for sweep_val in pbar:\n",
    "    update_data_dict(data_dict = data_dict,\n",
    "                     network_generator = network_generator, \n",
    "                     network_params = network_params, \n",
    "                     sweep_val = sweep_val,\n",
    "                     sweep_param = sweep_param,\n",
    "                     point_cloud = False)"
   ]
  },
  {
   "cell_type": "code",
   "execution_count": null,
   "id": "7c810b3f",
   "metadata": {
    "tags": []
   },
   "outputs": [],
   "source": [
    "SFig_seq, axes_seq = plt.subplots(len(METRICS), nb_sweep_vals, figsize = (6*nb_sweep_vals, 15))\n",
    "for (i, sweep_val), (j, metric) in product(enumerate(sweep_vals), enumerate(METRICS)):\n",
    "    ax = axes_seq[j,i]\n",
    "    pdgm = data_dict[metric][sweep_val][0].trimmed(25)\n",
    "    rng.plot_seq(pdgm, ax = ax)\n",
    "\n",
    "SFig_seq.savefig(DIRNAME_DATA / 'plots'/ f'SFig-metric_analysis-WS_N{n}_k{k}-persistent_sequences.png')\n",
    "SFig_seq.savefig(DIRNAME_DATA / 'plots'/ f'SFig-metric_analysis-WS_N{n}_k{k}-persistent_sequences.pdf')"
   ]
  },
  {
   "cell_type": "code",
   "execution_count": null,
   "id": "c3ad07ef-b199-4e42-9b59-adb307171a92",
   "metadata": {
    "tags": []
   },
   "outputs": [],
   "source": [
    "SFig_leg, ax_leg = plt.subplots(figsize = (12,8))\n",
    "\n",
    "for metric in ['current_flow', 'spl', 'resistance', 'betweenness']:\n",
    "    ax_leg.plot([],[],label = metric)\n",
    "\n",
    "ax_leg.set_axis_off()\n",
    "leg = ax_leg.legend(fontsize = 14, loc = 'center')\n",
    "SFig_leg.tight_layout()\n",
    "    \n",
    "SFig_leg.savefig(DIRNAME_DATA / 'plots'/ f'SFig-metric_analysis-WS_N{n}_k{k}-legend.png')\n",
    "SFig_leg.savefig(DIRNAME_DATA / 'plots'/ f'SFig-metric_analysis-WS_N{n}_k{k}-legend.pdf')"
   ]
  },
  {
   "cell_type": "code",
   "execution_count": null,
   "id": "62a5d8b4",
   "metadata": {
    "tags": []
   },
   "outputs": [],
   "source": [
    "SFig_score, axes_score = plt.subplots(len(METRICS) - 1, figsize = (10,8))\n",
    "\n",
    "for i, metric in enumerate(METRICS[:-1]):\n",
    "    curr_plot_data = plot_data[plot_data.metric.isin({'current_flow', metric})].copy()\n",
    "    curr_plot_data.order = 2\n",
    "    curr_plot_data.loc[curr_plot_data.metric == 'current_flow', 'order'] = 1\n",
    "    curr_plot_data = curr_plot_data.sort_values('order')\n",
    "    ax = axes_score[i]\n",
    "    ax = sns.lineplot(data = curr_plot_data, \n",
    "                      x = sweep_param, \n",
    "                      y = 'scores', \n",
    "                      hue = 'metric', \n",
    "                      linewidth = 2.5,\n",
    "                      errorbar = ('pi', 50),\n",
    "                      palette = [PALETTE[0], PALETTE[i+1]],\n",
    "                      ax = ax)\n",
    "\n",
    "    ax.set_xlabel('')\n",
    "    ax.set_ylabel('')\n",
    "    ax.legend([], [], frameon = False)\n",
    "    rng.utils.plotting.styling.ax_setup(ax)\n",
    "    \n",
    "SFig_score.savefig(DIRNAME_DATA / 'plots'/ f'SFig-metric_analysis-WS_N{n}_k{k}-score_curves.png')\n",
    "SFig_score.savefig(DIRNAME_DATA / 'plots'/ f'SFig-metric_analysis-WS_N{n}_k{k}-score_curves.pdf')"
   ]
  },
  {
   "cell_type": "markdown",
   "id": "333df1bc",
   "metadata": {},
   "source": [
    "---"
   ]
  },
  {
   "cell_type": "markdown",
   "id": "56c9fc65-edeb-47fb-9e2b-c4669941db71",
   "metadata": {},
   "source": [
    "# Extending Cylinder Example"
   ]
  },
  {
   "cell_type": "markdown",
   "id": "a846ba0e-df30-4a12-b11a-b7d6c6d5f41d",
   "metadata": {},
   "source": [
    "## Set Network Parameters"
   ]
  },
  {
   "cell_type": "code",
   "execution_count": null,
   "id": "bf1a1c42-ebae-4c13-a328-f26999276dd4",
   "metadata": {
    "tags": []
   },
   "outputs": [],
   "source": [
    "# Network parameters\n",
    "n = 1000\n",
    "k = 10\n",
    "\n",
    "sweep_param = 'height'\n",
    "nb_sweep_vals = 2**5 + 1\n",
    "min_sweep_val = 0\n",
    "max_sweep_val = 10\n",
    "\n",
    "network_generator = knn_cylinder\n",
    "network_params = {'n':n, 'k':k}\n",
    "\n",
    "fname_pdgms = Path(DIRNAME_DATA / 'results' / f'pdgms-extending_cylinder-KNN-n{n}_k{k}.json')"
   ]
  },
  {
   "cell_type": "code",
   "execution_count": null,
   "id": "abea30a9-6577-4c99-89e2-a7f4742af3ae",
   "metadata": {
    "tags": []
   },
   "outputs": [],
   "source": [
    "nb_plots = 4\n",
    "\n",
    "sweep_vals = np.linspace(min_sweep_val, max_sweep_val, nb_plots)\n",
    "\n",
    "fig, axes = plt.subplots(1, nb_plots, figsize = (6*nb_plots, 5))\n",
    "for i, sweep_val in enumerate(sweep_vals):\n",
    "    ax = axes[i]\n",
    "    G, X = network_generator(**network_params, **{sweep_param : sweep_val})\n",
    "    pos = dict(enumerate([(a+c/20, b+c/20) for (a,b,c) in X]))\n",
    "    rng.plot_nx(G, pos = pos, ax = ax)\n",
    "    ax.set_title(f'noise = {sweep_val:.2f}', size = 24)"
   ]
  },
  {
   "cell_type": "markdown",
   "id": "6791b524-4e9b-42ae-9b63-4b6f274a02f4",
   "metadata": {},
   "source": [
    "## Calculations"
   ]
  },
  {
   "cell_type": "code",
   "execution_count": null,
   "id": "10348698-1517-4ec5-89e7-88af899100d2",
   "metadata": {
    "tags": []
   },
   "outputs": [],
   "source": [
    "# Calculation parameters\n",
    "nb_samples = 2**0\n",
    "new_calculation = False"
   ]
  },
  {
   "cell_type": "code",
   "execution_count": null,
   "id": "77f26492-32a0-4e15-967a-c33dd0de0693",
   "metadata": {
    "tags": []
   },
   "outputs": [],
   "source": [
    "samples = range(nb_samples)\n",
    "sweep_vals = np.linspace(start = min_sweep_val, \n",
    "                         stop = max_sweep_val, \n",
    "                         num = nb_sweep_vals).round(6)\n",
    "\n",
    "total = nb_samples * nb_sweep_vals\n",
    "pbar = tqdm(product(sweep_vals, samples), total = total)\n",
    "\n",
    "data_dict = json_to_dictofdictoflist(fname_pdgms, \n",
    "                                     new = new_calculation, \n",
    "                                     lambda_key2 = float)\n",
    "for sweep_val, _ in pbar:\n",
    "    update_data_dict(data_dict = data_dict,\n",
    "                 network_generator = network_generator, \n",
    "                 network_params = network_params, \n",
    "                 sweep_val = sweep_val,\n",
    "                 sweep_param = sweep_param,\n",
    "                 point_cloud = True)"
   ]
  },
  {
   "cell_type": "code",
   "execution_count": null,
   "id": "0ef331cb-6091-42e6-a7f4-30f6bbcf068d",
   "metadata": {
    "tags": []
   },
   "outputs": [],
   "source": [
    "data_to_json(fname_pdgms, data_dict)"
   ]
  },
  {
   "cell_type": "markdown",
   "id": "aa9b8481-d985-4b57-9c37-f8438e4d857d",
   "metadata": {},
   "source": [
    "## Plotting"
   ]
  },
  {
   "cell_type": "code",
   "execution_count": null,
   "id": "94e14ccd-a0b8-45e0-ad3c-c362edf538a7",
   "metadata": {
    "tags": []
   },
   "outputs": [],
   "source": [
    "data_dict = json_to_dictofdictoflist(fname_pdgms, lambda_key2 = float)"
   ]
  },
  {
   "cell_type": "code",
   "execution_count": null,
   "id": "48d844e2-f00f-4286-b96f-80d9a027a98f",
   "metadata": {
    "tags": []
   },
   "outputs": [],
   "source": [
    "scores_df = (data_dict_to_scores_df(data_dict, key2_name = sweep_param).\n",
    "                rename({'sweep' : sweep_param}, axis = 1))"
   ]
  },
  {
   "cell_type": "code",
   "execution_count": null,
   "id": "210095ba-66eb-4056-8e73-ec7b34c250db",
   "metadata": {
    "tags": []
   },
   "outputs": [],
   "source": [
    "SFig_sum, ax_sum = plt.subplots(figsize = (12,8))\n",
    "\n",
    "# plot_data = scores_df[scores_df.metric.isin({'X', 'spl', 'resistance'})]\n",
    "plot_data = scores_df\n",
    "\n",
    "ax_sum = sns.lineplot(data = plot_data, \n",
    "                      x = sweep_param, \n",
    "                      y = 'scores', \n",
    "                      hue = 'metric', \n",
    "                      linewidth = 2.5,\n",
    "                      errorbar = ('pi', 50),\n",
    "                      palette = [COLOR_X] + PALETTE,\n",
    "                      ax = ax_sum)\n",
    "\n",
    "rng.utils.plotting.styling.ax_setup(ax_sum)\n",
    "\n",
    "leg = ax_sum.legend(fontsize = 14)\n",
    "\n",
    "SFig_sum.savefig(DIRNAME_DATA / 'plots'/ f'SFig-metric_analysis-extending_cylinder-KNN-n{n}_k{k}-summary.png')\n",
    "SFig_sum.savefig(DIRNAME_DATA / 'plots'/ f'SFig-metric_analysis-extending_cylinder-KNN-n{n}_k{k}-summary.pdf')"
   ]
  },
  {
   "cell_type": "markdown",
   "id": "db10a55b-69d1-419c-9242-32ecba02f1cc",
   "metadata": {},
   "source": [
    "### Panel plots"
   ]
  },
  {
   "cell_type": "code",
   "execution_count": null,
   "id": "9d3a5da6-1e09-42d0-81f3-215420a265ea",
   "metadata": {
    "tags": []
   },
   "outputs": [],
   "source": [
    "nb_sweep_vals = 4\n",
    "\n",
    "sweep_vals = np.linspace(min_sweep_val, max_sweep_val, nb_sweep_vals)\n",
    "\n",
    "SFig_net, axes_net = plt.subplots(1, nb_plots, figsize = (6*nb_sweep_vals, 5))\n",
    "for i, sweep_val in enumerate(sweep_vals):\n",
    "    ax = axes_net[i]\n",
    "    G, X = network_generator(**network_params, **{sweep_param : sweep_val})\n",
    "    pos = dict(enumerate([(a+c/15, b+c/15) for (a,b,c) in X]))\n",
    "    rng.plot_nx(G, pos = pos, ax = ax)\n",
    "    ax.set_title(f'height = {sweep_val:.2f}', size = 24)\n",
    "\n",
    "    \n",
    "SFig_net.savefig(DIRNAME_DATA / 'plots'/ f'SFig-metric_analysis-extending_cylinder-KNN-n{n}_k{k}-networks.png')\n",
    "SFig_net.savefig(DIRNAME_DATA / 'plots'/ f'SFig-metric_analysis-extending_cylinder-KNN-n{n}_k{k}-networks.pdf')"
   ]
  },
  {
   "cell_type": "code",
   "execution_count": null,
   "id": "df5be927-027b-48ec-8c89-b0eab0128fe8",
   "metadata": {
    "tags": []
   },
   "outputs": [],
   "source": [
    "pbar = tqdm(sweep_vals, total = nb_sweep_vals)\n",
    "\n",
    "data_dict = json_to_dictofdictoflist('', \n",
    "                                     new = True, \n",
    "                                     lambda_key2 = float)\n",
    "for sweep_val in pbar:\n",
    "    update_data_dict(data_dict = data_dict,\n",
    "                     network_generator = network_generator, \n",
    "                     network_params = network_params, \n",
    "                     sweep_val = sweep_val,\n",
    "                     sweep_param = sweep_param,\n",
    "                     point_cloud = True)"
   ]
  },
  {
   "cell_type": "code",
   "execution_count": null,
   "id": "5503e256-3587-49c4-bff1-f8547adc50f1",
   "metadata": {
    "tags": []
   },
   "outputs": [],
   "source": [
    "SFig_seq, axes_seq = plt.subplots(len(METRICS)+1, nb_sweep_vals, figsize = (6*nb_sweep_vals, 15))\n",
    "for (i, sweep_val), (j, metric) in product(enumerate(sweep_vals), enumerate(['X'] + METRICS)):\n",
    "    ax = axes_seq[j,i]\n",
    "    pdgm = data_dict[metric][sweep_val][0].trimmed(25)\n",
    "    rng.plot_seq(pdgm, ax = ax)\n",
    "\n",
    "SFig_seq.savefig(DIRNAME_DATA / 'plots'/ f'SFig-metric_analysis-extending_cylinder-KNN-n{n}_k{k}-persistent_sequences.png')\n",
    "SFig_seq.savefig(DIRNAME_DATA / 'plots'/ f'SFig-metric_analysis-extending_cylinder-KNN-n{n}_k{k}-persistent_sequences.pdf')"
   ]
  },
  {
   "cell_type": "code",
   "execution_count": null,
   "id": "2cb5d2dc-1287-4ffb-8f19-8f44dcacbfe2",
   "metadata": {
    "tags": []
   },
   "outputs": [],
   "source": [
    "SFig_leg, ax_leg = plt.subplots(figsize = (12,8))\n",
    "\n",
    "for metric in ['current_flow', 'spl', 'resistance', 'betweenness']:\n",
    "    ax_leg.plot([],[],label = metric)\n",
    "ax_leg.plot([],[],label = 'euclidean', color = COLOR_X)\n",
    "ax_leg.set_axis_off()\n",
    "leg = ax_leg.legend(fontsize = 14, loc = 'center')\n",
    "SFig_leg.tight_layout()\n",
    "\n",
    "    \n",
    "SFig_leg.savefig(DIRNAME_DATA / 'plots'/ f'SFig-metric_analysis-extending_cylinder-KNN-n{n}_k{k}-legend.png')\n",
    "SFig_leg.savefig(DIRNAME_DATA / 'plots'/ f'SFig-metric_analysis-extending_cylinder-KNN-n{n}_k{k}-legend.pdf')"
   ]
  },
  {
   "cell_type": "code",
   "execution_count": null,
   "id": "6f1b5136-d17b-4c84-bcf4-991d54b28a65",
   "metadata": {
    "tags": []
   },
   "outputs": [],
   "source": [
    "SFig_score, axes_score = plt.subplots(len(METRICS) - 1, figsize = (10,8))\n",
    "\n",
    "for i, metric in enumerate(METRICS[:-1]):\n",
    "    curr_plot_data = plot_data[plot_data.metric.isin({'X', 'current_flow', metric})].copy()\n",
    "    curr_plot_data.order = 3\n",
    "    curr_plot_data.loc[curr_plot_data.metric == 'current_flow', 'order'] = 2\n",
    "    curr_plot_data.loc[curr_plot_data.metric == 'X', 'order'] = 1\n",
    "    curr_plot_data = curr_plot_data.sort_values('order')\n",
    "    ax = axes_score[i]\n",
    "    ax = sns.lineplot(data = curr_plot_data, \n",
    "                      x = sweep_param, \n",
    "                      y = 'scores', \n",
    "                      hue = 'metric', \n",
    "                      linewidth = 2.5,\n",
    "                      errorbar = ('pi', 50),\n",
    "                      palette = [COLOR_X, PALETTE[0], PALETTE[i+1]],\n",
    "                      ax = ax)\n",
    "\n",
    "    ax.set_xlabel('')\n",
    "    ax.set_ylabel('')\n",
    "    ax.legend([], [], frameon = False)\n",
    "    rng.utils.plotting.styling.ax_setup(ax)\n",
    "    \n",
    "SFig_score.savefig(DIRNAME_DATA / 'plots'/ f'SFig-metric_analysis-extending_cylinder-KNN-n{n}_k{k}-score_curves.png')\n",
    "SFig_score.savefig(DIRNAME_DATA / 'plots'/ f'SFig-metric_analysis-extending_cylinder-KNN-n{n}_k{k}-score_curves.pdf')"
   ]
  }
 ],
 "metadata": {
  "kernelspec": {
   "display_name": "ringity",
   "language": "python",
   "name": "ringity"
  },
  "language_info": {
   "codemirror_mode": {
    "name": "ipython",
    "version": 3
   },
   "file_extension": ".py",
   "mimetype": "text/x-python",
   "name": "python",
   "nbconvert_exporter": "python",
   "pygments_lexer": "ipython3",
   "version": "3.9.5"
  }
 },
 "nbformat": 4,
 "nbformat_minor": 5
}
