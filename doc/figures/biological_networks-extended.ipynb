{
 "cells": [
  {
   "cell_type": "markdown",
   "metadata": {},
   "source": [
    "# Imports"
   ]
  },
  {
   "cell_type": "code",
   "execution_count": null,
   "metadata": {},
   "outputs": [],
   "source": [
    "import os\n",
    "import re\n",
    "import cv2\n",
    "import time\n",
    "import tarfile\n",
    "import requests\n",
    "import numpy as np\n",
    "import pandas as pd\n",
    "import networkx as nx\n",
    "import ringity as rng\n",
    "import urllib.request\n",
    "import matplotlib.pyplot as plt\n",
    "import matplotlib.image as mpimg\n",
    "import xml.etree.ElementTree as ET\n",
    "\n",
    "from collections import Counter\n",
    "from pathlib import Path\n",
    "from itertools import combinations, product as iter_product\n",
    "from skimage.metrics import mean_squared_error as mse\n",
    "from scipy.spatial.distance import pdist, squareform\n",
    "from zipfile import ZipFile\n",
    "\n",
    "rng.set_theme()\n",
    "DATA_DIR = Path(\"..\") / \"data\"\n",
    "EMPIRICALNET_DIR = DATA_DIR / \"empirical_networks\"\n",
    "RAWDATA_DIR = DATA_DIR / \"raw_data\""
   ]
  },
  {
   "cell_type": "markdown",
   "metadata": {},
   "source": [
    "# Ego-networks"
   ]
  },
  {
   "cell_type": "markdown",
   "metadata": {},
   "source": [
    "## Combined networks"
   ]
  },
  {
   "cell_type": "markdown",
   "metadata": {},
   "source": [
    "### Preparation"
   ]
  },
  {
   "cell_type": "code",
   "execution_count": null,
   "metadata": {},
   "outputs": [],
   "source": [
    "# ---------------\n",
    "# Paths and URLs\n",
    "# ---------------\n",
    "\n",
    "EGO_FOLDER = os.getcwd() + \"/data/ego_network\"\n",
    "EGO_URL    = \"https://snap.stanford.edu/data/facebook_combined.txt.gz\"\n",
    "EGO_EDGELIST_FILE = EGO_FOLDER + \"/facebook_combined.txt.gz\""
   ]
  },
  {
   "cell_type": "code",
   "execution_count": null,
   "metadata": {},
   "outputs": [],
   "source": [
    "# --------------\n",
    "# Download data\n",
    "# --------------\n",
    "\n",
    "os.makedirs(EGO_FOLDER, exist_ok=True)\n",
    "\n",
    "r = requests.get(EGO_URL, allow_redirects=True)\n",
    "with open(EGO_EDGELIST_FILE, 'wb') as f:\n",
    "    f.write(r.content)"
   ]
  },
  {
   "cell_type": "markdown",
   "metadata": {},
   "source": [
    "### Analysis"
   ]
  },
  {
   "cell_type": "code",
   "execution_count": null,
   "metadata": {},
   "outputs": [],
   "source": [
    "G_ego = nx.read_edgelist(EGO_EDGELIST_FILE)\n",
    "\n",
    "pos = nx.spring_layout(G_ego)"
   ]
  },
  {
   "cell_type": "code",
   "execution_count": null,
   "metadata": {},
   "outputs": [],
   "source": [
    "rng.plot_nx(G_ego, pos=pos, node_alpha=0.5)"
   ]
  },
  {
   "cell_type": "code",
   "execution_count": null,
   "metadata": {},
   "outputs": [],
   "source": [
    "degree_sequence = sorted([d for n, d in G_ego.degree()])\n",
    "degreeCount = Counter(degree_sequence)\n",
    "degs, cnts = zip(*degreeCount.items())\n",
    "\n",
    "deg_fig, ax = plt.subplots(figsize=(8,6))\n",
    "deg_fig.patch.set_alpha(0)\n",
    "ax.patch.set_alpha(0)\n",
    "\n",
    "ax.bar(degs, cnts, width=1, linewidth=0);\n",
    "\n",
    "rng.ax_setup(ax)"
   ]
  },
  {
   "cell_type": "code",
   "execution_count": null,
   "metadata": {},
   "outputs": [],
   "source": [
    "degree_sequence = sorted([d for n, d in G_ego.degree()])\n",
    "\n",
    "deg_fig, ax = plt.subplots(figsize=(8,6))\n",
    "deg_fig.patch.set_alpha(0)\n",
    "ax.patch.set_alpha(0)\n",
    "\n",
    "ax.hist(degree_sequence, bins=25)\n",
    "\n",
    "rng.ax_setup(ax)"
   ]
  },
  {
   "cell_type": "code",
   "execution_count": null,
   "metadata": {},
   "outputs": [],
   "source": [
    "# ----------------------\n",
    "# calclulating diagrams\n",
    "# ----------------------\n",
    "\n",
    "dgm_ego = rng.diagram(G_ego)"
   ]
  },
  {
   "cell_type": "code",
   "execution_count": null,
   "metadata": {},
   "outputs": [],
   "source": [
    "# --------------------\n",
    "# persistence visuals\n",
    "# --------------------\n",
    "\n",
    "fig, axes = plt.subplots(2, figsize=(7,13))\n",
    "\n",
    "axes[0].set_title(\"Ego-network\", fontsize=20)\n",
    "\n",
    "rng.plot_bar(dgm_ego, ax=axes[0], cap=50)\n",
    "rng.plot_dgm(dgm_ego, ax=axes[1])\n",
    "\n",
    "axes[0].annotate(f'score = {dgm_ego.score  :.3f}', xy=(0.7, 0.875), xycoords='axes fraction', fontsize=16);\n",
    "axes[1].annotate(f'score = {dgm_ego.score  :.3f}', xy=(0.7, 0.125), xycoords='axes fraction', fontsize=16);"
   ]
  },
  {
   "cell_type": "markdown",
   "metadata": {},
   "source": [
    "## Individual networks"
   ]
  },
  {
   "cell_type": "markdown",
   "metadata": {},
   "source": [
    "### Preparation"
   ]
  },
  {
   "cell_type": "code",
   "execution_count": null,
   "metadata": {},
   "outputs": [],
   "source": [
    "# ---------------\n",
    "# Paths and URLs\n",
    "# ---------------\n",
    "\n",
    "EGO_FOLDER = os.getcwd() + \"/data/ego_network\"\n",
    "EGO_URL    = \"https://snap.stanford.edu/data/facebook.tar.gz\"\n",
    "EGO_TAR = EGO_FOLDER + \"/facebook.tar.gz\""
   ]
  },
  {
   "cell_type": "code",
   "execution_count": null,
   "metadata": {},
   "outputs": [],
   "source": [
    "# --------------\n",
    "# Download data\n",
    "# --------------\n",
    "\n",
    "if not os.path.exists(EGO_FOLDER):\n",
    "    os.makedirs(EGO_FOLDER)\n",
    "\n",
    "r = requests.get(EGO_URL, allow_redirects=True)\n",
    "with open(EGO_TAR, 'wb') as f:\n",
    "    f.write(r.content)\n",
    "\n",
    "tf = tarfile.open(EGO_TAR)\n",
    "tf.extractall(EGO_FOLDER)"
   ]
  },
  {
   "cell_type": "markdown",
   "metadata": {},
   "source": [
    "### Analysis"
   ]
  },
  {
   "cell_type": "code",
   "execution_count": null,
   "metadata": {},
   "outputs": [],
   "source": [
    "# ---------------\n",
    "# Set parameters \n",
    "# ---------------\n",
    "\n",
    "min_nodes = 100"
   ]
  },
  {
   "cell_type": "code",
   "execution_count": null,
   "metadata": {},
   "outputs": [],
   "source": [
    "# --------------------------------\n",
    "# Extract ego-networks\n",
    "# --------------------------------\n",
    "\n",
    "\n",
    "for file in os.listdir(f\"{EGO_FOLDER}/facebook\"):\n",
    "    if not file.endswith('edges'):\n",
    "        continue\n",
    "    \n",
    "    G = nx.read_edgelist(f\"{EGO_FOLDER}/facebook/{file}\")\n",
    "    H = nx.induced_subgraph(G, max(nx.connected_components(G), key=len))\n",
    "    \n",
    "    if H.number_of_nodes() < min_nodes:\n",
    "        continue\n",
    "    \n",
    "    dgm = rng.diagram(H)\n",
    "    \n",
    "    print('ID: ', file.split('.')[0])\n",
    "    print('#Nodes in graph: ', len(G))\n",
    "    print('#Nodes in LCC:   ', len(H))\n",
    "    print('ring-score:      ', round(dgm.score, 3))\n",
    "    print()"
   ]
  },
  {
   "cell_type": "markdown",
   "metadata": {},
   "source": [
    "# Foodweb networks"
   ]
  },
  {
   "cell_type": "markdown",
   "metadata": {},
   "source": [
    "### Preparation"
   ]
  },
  {
   "cell_type": "code",
   "execution_count": null,
   "metadata": {},
   "outputs": [],
   "source": [
    "FOODWEB_FOLDER = os.getcwd() + \"/data/foodweb_networks\""
   ]
  },
  {
   "cell_type": "markdown",
   "metadata": {},
   "source": [
    "## Bipartite networks"
   ]
  },
  {
   "cell_type": "code",
   "execution_count": null,
   "metadata": {},
   "outputs": [],
   "source": [
    "# ---------------\n",
    "# Set parameters \n",
    "# ---------------\n",
    "\n",
    "min_nodes = 100"
   ]
  },
  {
   "cell_type": "code",
   "execution_count": null,
   "metadata": {
    "collapsed": true
   },
   "outputs": [],
   "source": [
    "# -------------------------\n",
    "# Extract foodweb networks\n",
    "# -------------------------\n",
    "\n",
    "\n",
    "for file in os.listdir(FOODWEB_FOLDER):\n",
    "    if not file.endswith('csv') or file == 'references.csv':\n",
    "        continue\n",
    "    \n",
    " #  Load table \n",
    "    foodweb_matrix = pd.read_csv(f\"{FOODWEB_FOLDER}/{file}\", index_col=0)\n",
    "    consumers = foodweb_matrix.index\n",
    "    resources = foodweb_matrix.columns\n",
    "\n",
    " #  Construct network\n",
    "    foodweb_network = nx.Graph()\n",
    "    foodweb_network.add_nodes_from(consumers)\n",
    "    foodweb_network.add_nodes_from(resources)\n",
    "    for con,res in iter_product(consumers, resources):\n",
    "        if foodweb_matrix.loc[con,res]:\n",
    "            foodweb_network.add_edge(con,res)\n",
    "    \n",
    "    G = foodweb_network\n",
    "    H = nx.induced_subgraph(G, max(nx.connected_components(G), key=len)).copy()\n",
    "\n",
    "    if H.number_of_nodes() < min_nodes:\n",
    "        continue\n",
    "\n",
    "    dgm = rng.diagram(H)\n",
    "\n",
    "    print('ID: ', file.split('.')[0])\n",
    "    print('#Nodes in graph: ', len(G))\n",
    "    print('#Nodes in LCC:   ', len(H))\n",
    "    print('ring-score:      ', round(dgm.score, 3))\n",
    "    print()"
   ]
  },
  {
   "cell_type": "markdown",
   "metadata": {},
   "source": [
    "### Analysis"
   ]
  },
  {
   "cell_type": "code",
   "execution_count": null,
   "metadata": {
    "scrolled": true
   },
   "outputs": [],
   "source": [
    "foodweb_matrix = pd.read_csv(f\"{FOODWEB_FOLDER}/M_SD_034.csv\", index_col=0)\n",
    "consumers = foodweb_matrix.index\n",
    "resources = foodweb_matrix.columns\n",
    "\n",
    "#  Construct network\n",
    "G_food = nx.Graph()\n",
    "G_food.add_nodes_from(consumers)\n",
    "G_food.add_nodes_from(resources)\n",
    "for con,res in iter_product(consumers, resources):\n",
    "    if foodweb_matrix.loc[con,res]:\n",
    "        G_food.add_edge(con,res)\n",
    "\n",
    "pos = nx.spring_layout(G_food)"
   ]
  },
  {
   "cell_type": "code",
   "execution_count": null,
   "metadata": {
    "collapsed": true
   },
   "outputs": [],
   "source": [
    "plot_nx(G_food, pos=pos, node_alpha=0.5)"
   ]
  },
  {
   "cell_type": "code",
   "execution_count": null,
   "metadata": {},
   "outputs": [],
   "source": [
    "degree_sequence = sorted([d for n, d in G_food.degree()])\n",
    "degreeCount = Counter(degree_sequence)\n",
    "degs, cnts = zip(*degreeCount.items())\n",
    "\n",
    "deg_fig, ax = plt.subplots(figsize=(8,6))\n",
    "deg_fig.patch.set_alpha(0)\n",
    "ax.patch.set_alpha(0)\n",
    "\n",
    "ax.bar(degs, cnts, width=1, color=sblue, linewidth=0)\n",
    "\n",
    "ax.tick_params(axis='both', which='major', labelsize=24)\n",
    "\n",
    "ax.spines['left'].set_linewidth(2.5)\n",
    "ax.spines['left'].set_color(sblack2)\n",
    "\n",
    "ax.spines['bottom'].set_linewidth(2.5)\n",
    "ax.spines['bottom'].set_color(sblack2)"
   ]
  },
  {
   "cell_type": "code",
   "execution_count": null,
   "metadata": {},
   "outputs": [],
   "source": [
    "degree_sequence = sorted([d for n, d in G_food.degree()])\n",
    "\n",
    "deg_fig, ax = plt.subplots(figsize=(8,6))\n",
    "deg_fig.patch.set_alpha(0)\n",
    "ax.patch.set_alpha(0)\n",
    "\n",
    "ax.hist(degree_sequence, bins=25)\n",
    "\n",
    "ax.tick_params(axis='both', which='major', labelsize=24)\n",
    "\n",
    "ax.spines['left'].set_linewidth(2.5)\n",
    "ax.spines['left'].set_color(sblack2)\n",
    "\n",
    "ax.spines['bottom'].set_linewidth(2.5)\n",
    "ax.spines['bottom'].set_color(sblack2)\n",
    "\n",
    "plt.savefig(\"/Users/markusyoussef/Desktop/food_distribution.png\")"
   ]
  },
  {
   "cell_type": "markdown",
   "metadata": {},
   "source": [
    "## Consumer networks"
   ]
  },
  {
   "cell_type": "code",
   "execution_count": null,
   "metadata": {},
   "outputs": [],
   "source": [
    "# -------------------------\n",
    "# Extract foodweb networks\n",
    "# -------------------------\n",
    "\n",
    "\n",
    "for file in os.listdir(FOODWEB_FOLDER):\n",
    "    if not file.endswith('csv') or file == 'references.csv':\n",
    "        continue\n",
    "    \n",
    " #  Load table \n",
    "    foodweb_matrix = pd.read_csv(f\"{FOODWEB_FOLDER}/{file}\", index_col=0)\n",
    "    consumers = foodweb_matrix.index\n",
    "\n",
    " #  Construct network\n",
    "    consumer_network = nx.Graph()\n",
    "    consumer_network.add_nodes_from(consumers)\n",
    "    \n",
    "    for con1,con2 in combinations(consumers,2):\n",
    "        if (foodweb_matrix.loc[con1] + foodweb_matrix.loc[con2]).any():\n",
    "            consumer_network.add_edge(con1, con2)\n",
    "    \n",
    "    G = consumer_network\n",
    "    H = nx.induced_subgraph(G, max(nx.connected_components(G), key=len)).copy()\n",
    "\n",
    "    if H.number_of_nodes() < min_nodes or nx.density(H) == 1:\n",
    "        continue\n",
    "\n",
    "    dgm = rng.diagram(H)\n",
    "\n",
    "    print('ID: ', file.split('.')[0])\n",
    "    print('#Nodes in graph: ', len(G))\n",
    "    print('#Nodes in LCC:   ', len(H))\n",
    "    print('ring-score:      ', round(dgm.score, 3))\n",
    "    print()"
   ]
  },
  {
   "cell_type": "markdown",
   "metadata": {},
   "source": [
    "## Resources networks"
   ]
  },
  {
   "cell_type": "code",
   "execution_count": null,
   "metadata": {},
   "outputs": [],
   "source": [
    "# -------------------------\n",
    "# Extract foodweb networks\n",
    "# -------------------------\n",
    "\n",
    "\n",
    "for file in os.listdir(FOODWEB_FOLDER):\n",
    "    if not file.endswith('csv') or file == 'references.csv':\n",
    "        continue\n",
    "    \n",
    " #  Load table \n",
    "    foodweb_matrix = pd.read_csv(f\"{FOODWEB_FOLDER}/{file}\", index_col=0)\n",
    "    resources = foodweb_matrix.columns\n",
    "\n",
    " #  Construct network\n",
    "    resource_network = nx.Graph()\n",
    "    resource_network.add_nodes_from(resources)\n",
    "    \n",
    "    for res1,res2 in combinations(resources,2):\n",
    "        if (foodweb_matrix[res1] + foodweb_matrix[res2]).any():\n",
    "            consumer_network.add_edge(res1, res2)\n",
    "    \n",
    "    G = resource_network\n",
    "    H = nx.induced_subgraph(G, max(nx.connected_components(G), key=len)).copy()\n",
    "\n",
    "    if H.number_of_nodes() < min_nodes or nx.density(H) == 1:\n",
    "        continue\n",
    "    break\n",
    "\n",
    "    dgm = rng.diagram(H)\n",
    "\n",
    "    print('ID: ', file.split('.')[0])\n",
    "    print('#Nodes in graph: ', len(G))\n",
    "    print('#Nodes in LCC:   ', len(H))\n",
    "    print('ring-score:      ', round(dgm.score, 3))\n",
    "    print()"
   ]
  },
  {
   "cell_type": "markdown",
   "metadata": {},
   "source": [
    "## Genes\n",
    "<center><h3 style=\"color:darkred\"> >>> CAUTION - Big Data! <<<  </h3></center><p>"
   ]
  },
  {
   "cell_type": "markdown",
   "metadata": {},
   "source": [
    "*Uncomment lines if the data is not produced yet.*"
   ]
  },
  {
   "cell_type": "markdown",
   "metadata": {},
   "source": [
    "### Network processing"
   ]
  },
  {
   "cell_type": "code",
   "execution_count": null,
   "metadata": {},
   "outputs": [],
   "source": [
    "c = 0.95\n",
    "\n",
    "# C = np.genfromtxt('data/biological_networks/genes/gene_corr.txt')\n",
    "# D = 1-np.abs(C)\n",
    "# A = np.where(np.abs(C)>c,1,0)\n",
    "# np.fill_diagonal(A,0)\n",
    "# G = nx.from_numpy_array(A)\n",
    "# G = max(nx.connected_component_subgraphs(G), key=len)\n",
    "# G = nx.convert_node_labels_to_integers(G)\n",
    "\n",
    "# for _, _, data in G.edges(data=True): data.pop('weight',None)\n",
    "# nx.write_edgelist(G, f'data/biological_networks/genes/gene_c{c:.2f}_edgelist.csv', data=False)"
   ]
  },
  {
   "cell_type": "markdown",
   "metadata": {},
   "source": [
    "### Network visuals - this might take a while ...    \n",
    "&nbsp;&nbsp;&nbsp;&nbsp;(~15min on my computer)"
   ]
  },
  {
   "cell_type": "markdown",
   "metadata": {},
   "source": [
    "*Load network for rerunning the visuals.*"
   ]
  },
  {
   "cell_type": "code",
   "execution_count": null,
   "metadata": {},
   "outputs": [],
   "source": [
    "G = nx.read_edgelist(f'data/biological_networks/genes/gene_c{c:.2f}_edgelist.csv', nodetype=int, data=False)"
   ]
  },
  {
   "cell_type": "markdown",
   "metadata": {},
   "source": [
    "*Precompute/load layout positions.*"
   ]
  },
  {
   "cell_type": "code",
   "execution_count": null,
   "metadata": {},
   "outputs": [],
   "source": [
    "# pos = nx.spring_layout(G)\n",
    "# with open(f'data/biological_networks/genes/gene_c{c:.2f}_pos.pkl', 'wb') as f:\n",
    "#     pickle.dump(pos, f)"
   ]
  },
  {
   "cell_type": "code",
   "execution_count": null,
   "metadata": {},
   "outputs": [],
   "source": [
    "with open(f'data/biological_networks/genes/gene_c{c:.2f}_pos.pkl', 'rb') as f:\n",
    "    pos = pickle.load(f)"
   ]
  },
  {
   "cell_type": "markdown",
   "metadata": {},
   "source": [
    "*Plotting the network; this is the most time-consuming step. You might wanna save it right away.*"
   ]
  },
  {
   "cell_type": "code",
   "execution_count": null,
   "metadata": {},
   "outputs": [],
   "source": [
    "# pos = comb(pos)      # moves sticky-out edges closer to the center\n",
    "# plot_nx(G, pos=pos)"
   ]
  },
  {
   "cell_type": "markdown",
   "metadata": {},
   "source": [
    "*Save plot with precomputed layout positions.*"
   ]
  },
  {
   "cell_type": "code",
   "execution_count": null,
   "metadata": {},
   "outputs": [],
   "source": [
    "plot_nx(G, path=f'data/biological_networks/genes/gene_c{c:.2f}_nx.pdf',  silence=True, pos=pos)"
   ]
  },
  {
   "cell_type": "code",
   "execution_count": null,
   "metadata": {},
   "outputs": [],
   "source": [
    "mode = 'bar'\n",
    "\n",
    "degree_sequence = sorted([d for n, d in G.degree()])\n",
    "degreeCount = Counter(degree_sequence)\n",
    "degs, cnts = zip(*degreeCount.items())\n",
    "\n",
    "deg_fig, ax = plt.subplots(figsize=(8,6))\n",
    "deg_fig.patch.set_alpha(0)\n",
    "ax.patch.set_alpha(0)\n",
    "\n",
    "eval(f\"ax.{mode}(degs, cnts, width=1, color=sblue, linewidth=0)\");\n",
    "\n",
    "ax.tick_params(axis='both', which='major', labelsize=24)\n",
    "\n",
    "ax.spines['left'].set_linewidth(2.5)\n",
    "ax.spines['left'].set_color(sblack2)\n",
    "\n",
    "ax.spines['bottom'].set_linewidth(2.5)\n",
    "ax.spines['bottom'].set_color(sblack2)\n",
    "\n",
    "deg_fig.savefig(f'google_drive/genes/gene_c{c:.2f}_deg_{mode}.pdf', transparent=True)"
   ]
  },
  {
   "cell_type": "code",
   "execution_count": null,
   "metadata": {},
   "outputs": [],
   "source": [
    "deg_fig.savefig(f'data/biological_networks/genes/gene_c{c:.2f}_deg.pdf', transparent=True)"
   ]
  },
  {
   "cell_type": "markdown",
   "metadata": {},
   "source": [
    "### Calculating diagrams - you probably won't be able to calculate this on a regular computer...    \n",
    "&nbsp;&nbsp; (Some of these calculations require up to 256GB RAM and can take up to 24h.)"
   ]
  },
  {
   "cell_type": "code",
   "execution_count": null,
   "metadata": {},
   "outputs": [],
   "source": [
    "# rng.induce_toa(G, split=10)\n",
    "# nx.write_edgelist(G, f'data/biological_networks/genes/gene_c{c:.2f}_weightlist.csv')"
   ]
  },
  {
   "cell_type": "code",
   "execution_count": null,
   "metadata": {},
   "outputs": [],
   "source": [
    "# dgm = rng.diagram(G, toa='toa')\n",
    "# dgm.save(f'data/biological_networks/genes/gene_c{c:.2f}_dgm.csv', )"
   ]
  },
  {
   "cell_type": "code",
   "execution_count": null,
   "metadata": {},
   "outputs": [],
   "source": [
    "# dgm = rng.ripser(D)\n",
    "# dgm.save('data/biological_networks/genes/gene_dgm.csv')"
   ]
  },
  {
   "cell_type": "code",
   "execution_count": null,
   "metadata": {},
   "outputs": [],
   "source": [
    "dgm = rng.load_dgm('data/biological_networks/genes/gene_dgm.csv')\n",
    "dgm_c = rng.load_dgm(f'data/biological_networks/genes/gene_c{c:.2f}_dgm.csv')"
   ]
  },
  {
   "cell_type": "code",
   "execution_count": null,
   "metadata": {},
   "outputs": [],
   "source": [
    "# persistence visuals\n",
    "fig, axes = plt.subplots(2, 2, figsize=(14,13))\n",
    "\n",
    "axes[0,0].set_title('Full Distance Matrix', fontsize=16)\n",
    "axes[0,1].set_title(f'Cutoff at c={c:.2f}', fontsize=16)\n",
    "\n",
    "plot_bar(dgm,   ax=axes[0,0], cap=50)\n",
    "plot_bar(dgm_c, ax=axes[0,1], cap=50)\n",
    "plot_dgm(dgm,   ax=axes[1,0])\n",
    "plot_dgm(dgm_c, ax=axes[1,1])\n",
    "\n",
    "axes[0,0].annotate(f'score = {dgm.GGS  :.3f}', xy=(0.7, 0.85), xycoords='axes fraction', fontsize=14);\n",
    "axes[0,1].annotate(f'score = {dgm_c.GGS:.3f}', xy=(0.7, 0.85), xycoords='axes fraction', fontsize=14);\n",
    "axes[1,0].annotate(f'score = {dgm.GGS  :.3f}', xy=(0.7, 0.15), xycoords='axes fraction', fontsize=14);\n",
    "axes[1,1].annotate(f'score = {dgm_c.GGS:.3f}', xy=(0.7, 0.15), xycoords='axes fraction', fontsize=14);"
   ]
  },
  {
   "cell_type": "markdown",
   "metadata": {},
   "source": [
    "### Write summary - this might take a while ...\n",
    "&nbsp;&nbsp;&nbsp;&nbsp;(~12h/34h on my computer)"
   ]
  },
  {
   "cell_type": "code",
   "execution_count": null,
   "metadata": {},
   "outputs": [],
   "source": [
    "write_summary(G, dgm=dgm_c, path=f'data/biological_networks/genes/gene_c{c:.2f}_summary.html')"
   ]
  },
  {
   "cell_type": "markdown",
   "metadata": {},
   "source": [
    "### Save persistent visuals"
   ]
  },
  {
   "cell_type": "code",
   "execution_count": null,
   "metadata": {},
   "outputs": [],
   "source": [
    "plot_dgm(dgm, path=f'data/biological_networks/genes/gene_dgm.pdf', silence=True)\n",
    "plot_bar(dgm, path=f'data/biological_networks/genes/gene_bar.pdf', silence=True, cap=30)\n",
    "\n",
    "plot_dgm(dgm_c, path=f'data/biological_networks/genes/gene_c{c:.2f}_dgm.pdf', silence=True)\n",
    "plot_bar(dgm_c, path=f'data/biological_networks/genes/gene_c{c:.2f}_bar.pdf', silence=True, cap=30)"
   ]
  },
  {
   "cell_type": "markdown",
   "metadata": {},
   "source": [
    "## Soil"
   ]
  },
  {
   "cell_type": "markdown",
   "metadata": {},
   "source": [
    "### MSE"
   ]
  },
  {
   "cell_type": "code",
   "execution_count": null,
   "metadata": {},
   "outputs": [],
   "source": [
    "# network preprocessing\n",
    "d = 90\n",
    "\n",
    "D = np.genfromtxt('data/biological_networks/soil/soil_gray_mse.txt')\n",
    "A = np.where(np.abs(D)>d,0,1)\n",
    "np.fill_diagonal(A,0)\n",
    "G = nx.from_numpy_array(A)\n",
    "# G = max(nx.connected_component_subgraphs(G), key=len)\n",
    "# G = nx.convert_node_labels_to_integers(G)\n",
    "\n",
    "for _, _, data in G.edges(data=True): data.pop('weight',None)\n",
    "    \n",
    "pos = nx.spring_layout(G, iterations=1000)"
   ]
  },
  {
   "cell_type": "code",
   "execution_count": null,
   "metadata": {},
   "outputs": [],
   "source": [
    "# network visuals\n",
    "plot_nx(G, pos=pos)"
   ]
  },
  {
   "cell_type": "code",
   "execution_count": null,
   "metadata": {},
   "outputs": [],
   "source": [
    "mode = 'loglog'\n",
    "\n",
    "degree_sequence = sorted([d for n, d in G.degree()])\n",
    "degreeCount = Counter(degree_sequence)\n",
    "degs, cnts = zip(*degreeCount.items())\n",
    "\n",
    "deg_fig, ax = plt.subplots(figsize=(8,6))\n",
    "deg_fig.patch.set_alpha(0)\n",
    "ax.patch.set_alpha(0)\n",
    "\n",
    "eval(f\"ax.{mode}(degs, cnts, '*', color=sblue)\");\n",
    "\n",
    "ax.tick_params(axis='both', which='major', labelsize=24)\n",
    "\n",
    "ax.spines['left'].set_linewidth(2.5)\n",
    "ax.spines['left'].set_color(sblack2)\n",
    "\n",
    "ax.spines['bottom'].set_linewidth(2.5)\n",
    "ax.spines['bottom'].set_color(sblack2)\n",
    "\n",
    "deg_fig.savefig(f'google_drive/soil/soil_mse_d{d:.2f}deg_{mode}.pdf', transparent=True)"
   ]
  },
  {
   "cell_type": "code",
   "execution_count": null,
   "metadata": {},
   "outputs": [],
   "source": [
    "# calclulating diagrams\n",
    "dgm   = rng.ripser(D)\n",
    "\n",
    "rng.induce_toa(G)\n",
    "dgm_d = rng.diagram(G, toa='toa')"
   ]
  },
  {
   "cell_type": "code",
   "execution_count": null,
   "metadata": {},
   "outputs": [],
   "source": [
    "# add some vacuous points to the diagram to make the barplot look nicer\n",
    "for i in range(10): dgm_d.append((0,0))"
   ]
  },
  {
   "cell_type": "code",
   "execution_count": null,
   "metadata": {},
   "outputs": [],
   "source": [
    "# persistence visuals\n",
    "fig, axes = plt.subplots(2, 2, figsize=(14,13))\n",
    "\n",
    "axes[0,0].set_title('Full Distance Matrix', fontsize=16)\n",
    "axes[0,1].set_title(f'Cutoff at d={d:.2f}', fontsize=16)\n",
    "\n",
    "plot_bar(dgm,   ax=axes[0,0], cap=50)\n",
    "plot_bar(dgm_d, ax=axes[0,1], cap=50)\n",
    "plot_dgm(dgm,   ax=axes[1,0])\n",
    "plot_dgm(dgm_d, ax=axes[1,1])\n",
    "\n",
    "axes[0,0].annotate(f'score = {dgm.GGS  :.3f}', xy=(0.7, 0.875), xycoords='axes fraction', fontsize=14);\n",
    "axes[0,1].annotate(f'score = {dgm_d.GGS:.3f}', xy=(0.7, 0.875), xycoords='axes fraction', fontsize=14);\n",
    "axes[1,0].annotate(f'score = {dgm.GGS  :.3f}', xy=(0.7, 0.125), xycoords='axes fraction', fontsize=14);\n",
    "axes[1,1].annotate(f'score = {dgm_d.GGS:.3f}', xy=(0.7, 0.125), xycoords='axes fraction', fontsize=14);"
   ]
  },
  {
   "cell_type": "markdown",
   "metadata": {},
   "source": [
    "### Save data"
   ]
  },
  {
   "cell_type": "code",
   "execution_count": null,
   "metadata": {},
   "outputs": [],
   "source": [
    "# save data\n",
    "dgm.save(  f'data/biological_networks/soil/soil_mse_dgm.csv')\n",
    "dgm_d.save(f'data/biological_networks/soil/soil_mse_d{d:.2f}_dgm.csv')\n",
    "\n",
    "nx.write_edgelist(G, f'data/biological_networks/soil/soil_mse_d{d:.2f}_weightlist.csv')\n",
    "nx.write_edgelist(G, f'data/biological_networks/soil/soil_mse_d{d:.2f}_edgelist.csv', data=False)\n",
    "\n",
    "write_summary(G, dgm_d, path=f'data/biological_networks/soil/soil_mse_d{d:.2f}_summary.html')"
   ]
  },
  {
   "cell_type": "code",
   "execution_count": null,
   "metadata": {},
   "outputs": [],
   "source": [
    "# save visuals\n",
    "plot_dgm(dgm, path=f'data/biological_networks/soil/soil_mse_dgm.pdf', silence=True)\n",
    "plot_bar(dgm, path=f'data/biological_networks/soil/soil_mse_bar.pdf', silence=True, cap=30)\n",
    "\n",
    "plot_dgm(dgm_d, path=f'data/biological_networks/soil/soil_mse_d{d:.2f}_dgm.pdf', silence=True)\n",
    "plot_bar(dgm_d, path=f'data/biological_networks/soil/soil_mse_d{d:.2f}_bar.pdf', silence=True, cap=30)\n",
    "plot_nx(G,      path=f'data/biological_networks/soil/soil_mse_d{d:.2f}_nx.pdf',  silence=True, pos=pos)\n",
    "\n",
    "deg_fig.savefig(f'data/biological_networks/soil/soil_mse_d{d:.2f}_deg.pdf', transparent=True)"
   ]
  },
  {
   "cell_type": "markdown",
   "metadata": {},
   "source": [
    "### SSIM"
   ]
  },
  {
   "cell_type": "code",
   "execution_count": null,
   "metadata": {},
   "outputs": [],
   "source": [
    "# network preprocessing\n",
    "c = 0.95\n",
    "\n",
    "C = np.genfromtxt('data/biological_networks/soil/soil_gray_ssim.txt')\n",
    "D = 1-np.abs(C)\n",
    "A = np.where(np.abs(C)>c,1,0)\n",
    "np.fill_diagonal(A,0)\n",
    "G = nx.from_numpy_array(A)\n",
    "# G = max(nx.connected_component_subgraphs(G), key=len)\n",
    "# G = nx.convert_node_labels_to_integers(G)\n",
    "\n",
    "for _, _, data in G.edges(data=True): data.pop('weight',None)\n",
    "    \n",
    "pos = nx.spring_layout(G)"
   ]
  },
  {
   "cell_type": "code",
   "execution_count": null,
   "metadata": {},
   "outputs": [],
   "source": [
    "# network visuals\n",
    "plot_nx(G, pos=pos)"
   ]
  },
  {
   "cell_type": "code",
   "execution_count": null,
   "metadata": {},
   "outputs": [],
   "source": [
    "# calclulating diagrams\n",
    "dgm   = rng.ripser(D)\n",
    "\n",
    "rng.induce_toa(G)\n",
    "dgm_c = rng.diagram(G, toa='toa')"
   ]
  },
  {
   "cell_type": "code",
   "execution_count": null,
   "metadata": {},
   "outputs": [],
   "source": [
    "# add some vacuous points to the diagram to make the barplot look nicer\n",
    "for i in range(10): dgm.append((0,0))\n",
    "for i in range(10): dgm_c.append((0,0))"
   ]
  },
  {
   "cell_type": "code",
   "execution_count": null,
   "metadata": {},
   "outputs": [],
   "source": [
    "# persistence visuals\n",
    "fig, axes = plt.subplots(2, 2, figsize=(14,13))\n",
    "\n",
    "axes[0,0].set_title('Full Distance Matrix', fontsize=16)\n",
    "axes[0,1].set_title(f'Cutoff at c={c:.2f}', fontsize=16)\n",
    "\n",
    "plot_bar(dgm,   ax=axes[0,0], cap=50)\n",
    "plot_bar(dgm_c, ax=axes[0,1], cap=50)\n",
    "plot_dgm(dgm,   ax=axes[1,0])\n",
    "plot_dgm(dgm_c, ax=axes[1,1])\n",
    "\n",
    "axes[0,0].annotate(f'score = {dgm.GGS  :.3f}', xy=(0.7, 0.875), xycoords='axes fraction', fontsize=14);\n",
    "axes[0,1].annotate(f'score = {dgm_c.GGS:.3f}', xy=(0.7, 0.875), xycoords='axes fraction', fontsize=14);\n",
    "axes[1,0].annotate(f'score = {dgm.GGS  :.3f}', xy=(0.7, 0.125), xycoords='axes fraction', fontsize=14);\n",
    "axes[1,1].annotate(f'score = {dgm_c.GGS:.3f}', xy=(0.7, 0.125), xycoords='axes fraction', fontsize=14);"
   ]
  },
  {
   "cell_type": "markdown",
   "metadata": {},
   "source": [
    "### Save Data"
   ]
  },
  {
   "cell_type": "code",
   "execution_count": null,
   "metadata": {},
   "outputs": [],
   "source": [
    "# save data\n",
    "dgm.save(  f'data/biological_networks/soil/soil_ssim_dgm.csv')\n",
    "dgm_c.save(f'data/biological_networks/soil/soil_ssim_c{c:.2f}_dgm.csv')\n",
    "\n",
    "nx.write_edgelist(G, f'data/biological_networks/soil/soil_ssim_c{c:.2f}_weightlist.csv')\n",
    "nx.write_edgelist(G, f'data/biological_networks/soil/soil_ssim_c{c:.2f}_edgelist.csv', data=False)\n",
    "\n",
    "write_summary(G, dgm_c, path=f'data/biological_networks/soil/soil_ssim_c{c:.2f}_summary.html')"
   ]
  },
  {
   "cell_type": "code",
   "execution_count": null,
   "metadata": {},
   "outputs": [],
   "source": [
    "# save visuals\n",
    "plot_dgm(dgm, path=f'data/biological_networks/soil/soil_ssim_dgm.pdf', silence=True)\n",
    "plot_bar(dgm, path=f'data/biological_networks/soil/soil_ssim_bar.pdf', silence=True, cap=50)\n",
    "\n",
    "plot_dgm(dgm_c, path=f'data/biological_networks/soil/soil_ssim_c{c:.2f}_dgm.pdf', silence=True)\n",
    "plot_bar(dgm_c, path=f'data/biological_networks/soil/soil_ssim_c{c:.2f}_bar.pdf', silence=True, cap=50)\n",
    "plot_nx(G,      path=f'data/biological_networks/soil/soil_ssim_c{c:.2f}_nx.pdf',  silence=True, pos=pos)"
   ]
  },
  {
   "cell_type": "markdown",
   "metadata": {},
   "source": [
    "## Interferons "
   ]
  },
  {
   "cell_type": "code",
   "execution_count": null,
   "metadata": {},
   "outputs": [],
   "source": [
    "# network preprocessing\n",
    "G = nx.read_edgelist('data/biological_networks/IFNs/IFN_edgelist.csv')\n",
    "G = G.to_undirected()\n",
    "G = max(nx.connected_component_subgraphs(G), key=len)\n",
    "G = nx.convert_node_labels_to_integers(G)\n",
    "\n",
    "pos = nx.spring_layout(G, iterations=1000)"
   ]
  },
  {
   "cell_type": "code",
   "execution_count": null,
   "metadata": {},
   "outputs": [],
   "source": [
    "# network visuals\n",
    "# pos = comb(pos) # moves sticky-out edges closer to the center\n",
    "plot_nx(G, pos=pos, node_alpha=0.8, edge_alpha=0.6)"
   ]
  },
  {
   "cell_type": "code",
   "execution_count": null,
   "metadata": {},
   "outputs": [],
   "source": [
    "mode = 'bar'\n",
    "\n",
    "degree_sequence = sorted([d for n, d in G.degree()])\n",
    "degreeCount = Counter(degree_sequence)\n",
    "degs, cnts = zip(*degreeCount.items())\n",
    "\n",
    "deg_fig, ax = plt.subplots(figsize=(8,6))\n",
    "deg_fig.patch.set_alpha(0)\n",
    "ax.patch.set_alpha(0)\n",
    "\n",
    "eval(f\"ax.{mode}(degs, cnts, width=1, color=sblue)\");\n",
    "\n",
    "ax.tick_params(axis='both', which='major', labelsize=24)\n",
    "\n",
    "ax.spines['left'].set_linewidth(2.5)\n",
    "ax.spines['left'].set_color(sblack2)\n",
    "\n",
    "ax.spines['bottom'].set_linewidth(2.5)\n",
    "ax.spines['bottom'].set_color(sblack2)\n",
    "\n",
    "deg_fig.savefig(f'google_drive/IFNs/IFN_deg_{mode}.pdf', transparent=True)"
   ]
  },
  {
   "cell_type": "code",
   "execution_count": null,
   "metadata": {},
   "outputs": [],
   "source": [
    "# calclulating diagrams\n",
    "rng.induce_toa(G)\n",
    "dgm = rng.diagram(G, toa='toa')"
   ]
  },
  {
   "cell_type": "code",
   "execution_count": null,
   "metadata": {},
   "outputs": [],
   "source": [
    "# persistence visuals\n",
    "fig, axes = plt.subplots(1,2, figsize=(16,8))\n",
    "\n",
    "axes[0].set_title('Barplot', fontsize=16)\n",
    "axes[1].set_title('Persistence plot', fontsize=16)\n",
    "\n",
    "plot_bar(dgm, ax=axes[0], cap=50)\n",
    "plot_dgm(dgm, ax=axes[1])\n",
    "\n",
    "axes[0].annotate(f'score = {dgm.GGS  :.3f}', xy=(0.7, 0.875), xycoords='axes fraction', fontsize=14);\n",
    "axes[1].annotate(f'score = {dgm.GGS  :.3f}', xy=(0.7, 0.125), xycoords='axes fraction', fontsize=14);"
   ]
  },
  {
   "cell_type": "markdown",
   "metadata": {},
   "source": [
    "### Save data"
   ]
  },
  {
   "cell_type": "code",
   "execution_count": null,
   "metadata": {},
   "outputs": [],
   "source": [
    "# save data\n",
    "dgm.save(  f'data/biological_networks/IFNs/IFN_dgm.csv')\n",
    "nx.write_edgelist(G, f'data/biological_networks/IFNs/IFN_weightlist.csv')\n",
    "write_summary(G, dgm, path=f'data/biological_networks/IFNs/IFN_summary.html')"
   ]
  },
  {
   "cell_type": "code",
   "execution_count": null,
   "metadata": {},
   "outputs": [],
   "source": [
    "# save visuals\n",
    "plot_dgm(dgm, path=f'data/biological_networks/IFNs/IFN_dgm.pdf', silence=True)\n",
    "plot_bar(dgm, path=f'data/biological_networks/IFNs/IFN_bar.pdf', silence=True, cap=30)\n",
    "plot_nx(G,    path=f'data/biological_networks/IFNs/IFN_nx.pdf',  silence=True, \n",
    "        pos=pos, node_alpha=0.8, edge_alpha=0.6)\n",
    "\n",
    "deg_fig.savefig(f'data/biological_networks/IFNs/IFN_deg.pdf', transparent=True)"
   ]
  }
 ],
 "metadata": {
  "kernelspec": {
   "display_name": "ringity",
   "language": "python",
   "name": "ringity"
  },
  "language_info": {
   "codemirror_mode": {
    "name": "ipython",
    "version": 3
   },
   "file_extension": ".py",
   "mimetype": "text/x-python",
   "name": "python",
   "nbconvert_exporter": "python",
   "pygments_lexer": "ipython3",
   "version": "3.9.5"
  }
 },
 "nbformat": 4,
 "nbformat_minor": 2
}
