{
 "cells": [
  {
   "cell_type": "markdown",
   "metadata": {},
   "source": [
    "### distribution functions"
   ]
  },
  {
   "cell_type": "code",
   "execution_count": 1,
   "metadata": {},
   "outputs": [],
   "source": [
    "from numpy import pi as PI\n",
    "\n",
    "import scipy\n",
    "import numpy as np\n",
    "\n",
    "# =============================================================================\n",
    "#  ---------------- (DIS-)SIMILARITY DISTRIBUTION FUNCTIONS ------------------\n",
    "# =============================================================================\n",
    "def pdf_distance(t, kappa):\n",
    "    \"\"\"\n",
    "    Cumulative distribution function of (circular) distance of two wrapped\n",
    "    exponentialy distributed random variables with scale parameter kappa.\n",
    "    Support is on [0,1].\n",
    "    \"\"\"\n",
    "    support = np.where((0<t) & (t<PI), 1., 0.)\n",
    "    return support * kappa/np.sinh(PI*kappa) * np.cosh((PI-t)*kappa)\n",
    "\n",
    "def cdf_distance(t, kappa):\n",
    "    \"\"\"\n",
    "    Cumulative distribution function of (circular) distance of two wrapped\n",
    "    exponentialy distributed random variables with scale parameter kappa.\n",
    "    F(t)=0 for t<0 and F(t)=1 for t>pi.\n",
    "    \"\"\"\n",
    "    support = np.where(0<=t, 1., 0.)\n",
    "    values = 1 - np.sinh((PI-t)*kappa) / np.sinh(PI*kappa)\n",
    "    return support * np.where(t>=PI,1,values)\n",
    "\n",
    "def pdf_similarity(t, kappa, a):\n",
    "    \"\"\"\n",
    "    (Continuous part of the) probability density function of s_a ∘ d(X,Y), \n",
    "    where X,Y are two wrapped exponentially distributed random variables \n",
    "    with scale parameter 1/kappa, d(-,-) denotes the distance on the circle \n",
    "    and s_a(-) is the area of the (normalized) overlap of two boxes of length \n",
    "    2*pi*a on the circle for a given distance (measured from edge to edge, \n",
    "    or equivalently from center to center). \n",
    "    Normalization is taken to be the area of one box, 2*pi*a. Hence, the \n",
    "    support is on [s_min,pi], where s_min=|2-1/a|^+.\n",
    "    \"\"\"\n",
    "    s_min = np.clip(2-1/a,0,1)\n",
    "    support = np.where((s_min<=t) & (t<=1), 1., 0.)\n",
    "    return support * 2*a*PI*pdf_distance(2*a*PI*(1-t), kappa)\n",
    "\n",
    "def cdf_similarity(t, kappa, a):\n",
    "    \"\"\"\n",
    "    Cumulative distribution function of s_a ∘ d(X,Y), where X,Y are two wrapped\n",
    "    exponentially distributed random variables with scale parameter 1/kappa,\n",
    "    d(-,-) denotes the distance on the circle and s_a(-) is the area of the\n",
    "    (normalized) overlap of two boxes of length 2*pi*a on the circle for a\n",
    "    given distance (measured from edge to edge, or equivalently from center \n",
    "    to center). \n",
    "    Normalization is taken to be the area of one box, 2*pi*a. Hence, the \n",
    "    support is on [s_min,pi], where s_min=|2-1/a|^+.\n",
    "    \"\"\"\n",
    "    s_min = np.clip(2-1/a,0,1)\n",
    "    support = np.where(s_min<=t, 1., 0.)\n",
    "    values = 1 - cdf_distance(2*a*PI*(1-t), kappa=kappa)\n",
    "    return support * np.where(t>=1, 1., values)\n",
    "\n",
    "def mean_similarity(kappa, a):\n",
    "    numer = 2*np.sinh(PI*kappa)*np.sinh((1-a)*PI*kappa)*np.sinh(a*PI*kappa)\n",
    "    denom = a*PI*kappa*(np.cosh(2*PI*kappa)-1)\n",
    "    return 1 - numer/denom"
   ]
  },
  {
   "cell_type": "markdown",
   "metadata": {},
   "source": [
    "### network_model"
   ]
  },
  {
   "cell_type": "code",
   "execution_count": 2,
   "metadata": {},
   "outputs": [],
   "source": [
    "from ringity.distribution_functions import mean_similarity\n",
    "from scipy.spatial.distance import pdist, squareform\n",
    "from numpy import pi as PI\n",
    "\n",
    "import scipy\n",
    "import numpy as np\n",
    "import networkx as nx\n",
    "\n",
    "# =============================================================================\n",
    "#  -------------------------------  PREPARATION -----------------------------\n",
    "# =============================================================================\n",
    "def get_positions(N, beta):\n",
    "    if   beta == 0:\n",
    "        return np.zeros(N)\n",
    "    elif beta == 1:\n",
    "        return np.random.uniform(0,2*PI, size=N)\n",
    "    else:\n",
    "        return np.random.exponential(scale=1/np.tan(PI*(1-beta)/2), size=N) % (2*PI)\n",
    "\n",
    "\n",
    "def geodesic_distances(thetas):\n",
    "    abs_dists = pdist(thetas.reshape(-1,1))\n",
    "    return np.where(abs_dists<PI, abs_dists, 2*PI-abs_dists)\n",
    "\n",
    "\n",
    "def overlap(dist, a):\n",
    "    \"\"\"\n",
    "    Calculates the overlap of two boxes of length 2*pi*a on the circle for a\n",
    "    given distance dist (measured from center to center).\n",
    "    \"\"\"\n",
    "\n",
    "    x1 = (2*PI*a-dist).clip(0)\n",
    "    if a <= 0.5:\n",
    "        return x1\n",
    "    # for box sizesw with a>0 there is a second overlap\n",
    "    else:\n",
    "        x2 = (dist-2*PI*(1-a)).clip(0)\n",
    "        return x1 + x2\n",
    "\n",
    "def slope(rho, kappa, a):\n",
    "    mu_S = mean_similarity(kappa,a)\n",
    "    if rho <= mu_S:\n",
    "        return rho/mu_S\n",
    "    else:\n",
    "        const = 1/np.sinh(PI*kappa)\n",
    "        def integral(k): # This can probably be further simplified\n",
    "            term1 = np.sinh((1 + 2*a*(1/k-1))*PI*kappa)\n",
    "            term2 = (k*np.sinh((a*PI*kappa)/k)*np.sinh(((a+k-2*a*k)*PI*kappa)/k))/(a*PI*kappa)\n",
    "            return term1-term2\n",
    "        return scipy.optimize.newton(\n",
    "            func = lambda k: const*integral(k) + (1-cdf_similarity(1/k, kappa, a)) - rho,\n",
    "            x0 = rho/mu_S)\n",
    "\n",
    "# =============================================================================\n",
    "#  ------------------------------  NETWORK MODEL ----------------------------\n",
    "# =============================================================================\n",
    "\n",
    "def weighted_network_model(N, rho, beta, a=0.5, return_positions=False):\n",
    "    \"\"\"\n",
    "    Returns samples of the Network model as described in [1]\n",
    "    The outputs are samples of the\n",
    "     - positions of the nodes placed on the circle according to a\n",
    "       (wrapped) exponential distribution,\n",
    "     - their pairwise distances\n",
    "     - their similarities, given an 'activity window' of size a\n",
    "     - their connection probabilities, given the expected density rho.\n",
    "    \"\"\"\n",
    "\n",
    "    # just maiking sure no one tries to be funny...\n",
    "\n",
    "    assert 0 <= beta <= 1\n",
    "    assert 0 <   a   <= 1\n",
    "    assert 0 <= rho  <= 1\n",
    "\n",
    "    if beta == 0 or a == 1:\n",
    "        posis = np.zeros(N)\n",
    "        simis = np.ones(int(N*(N-1)/2))\n",
    "        k = rho\n",
    "    elif beta == 1:\n",
    "        assert rho < 2*a, \"Please increase `a` or decrease `rho`!\"\n",
    "        posis = np.random.uniform(0,2*PI, size=N)\n",
    "        dists = geodesic_distances(posis)\n",
    "        simis = overlap(dists, a)/(2*PI*a)\n",
    "\n",
    "        if rho <= a:\n",
    "            k = rho/a\n",
    "        else:\n",
    "            k = a/(2*a-rho)\n",
    "    else:\n",
    "        kappa = np.tan(PI*(1-beta)/2)\n",
    "        assert rho < 1-np.sinh((PI-2*a*PI)*kappa) / np.sinh(PI*kappa), \"Please increase `a` or decrease `rho`!\"\n",
    "        posis = np.random.exponential(scale=1/kappa, size=N) % (2*PI)\n",
    "        dists = geodesic_distances(posis)\n",
    "        simis = overlap(dists, a)/(2*PI*a)\n",
    "        k = slope(rho, kappa, a)\n",
    "\n",
    "    probs = (simis*k).clip(0,1)\n",
    "    if return_positions:\n",
    "        return posis, probs\n",
    "    else:\n",
    "        return probs\n",
    "\n",
    "\n",
    "def network_model(N, rho, beta, a=0.5, return_positions=False):\n",
    "    \"\"\"\n",
    "    Network model as described in [1]. The output is the (empirical) positions\n",
    "    of the nodes placed on the circle according to a von Mises distribution,\n",
    "    followed by a tripple consisting of the (empirical) distribution of the\n",
    "    pairwise distances, similarities and connection probabilities respectively.\n",
    "    \"\"\"\n",
    "    if return_positions:\n",
    "        posis, probs = weighted_network_model(N = N,\n",
    "                                              rho = rho,\n",
    "                                              beta = beta,\n",
    "                                              a = a,\n",
    "                                              return_positions = True)\n",
    "    else:\n",
    "        probs = weighted_network_model(N = N,\n",
    "                                       rho = rho,\n",
    "                                       beta = beta,\n",
    "                                       a = a,\n",
    "                                       return_positions = False)\n",
    "\n",
    "    rands = np.random.uniform(size=int(N*(N-1)/2))\n",
    "    A = squareform(np.where(probs>rands, 1, 0))\n",
    "    G = nx.from_numpy_array(A)\n",
    "\n",
    "    if return_positions:\n",
    "        return posis, G\n",
    "    else:\n",
    "        return G\n",
    "\n",
    "# =============================================================================\n",
    "#  ------------------------------ REFERENCES ---------------------------------\n",
    "# =============================================================================\n",
    "\n",
    "# [1] Not published yet."
   ]
  },
  {
   "cell_type": "markdown",
   "metadata": {},
   "source": [
    "## Here we go"
   ]
  },
  {
   "cell_type": "code",
   "execution_count": 3,
   "metadata": {},
   "outputs": [],
   "source": [
    "from itertools import combinations\n",
    "from scipy.integrate import quad\n",
    "\n",
    "import numpy as np\n",
    "import matplotlib.pyplot as plt"
   ]
  },
  {
   "cell_type": "code",
   "execution_count": 38,
   "metadata": {},
   "outputs": [],
   "source": [
    "N = 2**13\n",
    "rho = 0.812\n",
    "beta = 0.1\n",
    "a = 0.8\n",
    "kappa = np.tan(PI*(1-beta)/2)\n",
    "\n",
    "posis = get_positions(N, beta)\n",
    "dists = geodesic_distances(posis)\n",
    "simis = overlap(dists, a)/(2*PI*a)"
   ]
  },
  {
   "cell_type": "code",
   "execution_count": 39,
   "metadata": {},
   "outputs": [
    {
     "data": {
      "text/plain": [
       "0.8117288265759068"
      ]
     },
     "execution_count": 39,
     "metadata": {},
     "output_type": "execute_result"
    }
   ],
   "source": [
    "np.mean((simis*slope(rho, kappa, a)).clip(0,1))"
   ]
  },
  {
   "cell_type": "code",
   "execution_count": 28,
   "metadata": {},
   "outputs": [
    {
     "data": {
      "text/plain": [
       "(0.7356767722891764, 0.7344956492393723)"
      ]
     },
     "execution_count": 28,
     "metadata": {},
     "output_type": "execute_result"
    }
   ],
   "source": [
    "a/(2*a-rho)"
   ]
  },
  {
   "cell_type": "code",
   "execution_count": 40,
   "metadata": {},
   "outputs": [
    {
     "data": {
      "text/plain": [
       "(-0.05, 1.05)"
      ]
     },
     "execution_count": 40,
     "metadata": {},
     "output_type": "execute_result"
    },
    {
     "data": {
      "image/png": "[encoded data removed]",
      "text/plain": [
       "<Figure size 432x288 with 1 Axes>"
      ]
     },
     "metadata": {
      "needs_background": "light"
     },
     "output_type": "display_data"
    }
   ],
   "source": [
    "x1 = np.sort(simis)\n",
    "y1 = np.linspace(0,1,len(simis))\n",
    "\n",
    "x2 = np.linspace(-0.05,1.05,200)\n",
    "y2 = cdf_similarity(x2, kappa, a)\n",
    "\n",
    "plt.plot(x1,y1);\n",
    "plt.plot(x2,y2);\n",
    "\n",
    "ax = plt.gca()\n",
    "ax.set_xlim(-0.05,1.05)"
   ]
  },
  {
   "cell_type": "code",
   "execution_count": 80,
   "metadata": {},
   "outputs": [
    {
     "data": {
      "text/plain": [
       "0.0"
      ]
     },
     "execution_count": 80,
     "metadata": {},
     "output_type": "execute_result"
    }
   ],
   "source": [
    "np.min(simis)"
   ]
  },
  {
   "cell_type": "code",
   "execution_count": 47,
   "metadata": {},
   "outputs": [
    {
     "data": {
      "text/plain": [
       "0.23633156966490285"
      ]
     },
     "execution_count": 47,
     "metadata": {},
     "output_type": "execute_result"
    }
   ],
   "source": [
    "(2*a-1)/a"
   ]
  },
  {
   "cell_type": "code",
   "execution_count": 51,
   "metadata": {},
   "outputs": [],
   "source": [
    "x = np.linspace(1,0,100,endpoint=False)\n",
    "y = (2-1/x).clip(0)"
   ]
  },
  {
   "cell_type": "code",
   "execution_count": 52,
   "metadata": {},
   "outputs": [
    {
     "data": {
      "text/plain": [
       "[<matplotlib.lines.Line2D at 0x11687c410>]"
      ]
     },
     "execution_count": 52,
     "metadata": {},
     "output_type": "execute_result"
    },
    {
     "data": {
      "image/png": "[encoded data removed]",
      "text/plain": [
       "<Figure size 432x288 with 1 Axes>"
      ]
     },
     "metadata": {
      "needs_background": "light"
     },
     "output_type": "display_data"
    }
   ],
   "source": [
    "plt.plot(x,y)"
   ]
  },
  {
   "cell_type": "code",
   "execution_count": 51,
   "metadata": {},
   "outputs": [
    {
     "data": {
      "text/plain": [
       "0.17506554752326803"
      ]
     },
     "execution_count": 51,
     "metadata": {},
     "output_type": "execute_result"
    }
   ],
   "source": [
    "rho = 0.175\n",
    "\n",
    "np.mean((simis*(a/(2*a-rho))).clip(0,1))"
   ]
  },
  {
   "cell_type": "code",
   "execution_count": 54,
   "metadata": {},
   "outputs": [
    {
     "ename": "AssertionError",
     "evalue": "Please increase `a` or decrease `rho`!",
     "output_type": "error",
     "traceback": [
      "\u001b[0;31m---------------------------------------------------------------------------\u001b[0m",
      "\u001b[0;31mAssertionError\u001b[0m                            Traceback (most recent call last)",
      "\u001b[0;32m<ipython-input-54-c2e23384c461>\u001b[0m in \u001b[0;36m<module>\u001b[0;34m\u001b[0m\n\u001b[1;32m      1\u001b[0m \u001b[0mrho\u001b[0m \u001b[0;34m=\u001b[0m \u001b[0;36m10\u001b[0m\u001b[0;34m\u001b[0m\u001b[0;34m\u001b[0m\u001b[0m\n\u001b[1;32m      2\u001b[0m \u001b[0;34m\u001b[0m\u001b[0m\n\u001b[0;32m----> 3\u001b[0;31m \u001b[0;32massert\u001b[0m \u001b[0mrho\u001b[0m \u001b[0;34m<\u001b[0m \u001b[0;36m2\u001b[0m\u001b[0;34m*\u001b[0m\u001b[0ma\u001b[0m\u001b[0;34m,\u001b[0m \u001b[0;34m\"Please increase `a` or decrease `rho`!\"\u001b[0m\u001b[0;34m\u001b[0m\u001b[0;34m\u001b[0m\u001b[0m\n\u001b[0m",
      "\u001b[0;31mAssertionError\u001b[0m: Please increase `a` or decrease `rho`!"
     ]
    }
   ],
   "source": [
    "rho = 10\n",
    "\n",
    "assert rho < 2*a, \"Please increase `a` or decrease `rho`!\""
   ]
  },
  {
   "cell_type": "code",
   "execution_count": 25,
   "metadata": {},
   "outputs": [],
   "source": [
    "posis = np.random.exponential(scale=1/kappa, size=N) % (2*PI)\n",
    "dists = geodesic_distances(posis)\n",
    "simis = overlap(dists, a)/(2*PI*a)\n",
    "#probs = simis*slope(rho, a, kappa)"
   ]
  },
  {
   "cell_type": "code",
   "execution_count": 54,
   "metadata": {},
   "outputs": [
    {
     "data": {
      "text/plain": [
       "(0.0, 6.283185307179586)"
      ]
     },
     "execution_count": 54,
     "metadata": {},
     "output_type": "execute_result"
    },
    {
     "data": {
      "image/png": "[encoded data removed]",
      "text/plain": [
       "<Figure size 432x288 with 1 Axes>"
      ]
     },
     "metadata": {
      "needs_background": "light"
     },
     "output_type": "display_data"
    }
   ],
   "source": [
    "N = 2**16\n",
    "beta = 0.01\n",
    "kappa = np.tan(PI*(1-beta)/2)\n",
    "posis = np.random.exponential(scale=1/kappa, size=N) % (2*PI)\n",
    "plt.hist(posis,bins=50, density=True);\n",
    "ax = plt.gca()\n",
    "ax.set_xlim(0,2*PI)\n",
    "#plt.plot(x,y)"
   ]
  },
  {
   "cell_type": "code",
   "execution_count": 52,
   "metadata": {},
   "outputs": [
    {
     "data": {
      "text/plain": [
       "0.01575585845026477"
      ]
     },
     "execution_count": 52,
     "metadata": {},
     "output_type": "execute_result"
    }
   ],
   "source": [
    "np.mean(posis)"
   ]
  },
  {
   "cell_type": "code",
   "execution_count": 44,
   "metadata": {},
   "outputs": [
    {
     "data": {
      "text/plain": [
       "0.9999999999999999"
      ]
     },
     "execution_count": 44,
     "metadata": {},
     "output_type": "execute_result"
    }
   ],
   "source": []
  },
  {
   "cell_type": "code",
   "execution_count": 21,
   "metadata": {},
   "outputs": [
    {
     "data": {
      "text/plain": [
       "[<matplotlib.lines.Line2D at 0x1216c2d90>]"
      ]
     },
     "execution_count": 21,
     "metadata": {},
     "output_type": "execute_result"
    },
    {
     "data": {
      "image/png": "[encoded data removed]",
      "text/plain": [
       "<Figure size 432x288 with 1 Axes>"
      ]
     },
     "metadata": {
      "needs_background": "light"
     },
     "output_type": "display_data"
    }
   ],
   "source": [
    "x = np.linspace(0,1,100)\n",
    "y = pdf_similarity(x,kappa,a)\n",
    "\n",
    "plt.hist(simis,bins=50, density=True);\n",
    "plt.plot(x,y)"
   ]
  },
  {
   "cell_type": "code",
   "execution_count": 11,
   "metadata": {},
   "outputs": [],
   "source": [
    "N = 2**10\n",
    "G = network_model(N,rho,kappa=kappa,a=a)"
   ]
  },
  {
   "cell_type": "code",
   "execution_count": 12,
   "metadata": {},
   "outputs": [
    {
     "data": {
      "text/plain": [
       "(0.14829239980449657, 0.15)"
      ]
     },
     "execution_count": 12,
     "metadata": {},
     "output_type": "execute_result"
    }
   ],
   "source": [
    "nx.density(G), rho"
   ]
  },
  {
   "cell_type": "code",
   "execution_count": 13,
   "metadata": {},
   "outputs": [],
   "source": [
    "N = 2**12\n",
    "a = 0.3\n",
    "kappa = 0.6\n",
    "\n",
    "centers = np.random.exponential(scale=1/kappa, size=N) % (2*PI)\n",
    "dists = geodesic_distances(centers)\n",
    "simis = overlap(dists, a)/(2*PI*a)"
   ]
  },
  {
   "cell_type": "code",
   "execution_count": 17,
   "metadata": {},
   "outputs": [
    {
     "data": {
      "text/plain": [
       "(0.4213724491397234, 0.4308098918007214)"
      ]
     },
     "execution_count": 17,
     "metadata": {},
     "output_type": "execute_result"
    }
   ],
   "source": [
    "np.mean(simis), mu_similarity(kappa, a)"
   ]
  },
  {
   "cell_type": "code",
   "execution_count": 18,
   "metadata": {},
   "outputs": [
    {
     "data": {
      "text/plain": [
       "[<matplotlib.lines.Line2D at 0x180e79bd0>]"
      ]
     },
     "execution_count": 18,
     "metadata": {},
     "output_type": "execute_result"
    },
    {
     "data": {
      "image/png": "[encoded data removed]",
      "text/plain": [
       "<Figure size 432x288 with 1 Axes>"
      ]
     },
     "metadata": {
      "needs_background": "light"
     },
     "output_type": "display_data"
    }
   ],
   "source": [
    "x = np.linspace(-0.1,1.1, 100)\n",
    "f_X = kappa*np.exp(-kappa*x)/(1-np.exp(-2*PI*kappa))\n",
    "f_D = pdf_similarity(x, kappa, a)\n",
    "\n",
    "plt.hist(simis  , bins=50, alpha=0.50, density=True);\n",
    "plt.plot(x, f_D)"
   ]
  },
  {
   "cell_type": "code",
   "execution_count": 31,
   "metadata": {},
   "outputs": [
    {
     "data": {
      "text/plain": [
       "[<matplotlib.lines.Line2D at 0x11aea8690>]"
      ]
     },
     "execution_count": 31,
     "metadata": {},
     "output_type": "execute_result"
    },
    {
     "data": {
      "image/png": "[encoded data removed]",
      "text/plain": [
       "<Figure size 432x288 with 1 Axes>"
      ]
     },
     "metadata": {
      "needs_background": "light"
     },
     "output_type": "display_data"
    }
   ],
   "source": [
    "thetas = np.linspace(0,1,100)\n",
    "x = np.sort(simis)\n",
    "y = np.linspace(0,1,len(x))\n",
    "plt.plot(x, y)\n",
    "plt.plot(thetas, cdf_similarity(thetas, kappa, a))"
   ]
  },
  {
   "cell_type": "code",
   "execution_count": 15,
   "metadata": {},
   "outputs": [
    {
     "data": {
      "text/plain": [
       "0.6677051249253559"
      ]
     },
     "execution_count": 15,
     "metadata": {},
     "output_type": "execute_result"
    }
   ],
   "source": [
    "1-cdf_distance(2*PI*a, kappa)"
   ]
  },
  {
   "cell_type": "code",
   "execution_count": 17,
   "metadata": {},
   "outputs": [
    {
     "data": {
      "text/plain": [
       "[<matplotlib.lines.Line2D at 0x11e7bfe10>]"
      ]
     },
     "execution_count": 17,
     "metadata": {},
     "output_type": "execute_result"
    },
    {
     "data": {
      "image/png": "[encoded data removed]",
      "text/plain": [
       "<Figure size 432x288 with 1 Axes>"
      ]
     },
     "metadata": {
      "needs_background": "light"
     },
     "output_type": "display_data"
    }
   ],
   "source": [
    "x = np.linspace(-0.1,1.1, 100)\n",
    "f_X = kappa*np.exp(-kappa*x)/(1-np.exp(-2*PI*kappa))\n",
    "f_D = pdf_similarity(x, kappa, a)\n",
    "\n",
    "plt.hist(simis  , bins=50, alpha=0.50, density=True);\n",
    "plt.plot(x, f_D)"
   ]
  },
  {
   "cell_type": "code",
   "execution_count": 4,
   "metadata": {},
   "outputs": [],
   "source": [
    "from itertools import product"
   ]
  },
  {
   "cell_type": "code",
   "execution_count": 7,
   "metadata": {},
   "outputs": [
    {
     "name": "stdout",
     "output_type": "stream",
     "text": [
      "0.24393805039138944 0.255\n",
      "0.255 0.3999999999999999 0.5\n",
      "\n",
      "0.4806522137964775 0.5\n",
      "0.5 0.3999999999999999 0.75\n",
      "\n",
      "0.7167930528375733 0.745\n",
      "0.745 0.3999999999999999 0.5\n",
      "\n",
      "0.7249342588062623 0.745\n",
      "0.745 0.3999999999999999 0.75\n",
      "\n"
     ]
    }
   ],
   "source": [
    "N = 2**9\n",
    "\n",
    "for rho, beta, a in product(np.linspace(0.01,0.99,5),np.linspace(0,1,5), np.linspace(1,0,5,endpoint=False)):\n",
    "    try:\n",
    "        G = network_model(N,rho,beta,a)\n",
    "    except AssertionError:\n",
    "        continue\n",
    "    dens = nx.density(G)\n",
    "    if abs(dens-rho)>0.01:\n",
    "        print(dens, rho)\n",
    "        print(rho, a, beta)\n",
    "        print()"
   ]
  },
  {
   "cell_type": "code",
   "execution_count": 13,
   "metadata": {},
   "outputs": [
    {
     "data": {
      "text/plain": [
       "0.7477670927103717"
      ]
     },
     "execution_count": 13,
     "metadata": {},
     "output_type": "execute_result"
    }
   ],
   "source": [
    "rho, a, beta = 0.745, 0.3999999999999999, 0.75\n",
    "\n",
    "np.mean([nx.density(network_model(N,rho,beta,a)) for _ in range(20)])"
   ]
  },
  {
   "cell_type": "markdown",
   "metadata": {},
   "source": [
    "### testing rng"
   ]
  },
  {
   "cell_type": "code",
   "execution_count": 12,
   "metadata": {},
   "outputs": [],
   "source": [
    "from collections import Counter\n",
    "\n",
    "import numpy as np\n",
    "import ringity as rng\n",
    "import matplotlib.pyplot as plt"
   ]
  },
  {
   "cell_type": "code",
   "execution_count": 100,
   "metadata": {},
   "outputs": [],
   "source": [
    "N = 2**11\n",
    "rho = 0.05\n",
    "a = 0.1\n",
    "beta = 0.5\n",
    "\n",
    "G = rng.network_model(N, rho, beta, a)"
   ]
  },
  {
   "cell_type": "code",
   "execution_count": 101,
   "metadata": {},
   "outputs": [],
   "source": [
    "deg_list = [deg for _,deg in G.degree]\n",
    "degCount_obs = Counter(sorted(deg_list))\n",
    "degs_obs, cnts_obs = zip(*degCount_obs.items())\n",
    "cnts_obs = np.array(cnts_obs)"
   ]
  },
  {
   "cell_type": "code",
   "execution_count": 102,
   "metadata": {},
   "outputs": [
    {
     "data": {
      "image/png": "[encoded data removed]",
      "text/plain": [
       "<Figure size 576x432 with 1 Axes>"
      ]
     },
     "metadata": {
      "needs_background": "light"
     },
     "output_type": "display_data"
    }
   ],
   "source": [
    "width = 1\n",
    "\n",
    "deg_fig, ax = plt.subplots(figsize=(8,6))\n",
    "deg_fig.patch.set_alpha(0)\n",
    "\n",
    "ax.hist(deg_list, bins=50, edgecolor='w');\n",
    "\n",
    "rng.ax_setup(ax)"
   ]
  },
  {
   "cell_type": "code",
   "execution_count": 88,
   "metadata": {},
   "outputs": [],
   "source": [
    "?ax.hist"
   ]
  },
  {
   "cell_type": "code",
   "execution_count": 89,
   "metadata": {},
   "outputs": [],
   "source": [
    "? ax.bar"
   ]
  },
  {
   "cell_type": "code",
   "execution_count": null,
   "metadata": {},
   "outputs": [],
   "source": []
  }
 ],
 "metadata": {
  "kernelspec": {
   "display_name": "ringity",
   "language": "python",
   "name": "ringity"
  },
  "language_info": {
   "codemirror_mode": {
    "name": "ipython",
    "version": 3
   },
   "file_extension": ".py",
   "mimetype": "text/x-python",
   "name": "python",
   "nbconvert_exporter": "python",
   "pygments_lexer": "ipython3",
   "version": "3.7.7"
  }
 },
 "nbformat": 4,
 "nbformat_minor": 2
}
