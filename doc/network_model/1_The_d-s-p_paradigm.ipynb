{
 "cells": [
  {
   "cell_type": "markdown",
   "id": "111ee597",
   "metadata": {},
   "source": [
    "# Canonical parameters"
   ]
  },
  {
   "cell_type": "markdown",
   "id": "b092573a",
   "metadata": {},
   "source": [
    "## Pairwise distances $d = d(\\theta_i, \\theta_j)$"
   ]
  },
  {
   "cell_type": "markdown",
   "id": "3b0664b0",
   "metadata": {},
   "source": [
    "The euclidean distance is\n",
    "$$\\tilde{d} = \\tilde{d}(\\theta_i, \\theta_j) = \\vert \\theta_i - \\theta_j \\vert$$\n",
    "and the geodesic distance is\n",
    "$$d = d(\\theta_i, \\theta_j) = \\min \\{ \\tilde{d}, 2\\pi - \\tilde{d} \\} = \\pi - \\vert \\tilde{d} - \\pi \\vert$$"
   ]
  },
  {
   "cell_type": "markdown",
   "id": "280b0d96",
   "metadata": {},
   "source": [
    "## Pairwise similarities $s = s(\\theta_i, \\theta_j)$"
   ]
  },
  {
   "cell_type": "markdown",
   "id": "3e2abce9",
   "metadata": {},
   "source": [
    "We define \n",
    "$$\\tilde{s} = \\tilde{s}(d) = \\vert l - d_{ij} \\vert_+ + \\vert d_{ij} - (2\\pi - l) \\vert_+\\, ,$$\n",
    "\n",
    "where $l = 2r\\pi$ is the entire length of the box function and $\\vert x \\vert_+ = \\max \\{0, x \\}$. <br>\n",
    "Subsequently, we define\n",
    "$$s = s(d) = \\frac{\\tilde{s}}{l} \\, .$$"
   ]
  },
  {
   "cell_type": "markdown",
   "id": "92d237c7",
   "metadata": {},
   "source": [
    "$$s = s(d) = \\frac{1}{l} \\big( \\vert l - d_{ij} \\vert_+ + \\vert d_{ij} - (2\\pi - l) \\vert_+ \\big) \\, .$$"
   ]
  },
  {
   "cell_type": "markdown",
   "id": "a2e4aad3",
   "metadata": {},
   "source": [
    "### Special case: $r \\leq 0.5$"
   ]
  },
  {
   "cell_type": "markdown",
   "id": "bb3f069e",
   "metadata": {},
   "source": [
    "For $r \\leq 0.5$ this simplifies to\n",
    "$$\\tilde{s} = \\vert l - d_{ij} \\vert_+ \\quad \\text{and hence} \\quad s = \\left\\vert 1 - \\frac{d_{ij}}{l} \\right\\vert_+$$\n",
    "For $r = 0.5$ we can even have \n",
    "$$s = 1 - \\frac{d_{ij}}{l}$$"
   ]
  },
  {
   "cell_type": "markdown",
   "id": "560f23b0",
   "metadata": {},
   "source": [
    "## Pairwise probabilities $p = p(\\theta_i, \\theta_j)$"
   ]
  },
  {
   "cell_type": "markdown",
   "id": "7cac650e",
   "metadata": {},
   "source": [
    "We define\n",
    "$$p = p(s) = c \\cdot s \\, .$$\n",
    "No further modification is needed."
   ]
  },
  {
   "cell_type": "markdown",
   "id": "e41156d0",
   "metadata": {},
   "source": [
    "# The density parameter $\\rho$"
   ]
  },
  {
   "cell_type": "markdown",
   "id": "283331e7",
   "metadata": {},
   "source": [
    "## Preamble: distribution of $\\Theta$"
   ]
  },
  {
   "cell_type": "markdown",
   "id": "471ced8a",
   "metadata": {},
   "source": [
    "$$f_{\\Theta}(x) = \\lambda e^{-\\lambda x} \\cdot \\frac{1}{1 - e^{-2\\pi\\lambda}}\\, .$$"
   ]
  },
  {
   "cell_type": "markdown",
   "id": "cf8bd075",
   "metadata": {},
   "source": [
    "We start with the initial distribution of $\\Theta \\sim \\mathcal{D}$. Our choice is the truncated/wrapped exponential distribution, $\\mathcal{D} = \\mathit{Exp}(\\lambda)$ for a given parameter $\\lambda$. Concretely, the pdf/cdf on $[0, 2\\pi]$ can be written as\n",
    "$$f_{\\Theta}(x) = \\lambda e^{-\\lambda x} \\cdot \\frac{1}{1 - e^{-2\\pi\\lambda}} \\quad \\text{ and } \\quad  F_{\\Theta}(x) = 1 - e^{-\\lambda x} \\cdot \\frac{1}{1 - e^{-2\\pi\\lambda}} \\, .$$\n",
    "We choose this because:\n",
    " - It is a natural distribution to model delayed reactions\n",
    " - Truncating it is equivalent to wrapping it; so we don't need to choose between these two options.\n",
    " - It is analytically one of the easiest to write down (see e.g. von Mises distributed choices leading to Bessel functions)\n",
    " \n",
    "We reparametrize the exponential function through a parameter in the range $[0, 1]$; i.e.\n",
    "$$\\beta = 1 - \\frac{2}{\\pi} \\arctan(\\lambda) \\quad \\text{and conversely} \\quad \\lambda = \\tan \\left(\\frac{\\pi}{2}(1-\\beta) \\right) \\, .$$\n",
    "\n",
    "In particular we get the edge cases $\\beta \\rightarrow 0$ coinciding with $\\lambda \\rightarrow \\infty$ resulting in a Delta distribution, and $\\beta \\rightarrow 1$ coinciding with $\\lambda \\rightarrow 0$ resulting in a Uniform distribution."
   ]
  },
  {
   "cell_type": "markdown",
   "id": "738efe19",
   "metadata": {},
   "source": [
    "DISCLAIMER: ALL FURTHER CALCULATIONS ARE DONE FOR $r \\leq 0.5$!!!"
   ]
  },
  {
   "cell_type": "markdown",
   "id": "5a7b392e",
   "metadata": {},
   "source": [
    "## Governing equation relating all 4 model parameters: $\\beta$, $r$, $c$ and $\\rho$"
   ]
  },
  {
   "cell_type": "markdown",
   "id": "801748e7",
   "metadata": {},
   "source": [
    "Given two i.i.d random variables $\\Theta_i,\\Theta_j \\sim \\mathit{Exp}(\\lambda)$, then we can calculate the quantity\n",
    "\n",
    "$$\\rho = \\mathbb{E}[p(\\Theta_i, \\Theta_j)] = c \\cdot \\left(1 - \\frac{\\cosh(\\lambda\\pi) - \\cosh(\\lambda\\pi(1-2r))}{2r\\lambda\\pi \\sinh(\\lambda\\pi)} \\right) \\, ,$$\n",
    "\n",
    "where $p(\\Theta_i, \\Theta_j) = (p \\circ s \\circ d)(\\Theta_i, \\Theta_j)$. <br>\n",
    "This quantity is the expected overall density of the network."
   ]
  },
  {
   "cell_type": "markdown",
   "id": "111e0a0a",
   "metadata": {},
   "source": [
    "### Special cases"
   ]
  },
  {
   "cell_type": "markdown",
   "id": "8144677a",
   "metadata": {},
   "source": [
    "For $\\lambda = 0$ this simplifies to \n",
    "$$\\rho = c \\cdot r$$\n",
    "For $r = 0.5$ this simplifies to \n",
    "$$\\rho = K \\cdot \\left(1 -  \\frac{\\tanh (\\lambda\\pi / 2)}{\\lambda\\pi} \\right)$$"
   ]
  },
  {
   "cell_type": "markdown",
   "id": "14a5806a",
   "metadata": {},
   "source": [
    "### Step-by-Step calculation"
   ]
  },
  {
   "cell_type": "markdown",
   "id": "c2606297",
   "metadata": {},
   "source": [
    "For the random variable $D = d(\\Theta_i, \\Theta_j)$ we get on $[0, \\pi]$\n",
    "$$\n",
    "f_D(x) = \\cosh(\\lambda(\\pi - x)) \\cdot \\frac{\\lambda}{\\sinh(\\lambda\\pi)} \\quad \\text{and} \\quad \n",
    "F_D(x) = \\sinh(\\lambda(\\pi - x)) \\cdot \\frac{1}{\\sinh(\\lambda\\pi)} \\, .$$"
   ]
  }
 ],
 "metadata": {
  "kernelspec": {
   "display_name": "ringity",
   "language": "python",
   "name": "ringity"
  },
  "language_info": {
   "codemirror_mode": {
    "name": "ipython",
    "version": 3
   },
   "file_extension": ".py",
   "mimetype": "text/x-python",
   "name": "python",
   "nbconvert_exporter": "python",
   "pygments_lexer": "ipython3",
   "version": "3.9.5"
  }
 },
 "nbformat": 4,
 "nbformat_minor": 5
}
