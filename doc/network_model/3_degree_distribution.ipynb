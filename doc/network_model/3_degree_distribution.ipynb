{
 "cells": [
  {
   "cell_type": "markdown",
   "id": "313141ec",
   "metadata": {},
   "source": [
    "# Theory"
   ]
  },
  {
   "cell_type": "markdown",
   "id": "472826a5",
   "metadata": {},
   "source": [
    "Fixing a deterministic $\\theta \\in [0, 2\\pi]$ and a random variable $\\Theta \\sim \\mathcal{D}$ we can calculate the conditional density as\n",
    "$$\\rho_{\\theta} = \n",
    "\\mathbb{E}[p(\\theta, \\Theta)] = \n",
    "c \\cdot \\int_{[0, 1]} x f_{S_{\\theta}}(x) dx$$"
   ]
  },
  {
   "cell_type": "markdown",
   "id": "16342f2d",
   "metadata": {},
   "source": [
    "For $r \\leq 0.5$ we can express $f_{S_{\\vartheta}}$ as\n",
    "\n",
    "$$f_{S_{\\vartheta}}(t) = \\frac{2l\\lambda e^{-\\lambda \\theta}}{1 - e^{-2\\pi\\lambda}} \\cdot\n",
    "\\begin{cases}\n",
    "\\cosh\\big(\\lambda l(1-t)\\big) & \\text{, for } t \\geq 1-\\frac{1}{l}\\min \\{ \\theta, 2\\pi - \\theta \\} \\\\\n",
    "\\cosh\\big(\\lambda (\\pi - l(1-t)\\big) \\cdot e^{\\operatorname{sgn}\\big(\\theta - l(1-t)\\big) \\lambda \\pi}  & \\text{, for } t \\leq 1-\\frac{1}{l}\\min \\{\\theta, 2\\pi - \\theta \\} \\; .\n",
    "\\end{cases}\n",
    "$$"
   ]
  },
  {
   "cell_type": "markdown",
   "id": "9c0c295c",
   "metadata": {},
   "source": [
    "For $r \\leq 0.5$ this simplifies to\n",
    "\\begin{align}\n",
    "\\rho_{\\theta} &= c\\cdot l \\cdot \\int_0^1 x f_{D_{\\theta}}\\big(l \\cdot (1-x)\\big) dx \\\\\n",
    "&= c \\cdot \\int_0^l \\left(1-\\frac{x}{l}\\right) f_{D_{\\theta}}(x) dx \\\\\n",
    "&= c \\cdot \\left( F_{D_{\\theta}}(l) -  \\frac{1}{l}\\int_0^l x f_{D_{\\theta}}(x) dx \\right) \\, ,\n",
    "\\end{align}\n",
    "\n",
    "with $f_{D_{\\theta}} = $"
   ]
  },
  {
   "cell_type": "markdown",
   "id": "a599cdba",
   "metadata": {},
   "source": [
    "# Proof of Concept"
   ]
  },
  {
   "cell_type": "code",
   "execution_count": 1,
   "id": "977c7f43",
   "metadata": {},
   "outputs": [],
   "source": [
    "import numpy as np\n",
    "import ringity as rng\n",
    "import networkx as nx"
   ]
  },
  {
   "cell_type": "code",
   "execution_count": 2,
   "id": "761177c0",
   "metadata": {},
   "outputs": [],
   "source": [
    "seed = 1234\n",
    "np.random.seed(seed = seed)\n",
    "\n",
    "N = 2**7\n",
    "\n",
    "beta = np.random.uniform()\n",
    "r = np.random.uniform(0, 0.5)\n",
    "c = np.random.uniform()\n",
    "\n",
    "G, thetas = rng.network_model(N = N, beta = beta, r = r, c = c, return_positions = True, random_state = seed)"
   ]
  },
  {
   "cell_type": "code",
   "execution_count": 3,
   "id": "b81225d9",
   "metadata": {},
   "outputs": [],
   "source": [
    "bb1 = rng.networkmeasures.centralities.current_flow(G)\n",
    "bb2 = nx.edge_current_flow_betweenness_centrality(G)"
   ]
  },
  {
   "cell_type": "code",
   "execution_count": 4,
   "id": "f9cdf0e3",
   "metadata": {},
   "outputs": [
    {
     "name": "stdout",
     "output_type": "stream",
     "text": [
      "True\n"
     ]
    }
   ],
   "source": [
    "truth_values = [np.isclose(value, bb1[(min(edge), max(edge))]) for edge, value in bb2.items()]\n",
    "print(all(truth_values))"
   ]
  },
  {
   "cell_type": "code",
   "execution_count": 5,
   "id": "2f94c079",
   "metadata": {},
   "outputs": [],
   "source": [
    "G1 = nx.erdos_renyi_graph(50, 0.3)\n",
    "G2 = nx.erdos_renyi_graph(2**5, 2**(-2))"
   ]
  },
  {
   "cell_type": "code",
   "execution_count": 6,
   "id": "6ebc626f",
   "metadata": {},
   "outputs": [],
   "source": [
    "bb1 = rng.networkmeasures.centralities.current_flow(G1)\n",
    "bb2 = rng.networkmeasures.centralities.current_flow(G2)"
   ]
  },
  {
   "cell_type": "code",
   "execution_count": 7,
   "id": "7adc327e",
   "metadata": {},
   "outputs": [
    {
     "data": {
      "text/plain": [
       "True"
      ]
     },
     "execution_count": 7,
     "metadata": {},
     "output_type": "execute_result"
    }
   ],
   "source": [
    "all(truth_values)"
   ]
  },
  {
   "cell_type": "markdown",
   "id": "627f5f5e",
   "metadata": {},
   "source": [
    "---"
   ]
  },
  {
   "cell_type": "code",
   "execution_count": 8,
   "id": "b2e379ce",
   "metadata": {},
   "outputs": [],
   "source": [
    "import numpy as np\n",
    "import matplotlib.pyplot as plt\n",
    "\n",
    "from scipy.integrate import quad\n",
    "from ringity.generators.utils import distribution_functions as dfuncs"
   ]
  },
  {
   "cell_type": "code",
   "execution_count": 9,
   "id": "8eb301c1",
   "metadata": {},
   "outputs": [],
   "source": [
    "def pdf_delay(t, rate):\n",
    "    norm = rate / (1 - np.exp(-2*np.pi*rate)) \n",
    "    value = np.exp(-t*rate)\n",
    "    support = 1/4 * (1 + np.sign(t)) * (1 + np.sign(2*np.pi - t))\n",
    "    return norm * value * support\n",
    "\n",
    "def pdf_conditional_absolute_distance(t, rate, theta):\n",
    "    norm = rate / (1 - np.exp(-2*np.pi*rate)) \n",
    "    support = 1/4 * (1 + np.sign(t)) * (1 + np.sign(theta - t))\n",
    "    \n",
    "    value1 = np.exp(-rate*(theta + t))\n",
    "    support1 = 1/2 * (1 + np.sign(2*np.pi - theta - t))\n",
    "    \n",
    "    value2 = np.exp(-rate*(theta - t))\n",
    "    support2 = 1/2 * (1 + np.sign(2*np.pi - theta + t))\n",
    "    \n",
    "    return norm * (value1*support1 + value2*support2) * support"
   ]
  },
  {
   "cell_type": "code",
   "execution_count": 10,
   "id": "9eccff34",
   "metadata": {},
   "outputs": [],
   "source": [
    "rate = np.random.uniform(0, 1)"
   ]
  },
  {
   "cell_type": "code",
   "execution_count": 11,
   "id": "83bfb48f",
   "metadata": {},
   "outputs": [
    {
     "data": {
      "text/plain": [
       "[<matplotlib.lines.Line2D at 0x7ff6025da670>]"
      ]
     },
     "execution_count": 11,
     "metadata": {},
     "output_type": "execute_result"
    },
    {
     "data": {
      "image/png": "[encoded data removed]",
      "text/plain": [
       "<Figure size 640x480 with 1 Axes>"
      ]
     },
     "metadata": {},
     "output_type": "display_data"
    }
   ],
   "source": [
    "t = np.linspace(-8, 8, 2**10)\n",
    "\n",
    "fig, ax = plt.subplots()\n",
    "ax.plot(t, pdf_delay(t, rate = rate), linewidth = 5)\n",
    "ax.plot(t, dfuncs.pdf_delay(t, parameter = rate, parameter_type = 'rate'))"
   ]
  },
  {
   "cell_type": "code",
   "execution_count": 12,
   "id": "fa650b86",
   "metadata": {},
   "outputs": [],
   "source": [
    "theta = np.random.uniform(0, 2*np.pi)"
   ]
  },
  {
   "cell_type": "code",
   "execution_count": 13,
   "id": "757511af",
   "metadata": {},
   "outputs": [
    {
     "data": {
      "text/plain": [
       "[<matplotlib.lines.Line2D at 0x7ff5f0136820>]"
      ]
     },
     "execution_count": 13,
     "metadata": {},
     "output_type": "execute_result"
    },
    {
     "data": {
      "image/png": "[encoded data removed]",
      "text/plain": [
       "<Figure size 640x480 with 1 Axes>"
      ]
     },
     "metadata": {},
     "output_type": "display_data"
    }
   ],
   "source": [
    "t = np.linspace(-8, 8, 2**10)\n",
    "\n",
    "fig, ax = plt.subplots()\n",
    "ax.plot(t, pdf_conditional_absolute_distance(t, rate = rate, theta = theta), linewidth = 5)\n",
    "ax.plot(t, dfuncs.pdf_conditional_absolute_distance(t, theta = theta, parameter = rate, parameter_type = 'rate'))"
   ]
  },
  {
   "cell_type": "code",
   "execution_count": 14,
   "id": "eb640195",
   "metadata": {},
   "outputs": [
    {
     "name": "stdout",
     "output_type": "stream",
     "text": [
      "16.7 µs ± 226 ns per loop (mean ± std. dev. of 7 runs, 100,000 loops each)\n"
     ]
    }
   ],
   "source": [
    "%%timeit\n",
    "\n",
    "pdf_delay(t, rate = rate)"
   ]
  },
  {
   "cell_type": "code",
   "execution_count": 15,
   "id": "e2fc15e4",
   "metadata": {},
   "outputs": [
    {
     "name": "stdout",
     "output_type": "stream",
     "text": [
      "14.5 µs ± 117 ns per loop (mean ± std. dev. of 7 runs, 100,000 loops each)\n"
     ]
    }
   ],
   "source": [
    "%%timeit\n",
    "\n",
    "dfuncs.pdf_delay(t, parameter = rate, parameter_type = 'rate')"
   ]
  },
  {
   "cell_type": "code",
   "execution_count": 16,
   "id": "e58df1fb",
   "metadata": {},
   "outputs": [],
   "source": [
    "def test(t, theta, rate):\n",
    "    normalization = rate / (1-np.exp(-2*np.pi*rate))\n",
    "    values1 = np.exp(-rate/2 * (theta + t + 2*np.pi - abs(theta + t - 2*np.pi)))\n",
    "    values2 = np.exp(-rate/2 * (theta - t + abs(theta - t))) / 2 * (1 + np.sign(t + theta - 2*np.pi))\n",
    "    return normalization * (values1 + values2)"
   ]
  },
  {
   "cell_type": "code",
   "execution_count": 17,
   "id": "4647ffeb",
   "metadata": {
    "scrolled": false
   },
   "outputs": [
    {
     "data": {
      "text/plain": [
       "[<matplotlib.lines.Line2D at 0x7ff602682f70>]"
      ]
     },
     "execution_count": 17,
     "metadata": {},
     "output_type": "execute_result"
    },
    {
     "data": {
      "image/png": "[encoded data removed]",
      "text/plain": [
       "<Figure size 640x480 with 1 Axes>"
      ]
     },
     "metadata": {},
     "output_type": "display_data"
    }
   ],
   "source": [
    "theta = np.random.uniform(0, 2*np.pi)\n",
    "rate = np.random.uniform(0, 10)\n",
    "\n",
    "t = np.linspace(0, 2*np.pi, 2**8)\n",
    "fig, ax = plt.subplots()\n",
    "ax.plot(t, test(t, theta = theta, rate=rate), linewidth = 5)\n",
    "ax.plot(t, dfuncs.pdf_conditional_absolute_distance(t, theta = theta, parameter=rate, parameter_type='rate'))"
   ]
  },
  {
   "cell_type": "code",
   "execution_count": 18,
   "id": "b7c2e8ee",
   "metadata": {},
   "outputs": [
    {
     "data": {
      "text/plain": [
       "2.764642551430967"
      ]
     },
     "execution_count": 18,
     "metadata": {},
     "output_type": "execute_result"
    }
   ],
   "source": [
    "rate"
   ]
  },
  {
   "cell_type": "code",
   "execution_count": 19,
   "id": "8ee6f69d",
   "metadata": {
    "scrolled": true
   },
   "outputs": [
    {
     "data": {
      "text/plain": [
       "1.7127498523576983"
      ]
     },
     "execution_count": 19,
     "metadata": {},
     "output_type": "execute_result"
    }
   ],
   "source": [
    "theta"
   ]
  },
  {
   "cell_type": "code",
   "execution_count": 20,
   "id": "d0d5e3b1",
   "metadata": {},
   "outputs": [],
   "source": [
    "import numpy as np\n",
    "\n",
    "from scipy.integrate import quad\n",
    "from ringity.generators.utils import distribution_functions as dfuncs"
   ]
  },
  {
   "cell_type": "code",
   "execution_count": 21,
   "id": "b787bedb",
   "metadata": {},
   "outputs": [
    {
     "name": "stdout",
     "output_type": "stream",
     "text": [
      "True\n",
      "True\n",
      "True\n",
      "True\n",
      "True\n",
      "True\n",
      "True\n",
      "True\n",
      "True\n",
      "True\n",
      "True\n",
      "True\n",
      "True\n",
      "True\n",
      "True\n",
      "True\n"
     ]
    }
   ],
   "source": [
    "for i in range(2**4):\n",
    "    theta = np.random.uniform(0, 2*np.pi)\n",
    "\n",
    "    rate = np.random.uniform(0, 10)\n",
    "    r = np.random.uniform(0, 0.5)\n",
    "    l = 2*r*np.pi\n",
    "    \n",
    "    F = dfuncs.cdf_conditional_circular_distance(l, \n",
    "                                    theta = theta,\n",
    "                                    parameter = rate, \n",
    "                                    parameter_type = 'rate')\n",
    "\n",
    "    int1 = F - 1/l * quad(lambda x : x * dfuncs.pdf_conditional_circular_distance(x, \n",
    "                                    theta = theta,\n",
    "                                    parameter = rate, \n",
    "                                    parameter_type = 'rate'), 0, l)[0]\n",
    "\n",
    "    int2 = l * quad(lambda x : x * dfuncs.pdf_conditional_circular_distance(l * (1-x), \n",
    "                                    theta = theta,\n",
    "                                    parameter = rate, \n",
    "                                    parameter_type = 'rate'), 0, 1)[0]\n",
    "    \n",
    "    print(np.isclose(int1, int2))"
   ]
  },
  {
   "cell_type": "code",
   "execution_count": 22,
   "id": "7262d62b",
   "metadata": {},
   "outputs": [
    {
     "name": "stdout",
     "output_type": "stream",
     "text": [
      "0.298368944511639\n",
      "0.2983689445116391\n"
     ]
    }
   ],
   "source": [
    "print(int1)\n",
    "print(int2)"
   ]
  },
  {
   "cell_type": "code",
   "execution_count": 23,
   "id": "2be5eff3",
   "metadata": {},
   "outputs": [],
   "source": [
    "import numpy as np\n",
    "import pandas as pd\n",
    "import ringity as rng\n",
    "import networkx as nx\n",
    "import matplotlib.pyplot as plt\n",
    "\n",
    "from collections import Counter\n",
    "from scipy.spatial.distance import squareform"
   ]
  },
  {
   "cell_type": "code",
   "execution_count": 37,
   "id": "7a02a1d4",
   "metadata": {},
   "outputs": [],
   "source": [
    "seed = 1234\n",
    "np.random.seed(seed = seed)\n",
    "\n",
    "N = 2**9\n",
    "\n",
    "beta = np.random.uniform(0.5, 1)\n",
    "r = np.random.uniform(0, 0.5)\n",
    "c = 1\n",
    "\n",
    "G, thetas = rng.network_model(N = N, beta = beta, r = r, c = c, return_positions = True, random_state = seed)"
   ]
  },
  {
   "cell_type": "code",
   "execution_count": 38,
   "id": "36cdac21",
   "metadata": {},
   "outputs": [],
   "source": [
    "rate = rng.networkmodel.param_utils.beta_to_rate(beta)"
   ]
  },
  {
   "cell_type": "code",
   "execution_count": 39,
   "id": "c39abfaa",
   "metadata": {},
   "outputs": [
    {
     "name": "stdout",
     "output_type": "stream",
     "text": [
      "0.4662350171232877\n",
      "0.48690267174307256\n"
     ]
    }
   ],
   "source": [
    "rho = rng.networkmodel.param_utils.get_density(response = r, \n",
    "                                             coupling = c, \n",
    "                                             rate = rate)\n",
    "print(nx.density(G))\n",
    "print(rho)"
   ]
  },
  {
   "cell_type": "code",
   "execution_count": 40,
   "id": "bbde04f6",
   "metadata": {},
   "outputs": [],
   "source": [
    "s = (pd.Series(dict(G.degree)).\n",
    "        rename(dict(enumerate(thetas))).\n",
    "        sort_index()) / (N-1)"
   ]
  },
  {
   "cell_type": "code",
   "execution_count": 41,
   "id": "a62cbb44",
   "metadata": {},
   "outputs": [],
   "source": [
    "def expected_conditional_similarity(theta, rate, a):\n",
    "    if np.isclose(rate, 0, atol=1e-7):\n",
    "        return a\n",
    "    \n",
    "    rprime = 2*np.pi*a\n",
    "    \n",
    "    if theta < np.pi:\n",
    "        if theta <= rprime:\n",
    "            norm = 1 / (1 - np.exp(-2*np.pi*rate)) / (rprime*rate)\n",
    "            \n",
    "            theta_term = -theta*rate * (1 - np.exp(-2*np.pi*rate))\n",
    "            \n",
    "            term1  = 1 - 2*np.exp(-rate*theta)\n",
    "            term21 =  np.exp(-rate*theta)*(np.exp(-rprime*rate) + np.exp((rprime - 2*np.pi)*rate))\n",
    "            term22 = -np.exp(-rprime)\n",
    "            \n",
    "            return norm*(term1 + term21 + term22 + theta_term) + 1\n",
    "        else:\n",
    "            theta_term = np.exp(-rate*theta) / (1 - np.exp(-2*np.pi*rate))\n",
    "            alpha_term = (np.cosh(rate*rprime) - 1) / (rprime*rate)\n",
    "            return 2 * theta_term * alpha_term\n",
    "        \n",
    "    else:\n",
    "        norm = 2*rate*np.exp(-rate*theta) / (1 - np.exp(-2*np.pi*rate))\n",
    "        \n",
    "        def undef_int(t):\n",
    "            return (np.exp(np.pi*rate)*(np.cosh((np.pi - t)*rate) + (-2*a*np.pi + t)*rate*np.sinh((np.pi - t)*rate)))/(2*a*np.pi*rate**2)\n",
    "        \n",
    "        if 2*np.pi - theta <= 2*np.pi*a:\n",
    "            term1 = (-1 + np.cosh((2*np.pi - theta)*rate) + (2*(-1 + a)*np.pi + theta)*rate*np.sinh((2*np.pi - theta)*rate))/(2*a*np.pi*rate**2)\n",
    "            term2 = undef_int(2*np.pi*a) - undef_int(2*np.pi - theta)\n",
    "            return norm*term1 + norm*term2\n",
    "        else:\n",
    "            return norm*(np.sinh(a*np.pi*rate)**2)/(a*np.pi*rate**2)"
   ]
  },
  {
   "cell_type": "code",
   "execution_count": 42,
   "id": "480d7485",
   "metadata": {},
   "outputs": [
    {
     "data": {
      "text/plain": [
       "[<matplotlib.lines.Line2D at 0x7ff633df2fa0>]"
      ]
     },
     "execution_count": 42,
     "metadata": {},
     "output_type": "execute_result"
    },
    {
     "data": {
      "image/png": "[encoded data removed]",
      "text/plain": [
       "<Figure size 640x480 with 1 Axes>"
      ]
     },
     "metadata": {},
     "output_type": "display_data"
    }
   ],
   "source": [
    "x = np.linspace(0, 2*np.pi, 50)\n",
    "simis = [c*expected_conditional_similarity(theta=theta, rate=rate, a=r)\n",
    "                    for theta in x]\n",
    "\n",
    "plt.plot(x, simis, linewidth = 5, c = 'red')\n",
    "plt.plot(s.index, s.values, '*', c = 'blue', markersize = 2)"
   ]
  },
  {
   "cell_type": "code",
   "execution_count": 26,
   "id": "b8398e71",
   "metadata": {},
   "outputs": [],
   "source": [
    "def conditional_similarity(t, theta, rate, r):\n",
    "    l = 2*r*np.pi\n",
    "    \n",
    "    normalization = 2*l*rate*np.exp(-rate*theta) / (1 - np.exp(-2*np.pi*rate))\n",
    "    \n",
    "    condition = (t >= 1 - min(theta, 2*np.pi-theta) / l)\n",
    "    \n",
    "    value = np.where(condition, \n",
    "                    np.cosh(rate*l*(1-t)),\n",
    "                    np.cosh(rate*(np.pi - l*(1-t))) * np.exp(np.sign(theta-l*(1-t))* rate*np.pi))\n",
    "    \n",
    "    return value * normalization"
   ]
  },
  {
   "cell_type": "code",
   "execution_count": 36,
   "id": "abe730bc",
   "metadata": {},
   "outputs": [
    {
     "data": {
      "text/plain": [
       "0.4975632796644498"
      ]
     },
     "execution_count": 36,
     "metadata": {},
     "output_type": "execute_result"
    }
   ],
   "source": [
    "x = np.linspace(0, 2*np.pi, 50)\n",
    "quad(lambda t : c*t*conditional_similarity(t, theta=x[10], rate=rate, r=r), 0, 1)[0]"
   ]
  },
  {
   "cell_type": "code",
   "execution_count": 34,
   "id": "263ee40f",
   "metadata": {},
   "outputs": [
    {
     "data": {
      "text/plain": [
       "0.4750773054119808"
      ]
     },
     "execution_count": 34,
     "metadata": {},
     "output_type": "execute_result"
    }
   ],
   "source": [
    "c*expected_conditional_similarity(theta=x[10], rate=rate, a=r)"
   ]
  },
  {
   "cell_type": "code",
   "execution_count": 30,
   "id": "10a99424",
   "metadata": {},
   "outputs": [
    {
     "data": {
      "text/plain": [
       "[<matplotlib.lines.Line2D at 0x7fdf82984fa0>,\n",
       " <matplotlib.lines.Line2D at 0x7fdf829df0d0>,\n",
       " <matplotlib.lines.Line2D at 0x7fdf829df1c0>,\n",
       " <matplotlib.lines.Line2D at 0x7fdf829df2b0>,\n",
       " <matplotlib.lines.Line2D at 0x7fdf829df3a0>,\n",
       " <matplotlib.lines.Line2D at 0x7fdf829df490>,\n",
       " <matplotlib.lines.Line2D at 0x7fdf829df580>,\n",
       " <matplotlib.lines.Line2D at 0x7fdf829df670>,\n",
       " <matplotlib.lines.Line2D at 0x7fdf829df760>,\n",
       " <matplotlib.lines.Line2D at 0x7fdf829df850>,\n",
       " <matplotlib.lines.Line2D at 0x7fdf829df940>,\n",
       " <matplotlib.lines.Line2D at 0x7fdf829dfa30>,\n",
       " <matplotlib.lines.Line2D at 0x7fdf829dfb20>,\n",
       " <matplotlib.lines.Line2D at 0x7fdf829dfc10>,\n",
       " <matplotlib.lines.Line2D at 0x7fdf829dfd00>,\n",
       " <matplotlib.lines.Line2D at 0x7fdf829dfdf0>,\n",
       " <matplotlib.lines.Line2D at 0x7fdf829dfee0>,\n",
       " <matplotlib.lines.Line2D at 0x7fdf829dffd0>,\n",
       " <matplotlib.lines.Line2D at 0x7fdf829e7100>,\n",
       " <matplotlib.lines.Line2D at 0x7fdf829e71f0>,\n",
       " <matplotlib.lines.Line2D at 0x7fdf829e72e0>,\n",
       " <matplotlib.lines.Line2D at 0x7fdf829e73d0>,\n",
       " <matplotlib.lines.Line2D at 0x7fdf829e74c0>,\n",
       " <matplotlib.lines.Line2D at 0x7fdf829e75b0>,\n",
       " <matplotlib.lines.Line2D at 0x7fdf829e76a0>,\n",
       " <matplotlib.lines.Line2D at 0x7fdf829e7790>,\n",
       " <matplotlib.lines.Line2D at 0x7fdf829e7880>,\n",
       " <matplotlib.lines.Line2D at 0x7fdf829e7970>,\n",
       " <matplotlib.lines.Line2D at 0x7fdf829e7a60>,\n",
       " <matplotlib.lines.Line2D at 0x7fdf829e7b50>,\n",
       " <matplotlib.lines.Line2D at 0x7fdf829e7c40>,\n",
       " <matplotlib.lines.Line2D at 0x7fdf829e7d30>,\n",
       " <matplotlib.lines.Line2D at 0x7fdf829e7e20>,\n",
       " <matplotlib.lines.Line2D at 0x7fdf829e7f10>,\n",
       " <matplotlib.lines.Line2D at 0x7fdf829ed040>,\n",
       " <matplotlib.lines.Line2D at 0x7fdf829ed130>,\n",
       " <matplotlib.lines.Line2D at 0x7fdf829ed220>,\n",
       " <matplotlib.lines.Line2D at 0x7fdf829ed310>,\n",
       " <matplotlib.lines.Line2D at 0x7fdf829ed400>,\n",
       " <matplotlib.lines.Line2D at 0x7fdf829ed4f0>,\n",
       " <matplotlib.lines.Line2D at 0x7fdf829ed5e0>,\n",
       " <matplotlib.lines.Line2D at 0x7fdf829ed6d0>,\n",
       " <matplotlib.lines.Line2D at 0x7fdf829ed7c0>,\n",
       " <matplotlib.lines.Line2D at 0x7fdf829ed8b0>,\n",
       " <matplotlib.lines.Line2D at 0x7fdf829ed9a0>,\n",
       " <matplotlib.lines.Line2D at 0x7fdf829eda90>,\n",
       " <matplotlib.lines.Line2D at 0x7fdf829edb80>,\n",
       " <matplotlib.lines.Line2D at 0x7fdf829edc70>,\n",
       " <matplotlib.lines.Line2D at 0x7fdf829edd60>,\n",
       " <matplotlib.lines.Line2D at 0x7fdf829ede50>,\n",
       " <matplotlib.lines.Line2D at 0x7fdf829edf40>,\n",
       " <matplotlib.lines.Line2D at 0x7fdf829f5070>,\n",
       " <matplotlib.lines.Line2D at 0x7fdf829f5160>,\n",
       " <matplotlib.lines.Line2D at 0x7fdf829f5250>,\n",
       " <matplotlib.lines.Line2D at 0x7fdf829f5340>,\n",
       " <matplotlib.lines.Line2D at 0x7fdf829f5430>,\n",
       " <matplotlib.lines.Line2D at 0x7fdf829f5520>,\n",
       " <matplotlib.lines.Line2D at 0x7fdf829f5610>,\n",
       " <matplotlib.lines.Line2D at 0x7fdf829f5700>,\n",
       " <matplotlib.lines.Line2D at 0x7fdf829f57f0>,\n",
       " <matplotlib.lines.Line2D at 0x7fdf829f58e0>,\n",
       " <matplotlib.lines.Line2D at 0x7fdf829f59d0>,\n",
       " <matplotlib.lines.Line2D at 0x7fdf829f5ac0>,\n",
       " <matplotlib.lines.Line2D at 0x7fdf829f5bb0>,\n",
       " <matplotlib.lines.Line2D at 0x7fdf829f5ca0>,\n",
       " <matplotlib.lines.Line2D at 0x7fdf829f5d90>,\n",
       " <matplotlib.lines.Line2D at 0x7fdf829f5e80>,\n",
       " <matplotlib.lines.Line2D at 0x7fdf829f5f70>,\n",
       " <matplotlib.lines.Line2D at 0x7fdf829fd0a0>,\n",
       " <matplotlib.lines.Line2D at 0x7fdf829fd190>,\n",
       " <matplotlib.lines.Line2D at 0x7fdf829fd280>,\n",
       " <matplotlib.lines.Line2D at 0x7fdf829fd370>,\n",
       " <matplotlib.lines.Line2D at 0x7fdf829fd460>,\n",
       " <matplotlib.lines.Line2D at 0x7fdf829fd550>,\n",
       " <matplotlib.lines.Line2D at 0x7fdf829fd640>,\n",
       " <matplotlib.lines.Line2D at 0x7fdf829fd730>,\n",
       " <matplotlib.lines.Line2D at 0x7fdf829fd820>,\n",
       " <matplotlib.lines.Line2D at 0x7fdf829fd910>,\n",
       " <matplotlib.lines.Line2D at 0x7fdf829fda00>,\n",
       " <matplotlib.lines.Line2D at 0x7fdf829fdaf0>,\n",
       " <matplotlib.lines.Line2D at 0x7fdf829fdbe0>,\n",
       " <matplotlib.lines.Line2D at 0x7fdf829fdcd0>,\n",
       " <matplotlib.lines.Line2D at 0x7fdf829fddc0>,\n",
       " <matplotlib.lines.Line2D at 0x7fdf829fdeb0>,\n",
       " <matplotlib.lines.Line2D at 0x7fdf829fdfa0>,\n",
       " <matplotlib.lines.Line2D at 0x7fdf82a040d0>,\n",
       " <matplotlib.lines.Line2D at 0x7fdf82a041c0>,\n",
       " <matplotlib.lines.Line2D at 0x7fdf82a042b0>,\n",
       " <matplotlib.lines.Line2D at 0x7fdf82a043a0>,\n",
       " <matplotlib.lines.Line2D at 0x7fdf82a04490>,\n",
       " <matplotlib.lines.Line2D at 0x7fdf82a04580>,\n",
       " <matplotlib.lines.Line2D at 0x7fdf82a04670>,\n",
       " <matplotlib.lines.Line2D at 0x7fdf82a04760>,\n",
       " <matplotlib.lines.Line2D at 0x7fdf82a04850>,\n",
       " <matplotlib.lines.Line2D at 0x7fdf82a04940>,\n",
       " <matplotlib.lines.Line2D at 0x7fdf82a04a30>,\n",
       " <matplotlib.lines.Line2D at 0x7fdf82a04b20>,\n",
       " <matplotlib.lines.Line2D at 0x7fdf82a04c10>,\n",
       " <matplotlib.lines.Line2D at 0x7fdf82a04d00>,\n",
       " <matplotlib.lines.Line2D at 0x7fdf82a04df0>,\n",
       " <matplotlib.lines.Line2D at 0x7fdf82a04ee0>,\n",
       " <matplotlib.lines.Line2D at 0x7fdf82a04fd0>,\n",
       " <matplotlib.lines.Line2D at 0x7fdf82a0c100>,\n",
       " <matplotlib.lines.Line2D at 0x7fdf82a0c1f0>,\n",
       " <matplotlib.lines.Line2D at 0x7fdf82a0c2e0>,\n",
       " <matplotlib.lines.Line2D at 0x7fdf82a0c3d0>,\n",
       " <matplotlib.lines.Line2D at 0x7fdf82a0c4c0>,\n",
       " <matplotlib.lines.Line2D at 0x7fdf82a0c5b0>,\n",
       " <matplotlib.lines.Line2D at 0x7fdf82a0c6a0>,\n",
       " <matplotlib.lines.Line2D at 0x7fdf82a0c790>,\n",
       " <matplotlib.lines.Line2D at 0x7fdf82a0c880>,\n",
       " <matplotlib.lines.Line2D at 0x7fdf82a0c970>,\n",
       " <matplotlib.lines.Line2D at 0x7fdf82a0ca60>,\n",
       " <matplotlib.lines.Line2D at 0x7fdf82a0cb50>,\n",
       " <matplotlib.lines.Line2D at 0x7fdf82a0cc40>,\n",
       " <matplotlib.lines.Line2D at 0x7fdf82a0cd30>,\n",
       " <matplotlib.lines.Line2D at 0x7fdf82a0ce20>,\n",
       " <matplotlib.lines.Line2D at 0x7fdf82a0cf10>,\n",
       " <matplotlib.lines.Line2D at 0x7fdf82a14040>,\n",
       " <matplotlib.lines.Line2D at 0x7fdf82a14130>,\n",
       " <matplotlib.lines.Line2D at 0x7fdf82a14220>,\n",
       " <matplotlib.lines.Line2D at 0x7fdf82a14310>,\n",
       " <matplotlib.lines.Line2D at 0x7fdf82a14400>,\n",
       " <matplotlib.lines.Line2D at 0x7fdf82a144f0>,\n",
       " <matplotlib.lines.Line2D at 0x7fdf82a145e0>,\n",
       " <matplotlib.lines.Line2D at 0x7fdf82a146d0>,\n",
       " <matplotlib.lines.Line2D at 0x7fdf82a147c0>,\n",
       " <matplotlib.lines.Line2D at 0x7fdf82a148b0>,\n",
       " <matplotlib.lines.Line2D at 0x7fdf82a149a0>,\n",
       " <matplotlib.lines.Line2D at 0x7fdf82a14a90>,\n",
       " <matplotlib.lines.Line2D at 0x7fdf82a14b80>,\n",
       " <matplotlib.lines.Line2D at 0x7fdf82a14c70>,\n",
       " <matplotlib.lines.Line2D at 0x7fdf82a14d60>,\n",
       " <matplotlib.lines.Line2D at 0x7fdf82a14e50>,\n",
       " <matplotlib.lines.Line2D at 0x7fdf82a14f40>,\n",
       " <matplotlib.lines.Line2D at 0x7fdf82a1a070>,\n",
       " <matplotlib.lines.Line2D at 0x7fdf82a1a160>,\n",
       " <matplotlib.lines.Line2D at 0x7fdf82a1a250>,\n",
       " <matplotlib.lines.Line2D at 0x7fdf82a1a340>,\n",
       " <matplotlib.lines.Line2D at 0x7fdf82a1a430>,\n",
       " <matplotlib.lines.Line2D at 0x7fdf82a1a520>,\n",
       " <matplotlib.lines.Line2D at 0x7fdf82a1a610>,\n",
       " <matplotlib.lines.Line2D at 0x7fdf82a1a700>,\n",
       " <matplotlib.lines.Line2D at 0x7fdf82a1a7f0>,\n",
       " <matplotlib.lines.Line2D at 0x7fdf82a1a8e0>,\n",
       " <matplotlib.lines.Line2D at 0x7fdf82a1a9d0>,\n",
       " <matplotlib.lines.Line2D at 0x7fdf82a1aac0>,\n",
       " <matplotlib.lines.Line2D at 0x7fdf82a1abb0>,\n",
       " <matplotlib.lines.Line2D at 0x7fdf82a1aca0>,\n",
       " <matplotlib.lines.Line2D at 0x7fdf82a1ad90>,\n",
       " <matplotlib.lines.Line2D at 0x7fdf82a1ae80>,\n",
       " <matplotlib.lines.Line2D at 0x7fdf82a1af70>,\n",
       " <matplotlib.lines.Line2D at 0x7fdf82a210a0>,\n",
       " <matplotlib.lines.Line2D at 0x7fdf82a21190>,\n",
       " <matplotlib.lines.Line2D at 0x7fdf82a21280>,\n",
       " <matplotlib.lines.Line2D at 0x7fdf82a21370>,\n",
       " <matplotlib.lines.Line2D at 0x7fdf82a21460>,\n",
       " <matplotlib.lines.Line2D at 0x7fdf82a21550>,\n",
       " <matplotlib.lines.Line2D at 0x7fdf82a21640>,\n",
       " <matplotlib.lines.Line2D at 0x7fdf82a21730>,\n",
       " <matplotlib.lines.Line2D at 0x7fdf82a21820>,\n",
       " <matplotlib.lines.Line2D at 0x7fdf82a21910>,\n",
       " <matplotlib.lines.Line2D at 0x7fdf82a21a00>,\n",
       " <matplotlib.lines.Line2D at 0x7fdf82a21af0>,\n",
       " <matplotlib.lines.Line2D at 0x7fdf82a21be0>,\n",
       " <matplotlib.lines.Line2D at 0x7fdf82a21cd0>,\n",
       " <matplotlib.lines.Line2D at 0x7fdf82a21dc0>,\n",
       " <matplotlib.lines.Line2D at 0x7fdf82a21eb0>,\n",
       " <matplotlib.lines.Line2D at 0x7fdf82a21fa0>,\n",
       " <matplotlib.lines.Line2D at 0x7fdf82a2a0d0>,\n",
       " <matplotlib.lines.Line2D at 0x7fdf82a2a1c0>,\n",
       " <matplotlib.lines.Line2D at 0x7fdf82a2a2b0>,\n",
       " <matplotlib.lines.Line2D at 0x7fdf82a2a3a0>,\n",
       " <matplotlib.lines.Line2D at 0x7fdf82a2a490>,\n",
       " <matplotlib.lines.Line2D at 0x7fdf82a2a580>,\n",
       " <matplotlib.lines.Line2D at 0x7fdf82a2a670>,\n",
       " <matplotlib.lines.Line2D at 0x7fdf82a2a760>,\n",
       " <matplotlib.lines.Line2D at 0x7fdf82a2a850>,\n",
       " <matplotlib.lines.Line2D at 0x7fdf82a2a940>,\n",
       " <matplotlib.lines.Line2D at 0x7fdf82a2aa30>,\n",
       " <matplotlib.lines.Line2D at 0x7fdf82a2ab20>,\n",
       " <matplotlib.lines.Line2D at 0x7fdf82a2ac10>,\n",
       " <matplotlib.lines.Line2D at 0x7fdf82a2ad00>,\n",
       " <matplotlib.lines.Line2D at 0x7fdf82a2adf0>,\n",
       " <matplotlib.lines.Line2D at 0x7fdf82a2aee0>,\n",
       " <matplotlib.lines.Line2D at 0x7fdf82a2afd0>,\n",
       " <matplotlib.lines.Line2D at 0x7fdf82a32100>,\n",
       " <matplotlib.lines.Line2D at 0x7fdf82a321f0>,\n",
       " <matplotlib.lines.Line2D at 0x7fdf82a322e0>,\n",
       " <matplotlib.lines.Line2D at 0x7fdf82a323d0>,\n",
       " <matplotlib.lines.Line2D at 0x7fdf82a324c0>,\n",
       " <matplotlib.lines.Line2D at 0x7fdf82a325b0>,\n",
       " <matplotlib.lines.Line2D at 0x7fdf82a326a0>,\n",
       " <matplotlib.lines.Line2D at 0x7fdf82a32790>,\n",
       " <matplotlib.lines.Line2D at 0x7fdf82a32880>,\n",
       " <matplotlib.lines.Line2D at 0x7fdf82a32970>,\n",
       " <matplotlib.lines.Line2D at 0x7fdf82a32a60>,\n",
       " <matplotlib.lines.Line2D at 0x7fdf82a32b50>,\n",
       " <matplotlib.lines.Line2D at 0x7fdf82a32c40>,\n",
       " <matplotlib.lines.Line2D at 0x7fdf82a32d30>,\n",
       " <matplotlib.lines.Line2D at 0x7fdf82a32e20>,\n",
       " <matplotlib.lines.Line2D at 0x7fdf82a32f10>,\n",
       " <matplotlib.lines.Line2D at 0x7fdf82a38040>,\n",
       " <matplotlib.lines.Line2D at 0x7fdf82a38130>,\n",
       " <matplotlib.lines.Line2D at 0x7fdf82a38220>,\n",
       " <matplotlib.lines.Line2D at 0x7fdf82a38310>,\n",
       " <matplotlib.lines.Line2D at 0x7fdf82a38400>,\n",
       " <matplotlib.lines.Line2D at 0x7fdf82a384f0>,\n",
       " <matplotlib.lines.Line2D at 0x7fdf82a385e0>,\n",
       " <matplotlib.lines.Line2D at 0x7fdf82a386d0>,\n",
       " <matplotlib.lines.Line2D at 0x7fdf82a387c0>,\n",
       " <matplotlib.lines.Line2D at 0x7fdf82a388b0>,\n",
       " <matplotlib.lines.Line2D at 0x7fdf82a389a0>,\n",
       " <matplotlib.lines.Line2D at 0x7fdf82a38a90>,\n",
       " <matplotlib.lines.Line2D at 0x7fdf82a38b80>,\n",
       " <matplotlib.lines.Line2D at 0x7fdf82a38c70>,\n",
       " <matplotlib.lines.Line2D at 0x7fdf82a38d60>,\n",
       " <matplotlib.lines.Line2D at 0x7fdf82a38e50>,\n",
       " <matplotlib.lines.Line2D at 0x7fdf82a38f40>,\n",
       " <matplotlib.lines.Line2D at 0x7fdf82a40070>,\n",
       " <matplotlib.lines.Line2D at 0x7fdf82a40160>,\n",
       " <matplotlib.lines.Line2D at 0x7fdf82a40250>,\n",
       " <matplotlib.lines.Line2D at 0x7fdf82a40340>,\n",
       " <matplotlib.lines.Line2D at 0x7fdf82a40430>,\n",
       " <matplotlib.lines.Line2D at 0x7fdf82840cd0>,\n",
       " <matplotlib.lines.Line2D at 0x7fdf82840af0>,\n",
       " <matplotlib.lines.Line2D at 0x7fdf8281f670>,\n",
       " <matplotlib.lines.Line2D at 0x7fdf8281f490>,\n",
       " <matplotlib.lines.Line2D at 0x7fdf82a404f0>,\n",
       " <matplotlib.lines.Line2D at 0x7fdf82a405e0>,\n",
       " <matplotlib.lines.Line2D at 0x7fdf82a406d0>,\n",
       " <matplotlib.lines.Line2D at 0x7fdf82a407c0>,\n",
       " <matplotlib.lines.Line2D at 0x7fdf82a408b0>,\n",
       " <matplotlib.lines.Line2D at 0x7fdf82a409a0>,\n",
       " <matplotlib.lines.Line2D at 0x7fdf82a40a90>,\n",
       " <matplotlib.lines.Line2D at 0x7fdf82a40b80>,\n",
       " <matplotlib.lines.Line2D at 0x7fdf82a40c70>,\n",
       " <matplotlib.lines.Line2D at 0x7fdf82a40d60>,\n",
       " <matplotlib.lines.Line2D at 0x7fdf82a40e50>,\n",
       " <matplotlib.lines.Line2D at 0x7fdf82a40f40>,\n",
       " <matplotlib.lines.Line2D at 0x7fdf82a49070>,\n",
       " <matplotlib.lines.Line2D at 0x7fdf82a49190>,\n",
       " <matplotlib.lines.Line2D at 0x7fdf82a49280>,\n",
       " <matplotlib.lines.Line2D at 0x7fdf82a49370>,\n",
       " <matplotlib.lines.Line2D at 0x7fdf82a49460>,\n",
       " <matplotlib.lines.Line2D at 0x7fdf82a49550>,\n",
       " <matplotlib.lines.Line2D at 0x7fdf82a49640>,\n",
       " <matplotlib.lines.Line2D at 0x7fdf82a49730>,\n",
       " <matplotlib.lines.Line2D at 0x7fdf82a49820>,\n",
       " <matplotlib.lines.Line2D at 0x7fdf82a49910>,\n",
       " <matplotlib.lines.Line2D at 0x7fdf82a49a00>,\n",
       " <matplotlib.lines.Line2D at 0x7fdf82a49af0>,\n",
       " <matplotlib.lines.Line2D at 0x7fdf82a49be0>,\n",
       " <matplotlib.lines.Line2D at 0x7fdf82a49cd0>,\n",
       " <matplotlib.lines.Line2D at 0x7fdf82a49dc0>,\n",
       " <matplotlib.lines.Line2D at 0x7fdf82a49eb0>]"
      ]
     },
     "execution_count": 30,
     "metadata": {},
     "output_type": "execute_result"
    },
    {
     "data": {
      "image/png": "[encoded data removed]",
      "text/plain": [
       "<Figure size 432x288 with 1 Axes>"
      ]
     },
     "metadata": {
      "needs_background": "light"
     },
     "output_type": "display_data"
    }
   ],
   "source": [
    "x = np.linspace(0, 2*np.pi, 50)\n",
    "simis = [c*conditional_similarity(theta=theta, rate=rate, r=r)\n",
    "                    for theta in x]\n",
    "\n",
    "plt.plot(x, simis, linewidth = 5, c = 'red')"
   ]
  },
  {
   "cell_type": "code",
   "execution_count": 11,
   "id": "6e2ea556",
   "metadata": {},
   "outputs": [
    {
     "data": {
      "text/plain": [
       "(272.1180293226087, 272.1180293226087)"
      ]
     },
     "execution_count": 11,
     "metadata": {},
     "output_type": "execute_result"
    }
   ],
   "source": [
    "np.cosh(-rate*2*np.pi*r), np.cosh(rate*2*np.pi*r)"
   ]
  },
  {
   "cell_type": "code",
   "execution_count": 12,
   "id": "288f45cc",
   "metadata": {},
   "outputs": [
    {
     "data": {
      "text/plain": [
       "(1.018395976871026, 1.018395976871026)"
      ]
     },
     "execution_count": 12,
     "metadata": {},
     "output_type": "execute_result"
    }
   ],
   "source": [
    "np.cosh(beta), np.cosh(-beta)"
   ]
  },
  {
   "cell_type": "code",
   "execution_count": 67,
   "id": "0d1ac307",
   "metadata": {},
   "outputs": [],
   "source": [
    "def similarity_from_absdist(abs_dist, l):\n",
    "    dist = np.where(abs_dist < np.pi, abs_dist, 2*np.pi - abs_dist)\n",
    "    s = (l - dist) / l\n",
    "    return np.clip(s, 0, 1)\n",
    "\n",
    "def similarity_from_absdist2(abs_dist, l):\n",
    "    dist = np.pi - abs(abs_dist - np.pi)\n",
    "    s = (l - dist) / l\n",
    "    return s"
   ]
  },
  {
   "cell_type": "code",
   "execution_count": 68,
   "id": "124aa32a",
   "metadata": {},
   "outputs": [
    {
     "data": {
      "image/png": "[encoded data removed]",
      "text/plain": [
       "<Figure size 432x288 with 1 Axes>"
      ]
     },
     "metadata": {
      "needs_background": "light"
     },
     "output_type": "display_data"
    },
    {
     "data": {
      "image/png": "[encoded data removed]",
      "text/plain": [
       "<Figure size 432x288 with 1 Axes>"
      ]
     },
     "metadata": {
      "needs_background": "light"
     },
     "output_type": "display_data"
    }
   ],
   "source": [
    "l_list = 2*np.pi * np.linspace(0.1, 0.6, 5)\n",
    "\n",
    "x = np.linspace(0, 2*np.pi, 2**8)\n",
    "\n",
    "fig, ax = plt.subplots()\n",
    "for l in l_list:\n",
    "    y = similarity_from_absdist(x, l)\n",
    "    ax.plot(x, y, linewidth = 2.5)\n",
    "    \n",
    "fig, ax = plt.subplots()\n",
    "for l in l_list:\n",
    "    y = similarity_from_absdist2(x, l)\n",
    "    ax.plot(x, y, linewidth = 2.5)"
   ]
  },
  {
   "cell_type": "code",
   "execution_count": 21,
   "id": "10e6038f",
   "metadata": {},
   "outputs": [
    {
     "data": {
      "text/plain": [
       "[<matplotlib.lines.Line2D at 0x7fd3ef477ee0>]"
      ]
     },
     "execution_count": 21,
     "metadata": {},
     "output_type": "execute_result"
    },
    {
     "data": {
      "image/png": "[encoded data removed]",
      "text/plain": [
       "<Figure size 432x288 with 1 Axes>"
      ]
     },
     "metadata": {
      "needs_background": "light"
     },
     "output_type": "display_data"
    }
   ],
   "source": [
    "def similarity_from_absdist(abs_dist, l):\n",
    "    dist = np.where(abs_dist < np.pi, abs_dist, 2*np.pi - abs_dist)\n",
    "    s = (l - dist) / l\n",
    "    return np.clip(s, 0, 1)"
   ]
  },
  {
   "cell_type": "code",
   "execution_count": 56,
   "id": "5529625e",
   "metadata": {},
   "outputs": [
    {
     "ename": "ValueError",
     "evalue": "The truth value of an array with more than one element is ambiguous. Use a.any() or a.all()",
     "output_type": "error",
     "traceback": [
      "\u001b[0;31m---------------------------------------------------------------------------\u001b[0m",
      "\u001b[0;31mValueError\u001b[0m                                Traceback (most recent call last)",
      "\u001b[0;32m/var/folders/hr/pw6v38ln34d_87nsgcx3qjz80000gn/T/ipykernel_8617/315645170.py\u001b[0m in \u001b[0;36m<module>\u001b[0;34m\u001b[0m\n\u001b[1;32m      1\u001b[0m \u001b[0mx\u001b[0m \u001b[0;34m=\u001b[0m \u001b[0mnp\u001b[0m\u001b[0;34m.\u001b[0m\u001b[0mlinspace\u001b[0m\u001b[0;34m(\u001b[0m\u001b[0;34m-\u001b[0m\u001b[0;36m3\u001b[0m\u001b[0;34m,\u001b[0m \u001b[0;36m3\u001b[0m\u001b[0;34m,\u001b[0m \u001b[0;36m100\u001b[0m\u001b[0;34m)\u001b[0m\u001b[0;34m\u001b[0m\u001b[0;34m\u001b[0m\u001b[0m\n\u001b[1;32m      2\u001b[0m \u001b[0;34m\u001b[0m\u001b[0m\n\u001b[0;32m----> 3\u001b[0;31m \u001b[0my\u001b[0m \u001b[0;34m=\u001b[0m \u001b[0mmax\u001b[0m\u001b[0;34m(\u001b[0m\u001b[0mnp\u001b[0m\u001b[0;34m.\u001b[0m\u001b[0mabs\u001b[0m\u001b[0;34m(\u001b[0m\u001b[0mx\u001b[0m\u001b[0;34m)\u001b[0m \u001b[0;34m-\u001b[0m \u001b[0;36m0.5\u001b[0m\u001b[0;34m*\u001b[0m\u001b[0mabs\u001b[0m\u001b[0;34m(\u001b[0m\u001b[0mx\u001b[0m\u001b[0;34m)\u001b[0m\u001b[0;34m,\u001b[0m \u001b[0;36m0\u001b[0m\u001b[0;34m)\u001b[0m\u001b[0;34m\u001b[0m\u001b[0;34m\u001b[0m\u001b[0m\n\u001b[0m\u001b[1;32m      4\u001b[0m \u001b[0;34m\u001b[0m\u001b[0m\n\u001b[1;32m      5\u001b[0m \u001b[0mplt\u001b[0m\u001b[0;34m.\u001b[0m\u001b[0mplot\u001b[0m\u001b[0;34m(\u001b[0m\u001b[0mx\u001b[0m\u001b[0;34m,\u001b[0m \u001b[0my\u001b[0m\u001b[0;34m)\u001b[0m\u001b[0;34m\u001b[0m\u001b[0;34m\u001b[0m\u001b[0m\n",
      "\u001b[0;31mValueError\u001b[0m: The truth value of an array with more than one element is ambiguous. Use a.any() or a.all()"
     ]
    }
   ],
   "source": [
    "x = np.linspace(-3, 3, 100)\n",
    "\n",
    "y = np.where(np.abs(x) - 0.5*abs(x) > 0, 0)\n",
    "\n",
    "plt.plot(x, y)"
   ]
  },
  {
   "cell_type": "code",
   "execution_count": null,
   "id": "c59d69d2",
   "metadata": {},
   "outputs": [],
   "source": []
  }
 ],
 "metadata": {
  "kernelspec": {
   "display_name": "ringity",
   "language": "python",
   "name": "ringity"
  },
  "language_info": {
   "codemirror_mode": {
    "name": "ipython",
    "version": 3
   },
   "file_extension": ".py",
   "mimetype": "text/x-python",
   "name": "python",
   "nbconvert_exporter": "python",
   "pygments_lexer": "ipython3",
   "version": "3.9.5"
  }
 },
 "nbformat": 4,
 "nbformat_minor": 5
}
