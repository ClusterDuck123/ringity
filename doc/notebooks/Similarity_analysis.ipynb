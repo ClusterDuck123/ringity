{
 "cells": [
  {
   "cell_type": "code",
   "execution_count": 1,
   "metadata": {},
   "outputs": [],
   "source": [
    "from scipy.spatial.distance import pdist, squareform\n",
    "from skimage.metrics import mean_squared_error as mse\n",
    "from itertools import product as iter_product\n",
    "from itertools import combinations\n",
    "from numpy import pi, cos, sin, tan\n",
    "from collections import Counter\n",
    "from zipfile import ZipFile\n",
    "\n",
    "import os\n",
    "import requests\n",
    "import numpy as np\n",
    "import pandas as pd\n",
    "import networkx as nx\n",
    "import ringity as rng"
   ]
  },
  {
   "cell_type": "markdown",
   "metadata": {},
   "source": [
    "# Real networks"
   ]
  },
  {
   "cell_type": "markdown",
   "metadata": {},
   "source": [
    "## Lipid co-regulation network"
   ]
  },
  {
   "cell_type": "markdown",
   "metadata": {},
   "source": [
    "### Download"
   ]
  },
  {
   "cell_type": "code",
   "execution_count": 2,
   "metadata": {},
   "outputs": [],
   "source": [
    "LIPID_FOLDER = os.getcwd() + \"/data/lipid_network\"\n",
    "LIPID_URL    = \"https://ars.els-cdn.com/content/image/1-s2.0-S0092867415006418-mmc3.xlsx\"\n",
    "LIPID_EXCEL_FILE = LIPID_FOLDER + \"/1-s2.0-S0092867415006418-mmc3.xlsx\"\n",
    "LIPID_CORR_FILE = LIPID_FOLDER + \"/lipid_corr.txt\"\n",
    "\n",
    "\n",
    "if not os.path.exists(LIPID_FOLDER):\n",
    "    os.makedirs(LIPID_FOLDER)\n",
    "\n",
    "r = requests.get(LIPID_URL, allow_redirects=True)\n",
    "with open(LIPID_EXCEL_FILE, 'wb') as f:\n",
    "    f.write(r.content)"
   ]
  },
  {
   "cell_type": "markdown",
   "metadata": {},
   "source": [
    "### Analysis"
   ]
  },
  {
   "cell_type": "code",
   "execution_count": 12,
   "metadata": {},
   "outputs": [],
   "source": [
    "skiprows = [168]           # No data for C20 Sphingomyelin available\n",
    "\n",
    "genes = ['sh:Sptlc2', 'sh:CerS2', 'sh:CerS6' , \n",
    "         'sh:Smpd1' , 'sh:Asah1', 'sh:Ugcg'  , \n",
    "         'sh:CLN3'  , 'sh:Lyst' , 'sh:Ormdl1', \n",
    "        #'sh:GFP'        #(green fluorescent protein) used to normalize data\n",
    "         ]\n",
    "\n",
    "lipid_excel_df = pd.read_excel(LIPID_EXCEL_FILE, \n",
    "                   header    = 1, \n",
    "                   index_col = 0,\n",
    "                   skiprows = skiprows\n",
    "                  )[genes]\n",
    "\n",
    "lipid_corr_df = lipid_excel_df.T.corr()"
   ]
  },
  {
   "cell_type": "code",
   "execution_count": 13,
   "metadata": {},
   "outputs": [],
   "source": [
    "D_lipid_1 = (1-lipid_corr_df.abs()).values\n",
    "D_lipid_2 = (1-lipid_corr_df).values"
   ]
  },
  {
   "cell_type": "code",
   "execution_count": 22,
   "metadata": {},
   "outputs": [
    {
     "name": "stdout",
     "output_type": "stream",
     "text": [
      "0.591265614256963\n",
      "0.5912655898686241\n",
      "0.5912655957016111\n",
      "0.5625509879770333\n",
      "0.659726327525815\n"
     ]
    }
   ],
   "source": [
    "print(rng.diagram(D_lipid_1, distance_matrix=True).score)\n",
    "print(rng.diagram(D_lipid_1 + 1.234, distance_matrix=True).score)\n",
    "print(rng.diagram(D_lipid_1 * 1.234, distance_matrix=True).score)\n",
    "print(rng.diagram(D_lipid_1 ** 5, distance_matrix=True).score)\n",
    "print(rng.diagram(D_lipid_1 ** (1/5), distance_matrix=True).score)"
   ]
  },
  {
   "cell_type": "code",
   "execution_count": null,
   "metadata": {},
   "outputs": [],
   "source": [
    ", rng.diagram(D_lipid_2, distance_matrix=True).score"
   ]
  }
 ],
 "metadata": {
  "kernelspec": {
   "display_name": "ringity",
   "language": "python",
   "name": "ringity"
  },
  "language_info": {
   "codemirror_mode": {
    "name": "ipython",
    "version": 3
   },
   "file_extension": ".py",
   "mimetype": "text/x-python",
   "name": "python",
   "nbconvert_exporter": "python",
   "pygments_lexer": "ipython3",
   "version": "3.7.7"
  }
 },
 "nbformat": 4,
 "nbformat_minor": 2
}
