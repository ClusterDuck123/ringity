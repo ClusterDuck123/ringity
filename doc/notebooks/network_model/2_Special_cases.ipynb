{
 "cells": [
  {
   "cell_type": "markdown",
   "id": "ebc14d4a",
   "metadata": {},
   "source": [
    "## Two ways to Erdos-Renyi"
   ]
  },
  {
   "cell_type": "markdown",
   "id": "b8fd6015",
   "metadata": {},
   "source": [
    "### $\\beta \\rightarrow 0$"
   ]
  },
  {
   "cell_type": "markdown",
   "id": "dfb14c4a",
   "metadata": {},
   "source": [
    "### $r \\rightarrow 1$"
   ]
  },
  {
   "cell_type": "code",
   "execution_count": null,
   "id": "3aa5450f",
   "metadata": {},
   "outputs": [],
   "source": []
  }
 ],
 "metadata": {
  "kernelspec": {
   "display_name": "ringity",
   "language": "python",
   "name": "ringity"
  },
  "language_info": {
   "codemirror_mode": {
    "name": "ipython",
    "version": 3
   },
   "file_extension": ".py",
   "mimetype": "text/x-python",
   "name": "python",
   "nbconvert_exporter": "python",
   "pygments_lexer": "ipython3",
   "version": "3.9.5"
  }
 },
 "nbformat": 4,
 "nbformat_minor": 5
}
