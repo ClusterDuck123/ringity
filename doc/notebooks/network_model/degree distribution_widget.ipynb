{
 "cells": [
  {
   "cell_type": "code",
   "execution_count": 1,
   "id": "a4f3eea2",
   "metadata": {},
   "outputs": [],
   "source": [
    "import time\n",
    "import numpy as np\n",
    "import pandas as pd\n",
    "import ringity as rng\n",
    "import networkx as nx\n",
    "import matplotlib.pyplot as plt\n",
    "import plotly.graph_objects as go\n",
    "\n",
    "from itertools import product\n",
    "from ipywidgets import widgets\n",
    "from collections import Counter\n",
    "from scipy.spatial.distance import squareform\n",
    "from ringity.classes.network_model import NetworkBuilder"
   ]
  },
  {
   "cell_type": "markdown",
   "id": "a626d2d9",
   "metadata": {},
   "source": [
    "## Testing expected conditional probability and similairty"
   ]
  },
  {
   "cell_type": "code",
   "execution_count": 2,
   "id": "4d56772e",
   "metadata": {},
   "outputs": [],
   "source": [
    "def expected_conditional_similarity(theta, rate, a):\n",
    "    if np.isclose(rate, 0, atol=1e-7):\n",
    "        return a\n",
    "    \n",
    "    if np.isclose(rate, np.inf):\n",
    "        A = 1/(2*np.pi*a)\n",
    "        B = A*np.pi\n",
    "        C = B - 1\n",
    "        return np.clip(np.abs(A*theta - B) - C, 0, 1)\n",
    "    \n",
    "    if theta < np.pi:\n",
    "        if theta <= 2*np.pi*a:\n",
    "            norm = 1 / (1 - np.exp(-2*np.pi*rate)) / (2*a*np.pi*rate)\n",
    "            \n",
    "            theta_term = -theta*rate * (1 - np.exp(-2*np.pi*rate))\n",
    "            \n",
    "            term1  = -2*np.exp(-rate*theta) + 1\n",
    "            term21 =  np.exp(-rate*theta)*(np.exp(-2*a*np.pi*rate) + np.exp((2*a*np.pi - 2*np.pi)*rate))\n",
    "            term22 = -np.exp(-2*np.pi*rate)\n",
    "            \n",
    "            return norm*(term1 + term21 + term22 + theta_term) + 1\n",
    "        else:\n",
    "            theta_term = np.exp(-rate*theta) / (1 - np.exp(-2*np.pi*rate))\n",
    "            alpha_term = (np.cosh(-rate*2*np.pi*a) - 1) / (a*np.pi*rate)\n",
    "            return theta_term * alpha_term\n",
    "        \n",
    "    else:\n",
    "        norm = 2*rate*np.exp(-rate*theta) / (1 - np.exp(-2*np.pi*rate))\n",
    "        \n",
    "        def undef_int(t):\n",
    "            return (np.exp(np.pi*rate)*(np.cosh((np.pi - t)*rate) + (-2*a*np.pi + t)*rate*np.sinh((np.pi - t)*rate)))/(2*a*np.pi*rate**2)\n",
    "        \n",
    "        if 2*np.pi - theta <= 2*np.pi*a:\n",
    "            term1 = (-1 + np.cosh((2*np.pi - theta)*rate) + (2*(-1 + a)*np.pi + theta)*rate*np.sinh((2*np.pi - theta)*rate))/(2*a*np.pi*rate**2)\n",
    "            term2 = undef_int(2*np.pi*a) - undef_int(2*np.pi - theta)\n",
    "            return norm*term1 + norm*term2\n",
    "        else:\n",
    "            return norm*(np.sinh(a*np.pi*rate)**2)/(a*np.pi*rate**2)"
   ]
  },
  {
   "cell_type": "code",
   "execution_count": 3,
   "id": "1309134c",
   "metadata": {},
   "outputs": [],
   "source": [
    "def time_estimation(i, iter_len):\n",
    "    TIME2 = time.time()\n",
    "    t_cur = TIME2 - TIME1\n",
    "    prog = (i+1)/iter_len\n",
    "    t_rem = t_cur * (1/prog - 1)\n",
    "    print(f\"time passed: {t_cur:.2f}sec - progress: {100*prog:.2f}% - time remaining: {t_rem:.2f}sec\",\n",
    "          end = '\\r')"
   ]
  },
  {
   "cell_type": "code",
   "execution_count": 4,
   "id": "0bbca55e",
   "metadata": {},
   "outputs": [],
   "source": [
    "n_a_samples = int(1.5*2**4)\n",
    "n_b_samples = int(1.5*2**4)\n",
    "n_k_samples = int(1.5*2**4)\n",
    "n_n_samples = int(2**2)\n",
    "\n",
    "a_arr = np.linspace(0.01, 0.5, n_a_samples)\n",
    "b_arr = np.linspace(0.0, 1.0, n_b_samples)\n",
    "k_arr = np.linspace(0.0, 1.0, n_k_samples)\n",
    "n_arr = [2**(k+7) for k in range(n_n_samples)]"
   ]
  },
  {
   "cell_type": "code",
   "execution_count": null,
   "id": "f3599d77",
   "metadata": {},
   "outputs": [
    {
     "name": "stdout",
     "output_type": "stream",
     "text": [
      "time passed: 935.27sec - progress: 3.27% - time remaining: 27700.91sec\r"
     ]
    }
   ],
   "source": [
    "df_list = []\n",
    "\n",
    "TIME1 = time.time()\n",
    "count = 0\n",
    "for alpha, beta, K, N in product(a_arr, b_arr, k_arr, n_arr):\n",
    "    time_estimation(count, n_a_samples*n_b_samples*n_k_samples*n_n_samples)\n",
    "    count += 1\n",
    "    \n",
    "    rate = rng.classes.network_model.get_rate_parameter(rate = None, beta = beta)\n",
    "    scale = 1/rate if rate > 0 else np.inf\n",
    "\n",
    "    random_positions = []\n",
    "\n",
    "    position_generator = NetworkBuilder()\n",
    "    position_generator.set_distribution('exponential', scale = scale)\n",
    "\n",
    "    for _ in range(10):\n",
    "        position_generator.instantiate_positions(N)\n",
    "        random_positions.extend(position_generator.positions)\n",
    "\n",
    "    deg_dist0_exp = [p for theta in random_positions\n",
    "                       for p in np.random.binomial(N-1, K*expected_conditional_similarity(theta=theta, rate=rate, a=alpha), size=2**7)]\n",
    "    degs_exp, freqs_exp = zip(*Counter(deg_dist0_exp).items())\n",
    "    freqs_exp = np.array(freqs_exp) / sum(freqs_exp)\n",
    "\n",
    "    df_list.append(pd.DataFrame({'degree' : degs_exp,\n",
    "                                 'frequency' : freqs_exp,\n",
    "                                 'N' : N,\n",
    "                                 'beta' : beta,\n",
    "                                 'alpha' : alpha,\n",
    "                                 'K' : K}\n",
    "                               )\n",
    "                  )"
   ]
  },
  {
   "cell_type": "code",
   "execution_count": null,
   "id": "eb34b566",
   "metadata": {},
   "outputs": [],
   "source": [
    "plot_df = pd.concat(df_list).sort_values('degree')"
   ]
  },
  {
   "cell_type": "code",
   "execution_count": null,
   "id": "032f3501",
   "metadata": {},
   "outputs": [],
   "source": [
    "#plot_df = pd.read_csv(\"/Users/dottolab/Desktop/deg_dist2.csv\", index_col=0)"
   ]
  },
  {
   "cell_type": "markdown",
   "id": "c0f78b7e",
   "metadata": {},
   "source": [
    "# Widget"
   ]
  },
  {
   "cell_type": "code",
   "execution_count": null,
   "id": "f1745892",
   "metadata": {},
   "outputs": [],
   "source": [
    "eps = 0.01\n",
    "\n",
    "def get_curr_plot_df(plot_df):\n",
    "    curr_df = (plot_df[\n",
    "                    plot_df.\n",
    "                        beta.\n",
    "                        between(beta_slider.value - eps,\n",
    "                                beta_slider.value + eps) \n",
    "                        &\n",
    "                    plot_df.\n",
    "                        alpha.\n",
    "                        between(alpha_slider.value - eps,\n",
    "                                alpha_slider.value + eps)\n",
    "                        &\n",
    "                    plot_df.\n",
    "                        K.\n",
    "                        between(K_slider.value - eps,\n",
    "                                K_slider.value + eps)\n",
    "                        &\n",
    "                    plot_df.\n",
    "                        N.\n",
    "                        between(N_dropdown.value - eps,\n",
    "                                N_dropdown.value + eps)].\n",
    "                 groupby('degree').\n",
    "                 mean().\n",
    "                 reset_index())\n",
    "    return curr_df\n",
    "\n",
    "def response(change):\n",
    "    curr_df = get_curr_plot_df(plot_df)\n",
    "    with w_fig.batch_update():\n",
    "        w_fig.data[0].x = curr_df.degree\n",
    "        w_fig.data[0].y = curr_df.frequency\n",
    "        w_fig.layout.xaxis.range = (-1, N_dropdown.value)\n",
    "        w_fig.layout.yaxis.range = (-0.005, 1/np.sqrt(N_dropdown.value))"
   ]
  },
  {
   "cell_type": "code",
   "execution_count": null,
   "id": "a2a56f05",
   "metadata": {},
   "outputs": [],
   "source": [
    "betas_step = 2**4 - 1\n",
    "alphas_step = 2**4 - 1\n",
    "K_step = 2**4 - 1\n",
    "\n",
    "beta_slider = widgets.FloatSlider(\n",
    "                            value = max(b_arr),\n",
    "                            max = max(b_arr),\n",
    "                            min = min(b_arr),\n",
    "                            step = (max(b_arr) - min(b_arr)) / (n_b_samples-1),\n",
    "                            description = 'beta'\n",
    "                        )\n",
    "\n",
    "alpha_slider = widgets.FloatSlider(\n",
    "                            value = max(a_arr),\n",
    "                            max = max(a_arr),\n",
    "                            min = min(a_arr),\n",
    "                            step = (max(a_arr) - min(a_arr)) / (n_a_samples-1),\n",
    "                            description = 'a'\n",
    "                        )\n",
    "\n",
    "K_slider = widgets.FloatSlider(\n",
    "                            value = max(k_arr),\n",
    "                            max = max(k_arr),\n",
    "                            min = min(k_arr),\n",
    "                            step = (max(k_arr) - min(k_arr)) / (n_k_samples-1),\n",
    "                            description = 'K'\n",
    "                        )\n",
    "N_dropdown = widgets.Dropdown(\n",
    "                            options = n_arr,\n",
    "                            value = 2**7,\n",
    "                            description = 'N:',\n",
    "                            disabled = False\n",
    "                        )\n",
    "\n",
    "container = widgets.HBox([widgets.VBox([beta_slider, alpha_slider, K_slider]), N_dropdown])"
   ]
  },
  {
   "cell_type": "code",
   "execution_count": null,
   "id": "eb45e2d8",
   "metadata": {},
   "outputs": [],
   "source": [
    "curr_plot_df = get_curr_plot_df(plot_df)\n",
    "trace = go.Scatter(x = curr_plot_df.degree, y =  curr_plot_df.frequency, name = 'degree distribution')\n",
    "w_fig = go.FigureWidget(data = trace,\n",
    "                          layout = go.Layout(title = {'text' : f'Degree distribution under different parameters for N={N}'})\n",
    "                   )\n",
    "\n",
    "w_fig.layout.xaxis.title = 'degree'\n",
    "w_fig.layout.yaxis.title = 'frequency'\n",
    "w_fig.layout.xaxis.range = (-1, N_dropdown.value)\n",
    "w_fig.layout.yaxis.range = (-0.005, 1/np.sqrt(N_dropdown.value))"
   ]
  },
  {
   "cell_type": "code",
   "execution_count": null,
   "id": "dedb33e0",
   "metadata": {},
   "outputs": [],
   "source": [
    "beta_slider.observe(response, \n",
    "                    names = \"value\")\n",
    "alpha_slider.observe(response, \n",
    "                    names = \"value\")\n",
    "K_slider.observe(response, \n",
    "                    names = \"value\")"
   ]
  },
  {
   "cell_type": "code",
   "execution_count": null,
   "id": "f59de4ce",
   "metadata": {
    "scrolled": false
   },
   "outputs": [],
   "source": [
    "final_widget = widgets.VBox([container, w_fig])\n",
    "final_widget"
   ]
  },
  {
   "cell_type": "code",
   "execution_count": null,
   "id": "5d108540",
   "metadata": {},
   "outputs": [],
   "source": [
    "plot_df.to_csv(\"/Users/dottolab/Desktop/deg_dist4.csv\")"
   ]
  },
  {
   "cell_type": "code",
   "execution_count": null,
   "id": "1d06b8e5",
   "metadata": {},
   "outputs": [],
   "source": []
  }
 ],
 "metadata": {
  "kernelspec": {
   "display_name": "ringity",
   "language": "python",
   "name": "ringity"
  },
  "language_info": {
   "codemirror_mode": {
    "name": "ipython",
    "version": 3
   },
   "file_extension": ".py",
   "mimetype": "text/x-python",
   "name": "python",
   "nbconvert_exporter": "python",
   "pygments_lexer": "ipython3",
   "version": "3.8.3"
  }
 },
 "nbformat": 4,
 "nbformat_minor": 5
}
