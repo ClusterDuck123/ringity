{
 "cells": [
  {
   "cell_type": "code",
   "execution_count": 1,
   "id": "e11b2c5c",
   "metadata": {},
   "outputs": [],
   "source": [
    "import numpy as np\n",
    "import pandas as pd\n",
    "import plotly.graph_objects as go\n",
    "\n",
    "from pathlib import Path\n",
    "from ipywidgets import widgets\n",
    "from collections import Counter"
   ]
  },
  {
   "cell_type": "code",
   "execution_count": 2,
   "id": "7dfa5e0d",
   "metadata": {},
   "outputs": [],
   "source": [
    "deg_dist_path = Path(\"../../data/deg_dist/\")"
   ]
  },
  {
   "cell_type": "code",
   "execution_count": 3,
   "id": "59ba70c1",
   "metadata": {},
   "outputs": [],
   "source": [
    "plot_df_list = []\n",
    "\n",
    "for df_path in deg_dist_path.glob('*.csv'):\n",
    "    N = int(df_path.stem.replace('N_', ''))\n",
    "    sub_plot_df = pd.read_csv(df_path)\n",
    "    sub_plot_df['N'] = N\n",
    "    plot_df_list.append(sub_plot_df)\n",
    "    \n",
    "plot_df = pd.concat(plot_df_list)"
   ]
  },
  {
   "cell_type": "code",
   "execution_count": 4,
   "id": "d82adc9e",
   "metadata": {},
   "outputs": [],
   "source": [
    "beta_min = plot_df['beta'].min()\n",
    "beta_max = plot_df['beta'].max()\n",
    "beta_step = (beta_max - beta_min) / (plot_df['beta'].nunique()-1)\n",
    "\n",
    "beta_slider = widgets.FloatSlider(\n",
    "                            value = beta_max,\n",
    "                            max = beta_max,\n",
    "                            min = beta_min,\n",
    "                            step = beta_step,\n",
    "                            description = 'beta'\n",
    "                        )\n",
    "\n",
    "\n",
    "alpha_min = plot_df['alpha'].min()\n",
    "alpha_max = plot_df['alpha'].max()\n",
    "alpha_step = (alpha_max - alpha_min) / (plot_df['alpha'].nunique()-1)\n",
    "\n",
    "alpha_slider = widgets.FloatSlider(\n",
    "                            value = alpha_max,\n",
    "                            max = alpha_max,\n",
    "                            min = alpha_min,\n",
    "                            step = alpha_step,\n",
    "                            description = 'a'\n",
    "                        )\n",
    "\n",
    "\n",
    "K_min = plot_df['K'].min()\n",
    "K_max = plot_df['K'].max()\n",
    "K_step = (K_max - K_min) / (plot_df['K'].nunique()-1)\n",
    "\n",
    "K_slider = widgets.FloatSlider(\n",
    "                            value = K_max,\n",
    "                            max = K_max,\n",
    "                            min = K_min,\n",
    "                            step = K_step,\n",
    "                            description = 'K'\n",
    "                        )\n",
    "\n",
    "\n",
    "N_options = sorted(plot_df['N'].unique())\n",
    "N_min = plot_df['N'].min()\n",
    "\n",
    "N_dropdown = widgets.Dropdown(\n",
    "                            options = N_options,\n",
    "                            value = N_min,\n",
    "                            description = 'N',\n",
    "                            disabled = False\n",
    "                        )\n",
    "\n",
    "container = widgets.HBox([widgets.VBox([beta_slider, alpha_slider, K_slider]), N_dropdown])"
   ]
  },
  {
   "cell_type": "code",
   "execution_count": 5,
   "id": "7dbeb807",
   "metadata": {},
   "outputs": [],
   "source": [
    "eps = 0.01\n",
    "\n",
    "def get_curr_plot_df(plot_df):\n",
    "    curr_df = (plot_df[\n",
    "                    plot_df.\n",
    "                        beta.\n",
    "                        between(beta_slider.value - eps,\n",
    "                                beta_slider.value + eps) \n",
    "                        &\n",
    "                    plot_df.\n",
    "                        alpha.\n",
    "                        between(alpha_slider.value - eps,\n",
    "                                alpha_slider.value + eps)\n",
    "                        &\n",
    "                    plot_df.\n",
    "                        K.\n",
    "                        between(K_slider.value - eps,\n",
    "                                K_slider.value + eps)\n",
    "                        &\n",
    "                    plot_df.\n",
    "                        N.\n",
    "                        between(N_dropdown.value - eps,\n",
    "                                N_dropdown.value + eps)].\n",
    "                 groupby('degree').\n",
    "                 mean().\n",
    "                 reset_index())\n",
    "    return curr_df\n",
    "\n",
    "def response(change):\n",
    "    curr_df = get_curr_plot_df(plot_df)\n",
    "    with w_fig.batch_update():\n",
    "        w_fig.data[0].x = curr_df.degree\n",
    "        w_fig.data[0].y = curr_df.frequency\n",
    "        w_fig.layout.xaxis.range = (-1, N_dropdown.value)\n",
    "        w_fig.layout.yaxis.range = (-0.005, 1/np.sqrt(N_dropdown.value))"
   ]
  },
  {
   "cell_type": "code",
   "execution_count": 9,
   "id": "21785aaa",
   "metadata": {},
   "outputs": [],
   "source": [
    "curr_plot_df = get_curr_plot_df(plot_df)\n",
    "trace = go.Scatter(x = curr_plot_df.degree, y =  curr_plot_df.frequency, name = 'degree distribution')\n",
    "w_fig = go.FigureWidget(data = trace,\n",
    "                          layout = go.Layout(title = {'text' : f'Degree distribution for different network parameters'})\n",
    "                   )\n",
    "\n",
    "w_fig.layout.xaxis.title = 'degree'\n",
    "w_fig.layout.yaxis.title = 'frequency'\n",
    "w_fig.layout.xaxis.range = (-1, N_dropdown.value)\n",
    "w_fig.layout.yaxis.range = (-0.005, 1/np.sqrt(N_dropdown.value))"
   ]
  },
  {
   "cell_type": "code",
   "execution_count": 10,
   "id": "0ae01232",
   "metadata": {},
   "outputs": [],
   "source": [
    "beta_slider.observe(response, \n",
    "                    names = \"value\")\n",
    "alpha_slider.observe(response, \n",
    "                    names = \"value\")\n",
    "K_slider.observe(response, \n",
    "                    names = \"value\")"
   ]
  },
  {
   "cell_type": "code",
   "execution_count": 11,
   "id": "acb04d62",
   "metadata": {},
   "outputs": [
    {
     "data": {
      "application/vnd.jupyter.widget-view+json": {
       "model_id": "ddf4fc5df6f64cc5b6f458a67aea83e3",
       "version_major": 2,
       "version_minor": 0
      },
      "text/plain": [
       "VBox(children=(HBox(children=(VBox(children=(FloatSlider(value=1.0, description='beta', max=1.0, step=0.043478…"
      ]
     },
     "metadata": {},
     "output_type": "display_data"
    }
   ],
   "source": [
    "final_widget = widgets.VBox([container, w_fig])\n",
    "final_widget"
   ]
  }
 ],
 "metadata": {
  "kernelspec": {
   "display_name": "Python 3",
   "language": "python",
   "name": "python3"
  },
  "language_info": {
   "codemirror_mode": {
    "name": "ipython",
    "version": 3
   },
   "file_extension": ".py",
   "mimetype": "text/x-python",
   "name": "python",
   "nbconvert_exporter": "python",
   "pygments_lexer": "ipython3",
   "version": "3.8.3"
  }
 },
 "nbformat": 4,
 "nbformat_minor": 5
}
