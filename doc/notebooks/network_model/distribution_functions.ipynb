{
 "cells": [
  {
   "cell_type": "markdown",
   "id": "fa19a94b",
   "metadata": {},
   "source": [
    "# Praxis"
   ]
  },
  {
   "cell_type": "code",
   "execution_count": 32,
   "id": "f242158c",
   "metadata": {},
   "outputs": [],
   "source": [
    "import time\n",
    "import random\n",
    "import numpy as np\n",
    "import pandas as pd\n",
    "import ringity as rng\n",
    "import networkx as nx\n",
    "import scipy.stats as ss\n",
    "import plotly.express as px\n",
    "import plotly.graph_objects as go\n",
    "import plotly.figure_factory as ff\n",
    "import matplotlib.pyplot as plt\n",
    "\n",
    "from scipy.integrate import quad\n",
    "from scipy.spatial.distance import pdist, squareform\n",
    "from ringity.classes.network_model import NetworkBuilder"
   ]
  },
  {
   "cell_type": "markdown",
   "id": "17984f57",
   "metadata": {},
   "source": [
    "## Distribution"
   ]
  },
  {
   "cell_type": "code",
   "execution_count": 2,
   "id": "d54be5fd",
   "metadata": {},
   "outputs": [],
   "source": [
    "N = 2**12\n",
    "beta = 0.523\n",
    "\n",
    "rate  = np.tan(np.pi * (1-beta) / 2)\n",
    "delay = 1 - 2/np.pi * np.arctan(rate)\n",
    "\n",
    "network_builder = NetworkBuilder(random_state = 1234)\n",
    "network_builder.set_distribution('exponential', scale = 1/rate)\n",
    "network_builder.instantiate_positions(N)"
   ]
  },
  {
   "cell_type": "code",
   "execution_count": 3,
   "id": "ec952cb4",
   "metadata": {},
   "outputs": [],
   "source": [
    "assert np.isclose(delay, beta)"
   ]
  },
  {
   "cell_type": "markdown",
   "id": "e6b503d7",
   "metadata": {},
   "source": [
    "Given a wrapped exponential distribution with rate parameter $\\lambda$, i.e. $\\Theta\\sim \\mathit{WrapExp}(\\lambda)$ the pdf can be expressed as\n",
    "$$f_{\\Theta}(t) = \\frac{\\lambda e^{-\\lambda t}}{1-e^{-2\\pi\\lambda}} \\; .$$"
   ]
  },
  {
   "cell_type": "code",
   "execution_count": 4,
   "id": "b6a90d8f",
   "metadata": {},
   "outputs": [
    {
     "data": {
      "image/png": "[encoded data removed]",
      "text/plain": [
       "<Figure size 432x288 with 1 Axes>"
      ]
     },
     "metadata": {
      "needs_background": "light"
     },
     "output_type": "display_data"
    }
   ],
   "source": [
    "x = np.linspace(-0.1,2*np.pi+0.1,100)\n",
    "\n",
    "plt.hist(network_builder.positions, density=True, bins=50);\n",
    "plt.plot(x, rng.pdf_delay(x, rate, 'rate') , linewidth=3)\n",
    "\n",
    "plt.suptitle(\"Delay distribution - $T$\", fontsize=18);"
   ]
  },
  {
   "cell_type": "code",
   "execution_count": 5,
   "id": "3de8b258",
   "metadata": {},
   "outputs": [
    {
     "name": "stdout",
     "output_type": "stream",
     "text": [
      "1.0586428952145024\n",
      "1.056757304047466\n"
     ]
    }
   ],
   "source": [
    "mu1 = np.mean(network_builder._positions)\n",
    "mu2 = quad(lambda x : x*rng.pdf_delay(x, rate, 'rate'), 0, 2*np.pi)[0]\n",
    "\n",
    "print(mu1)\n",
    "print(mu2)"
   ]
  },
  {
   "cell_type": "code",
   "execution_count": 6,
   "id": "ed7d8e4c",
   "metadata": {},
   "outputs": [
    {
     "data": {
      "text/plain": [
       "1.0567573040474658"
      ]
     },
     "execution_count": 6,
     "metadata": {},
     "output_type": "execute_result"
    }
   ],
   "source": [
    "rv = ss.truncexpon(b = 2*np.pi*rate, scale = 1/rate)\n",
    "rv.mean()"
   ]
  },
  {
   "cell_type": "code",
   "execution_count": 7,
   "id": "e4109e41",
   "metadata": {},
   "outputs": [
    {
     "data": {
      "text/plain": [
       "KstestResult(statistic=0.017713199345091052, pvalue=0.15115724629722116)"
      ]
     },
     "execution_count": 7,
     "metadata": {},
     "output_type": "execute_result"
    }
   ],
   "source": [
    "ss.ks_1samp(network_builder._positions, rv.cdf)"
   ]
  },
  {
   "cell_type": "markdown",
   "id": "dc9adcf4",
   "metadata": {},
   "source": [
    "## Distances and Similarity"
   ]
  },
  {
   "cell_type": "code",
   "execution_count": 8,
   "id": "e13cad64",
   "metadata": {},
   "outputs": [],
   "source": [
    "N = 2**12\n",
    "beta = np.random.uniform(0,1)\n",
    "alpha = np.random.uniform(0, 0.5)\n",
    "\n",
    "rate  = np.tan(np.pi * (1-beta) / 2)\n",
    "delay = 2/np.pi * np.arctan(rate)\n",
    "\n",
    "network_builder = NetworkBuilder(random_state = 1234)\n",
    "network_builder.set_distribution('exponential', scale = 1/rate)\n",
    "network_builder.instantiate_positions(N)\n",
    "network_builder.calculate_distances(metric = 'euclidean', circular = True)\n",
    "network_builder.calculate_similarities(alpha = alpha, sim_func = 'box_cosine')"
   ]
  },
  {
   "cell_type": "markdown",
   "id": "e02cc4d0",
   "metadata": {},
   "source": [
    "The circular distance is defined as $D = \\min {\\left\\{ |X-Y|, 2\\pi-|X-Y|\\right\\}}$. The corresponding pdf can be calculated via $f_{D}(t) = f_{|X-Y|}(t) + f_{|X-Y|}(2\\pi-t)$ where $f_{|X-Y|}(t) = 2 \\cdot f_{\\Theta}(t) * f_{\\Theta}(-t)$. This boils down to\n",
    "\n",
    "$$f_{D}(t) = \\frac {\\lambda}{\\sinh(\\pi\\lambda)}\\cdot \\cosh(\\lambda \\cdot (\\pi-t)) \\; .$$\n",
    "\n",
    "The corresponding conditional density distribution is defined as $D_{\\vartheta} = \\min {\\left\\{ |X-\\vartheta|, 2\\pi-|X-\\vartheta| \\right\\}}$ and can be calculated via $f_{D_{\\vartheta}}(t) = f_{|X-\\vartheta|}(t) + f_{|X-\\vartheta|}(2\\pi-t)$ where $f_{|X-\\vartheta|}(t) = f_{\\Theta}(\\vartheta+t) + f_{\\Theta}(\\vartheta-t)$. This boils down to \n",
    "\n",
    "$$f_{D_{\\vartheta}}(t) = \\frac{2\\lambda e^{-\\lambda \\vartheta}}{1 - e^{-2\\pi\\lambda}} \\cdot\n",
    "\\begin{cases}\n",
    "\\cosh(\\lambda t) & \\text{, for } t \\leq \\min \\{ \\vartheta, 2\\pi - \\vartheta \\} \\\\\n",
    "\\cosh(\\lambda (\\pi-t)) \\cdot e^{\\operatorname{sgn} (\\vartheta - t) \\lambda \\pi}  & \\text{, for } t \\geq \\min \\{ \\vartheta, 2\\pi - \\vartheta \\} \\; .\n",
    "\\end{cases}\n",
    "$$"
   ]
  },
  {
   "cell_type": "markdown",
   "id": "84e2b658",
   "metadata": {},
   "source": [
    "The expected conditional density distribution, is given by\n",
    "\n",
    "$$\\mathbb{E}[D_{\\vartheta}] = \n",
    "\\begin{cases}\n",
    "\\frac{1}{\\lambda}\n",
    "    \\left( \\frac{2e^{-\\lambda\\vartheta}}{1 + e^{-\\pi\\lambda}} - 1 \\right) \n",
    "&+ \\, \\vartheta\n",
    "& \\text{, for } \\vartheta \\leq \\pi \\\\\n",
    "\\frac{1}{\\lambda} \n",
    "    \\left(1 - \\frac{2e^{\\lambda(2\\pi-\\theta)}}{1 + e^{\\pi\\lambda}} \\right)\n",
    "&+ \\, (2\\pi - \\vartheta)\n",
    "& \\text{, for } \\vartheta \\geq \\pi \\; .\n",
    "\\end{cases}\n",
    "$$\n",
    "\n",
    "Should this be rewritten as $\\theta = \\pi + \\delta$?"
   ]
  },
  {
   "cell_type": "code",
   "execution_count": 9,
   "id": "e730150e",
   "metadata": {},
   "outputs": [],
   "source": [
    "def pdf_conditional_circular_distance(t, theta, rate):\n",
    "    support = np.where((0 <= t) & (t <= np.pi), 1, 0.)\n",
    "    norm = 2*rate*np.exp(-rate*theta) / (1 - np.exp(-2*np.pi*rate))\n",
    "    \n",
    "    cond = (t <= min(theta, 2*np.pi-theta))\n",
    "    \n",
    "    term = np.where(cond, \n",
    "                    np.cosh(rate*t), \n",
    "                    np.cosh(rate*(np.pi-t)) * np.exp(np.sign(theta-t)*rate * np.pi))\n",
    "    \n",
    "    return support * norm * term\n",
    "\n",
    "def expected_conditional_circular_distance(theta, rate):\n",
    "    if theta < np.pi:\n",
    "        term = 2*np.exp(-rate*theta) / (1 + np.exp(-np.pi*rate))\n",
    "        return theta + (term - 1) / rate\n",
    "        \n",
    "    else:\n",
    "        term = 2*np.exp(rate*(2*np.pi-theta)) / (1 + np.exp(np.pi*rate))\n",
    "        return (2*np.pi-theta) + (1-term) / rate"
   ]
  },
  {
   "cell_type": "code",
   "execution_count": 10,
   "id": "8faab012",
   "metadata": {},
   "outputs": [],
   "source": [
    "thetas = np.linspace(0, 2*np.pi, 100)\n",
    "dists1 = [quad(lambda t : t*pdf_conditional_circular_distance(t, theta=theta, rate=rate), 0, np.pi)[0]\n",
    "                    for theta in thetas]\n",
    "dists2 = [expected_conditional_circular_distance(theta=theta, rate=rate)\n",
    "                    for theta in thetas]"
   ]
  },
  {
   "cell_type": "code",
   "execution_count": 11,
   "id": "b370e109",
   "metadata": {},
   "outputs": [
    {
     "data": {
      "text/plain": [
       "[<matplotlib.lines.Line2D at 0x7feb092aa730>]"
      ]
     },
     "execution_count": 11,
     "metadata": {},
     "output_type": "execute_result"
    },
    {
     "data": {
      "image/png": "[encoded data removed]",
      "text/plain": [
       "<Figure size 432x288 with 1 Axes>"
      ]
     },
     "metadata": {
      "needs_background": "light"
     },
     "output_type": "display_data"
    }
   ],
   "source": [
    "plt.plot(network_builder.positions,\n",
    "         network_builder.distances.mean(axis=0), '*', markersize=10)\n",
    "plt.plot(thetas, dists1, linewidth=7.5)\n",
    "plt.plot(thetas, dists2, 'k', linewidth=1)"
   ]
  },
  {
   "cell_type": "code",
   "execution_count": 12,
   "id": "e51154d4",
   "metadata": {},
   "outputs": [
    {
     "data": {
      "text/plain": [
       "[<matplotlib.lines.Line2D at 0x7feae74879d0>]"
      ]
     },
     "execution_count": 12,
     "metadata": {},
     "output_type": "execute_result"
    },
    {
     "data": {
      "image/png": "[encoded data removed]",
      "text/plain": [
       "<Figure size 432x288 with 1 Axes>"
      ]
     },
     "metadata": {
      "needs_background": "light"
     },
     "output_type": "display_data"
    }
   ],
   "source": [
    "x = np.linspace(-0.1, np.pi+0.1, 100)\n",
    "theta = 5\n",
    "\n",
    "fig, ax = plt.subplots()\n",
    "\n",
    "ax.plot(x, rng.pdf_conditional_circular_distance(x, theta=theta, parameter=rate, parameter_type='rate'), \n",
    "        linewidth=5)\n",
    "ax.plot(x, pdf_conditional_circular_distance(x, theta, rate) , linewidth=2)"
   ]
  },
  {
   "cell_type": "code",
   "execution_count": 13,
   "id": "66d30370",
   "metadata": {},
   "outputs": [
    {
     "data": {
      "image/png": "[encoded data removed]",
      "text/plain": [
       "<Figure size 864x360 with 2 Axes>"
      ]
     },
     "metadata": {
      "needs_background": "light"
     },
     "output_type": "display_data"
    }
   ],
   "source": [
    "x = np.linspace(-0.1, np.pi+0.1, 200)\n",
    "\n",
    "i = 100\n",
    "theta = network_builder._positions[i]\n",
    "\n",
    "fix, (ax1, ax2) = plt.subplots(1, 2, figsize=(12,5))\n",
    "\n",
    "ax1.hist(network_builder._distances, density=True, bins=100);\n",
    "ax1.plot(x, rng.pdf_circular_distance(x, rate, 'rate') , linewidth=3)\n",
    "ax1.set_title(\"Distance distribution\", fontsize=18);\n",
    "\n",
    "ax2.hist(network_builder.distances[i,:], density=True, bins=100);\n",
    "ax2.plot(x, pdf_conditional_circular_distance(x, theta=theta, rate=rate) , linewidth=3, c='k')\n",
    "ax2.set_title(rf\"Cond. Distance distribution ($\\theta = {theta:.2f}$)\", fontsize=18);"
   ]
  },
  {
   "cell_type": "code",
   "execution_count": 14,
   "id": "7b22b85a",
   "metadata": {},
   "outputs": [
    {
     "name": "stdout",
     "output_type": "stream",
     "text": [
      "163 µs ± 9.5 µs per loop (mean ± std. dev. of 7 runs, 1000 loops each)\n"
     ]
    }
   ],
   "source": [
    "%%timeit \n",
    "\n",
    "rng.pdf_conditional_circular_distance(x, theta=theta, parameter=rate, parameter_type='rate')"
   ]
  },
  {
   "cell_type": "code",
   "execution_count": 15,
   "id": "eb595f04",
   "metadata": {},
   "outputs": [
    {
     "name": "stdout",
     "output_type": "stream",
     "text": [
      "44 µs ± 405 ns per loop (mean ± std. dev. of 7 runs, 10000 loops each)\n"
     ]
    }
   ],
   "source": [
    "%%timeit\n",
    "\n",
    "pdf_conditional_circular_distance(x, theta, rate)"
   ]
  },
  {
   "cell_type": "markdown",
   "id": "7ae11ea1",
   "metadata": {},
   "source": [
    "---"
   ]
  },
  {
   "cell_type": "markdown",
   "id": "e0680f6c",
   "metadata": {},
   "source": [
    "**For $a \\leq 0.5$ (!)**, the similarity is defined as $S = \\left| 1 - \\frac{D}{2\\pi a} \\right|_{+}$. The corresponding pdf can be calculated via $f_{S}(t) = 2a\\pi \\cdot f_D \\big(2a\\pi(1-t) \\big)$. This boils down to\n",
    "\n",
    "$$f_{S}(t) = \n",
    "\\begin{cases}\n",
    "s_0 \\delta_0 & \\text{, for } t = 0 \\\\\n",
    "\\frac {2\\pi a \\lambda}{\\sinh(\\pi\\lambda)} \\cdot \\cosh \\Big(\\lambda \\pi \\big(1-(2a-t)\\big) \\Big)& \\text{, for } t \\geq 0 \\\\\n",
    "\\end{cases}\n",
    " \\; .$$\n",
    "\n",
    "The corresponding conditional density distribution is defined as $S_{\\vartheta} = \\left| 1 - \\frac{D_{\\vartheta}}{2\\pi a} \\right|_{+}$ and can be calculated via $f_{S_{\\vartheta}}(t) = 2a\\pi \\cdot f_{D_{\\vartheta}} \\big(2a\\pi(1-t) \\big)$. This boils down to \n",
    "\n",
    "$$f_{S_{\\vartheta}}(t) = \\frac{2\\lambda e^{-\\lambda \\vartheta}}{1 - e^{-2\\pi\\lambda}} \\cdot\n",
    "\\begin{cases}\n",
    "\\cosh(\\lambda t) & \\text{, for } t \\leq \\min \\{ \\vartheta, 2\\pi - \\vartheta \\} \\\\\n",
    "\\cosh(\\lambda (\\pi-t)) \\cdot e^{\\operatorname{sgn} (\\vartheta - t) \\lambda \\pi}  & \\text{, for } t \\geq \\min \\{ \\vartheta, 2\\pi - \\vartheta \\} \\; .\n",
    "\\end{cases}\n",
    "$$"
   ]
  },
  {
   "cell_type": "code",
   "execution_count": 16,
   "id": "c89bfda8",
   "metadata": {},
   "outputs": [],
   "source": [
    "def pdf_conditional_similarity(t, theta, a, rate):\n",
    "    support = np.where((0 <= t) & (t <= 1), 1, 0.)\n",
    "    norm = 4*a*np.pi*rate*np.exp(-rate*theta) / (1 - np.exp(-2*np.pi*rate))\n",
    "    \n",
    "    cond = (t >= 1 - min(theta, 2*np.pi-theta) / (2*a*np.pi))\n",
    "    \n",
    "    term = np.where(cond, \n",
    "                    np.cosh(rate*2*a*np.pi*(1-t)),\n",
    "                    np.cosh(rate*np.pi*(1-2*a*(1-t))) * np.exp(np.sign(theta-2*a*np.pi*(1-t))*rate * np.pi))\n",
    "    \n",
    "    return support * norm * term\n",
    "\n",
    "def expected_conditional_similarity(theta, rate, a):\n",
    "    if theta < np.pi:\n",
    "        if theta <= 2*np.pi*a:\n",
    "            norm = 1 / (1 - np.exp(-2*np.pi*rate)) / (2*a*np.pi*rate)\n",
    "            \n",
    "            theta_term = -theta*rate * (1 - np.exp(-2*np.pi*rate))\n",
    "            \n",
    "            term1  = -2*np.exp(-rate*theta) + 1\n",
    "            term21 =  np.exp(-rate*theta)*(np.exp(-2*a*np.pi*rate) + np.exp((2*a*np.pi - 2*np.pi)*rate))\n",
    "            term22 = -np.exp(-2*np.pi*rate)\n",
    "            \n",
    "            return norm*(term1 + term21 + term22 + theta_term) + 1\n",
    "        else:\n",
    "            theta_term = np.exp(-rate*theta) / (1 - np.exp(-2*np.pi*rate))\n",
    "            alpha_term = (np.cosh(-rate*2*np.pi*a) - 1) / (a*np.pi*rate)\n",
    "            return theta_term * alpha_term\n",
    "        \n",
    "    else:\n",
    "        norm = 2*rate*np.exp(-rate*theta) / (1 - np.exp(-2*np.pi*rate))\n",
    "        \n",
    "        def undef_int(t):\n",
    "            return (np.exp(np.pi*rate)*(np.cosh((np.pi - t)*rate) + (-2*a*np.pi + t)*rate*np.sinh((np.pi - t)*rate)))/(2*a*np.pi*rate**2)\n",
    "        \n",
    "        if 2*np.pi - theta <= 2*np.pi*a:\n",
    "            term1 = (-1 + np.cosh((2*np.pi - theta)*rate) + (2*(-1 + a)*np.pi + theta)*rate*np.sinh((2*np.pi - theta)*rate))/(2*a*np.pi*rate**2)\n",
    "            term2 = undef_int(2*np.pi*a) - undef_int(2*np.pi - theta)\n",
    "            return norm*term1 + norm*term2\n",
    "        else:\n",
    "            return norm*(np.sinh(a*np.pi*rate)**2)/(a*np.pi*rate**2)"
   ]
  },
  {
   "cell_type": "code",
   "execution_count": 17,
   "id": "7dc97285",
   "metadata": {},
   "outputs": [
    {
     "name": "stderr",
     "output_type": "stream",
     "text": [
      "/var/folders/hr/pw6v38ln34d_87nsgcx3qjz80000gn/T/ipykernel_43767/3954974193.py:2: IntegrationWarning: The maximum number of subdivisions (50) has been achieved.\n",
      "  If increasing the limit yields no improvement it is advised to analyze \n",
      "  the integrand in order to determine the difficulties.  If the position of a \n",
      "  local difficulty can be determined (singularity, discontinuity) one will \n",
      "  probably gain from splitting up the interval and calling the integrator \n",
      "  on the subranges.  Perhaps a special-purpose integrator should be used.\n",
      "  simis1 = [quad(lambda t : t*pdf_conditional_similarity(t, theta=theta, rate=rate, a=alpha), 0, np.pi)[0]\n"
     ]
    }
   ],
   "source": [
    "thetas = np.linspace(0, 2*np.pi, 50)\n",
    "simis1 = [quad(lambda t : t*pdf_conditional_similarity(t, theta=theta, rate=rate, a=alpha), 0, np.pi)[0]\n",
    "                    for theta in thetas]\n",
    "simis2 = [expected_conditional_similarity(theta=theta, rate=rate, a=alpha)\n",
    "                    for theta in thetas]"
   ]
  },
  {
   "cell_type": "code",
   "execution_count": 18,
   "id": "d8ed0e18",
   "metadata": {},
   "outputs": [
    {
     "data": {
      "text/plain": [
       "[<matplotlib.lines.Line2D at 0x7feadf70dc40>]"
      ]
     },
     "execution_count": 18,
     "metadata": {},
     "output_type": "execute_result"
    },
    {
     "data": {
      "image/png": "[encoded data removed]",
      "text/plain": [
       "<Figure size 432x288 with 1 Axes>"
      ]
     },
     "metadata": {
      "needs_background": "light"
     },
     "output_type": "display_data"
    }
   ],
   "source": [
    "plt.plot(network_builder.positions,\n",
    "         network_builder.similarities.mean(axis=0), '*', markersize=10)\n",
    "plt.plot(thetas, simis1, linewidth=7.5)\n",
    "plt.plot(thetas, simis2, 'k', linewidth=1)"
   ]
  },
  {
   "cell_type": "code",
   "execution_count": 19,
   "id": "37f13644",
   "metadata": {},
   "outputs": [
    {
     "data": {
      "text/plain": [
       "[<matplotlib.lines.Line2D at 0x7feadf886f70>]"
      ]
     },
     "execution_count": 19,
     "metadata": {},
     "output_type": "execute_result"
    },
    {
     "data": {
      "image/png": "[encoded data removed]",
      "text/plain": [
       "<Figure size 432x288 with 1 Axes>"
      ]
     },
     "metadata": {
      "needs_background": "light"
     },
     "output_type": "display_data"
    }
   ],
   "source": [
    "x = np.linspace(-0.1, 2*np.pi+0.1, 100)\n",
    "theta = 6\n",
    "\n",
    "fig, ax = plt.subplots()\n",
    "\n",
    "ax.plot(x, rng.pdf_conditional_similarity(x, \n",
    "                                          theta=theta, \n",
    "                                          a=alpha,\n",
    "                                          parameter=rate, \n",
    "                                          parameter_type='rate'), \n",
    "        linewidth=5)\n",
    "ax.plot(x, pdf_conditional_similarity(x, theta=theta, a=alpha, rate=rate) , linewidth=2)"
   ]
  },
  {
   "cell_type": "code",
   "execution_count": 20,
   "id": "a953c2d3",
   "metadata": {},
   "outputs": [
    {
     "name": "stdout",
     "output_type": "stream",
     "text": [
      "1.0206284992064942\n",
      "1.0147420862786787\n"
     ]
    }
   ],
   "source": [
    "mu1 = np.mean(network_builder._distances)\n",
    "mu2 = quad(lambda x : x*rng.pdf_circular_distance(x, rate, 'rate'), 0, 2*np.pi)[0]\n",
    "\n",
    "print(mu1)\n",
    "print(mu2)"
   ]
  },
  {
   "cell_type": "code",
   "execution_count": 21,
   "id": "f0380458",
   "metadata": {},
   "outputs": [],
   "source": [
    "disc_part = 2*(network_builder._similarities!=0).sum() / (N*(N-1))"
   ]
  },
  {
   "cell_type": "code",
   "execution_count": 22,
   "id": "8784db34",
   "metadata": {},
   "outputs": [
    {
     "data": {
      "text/plain": [
       "(0.0, 5.0)"
      ]
     },
     "execution_count": 22,
     "metadata": {},
     "output_type": "execute_result"
    },
    {
     "data": {
      "image/png": "[encoded data removed]",
      "text/plain": [
       "<Figure size 864x360 with 2 Axes>"
      ]
     },
     "metadata": {
      "needs_background": "light"
     },
     "output_type": "display_data"
    }
   ],
   "source": [
    "x = np.linspace(-0.1, np.pi+0.1, 100)\n",
    "\n",
    "i = 100\n",
    "theta = network_builder._positions[i]\n",
    "\n",
    "fix, (ax1, ax2) = plt.subplots(1, 2, figsize=(12,5))\n",
    "\n",
    "ax1.hist(network_builder._similarities, density=True, bins=100);\n",
    "ax1.plot(x, rng.pdf_similarity(x, parameter=rate, parameter_type='rate', a=alpha) , linewidth=3)\n",
    "ax1.set_title(\"Similarity distribution\", fontsize=18);\n",
    "\n",
    "ax2.hist(network_builder.similarities[i,:], density=True, bins=100);\n",
    "ax2.plot(x, rng.pdf_conditional_similarity(x, theta=theta, parameter=rate, a=alpha) , linewidth=5, c='r')\n",
    "ax2.plot(x, pdf_conditional_similarity(x, theta=theta, rate=rate, a=alpha) , linewidth=3, c='k')\n",
    "ax2.set_title(rf\"Cond. Similarity distribution ($\\theta = {theta:.2f}$, $a = {alpha:.2f}$)\", fontsize=18);\n",
    "\n",
    "ax2.set_ylim(0, 5)"
   ]
  },
  {
   "cell_type": "code",
   "execution_count": 23,
   "id": "bcc0ad15",
   "metadata": {},
   "outputs": [
    {
     "name": "stdout",
     "output_type": "stream",
     "text": [
      "175 µs ± 23.9 µs per loop (mean ± std. dev. of 7 runs, 1000 loops each)\n"
     ]
    }
   ],
   "source": [
    "%%timeit \n",
    "\n",
    "rng.pdf_conditional_similarity(x, theta=theta, a=alpha, parameter=rate, parameter_type='rate')"
   ]
  },
  {
   "cell_type": "code",
   "execution_count": 24,
   "id": "3560f4e9",
   "metadata": {},
   "outputs": [
    {
     "name": "stdout",
     "output_type": "stream",
     "text": [
      "49.7 µs ± 4.03 µs per loop (mean ± std. dev. of 7 runs, 10000 loops each)\n"
     ]
    }
   ],
   "source": [
    "%%timeit\n",
    "\n",
    "pdf_conditional_similarity(x, theta=theta, rate=rate, a=alpha)"
   ]
  },
  {
   "cell_type": "code",
   "execution_count": 25,
   "id": "f523e7ab",
   "metadata": {},
   "outputs": [],
   "source": [
    "def pdf_conditional_mean_similarity(theta, a, rate):\n",
    "    return 2*np.pi*a*quad(lambda t : t*pdf_conditional_similarity(t, theta=theta, rate=rate, a=alpha), 0, 1)[0]"
   ]
  },
  {
   "cell_type": "code",
   "execution_count": 26,
   "id": "11d94415",
   "metadata": {},
   "outputs": [
    {
     "data": {
      "text/plain": [
       "0.4450027220867226"
      ]
     },
     "execution_count": 26,
     "metadata": {},
     "output_type": "execute_result"
    }
   ],
   "source": [
    "x = np.linspace(-0.1, np.pi+0.1, 100)\n",
    "\n",
    "i = 100\n",
    "theta = network_builder._positions[i]\n",
    "np.mean(network_builder.similarities[i,:])"
   ]
  },
  {
   "cell_type": "code",
   "execution_count": 27,
   "id": "16f13667",
   "metadata": {},
   "outputs": [
    {
     "name": "stdout",
     "output_type": "stream",
     "text": [
      "0.4419001984356344\n",
      "0.799639546166145\n"
     ]
    }
   ],
   "source": [
    "print(quad(lambda t : t*pdf_conditional_similarity(t, theta=theta, rate=rate, a=alpha), 0, 1)[0])\n",
    "print(pdf_conditional_mean_similarity(theta=theta, a=alpha, rate=rate))"
   ]
  },
  {
   "cell_type": "markdown",
   "id": "e7c18685",
   "metadata": {},
   "source": [
    "## Probability"
   ]
  },
  {
   "cell_type": "code",
   "execution_count": 28,
   "id": "e3c21276",
   "metadata": {},
   "outputs": [],
   "source": [
    "N = 2**10\n",
    "beta = np.random.uniform()\n",
    "alpha = np.random.uniform(0, 0.5)\n",
    "\n",
    "rate  = np.tan(np.pi * (1-beta) / 2)\n",
    "\n",
    "max_rho = rng.classes.network_model.mean_similarity(a=alpha, rate = rate)\n",
    "rho = np.random.uniform(0, max_rho)\n",
    "\n",
    "K = rng.classes.network_model.density_to_interaction_strength(rho, a=alpha, rate=rate)\n",
    "density = rng.classes.network_model.mean_similarity(a=alpha, rate = rate)*K\n",
    "\n",
    "network_builder = NetworkBuilder()\n",
    "network_builder.set_distribution('exponential', scale = 1/rate)\n",
    "network_builder.instantiate_positions(N)\n",
    "network_builder.calculate_distances(metric = 'euclidean', circular = True)\n",
    "network_builder.calculate_similarities(alpha = alpha, sim_func = 'box_cosine')\n",
    "network_builder.calculate_probabilities(intercept=0, slope = K)\n",
    "network_builder.instantiate_network()"
   ]
  },
  {
   "cell_type": "code",
   "execution_count": 29,
   "id": "85daaabc",
   "metadata": {},
   "outputs": [],
   "source": [
    "assert np.isclose(rho, density)"
   ]
  },
  {
   "cell_type": "code",
   "execution_count": 30,
   "id": "6daba583",
   "metadata": {},
   "outputs": [],
   "source": [
    "def pdf_conditional_probability(t, theta, a, rate, K):\n",
    "    support = np.where((0 <= t) & (t <= 1), 1, 0.)\n",
    "    \n",
    "    norm = 4*a*np.pi*rate*np.exp(-rate*theta) / (1 - np.exp(-2*np.pi*rate))\n",
    "    cond = (t >= 1 - min(theta, 2*np.pi-theta) / (2*a*np.pi))\n",
    "    \n",
    "    term = np.where(cond, \n",
    "                    np.cosh(rate*2*a*np.pi*(1-t)),\n",
    "                    np.cosh(rate*np.pi*(1-2*a*(1-t))) * np.exp(np.sign(theta-2*a*np.pi*(1-t))*rate * np.pi))\n",
    "    \n",
    "    return support * norm * term / K"
   ]
  },
  {
   "cell_type": "code",
   "execution_count": 33,
   "id": "c4ccbe54",
   "metadata": {},
   "outputs": [
    {
     "name": "stdout",
     "output_type": "stream",
     "text": [
      "0.022620628911794286\n",
      "0.02265946177501107\n",
      "0.022661239161688943\n",
      "\n",
      "0.019542889977154282\n",
      "0.019597466775240168\n",
      "0.01959746881734731\n",
      "\n",
      "0.021810151470220925\n",
      "0.02181965523694154\n",
      "0.02182019052377433\n",
      "\n",
      "0.020488158648946306\n",
      "0.020529646254054935\n",
      "0.020529679677497525\n",
      "\n",
      "0.02243812527368196\n",
      "0.022513259199700833\n",
      "0.02251325939761954\n",
      "\n",
      "0.02010670592413447\n",
      "0.020225186264653753\n",
      "0.02022518600270771\n",
      "\n",
      "0.01007490316661099\n",
      "0.010066098102100605\n"
     ]
    },
    {
     "ename": "NameError",
     "evalue": "free variable 'integrand' referenced before assignment in enclosing scope",
     "output_type": "error",
     "traceback": [
      "\u001b[0;31m---------------------------------------------------------------------------\u001b[0m",
      "\u001b[0;31mNameError\u001b[0m                                 Traceback (most recent call last)",
      "\u001b[0;32m/var/folders/hr/pw6v38ln34d_87nsgcx3qjz80000gn/T/ipykernel_43767/2192394773.py\u001b[0m in \u001b[0;36m<module>\u001b[0;34m\u001b[0m\n\u001b[1;32m      6\u001b[0m     \u001b[0mprint\u001b[0m\u001b[0;34m(\u001b[0m\u001b[0mnp\u001b[0m\u001b[0;34m.\u001b[0m\u001b[0mmean\u001b[0m\u001b[0;34m(\u001b[0m\u001b[0mnetwork_builder\u001b[0m\u001b[0;34m.\u001b[0m\u001b[0mprobabilities\u001b[0m\u001b[0;34m[\u001b[0m\u001b[0mi\u001b[0m\u001b[0;34m,\u001b[0m\u001b[0;34m:\u001b[0m\u001b[0;34m]\u001b[0m\u001b[0;34m)\u001b[0m\u001b[0;34m)\u001b[0m\u001b[0;34m\u001b[0m\u001b[0;34m\u001b[0m\u001b[0m\n\u001b[1;32m      7\u001b[0m     \u001b[0mprint\u001b[0m\u001b[0;34m(\u001b[0m\u001b[0mquad\u001b[0m\u001b[0;34m(\u001b[0m\u001b[0;32mlambda\u001b[0m \u001b[0mt\u001b[0m \u001b[0;34m:\u001b[0m \u001b[0mt\u001b[0m\u001b[0;34m/\u001b[0m\u001b[0mK\u001b[0m \u001b[0;34m*\u001b[0m \u001b[0mpdf_conditional_similarity\u001b[0m\u001b[0;34m(\u001b[0m\u001b[0mt\u001b[0m\u001b[0;34m/\u001b[0m\u001b[0mK\u001b[0m\u001b[0;34m,\u001b[0m \u001b[0mtheta\u001b[0m\u001b[0;34m=\u001b[0m\u001b[0mtheta\u001b[0m\u001b[0;34m,\u001b[0m \u001b[0mrate\u001b[0m\u001b[0;34m=\u001b[0m\u001b[0mrate\u001b[0m\u001b[0;34m,\u001b[0m \u001b[0ma\u001b[0m\u001b[0;34m=\u001b[0m\u001b[0malpha\u001b[0m\u001b[0;34m)\u001b[0m\u001b[0;34m,\u001b[0m \u001b[0;36m0\u001b[0m\u001b[0;34m,\u001b[0m \u001b[0;36m1\u001b[0m\u001b[0;34m)\u001b[0m\u001b[0;34m[\u001b[0m\u001b[0;36m0\u001b[0m\u001b[0;34m]\u001b[0m\u001b[0;34m)\u001b[0m\u001b[0;34m\u001b[0m\u001b[0;34m\u001b[0m\u001b[0m\n\u001b[0;32m----> 8\u001b[0;31m     \u001b[0mprint\u001b[0m\u001b[0;34m(\u001b[0m\u001b[0mpdf_conditional_mean_probability\u001b[0m\u001b[0;34m(\u001b[0m\u001b[0mtheta\u001b[0m\u001b[0;34m=\u001b[0m\u001b[0mtheta\u001b[0m\u001b[0;34m,\u001b[0m \u001b[0ma\u001b[0m\u001b[0;34m=\u001b[0m\u001b[0malpha\u001b[0m\u001b[0;34m,\u001b[0m \u001b[0mrate\u001b[0m\u001b[0;34m=\u001b[0m\u001b[0mrate\u001b[0m\u001b[0;34m,\u001b[0m \u001b[0mK\u001b[0m\u001b[0;34m=\u001b[0m\u001b[0mK\u001b[0m\u001b[0;34m)\u001b[0m\u001b[0;34m)\u001b[0m\u001b[0;34m\u001b[0m\u001b[0;34m\u001b[0m\u001b[0m\n\u001b[0m\u001b[1;32m      9\u001b[0m \u001b[0;34m\u001b[0m\u001b[0m\n\u001b[1;32m     10\u001b[0m     \u001b[0mprint\u001b[0m\u001b[0;34m(\u001b[0m\u001b[0;34m)\u001b[0m\u001b[0;34m\u001b[0m\u001b[0;34m\u001b[0m\u001b[0m\n",
      "\u001b[0;32m/var/folders/hr/pw6v38ln34d_87nsgcx3qjz80000gn/T/ipykernel_43767/657011036.py\u001b[0m in \u001b[0;36mpdf_conditional_mean_probability\u001b[0;34m(theta, a, rate, K)\u001b[0m\n\u001b[1;32m     31\u001b[0m                                                              rate=rate), 0, 2*a*np.pi)[0]\n\u001b[1;32m     32\u001b[0m     \u001b[0;32melse\u001b[0m\u001b[0;34m:\u001b[0m\u001b[0;34m\u001b[0m\u001b[0;34m\u001b[0m\u001b[0m\n\u001b[0;32m---> 33\u001b[0;31m         inte = quad(lambda t : (1-t/(2*a*np.pi)) * integrand(t, \n\u001b[0m\u001b[1;32m     34\u001b[0m                                                              \u001b[0mtheta\u001b[0m\u001b[0;34m=\u001b[0m\u001b[0mtheta\u001b[0m\u001b[0;34m,\u001b[0m\u001b[0;34m\u001b[0m\u001b[0;34m\u001b[0m\u001b[0m\n\u001b[1;32m     35\u001b[0m                                                              rate=rate), 0, 2*a*np.pi)[0]\n",
      "\u001b[0;32m~/Documents/coding/venvs/ringity/lib/python3.9/site-packages/scipy/integrate/quadpack.py\u001b[0m in \u001b[0;36mquad\u001b[0;34m(func, a, b, args, full_output, epsabs, epsrel, limit, points, weight, wvar, wopts, maxp1, limlst)\u001b[0m\n\u001b[1;32m    349\u001b[0m \u001b[0;34m\u001b[0m\u001b[0m\n\u001b[1;32m    350\u001b[0m     \u001b[0;32mif\u001b[0m \u001b[0mweight\u001b[0m \u001b[0;32mis\u001b[0m \u001b[0;32mNone\u001b[0m\u001b[0;34m:\u001b[0m\u001b[0;34m\u001b[0m\u001b[0;34m\u001b[0m\u001b[0m\n\u001b[0;32m--> 351\u001b[0;31m         retval = _quad(func, a, b, args, full_output, epsabs, epsrel, limit,\n\u001b[0m\u001b[1;32m    352\u001b[0m                        points)\n\u001b[1;32m    353\u001b[0m     \u001b[0;32melse\u001b[0m\u001b[0;34m:\u001b[0m\u001b[0;34m\u001b[0m\u001b[0;34m\u001b[0m\u001b[0m\n",
      "\u001b[0;32m~/Documents/coding/venvs/ringity/lib/python3.9/site-packages/scipy/integrate/quadpack.py\u001b[0m in \u001b[0;36m_quad\u001b[0;34m(func, a, b, args, full_output, epsabs, epsrel, limit, points)\u001b[0m\n\u001b[1;32m    461\u001b[0m     \u001b[0;32mif\u001b[0m \u001b[0mpoints\u001b[0m \u001b[0;32mis\u001b[0m \u001b[0;32mNone\u001b[0m\u001b[0;34m:\u001b[0m\u001b[0;34m\u001b[0m\u001b[0;34m\u001b[0m\u001b[0m\n\u001b[1;32m    462\u001b[0m         \u001b[0;32mif\u001b[0m \u001b[0minfbounds\u001b[0m \u001b[0;34m==\u001b[0m \u001b[0;36m0\u001b[0m\u001b[0;34m:\u001b[0m\u001b[0;34m\u001b[0m\u001b[0;34m\u001b[0m\u001b[0m\n\u001b[0;32m--> 463\u001b[0;31m             \u001b[0;32mreturn\u001b[0m \u001b[0m_quadpack\u001b[0m\u001b[0;34m.\u001b[0m\u001b[0m_qagse\u001b[0m\u001b[0;34m(\u001b[0m\u001b[0mfunc\u001b[0m\u001b[0;34m,\u001b[0m\u001b[0ma\u001b[0m\u001b[0;34m,\u001b[0m\u001b[0mb\u001b[0m\u001b[0;34m,\u001b[0m\u001b[0margs\u001b[0m\u001b[0;34m,\u001b[0m\u001b[0mfull_output\u001b[0m\u001b[0;34m,\u001b[0m\u001b[0mepsabs\u001b[0m\u001b[0;34m,\u001b[0m\u001b[0mepsrel\u001b[0m\u001b[0;34m,\u001b[0m\u001b[0mlimit\u001b[0m\u001b[0;34m)\u001b[0m\u001b[0;34m\u001b[0m\u001b[0;34m\u001b[0m\u001b[0m\n\u001b[0m\u001b[1;32m    464\u001b[0m         \u001b[0;32melse\u001b[0m\u001b[0;34m:\u001b[0m\u001b[0;34m\u001b[0m\u001b[0;34m\u001b[0m\u001b[0m\n\u001b[1;32m    465\u001b[0m             \u001b[0;32mreturn\u001b[0m \u001b[0m_quadpack\u001b[0m\u001b[0;34m.\u001b[0m\u001b[0m_qagie\u001b[0m\u001b[0;34m(\u001b[0m\u001b[0mfunc\u001b[0m\u001b[0;34m,\u001b[0m\u001b[0mbound\u001b[0m\u001b[0;34m,\u001b[0m\u001b[0minfbounds\u001b[0m\u001b[0;34m,\u001b[0m\u001b[0margs\u001b[0m\u001b[0;34m,\u001b[0m\u001b[0mfull_output\u001b[0m\u001b[0;34m,\u001b[0m\u001b[0mepsabs\u001b[0m\u001b[0;34m,\u001b[0m\u001b[0mepsrel\u001b[0m\u001b[0;34m,\u001b[0m\u001b[0mlimit\u001b[0m\u001b[0;34m)\u001b[0m\u001b[0;34m\u001b[0m\u001b[0;34m\u001b[0m\u001b[0m\n",
      "\u001b[0;32m/var/folders/hr/pw6v38ln34d_87nsgcx3qjz80000gn/T/ipykernel_43767/657011036.py\u001b[0m in \u001b[0;36m<lambda>\u001b[0;34m(t)\u001b[0m\n\u001b[1;32m     31\u001b[0m                                                              rate=rate), 0, 2*a*np.pi)[0]\n\u001b[1;32m     32\u001b[0m     \u001b[0;32melse\u001b[0m\u001b[0;34m:\u001b[0m\u001b[0;34m\u001b[0m\u001b[0;34m\u001b[0m\u001b[0m\n\u001b[0;32m---> 33\u001b[0;31m         inte = quad(lambda t : (1-t/(2*a*np.pi)) * integrand(t, \n\u001b[0m\u001b[1;32m     34\u001b[0m                                                              \u001b[0mtheta\u001b[0m\u001b[0;34m=\u001b[0m\u001b[0mtheta\u001b[0m\u001b[0;34m,\u001b[0m\u001b[0;34m\u001b[0m\u001b[0;34m\u001b[0m\u001b[0m\n\u001b[1;32m     35\u001b[0m                                                              rate=rate), 0, 2*a*np.pi)[0]\n",
      "\u001b[0;31mNameError\u001b[0m: free variable 'integrand' referenced before assignment in enclosing scope"
     ]
    }
   ],
   "source": [
    "x = np.linspace(-0.1, np.pi+0.1, 100)\n",
    "\n",
    "for i in random.sample(range(100), 10):\n",
    "    theta = network_builder._positions[i]\n",
    "\n",
    "    print(np.mean(network_builder.probabilities[i,:]))\n",
    "    print(quad(lambda t : t/K * pdf_conditional_similarity(t/K, theta=theta, rate=rate, a=alpha), 0, 1)[0])\n",
    "    print(pdf_conditional_mean_probability(theta=theta, a=alpha, rate=rate, K=K))\n",
    "    \n",
    "    print()"
   ]
  },
  {
   "cell_type": "code",
   "execution_count": null,
   "id": "f0efbd75",
   "metadata": {},
   "outputs": [],
   "source": []
  }
 ],
 "metadata": {
  "kernelspec": {
   "display_name": "ringity",
   "language": "python",
   "name": "ringity"
  },
  "language_info": {
   "codemirror_mode": {
    "name": "ipython",
    "version": 3
   },
   "file_extension": ".py",
   "mimetype": "text/x-python",
   "name": "python",
   "nbconvert_exporter": "python",
   "pygments_lexer": "ipython3",
   "version": "3.9.5"
  }
 },
 "nbformat": 4,
 "nbformat_minor": 5
}
