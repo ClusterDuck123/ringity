{
 "cells": [
  {
   "cell_type": "code",
   "execution_count": 1,
   "id": "15998280",
   "metadata": {},
   "outputs": [],
   "source": [
    "import time\n",
    "import numpy as np\n",
    "import pandas as pd\n",
    "import ringity as rng\n",
    "import seaborn as sns\n",
    "import networkx as nx\n",
    "import matplotlib.pyplot as plt\n",
    "\n",
    "from pathlib import Path\n",
    "from collections import Counter\n",
    "from collections import defaultdict\n",
    "from ringity.generators.utils.param_utils import rate_to_beta, beta_to_rate"
   ]
  },
  {
   "cell_type": "markdown",
   "id": "519c8494",
   "metadata": {},
   "source": [
    "## Model parameters"
   ]
  },
  {
   "cell_type": "code",
   "execution_count": 2,
   "id": "1a00616f",
   "metadata": {},
   "outputs": [],
   "source": [
    "N = 2**9\n",
    "\n",
    "config_dict = {\n",
    "    \n",
    "# MADE IT TO FIGURE\n",
    "    'default' : {\n",
    "        'c' : 1,\n",
    "        'r' : 0.25,\n",
    "        'beta' : 1,\n",
    "        'rho' : None,\n",
    "    },\n",
    "    'longerResponse' : {\n",
    "        'c' : 1,\n",
    "        'r' : 0.375,\n",
    "        'beta' : 1,\n",
    "        'rho' : None,\n",
    "    },\n",
    "    'weakerInteraction' : {\n",
    "        'c' : 0.1,\n",
    "        'r' : 0.25,\n",
    "        'beta' : 1,\n",
    "        'rho' : None,\n",
    "    },\n",
    "    'shorterDelay' : {\n",
    "        'c' : 1,\n",
    "        'r' : 0.25,\n",
    "        'beta' : 0.75,\n",
    "        'rho' : None,\n",
    "    },\n",
    "    'constantDensity1' : {\n",
    "        'c' : None,\n",
    "        'r' : 0.375,\n",
    "        'beta' : 1,\n",
    "        'rho' : 0.025,\n",
    "    },\n",
    "    'constantDensity2' : {\n",
    "        'c' : 1,\n",
    "        'r' : None,\n",
    "        'beta' : 1,\n",
    "        'rho' : 0.1,\n",
    "    },\n",
    "    'constantDensity3' : {\n",
    "        'c' : None,\n",
    "        'r' : 0.025,\n",
    "        'beta' : 1,\n",
    "        'rho' : 0.025,\n",
    "    },\n",
    "    'KuramotoExperiments' : {\n",
    "        'c' : None,\n",
    "        'r' : 0.1,\n",
    "        'beta' : 0.8,\n",
    "        'rho' : 0.1,\n",
    "    },\n",
    "    \n",
    "# OTHERS\n",
    "    'shorterResponse' : {\n",
    "        'c' : 1,\n",
    "        'r' : 0.125,\n",
    "        'beta' : 1,\n",
    "        'rho' : None,\n",
    "    },\n",
    "    'evenLongerResponse' : {\n",
    "        'c' : 1,\n",
    "        'r' : 0.75,\n",
    "        'beta' : 1,\n",
    "        'rho' : None,\n",
    "    },\n",
    "    'evenShorterDelay' : {\n",
    "        'c' : 1,\n",
    "        'r' : 0.25,\n",
    "        'beta' : 0.5,\n",
    "        'rho' : None,\n",
    "    },\n",
    "    'random' : {\n",
    "        'c' : np.random.uniform(),\n",
    "        'r' : np.random.uniform(),\n",
    "        'beta' : np.random.uniform(),\n",
    "        'rho' : None,\n",
    "    },\n",
    "    'random_rho' : {\n",
    "        'c' : np.random.uniform(),\n",
    "        'r' : None,\n",
    "        'beta' : np.random.uniform(),\n",
    "        'rho' : np.random.uniform(),\n",
    "    }\n",
    "}"
   ]
  },
  {
   "cell_type": "markdown",
   "id": "5226080e",
   "metadata": {},
   "source": [
    "## Default model"
   ]
  },
  {
   "cell_type": "code",
   "execution_count": 3,
   "id": "24b900ef",
   "metadata": {},
   "outputs": [],
   "source": [
    "configuration = 'constantDensity2'\n",
    "\n",
    "kwargs = config_dict[configuration]"
   ]
  },
  {
   "cell_type": "code",
   "execution_count": 4,
   "id": "7ef2fbe8",
   "metadata": {},
   "outputs": [
    {
     "name": "stdout",
     "output_type": "stream",
     "text": [
      "Response parameter was set  to: r = 0.1\n",
      "Rate parameter was set to:   rate = 0.0\n",
      "Coupling parameter was set to:  c = 1\n",
      "Density parameter was set to: rho = 0.1\n",
      "Uniform (beta = 1) model detected.\n"
     ]
    }
   ],
   "source": [
    "G, pos, builder = rng.network_model(\n",
    "                                N = N,\n",
    "                                return_positions = True, \n",
    "                                return_builder = True,\n",
    "                                verbose = True,\n",
    "                                **kwargs)"
   ]
  },
  {
   "cell_type": "code",
   "execution_count": 5,
   "id": "4d70cf85",
   "metadata": {},
   "outputs": [],
   "source": [
    "rho_obs = nx.density(G)\n",
    "rho_exp = builder.density\n",
    "score = rng.ring_score(G)"
   ]
  },
  {
   "cell_type": "code",
   "execution_count": 6,
   "id": "a683458f",
   "metadata": {},
   "outputs": [
    {
     "name": "stdout",
     "output_type": "stream",
     "text": [
      "rho_obs = 0.099\n",
      "rho_exp = 0.100\n",
      "score   = 0.989\n"
     ]
    }
   ],
   "source": [
    "print(f\"rho_obs = {rho_obs:.3f}\")\n",
    "print(f\"rho_exp = {rho_exp:.3f}\")\n",
    "print(f\"score   = {score:.3f}\")"
   ]
  },
  {
   "cell_type": "code",
   "execution_count": 7,
   "id": "9a796044",
   "metadata": {},
   "outputs": [],
   "source": [
    "circ_layout = {n:(np.cos(t), np.sin(t)) for n,t in enumerate(pos)}\n",
    "spring_layout = nx.spring_layout(G)"
   ]
  },
  {
   "cell_type": "code",
   "execution_count": 8,
   "id": "b7f84785",
   "metadata": {},
   "outputs": [],
   "source": [
    "c = builder.coupling\n",
    "r = builder.response\n",
    "rho = builder.density\n",
    "beta = rate_to_beta(builder.rate)"
   ]
  },
  {
   "cell_type": "markdown",
   "id": "c84411e1",
   "metadata": {},
   "source": [
    "## Interaction function"
   ]
  },
  {
   "cell_type": "code",
   "execution_count": 9,
   "id": "b6d61a3a",
   "metadata": {},
   "outputs": [
    {
     "data": {
      "image/png": "[encoded data removed]",
      "text/plain": [
       "<Figure size 576x360 with 1 Axes>"
      ]
     },
     "metadata": {
      "needs_background": "light"
     },
     "output_type": "display_data"
    }
   ],
   "source": [
    "x = np.linspace(0, np.pi, 100)\n",
    "y = c*(1-x/(2*np.pi*r)).clip(0)\n",
    "\n",
    "fig_func, ax = plt.subplots(figsize = (8,5))\n",
    "\n",
    "ax.plot(x, y, linewidth = 5)\n",
    "\n",
    "\n",
    "plt.xticks([2*np.pi*r, np.pi], [r'$2\\pi r$', r'$\\pi$'])\n",
    "plt.yticks([0, 0.5, 1, c], [r'$0$', r'$0.5$', r'$1$', r'$c$'])\n",
    "\n",
    "ax.set_ylim(-0.025, 1.025)\n",
    "\n",
    "ax.spines['right'].set_visible(False)\n",
    "ax.spines['top'].set_visible(False)\n",
    "\n",
    "rng.ax_setup(ax)"
   ]
  },
  {
   "cell_type": "markdown",
   "id": "c72d1027",
   "metadata": {},
   "source": [
    "## Network visualization"
   ]
  },
  {
   "cell_type": "code",
   "execution_count": 10,
   "id": "fad32f3b",
   "metadata": {},
   "outputs": [
    {
     "data": {
      "image/png": "[encoded data removed]",
      "text/plain": [
       "<Figure size 360x360 with 1 Axes>"
      ]
     },
     "metadata": {},
     "output_type": "display_data"
    }
   ],
   "source": [
    "netviz_circ_fig, ax = plt.subplots(figsize = (5,5))\n",
    "\n",
    "ax.set_xlim(-1.175,1.175)\n",
    "ax.set_ylim(-1.175,1.175)\n",
    "\n",
    "rng.plot_nx(G, ax=ax, pos = circ_layout)"
   ]
  },
  {
   "cell_type": "code",
   "execution_count": 11,
   "id": "a0385d23",
   "metadata": {},
   "outputs": [
    {
     "data": {
      "image/png": "[encoded data removed]",
      "text/plain": [
       "<Figure size 360x360 with 1 Axes>"
      ]
     },
     "metadata": {},
     "output_type": "display_data"
    }
   ],
   "source": [
    "netviz_spri_fig, ax = plt.subplots(figsize = (5,5))\n",
    "\n",
    "ax.set_xlim(-1.175,1.175)\n",
    "ax.set_ylim(-1.175,1.175)\n",
    "\n",
    "rng.plot_nx(G, ax=ax, pos = spring_layout)"
   ]
  },
  {
   "cell_type": "markdown",
   "id": "e07025b7",
   "metadata": {},
   "source": [
    "## ring-score distribution"
   ]
  },
  {
   "cell_type": "code",
   "execution_count": 22,
   "id": "328fcfc6",
   "metadata": {},
   "outputs": [],
   "source": [
    "n_ensemble = 2**6\n",
    "n_arg_points = 2**6\n",
    "N = 2**9\n",
    "\n",
    "# variing response, adaptive coupling\n",
    "ind_arg = 'rho'\n",
    "dep_arg = 'r'\n",
    "\n",
    "new_kwargs = kwargs.copy()\n",
    "new_kwargs.pop(ind_arg, None)\n",
    "new_kwargs.pop(dep_arg, None)\n",
    "\n",
    "arg_list = np.linspace(0, 1, n_arg_points+1)[1:]"
   ]
  },
  {
   "cell_type": "code",
   "execution_count": null,
   "id": "9c6f5fb7",
   "metadata": {},
   "outputs": [
    {
     "name": "stdout",
     "output_type": "stream",
     "text": [
      "0.015625 8.0108642578125e-05\n",
      "0.03125 12.223940134048462\n",
      "0.046875 83.97788119316101\n",
      "0.0625 168.4276909828186\n",
      "0.078125 253.8394091129303\n",
      "0.09375 343.8465120792389\n",
      "0.109375 436.62173891067505\n",
      "0.125 531.3943920135498\n",
      "0.140625 629.6988520622253\n",
      "0.15625 730.5917460918427\n",
      "0.171875 834.792407989502\n"
     ]
    }
   ],
   "source": [
    "score = defaultdict(list)\n",
    "\n",
    "t1 = time.time()\n",
    "for arg in arg_list:\n",
    "    t2 = time.time()\n",
    "    print(arg, t2-t1)\n",
    "    for _ in range(n_ensemble):\n",
    "        G = rng.network_model(N = N, **new_kwargs, **{ind_arg : arg})\n",
    "        try:\n",
    "            score[arg].append(rng.ring_score(G))\n",
    "        except rng.DisconnectedGraphError:\n",
    "            continue\n",
    "        \n",
    "t2 = time.time()\n",
    "print(20*'-')\n",
    "print(t2 - t1)"
   ]
  },
  {
   "cell_type": "code",
   "execution_count": null,
   "id": "6cbfbb79",
   "metadata": {},
   "outputs": [],
   "source": [
    "plot_df = pd.DataFrame(dtype = float)\n",
    "\n",
    "for r, scores in score.items():\n",
    "    tmp_df = pd.DataFrame([[r]*len(scores),scores])\n",
    "    plot_df = pd.concat([plot_df, tmp_df.T], ignore_index = True)\n",
    "    \n",
    "plot_df.columns = (ind_arg, 'score')"
   ]
  },
  {
   "cell_type": "code",
   "execution_count": null,
   "id": "be4ccae1",
   "metadata": {},
   "outputs": [],
   "source": [
    "fig, ax = plt.subplots(figsize = (12,8))\n",
    "sns.lineplot(x = ind_arg, y = \"score\", data = plot_df, ax=ax, size=14)\n",
    "rng.ax_setup(ax)\n",
    "\n",
    "fixed_param_specs = [f\"N{N}\"] + [f\"{k}{v:.2f}\" for k,v in new_kwargs.items()]\n",
    "parm_specs = '_'.join(fixed_param_specs) + f\"_{ind_arg}_{dep_arg}\"\n",
    "\n",
    "plot_df.to_csv(f\"/Users/dottolab/Desktop/ring_score_plots/scores_{parm_specs}.csv\")\n",
    "plt.savefig(f\"/Users/dottolab/Desktop/ring_score_plots/scores_{parm_specs}.png\")"
   ]
  },
  {
   "cell_type": "markdown",
   "id": "a8407db7",
   "metadata": {},
   "source": [
    "---"
   ]
  },
  {
   "cell_type": "code",
   "execution_count": 12,
   "id": "203e0f3c",
   "metadata": {},
   "outputs": [],
   "source": [
    "N = builder.N\n",
    "c = builder.coupling\n",
    "beta = rate_to_beta(builder.rate)\n",
    "\n",
    "r_list = np.linspace(0, 1, 11)[1:]"
   ]
  },
  {
   "cell_type": "code",
   "execution_count": 27,
   "id": "8c9856c4",
   "metadata": {},
   "outputs": [
    {
     "name": "stdout",
     "output_type": "stream",
     "text": [
      "0.1\n",
      "0.2\n",
      "0.30000000000000004\n",
      "0.4\n",
      "0.5\n",
      "0.6000000000000001\n",
      "0.7000000000000001\n",
      "0.8\n",
      "0.9\n",
      "1.0\n",
      "--------------------\n",
      "103.40842390060425\n"
     ]
    }
   ],
   "source": [
    "score = defaultdict(list)\n",
    "\n",
    "t1 = time.time()\n",
    "for r in r_list:\n",
    "    print(r)\n",
    "    for _ in range(n_ensemble):\n",
    "        G = rng.network_model(N=N, r=r, beta=beta, c = builder.coupling)\n",
    "        score[r].append(rng.ring_score(G))\n",
    "        \n",
    "t2 = time.time()\n",
    "print(20*'-')\n",
    "print(t2 - t1)"
   ]
  },
  {
   "cell_type": "code",
   "execution_count": 28,
   "id": "640a39f1",
   "metadata": {},
   "outputs": [
    {
     "data": {
      "image/png": "[encoded data removed]",
      "text/plain": [
       "<Figure size 864x576 with 1 Axes>"
      ]
     },
     "metadata": {
      "needs_background": "light"
     },
     "output_type": "display_data"
    }
   ],
   "source": [
    "plot_df = pd.melt(pd.DataFrame(score))\n",
    "\n",
    "fig, ax = plt.subplots(figsize = (12,8))\n",
    "sns.lineplot(x = \"variable\", y = \"value\", data = plot_df, ax=ax, size=14)\n",
    "rng.ax_setup(ax)\n",
    "plt.savefig(\"/Users/markusyoussef/Desktop/test.png\")"
   ]
  },
  {
   "cell_type": "markdown",
   "id": "9331c7de",
   "metadata": {},
   "source": [
    "### Variing coupling"
   ]
  },
  {
   "cell_type": "code",
   "execution_count": 15,
   "id": "7676ac97",
   "metadata": {},
   "outputs": [],
   "source": [
    "new_kwargs = {}\n",
    "\n",
    "for k,v in kwargs.items():\n",
    "    if kwargs[k] != config_dict['default'][k]:\n",
    "        arg_name = k\n",
    "    else:\n",
    "        new_kwargs[k] = kwargs[k]\n",
    "\n",
    "arg_list = np.linspace(0, 1, 11)[1:]"
   ]
  },
  {
   "cell_type": "code",
   "execution_count": null,
   "id": "0f2205e9",
   "metadata": {},
   "outputs": [
    {
     "name": "stdout",
     "output_type": "stream",
     "text": [
      "0.1\n",
      "0.2\n",
      "0.30000000000000004\n",
      "0.4\n"
     ]
    }
   ],
   "source": [
    "score = defaultdict(list)\n",
    "\n",
    "t1 = time.time()\n",
    "for arg in arg_list:\n",
    "    print(arg)\n",
    "    for _ in range(n_ensemble):\n",
    "        G = rng.network_model(N=N, **new_kwargs, **{arg_name : arg})\n",
    "        score[r].append(rng.ring_score(G))\n",
    "        \n",
    "t2 = time.time()\n",
    "print(20*'-')\n",
    "print(t2 - t1)"
   ]
  },
  {
   "cell_type": "code",
   "execution_count": null,
   "id": "1a39fcbe",
   "metadata": {},
   "outputs": [],
   "source": [
    "G = rng.network_model(N=N, verbose = True, **new_kwargs, **{arg_name : arg})"
   ]
  },
  {
   "cell_type": "code",
   "execution_count": 27,
   "id": "3036fdd7",
   "metadata": {},
   "outputs": [
    {
     "name": "stdout",
     "output_type": "stream",
     "text": [
      "19.147202968597412\n"
     ]
    }
   ],
   "source": [
    "n_ensemble = 2**4\n",
    "N_list = [2**k for k in range(5, 9)]\n",
    "r = builder.response\n",
    "score = defaultdict(list)\n",
    "\n",
    "t1 = time.time()\n",
    "for N in N_list:\n",
    "    print(N)\n",
    "    for _ in range(n_ensemble):\n",
    "        G = rng.network_model(N=N, c=c, r=r, beta=beta)\n",
    "        score[N].append(rng.ring_score(G))\n",
    "        \n",
    "t2 = time.time()\n",
    "\n",
    "print(t2 - t1)"
   ]
  },
  {
   "cell_type": "code",
   "execution_count": 28,
   "id": "143b67f5",
   "metadata": {},
   "outputs": [],
   "source": [
    "plot_df = pd.melt(pd.DataFrame(score))"
   ]
  },
  {
   "cell_type": "code",
   "execution_count": 29,
   "id": "6ee1f60c",
   "metadata": {},
   "outputs": [
    {
     "data": {
      "image/png": "[encoded data removed]",
      "text/plain": [
       "<Figure size 864x576 with 1 Axes>"
      ]
     },
     "metadata": {
      "needs_background": "light"
     },
     "output_type": "display_data"
    }
   ],
   "source": [
    "fig, ax = plt.subplots(figsize = (12,8))\n",
    "sns.stripplot(x = \"variable\", y = \"value\", data = plot_df, ax=ax, size=14)\n",
    "rng.ax_setup(ax)\n",
    "plt.savefig(\"/Users/markusyoussef/Desktop/test.png\")"
   ]
  },
  {
   "cell_type": "markdown",
   "id": "b2446e94",
   "metadata": {},
   "source": [
    "## Clustering coefficient"
   ]
  },
  {
   "cell_type": "code",
   "execution_count": 12,
   "id": "f2f1b3df",
   "metadata": {},
   "outputs": [
    {
     "data": {
      "image/png": "[encoded data removed]",
      "text/plain": [
       "<Figure size 576x360 with 1 Axes>"
      ]
     },
     "metadata": {
      "needs_background": "light"
     },
     "output_type": "display_data"
    }
   ],
   "source": [
    "clust = []\n",
    "\n",
    "for _ in range(2**8):\n",
    "    G = rng.network_model(N=N, **config_dict[configuration])\n",
    "    clust.extend(rng.clustering_coefficient(G))\n",
    "\n",
    "clust_fig, ax = plt.subplots(figsize = (8,5))\n",
    "\n",
    "ax.hist(clust, \n",
    "        bins=75, range=(0, 0.9), \n",
    "        rwidth = 0.75, density = True);\n",
    "\n",
    "ax.spines['right'].set_visible(False)\n",
    "ax.spines['top'].set_visible(False)\n",
    "\n",
    "rng.ax_setup(ax)"
   ]
  },
  {
   "cell_type": "markdown",
   "id": "4bcd9e89",
   "metadata": {},
   "source": [
    "## Degree distribution"
   ]
  },
  {
   "cell_type": "code",
   "execution_count": 13,
   "id": "74bc7c69",
   "metadata": {},
   "outputs": [],
   "source": [
    "def expected_conditional_similarity(theta, rate, a):\n",
    "    if np.isclose(rate, 0, atol=1e-7):\n",
    "        return a\n",
    "    \n",
    "    if np.isclose(rate, np.inf):\n",
    "        A = 1/(2*np.pi*a)\n",
    "        B = A*np.pi\n",
    "        C = B - 1\n",
    "        return np.clip(np.abs(A*theta - B) - C, 0, 1)\n",
    "    \n",
    "    if theta < np.pi:\n",
    "        if theta <= 2*np.pi*a:\n",
    "            norm = 1 / (1 - np.exp(-2*np.pi*rate)) / (2*a*np.pi*rate)\n",
    "            \n",
    "            theta_term = -theta*rate * (1 - np.exp(-2*np.pi*rate))\n",
    "            \n",
    "            term1  = -2*np.exp(-rate*theta) + 1\n",
    "            term21 =  np.exp(-rate*theta)*(np.exp(-2*a*np.pi*rate) + np.exp((2*a*np.pi - 2*np.pi)*rate))\n",
    "            term22 = -np.exp(-2*np.pi*rate)\n",
    "            \n",
    "            return norm*(term1 + term21 + term22 + theta_term) + 1\n",
    "        else:\n",
    "            theta_term = np.exp(-rate*theta) / (1 - np.exp(-2*np.pi*rate))\n",
    "            alpha_term = (np.cosh(-rate*2*np.pi*a) - 1) / (a*np.pi*rate)\n",
    "            return theta_term * alpha_term\n",
    "        \n",
    "    else:\n",
    "        norm = 2*rate*np.exp(-rate*theta) / (1 - np.exp(-2*np.pi*rate))\n",
    "        \n",
    "        def undef_int(t):\n",
    "            return (np.exp(np.pi*rate)*(np.cosh((np.pi - t)*rate) + (-2*a*np.pi + t)*rate*np.sinh((np.pi - t)*rate)))/(2*a*np.pi*rate**2)\n",
    "        \n",
    "        if 2*np.pi - theta <= 2*np.pi*a:\n",
    "            term1 = (-1 + np.cosh((2*np.pi - theta)*rate) + (2*(-1 + a)*np.pi + theta)*rate*np.sinh((2*np.pi - theta)*rate))/(2*a*np.pi*rate**2)\n",
    "            term2 = undef_int(2*np.pi*a) - undef_int(2*np.pi - theta)\n",
    "            return norm*term1 + norm*term2\n",
    "        else:\n",
    "            return norm*(np.sinh(a*np.pi*rate)**2)/(a*np.pi*rate**2)"
   ]
  },
  {
   "cell_type": "code",
   "execution_count": 14,
   "id": "5683094c",
   "metadata": {},
   "outputs": [],
   "source": [
    "c = builder.coupling\n",
    "r = builder.response\n",
    "rate = builder.rate\n",
    "\n",
    "degs_exp = [p for theta in pos for p in np.random.binomial(N-1, c*expected_conditional_similarity(theta=theta, rate=rate, a=r), size=2**10)]"
   ]
  },
  {
   "cell_type": "code",
   "execution_count": 15,
   "id": "c5d3b763",
   "metadata": {},
   "outputs": [],
   "source": [
    "degs_exp, freqs_exp = zip(*Counter(degs_exp).items())\n",
    "freqs_exp = np.array(freqs_exp) / sum(freqs_exp)"
   ]
  },
  {
   "cell_type": "code",
   "execution_count": 16,
   "id": "4879325a",
   "metadata": {},
   "outputs": [
    {
     "data": {
      "image/png": "[encoded data removed]",
      "text/plain": [
       "<Figure size 576x360 with 1 Axes>"
      ]
     },
     "metadata": {
      "needs_background": "light"
     },
     "output_type": "display_data"
    }
   ],
   "source": [
    "degs = []\n",
    "\n",
    "for _ in range(2**8):\n",
    "    G = rng.network_model(N=N, c=c, r=r, beta=beta)\n",
    "    degs.extend([deg for n, deg in nx.degree(G)])\n",
    "\n",
    "degs_obs, freqs_obs = zip(*Counter(degs).items())\n",
    "freqs_obs = np.array(freqs_obs) / sum(freqs_obs)\n",
    "\n",
    "deg_fig, ax = plt.subplots(figsize = (8,5))\n",
    "\n",
    "ax.hist(degs, \n",
    "        bins = 75, range = (0, 450),\n",
    "        rwidth = 0.75, density = True);\n",
    "\n",
    "ax.plot(degs_exp, freqs_exp, '*r')\n",
    "\n",
    "\n",
    "ax.spines['right'].set_visible(False)\n",
    "ax.spines['top'].set_visible(False)\n",
    "\n",
    "#ax.set_xlabel('degree', fontsize=24)\n",
    "#ax.set_ylabel('frequency', fontsize=18)\n",
    "\n",
    "rng.ax_setup(ax)"
   ]
  },
  {
   "cell_type": "markdown",
   "id": "ec5c7d4c",
   "metadata": {},
   "source": [
    "## Save data"
   ]
  },
  {
   "cell_type": "code",
   "execution_count": 17,
   "id": "6e88a68b",
   "metadata": {},
   "outputs": [],
   "source": [
    "fig_dir = Path(\"/Users/dottolab/Desktop/ring_score_plots\")\n",
    "\n",
    "fig_func.savefig(fig_dir / f\"{configuration}_interactionFunction.png\")\n",
    "fig_func.savefig(fig_dir / f\"{configuration}_interactionFunction.pdf\")\n",
    "\n",
    "#netviz_circ_fig.savefig(f\"/Users/dottolab/Desktop/fig3/{configuration}_network_circular.png\")\n",
    "#netviz_circ_fig.savefig(f\"/Users/dottolab/Desktop/fig3/{configuration}_network_circular.pdf\")\n",
    "\n",
    "netviz_spri_fig.savefig(fig_dir / f\"{configuration}_network_spring.png\")\n",
    "netviz_spri_fig.savefig(fig_dir / f\"{configuration}_network_spring.pdf\")\n",
    "\n",
    "clust_fig.savefig(fig_dir / f\"{configuration}_clustering.png\")\n",
    "clust_fig.savefig(fig_dir / f\"{configuration}_clustering.pdf\")\n",
    "\n",
    "deg_fig.savefig(fig_dir / f\"{configuration}_degree.png\")\n",
    "deg_fig.savefig(fig_dir / f\"{configuration}_degree.pdf\")"
   ]
  },
  {
   "cell_type": "code",
   "execution_count": null,
   "id": "5756fe63",
   "metadata": {},
   "outputs": [],
   "source": []
  }
 ],
 "metadata": {
  "kernelspec": {
   "display_name": "ringity",
   "language": "python",
   "name": "ringity"
  },
  "language_info": {
   "codemirror_mode": {
    "name": "ipython",
    "version": 3
   },
   "file_extension": ".py",
   "mimetype": "text/x-python",
   "name": "python",
   "nbconvert_exporter": "python",
   "pygments_lexer": "ipython3",
   "version": "3.9.6"
  }
 },
 "nbformat": 4,
 "nbformat_minor": 5
}
