{
 "cells": [
  {
   "cell_type": "code",
   "execution_count": null,
   "id": "e6e161e6",
   "metadata": {},
   "outputs": [],
   "source": [
    "import ringity as rng\n",
    "import ringity.generators.geometric_networks as rgeom\n",
    "\n",
    "import numpy as np\n",
    "import networkx as nx"
   ]
  },
  {
   "cell_type": "code",
   "execution_count": null,
   "id": "7579a5a5",
   "metadata": {},
   "outputs": [],
   "source": [
    "n = 1000\n",
    "k = 10\n",
    "p = 0.05\n",
    "\n",
    "G_circ, X_circ = rgeom.circle(N = n, \n",
    "                              n_neighbors = k, \n",
    "                              noise = p, \n",
    "                              return_point_cloud = True)\n",
    "\n",
    "G_ws = nx.watts_strogatz_graph(n = n,\n",
    "                               k = k,\n",
    "                               p = p)"
   ]
  },
  {
   "cell_type": "code",
   "execution_count": null,
   "id": "fde921af",
   "metadata": {},
   "outputs": [],
   "source": [
    "rng.plot(X_circ)"
   ]
  },
  {
   "cell_type": "code",
   "execution_count": null,
   "id": "80c19abc",
   "metadata": {},
   "outputs": [],
   "source": [
    "rng.plot(G_circ, pos = dict(enumerate(X_circ)))"
   ]
  },
  {
   "cell_type": "code",
   "execution_count": null,
   "id": "682ac0fb",
   "metadata": {},
   "outputs": [],
   "source": [
    "t = np.linspace(0, 2*np.pi, n)\n",
    "X_ws = zip(np.cos(t), np.sin(t))\n",
    "\n",
    "rng.plot(G_ws, pos = dict(enumerate(X_ws)))"
   ]
  },
  {
   "cell_type": "code",
   "execution_count": null,
   "id": "2bc7d061",
   "metadata": {},
   "outputs": [],
   "source": [
    "rng.plot_nx(G_circ, dim = 3)"
   ]
  },
  {
   "cell_type": "code",
   "execution_count": null,
   "id": "5137180c",
   "metadata": {},
   "outputs": [],
   "source": [
    "rng.plot_nx(G_ws, dim = 3)"
   ]
  },
  {
   "cell_type": "code",
   "execution_count": null,
   "id": "a1da8b97",
   "metadata": {},
   "outputs": [],
   "source": []
  }
 ],
 "metadata": {
  "kernelspec": {
   "display_name": "ringity",
   "language": "python",
   "name": "ringity"
  },
  "language_info": {
   "codemirror_mode": {
    "name": "ipython",
    "version": 3
   },
   "file_extension": ".py",
   "mimetype": "text/x-python",
   "name": "python",
   "nbconvert_exporter": "python",
   "pygments_lexer": "ipython3",
   "version": "3.9.6"
  }
 },
 "nbformat": 4,
 "nbformat_minor": 5
}
