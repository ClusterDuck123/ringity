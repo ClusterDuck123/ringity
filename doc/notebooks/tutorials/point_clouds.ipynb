{
 "cells": [
  {
   "cell_type": "code",
   "execution_count": 1,
   "id": "89b34166",
   "metadata": {},
   "outputs": [],
   "source": [
    "import numpy as np\n",
    "import ringity as rng\n",
    "import matplotlib.pyplot as plt\n",
    "\n",
    "from ringity.generators import point_clouds"
   ]
  },
  {
   "cell_type": "code",
   "execution_count": 2,
   "id": "a21ef6d1",
   "metadata": {},
   "outputs": [
    {
     "data": {
      "image/png": "[encoded data removed]",
      "text/plain": [
       "<Figure size 432x288 with 1 Axes>"
      ]
     },
     "metadata": {
      "needs_background": "light"
     },
     "output_type": "display_data"
    }
   ],
   "source": [
    "N = 2**8\n",
    "X = point_clouds.circle(N)\n",
    "\n",
    "rng.plot(X)"
   ]
  },
  {
   "cell_type": "code",
   "execution_count": 3,
   "id": "5c7f39ff",
   "metadata": {},
   "outputs": [
    {
     "ename": "AttributeError",
     "evalue": "module 'ringity' has no attribute 'plot'",
     "output_type": "error",
     "traceback": [
      "\u001b[0;31m---------------------------------------------------------------------------\u001b[0m",
      "\u001b[0;31mAttributeError\u001b[0m                            Traceback (most recent call last)",
      "\u001b[0;32m/var/folders/hr/pw6v38ln34d_87nsgcx3qjz80000gn/T/ipykernel_26760/3944224977.py\u001b[0m in \u001b[0;36m<module>\u001b[0;34m\u001b[0m\n\u001b[0;32m----> 1\u001b[0;31m \u001b[0mrng\u001b[0m\u001b[0;34m.\u001b[0m\u001b[0mplot\u001b[0m\u001b[0;34m(\u001b[0m\u001b[0mX\u001b[0m\u001b[0;34m)\u001b[0m\u001b[0;34m\u001b[0m\u001b[0;34m\u001b[0m\u001b[0m\n\u001b[0m",
      "\u001b[0;31mAttributeError\u001b[0m: module 'ringity' has no attribute 'plot'"
     ]
    }
   ],
   "source": []
  },
  {
   "cell_type": "code",
   "execution_count": 7,
   "id": "d5a48171",
   "metadata": {},
   "outputs": [
    {
     "data": {
      "image/png": "[encoded data removed]",
      "text/plain": [
       "<Figure size 432x288 with 1 Axes>"
      ]
     },
     "metadata": {
      "needs_background": "light"
     },
     "output_type": "display_data"
    }
   ],
   "source": [
    "def plot_point_cloud(X, ax = None):\n",
    "    n_obs, n_vars = X.shape\n",
    "    \n",
    "    if ax is None:\n",
    "        fig, ax = plt.subplots()\n",
    "        fig.patch.set_alpha(0)\n",
    "    \n",
    "    if n_vars == 2:\n",
    "        x, y = X.T\n",
    "        plt.scatter(x, y)\n",
    "    \n",
    "    ax_setup(ax)\n",
    "    ax.axis('off');\n",
    "    \n",
    "plot_point_cloud(X)"
   ]
  },
  {
   "cell_type": "code",
   "execution_count": 8,
   "id": "ed2fc2f4",
   "metadata": {},
   "outputs": [
    {
     "data": {
      "text/plain": [
       "True"
      ]
     },
     "execution_count": 8,
     "metadata": {},
     "output_type": "execute_result"
    }
   ],
   "source": [
    "isinstance(X, np.ndarray)"
   ]
  },
  {
   "cell_type": "code",
   "execution_count": 12,
   "id": "2893ee72",
   "metadata": {},
   "outputs": [
    {
     "data": {
      "text/plain": [
       "array([[ 9.27661590e+01,  5.39583285e+02],\n",
       "       [ 1.02067414e+03,  3.89414560e+02],\n",
       "       [-3.41587690e+02,  2.19169496e+02],\n",
       "       [ 9.92302181e+02, -1.07249673e+02],\n",
       "       [ 3.61346297e+02, -1.05165202e+03],\n",
       "       [ 1.77259572e+03,  3.30364036e+02],\n",
       "       [-5.89768312e+02,  1.04034490e+03],\n",
       "       [-1.78717225e+03, -1.76197146e+03],\n",
       "       [ 2.74337638e+02,  1.42007136e+02],\n",
       "       [-1.00711176e+02, -9.47349293e+02],\n",
       "       [ 8.70164170e+02,  5.58889342e+02],\n",
       "       [-2.61219189e+03,  1.49075873e+02],\n",
       "       [-4.79418360e+02, -5.18633298e+02],\n",
       "       [-1.19525142e+03,  6.24160809e+02],\n",
       "       [-2.89689582e+02,  1.10390827e+03],\n",
       "       [-3.05669702e+02,  1.50023255e+03],\n",
       "       [ 1.45085154e+03, -2.83097699e+02],\n",
       "       [ 3.09170089e+02, -5.37067629e+02],\n",
       "       [ 2.91595841e+02, -1.40653345e+01],\n",
       "       [-2.87343001e+02, -1.37725802e+02],\n",
       "       [-1.98992621e+01, -1.37667094e+02],\n",
       "       [-1.59350545e+03,  5.34620448e+02],\n",
       "       [-8.73311077e+01,  2.70985437e+02],\n",
       "       [-2.24682323e+02,  2.47286900e+02],\n",
       "       [-1.56276764e+01, -8.62815890e+02],\n",
       "       [ 1.86766228e+02, -1.42982646e+03],\n",
       "       [ 3.24706215e+02,  2.07932907e+03],\n",
       "       [-7.84956927e+02, -5.41309091e+01],\n",
       "       [ 9.23517325e+02,  7.90860615e+00],\n",
       "       [-2.13154209e+03,  9.50276956e+01],\n",
       "       [-8.38456670e+02, -4.10943768e+02],\n",
       "       [ 4.37584280e+02,  1.39360097e+02],\n",
       "       [-7.91590185e+02,  1.77311891e+02],\n",
       "       [-4.62481034e+02,  9.68034853e+02],\n",
       "       [ 1.17751354e+03, -1.76763554e+03],\n",
       "       [ 1.16319488e+03, -9.95986296e+02],\n",
       "       [ 4.82364917e+02, -2.55588305e+02],\n",
       "       [ 1.33184398e+02, -2.18879298e+03],\n",
       "       [-2.96290923e+02, -2.35920559e+02],\n",
       "       [ 3.10207707e+02,  4.17870488e+01],\n",
       "       [ 2.38341682e+02, -9.12585420e+02],\n",
       "       [ 9.95885861e+02, -5.80481435e+02],\n",
       "       [-7.71015973e+02,  2.32259240e+02],\n",
       "       [-5.34011957e+01, -3.51692542e+02],\n",
       "       [-1.29575570e+03, -1.71321627e+03],\n",
       "       [-1.73383232e+03,  2.13735249e+02],\n",
       "       [-1.15207285e+03, -1.28049051e+03],\n",
       "       [-2.14826814e+02, -3.66382223e+02],\n",
       "       [-7.28686665e+02, -1.88755533e+02],\n",
       "       [-1.45305723e+03,  1.54838509e+02],\n",
       "       [ 4.40464898e+02, -2.56261583e+01],\n",
       "       [-1.19520679e+03, -2.09007994e+02],\n",
       "       [ 8.08664485e+02,  2.69958732e+02],\n",
       "       [-7.35981085e+02, -1.56430692e+03],\n",
       "       [ 1.20074248e+03,  5.10997542e+02],\n",
       "       [-9.67198434e+02,  2.49365809e+03],\n",
       "       [ 8.85185161e+02,  1.61852300e+03],\n",
       "       [-1.02914839e+03,  9.30214642e+02],\n",
       "       [-3.06625166e+03, -1.05741575e+03],\n",
       "       [-2.54287868e+02, -5.45505373e+02],\n",
       "       [-4.52567921e+02, -1.43900826e+02],\n",
       "       [-4.29844841e+02, -7.21434455e+02],\n",
       "       [-8.25398403e+02,  1.13078103e+02],\n",
       "       [ 1.06027499e+03,  1.24043662e+03],\n",
       "       [ 1.34419123e+03,  1.34993369e+03],\n",
       "       [-5.17179943e+02,  1.04025498e+02],\n",
       "       [ 1.44382051e+03, -2.30255428e+03],\n",
       "       [-9.50179488e+02,  3.62416207e+01],\n",
       "       [-5.33562828e+02,  7.57771022e+02],\n",
       "       [-3.87378067e+02, -1.86206816e+02],\n",
       "       [ 4.40248206e+02,  9.11752177e+01],\n",
       "       [-5.71989935e+01,  8.53183066e+02],\n",
       "       [-5.65248602e+02, -9.75997957e+02],\n",
       "       [ 3.93609991e+02,  7.32443815e+02],\n",
       "       [-9.47924227e+02, -7.11325028e+02],\n",
       "       [ 7.74870817e+01, -2.05302709e+01],\n",
       "       [ 4.55406270e+02,  1.77907625e+03],\n",
       "       [ 7.82220124e+02,  7.49561906e+02],\n",
       "       [ 3.45207140e+02, -5.23665775e+02],\n",
       "       [-8.48599234e+02,  7.23181210e+02],\n",
       "       [ 4.14737194e+02,  1.19499004e+01],\n",
       "       [-4.60353500e+02, -6.19479032e+02],\n",
       "       [ 1.18021002e+03, -3.86523414e+01],\n",
       "       [-1.27437325e+03,  1.66167367e+03],\n",
       "       [ 3.10672379e+02, -1.18384669e+02],\n",
       "       [-5.24062962e+02,  5.99108365e+01],\n",
       "       [-3.82085578e+02, -8.15266793e+02],\n",
       "       [-5.56364712e+02,  3.51420396e+02],\n",
       "       [-4.16545277e+02,  1.66310291e+03],\n",
       "       [ 1.29336602e+03, -6.68391711e+02],\n",
       "       [-8.30590831e+02, -6.65241483e+02],\n",
       "       [ 1.06574566e+03,  4.14812761e+02],\n",
       "       [ 6.95749158e+02,  1.08245636e+03],\n",
       "       [ 6.97037254e+01, -2.01104048e+02],\n",
       "       [ 8.27423950e+02,  9.37399546e+02],\n",
       "       [-2.19086379e+02,  1.06992272e+03],\n",
       "       [-7.26213018e+02,  3.42521392e+02],\n",
       "       [ 1.02686712e+02,  3.20150645e+02],\n",
       "       [ 4.09598849e+02,  2.14161717e+03],\n",
       "       [-7.17151855e+00, -1.26778724e+03],\n",
       "       [-7.19016421e+01,  1.34010757e+03],\n",
       "       [-3.35761662e+02, -1.85571923e+02],\n",
       "       [-4.20343716e+02, -4.02024035e+02],\n",
       "       [-3.16790286e+03, -2.10328343e+03],\n",
       "       [ 1.92228245e+03, -5.06273585e+02],\n",
       "       [-2.36536101e+03, -1.30587468e+02],\n",
       "       [ 1.56815845e+02, -9.01274388e+02],\n",
       "       [ 7.40095089e+02,  1.12143203e+03],\n",
       "       [-4.19047528e+02, -1.66137583e+03],\n",
       "       [ 5.88015340e+02, -2.92345653e+02],\n",
       "       [-1.35002685e+03,  2.43842922e+03],\n",
       "       [-5.36539020e+02, -1.67788623e+02],\n",
       "       [ 2.87950513e+03,  6.22452389e+02],\n",
       "       [ 1.10008931e+03, -6.84994067e+02],\n",
       "       [ 3.00867940e+02, -1.88980600e+01],\n",
       "       [-4.16220721e+02,  8.91953601e+02],\n",
       "       [-2.28199996e+02, -1.20255020e+03],\n",
       "       [-4.49386692e+02,  9.37553176e+02],\n",
       "       [ 1.43783440e+03,  1.17275300e+03],\n",
       "       [-5.84160770e+01, -6.94335622e+02],\n",
       "       [-7.27702753e+02, -6.82502253e+02],\n",
       "       [ 1.58457399e+00,  9.72977945e+02],\n",
       "       [ 4.16863916e+02, -2.49298004e+03],\n",
       "       [-2.79000533e+01, -1.20709696e+01],\n",
       "       [ 6.17028798e+02,  2.30123600e+02],\n",
       "       [ 9.84808784e+02,  4.26208704e+02],\n",
       "       [-2.11904461e+03, -1.83550401e+02],\n",
       "       [ 8.57094345e+02, -6.21257381e+01],\n",
       "       [-1.83731662e+02, -2.76369281e+02],\n",
       "       [-1.69270898e+03,  5.61864776e+02],\n",
       "       [ 1.00403540e+03, -6.17842014e+02],\n",
       "       [ 4.95093482e+01, -3.64462503e+02],\n",
       "       [ 2.66323519e+02,  1.73733424e+01],\n",
       "       [ 1.56617320e+03, -9.71655556e+02],\n",
       "       [ 2.32759341e+02,  1.77072415e+03],\n",
       "       [ 4.95117956e+02,  5.36588953e+02],\n",
       "       [ 2.61491583e+02,  2.08885624e+02],\n",
       "       [ 1.19544714e+02,  2.31139343e+03],\n",
       "       [ 9.16323432e+02, -6.84322459e+02],\n",
       "       [-8.20771950e+02, -1.56557278e+03],\n",
       "       [ 9.29512711e+02, -1.25401826e+02],\n",
       "       [-2.51632802e+02, -4.59043594e+01],\n",
       "       [-2.88276803e+02, -1.59428009e+02],\n",
       "       [-7.91873172e+01, -1.02486628e+03],\n",
       "       [ 1.61792768e+01, -1.56632742e+03],\n",
       "       [-1.33628971e+03, -4.75105296e+02],\n",
       "       [-6.45892633e+02, -4.86229573e+02],\n",
       "       [ 1.34337875e+03,  5.87538325e+02],\n",
       "       [-9.82225142e+01, -2.05648301e+02],\n",
       "       [-4.48158460e+02, -8.94854801e+02],\n",
       "       [ 1.15278824e+02, -2.62248699e+03],\n",
       "       [ 8.33692025e+01, -1.61644975e+03],\n",
       "       [ 1.39399122e+03, -1.05297043e+03],\n",
       "       [ 3.82458677e+02, -1.01832117e+03],\n",
       "       [ 9.12411573e+01, -2.32936673e+02],\n",
       "       [ 1.18940496e+03, -1.76480918e+02],\n",
       "       [-2.03904175e+01,  1.37772546e+03],\n",
       "       [-6.58143083e+02,  7.01951080e+02],\n",
       "       [ 1.17529645e+03,  1.30880280e+03],\n",
       "       [ 4.00435184e+02,  8.80412913e+02],\n",
       "       [ 6.61257593e+02,  8.72262792e+01],\n",
       "       [ 2.76606815e+02, -4.57617173e+02],\n",
       "       [ 7.16394751e+02, -1.88928044e+03],\n",
       "       [ 6.57011314e+02, -3.71951702e+02],\n",
       "       [ 5.12409506e+02,  1.69275428e+03],\n",
       "       [-1.81427789e+02, -1.24116943e+03],\n",
       "       [ 1.84360515e+03, -1.67244445e+02],\n",
       "       [-1.26740425e+03, -4.65339998e+02],\n",
       "       [ 1.30253318e+03,  5.95989088e+02],\n",
       "       [-3.05755506e+02, -3.41043427e+02],\n",
       "       [-1.50113503e+03,  7.20359111e+02],\n",
       "       [-3.99782036e+02, -9.36711805e+02],\n",
       "       [-8.60582011e+02,  5.18877551e+02],\n",
       "       [-1.76237010e+03,  2.25763781e+02],\n",
       "       [-6.00628593e+02,  3.90070432e+02],\n",
       "       [-8.29636685e+02,  4.27197448e+02],\n",
       "       [ 3.36657681e+02,  2.39459407e+02],\n",
       "       [-4.54203640e+02,  1.62000233e+00],\n",
       "       [-1.67557103e+03,  6.03531440e+02],\n",
       "       [-2.23980010e+02,  7.08375669e+02],\n",
       "       [-9.20429190e+02,  4.67587780e+02],\n",
       "       [ 1.47174041e+03, -1.41201877e+03],\n",
       "       [ 1.42357994e+02, -4.71347514e+02],\n",
       "       [ 1.49867083e+03, -5.26337572e+02],\n",
       "       [ 6.03696402e+01,  6.64285638e+02],\n",
       "       [-6.38426089e+02,  6.70553152e+02],\n",
       "       [-3.64037221e+01,  5.18785801e+02],\n",
       "       [-1.78729649e+03, -2.93415812e+02],\n",
       "       [-6.73742486e+02,  3.56478939e+01],\n",
       "       [-6.05697509e+02, -1.12563205e+03],\n",
       "       [ 3.87569913e+02,  1.27770607e+03],\n",
       "       [ 1.19480282e+03,  1.40714330e+02],\n",
       "       [ 8.33643921e+02,  8.43502357e+02],\n",
       "       [ 3.16035078e+02,  5.79982716e+02],\n",
       "       [ 1.93424738e+02,  1.85309800e+03],\n",
       "       [-1.25128645e+03,  5.87511648e+02],\n",
       "       [ 2.40906266e+02,  1.85617132e+03],\n",
       "       [-5.13010826e+02, -1.54072099e+02],\n",
       "       [-1.04784035e+03, -1.30526988e+03],\n",
       "       [ 1.22760314e+02, -1.51608421e+02],\n",
       "       [-2.60770250e+02,  2.09043663e+02],\n",
       "       [-8.18872526e+02,  1.36551513e+03],\n",
       "       [-1.11061357e+03,  1.11880766e+02],\n",
       "       [-8.45038030e+02,  9.99438776e+02],\n",
       "       [-6.08771996e+00, -4.45514896e+02],\n",
       "       [ 9.62917020e+01,  5.32030565e+02],\n",
       "       [ 2.07873412e+03, -1.03473773e+03],\n",
       "       [ 8.00573626e+02,  1.93555070e+02],\n",
       "       [-2.81983974e+02, -8.85469030e+01],\n",
       "       [ 2.83598078e+03, -7.05105808e+02],\n",
       "       [ 5.33593262e+02, -1.30812897e+01],\n",
       "       [ 2.10172156e+02, -5.96354721e+02],\n",
       "       [-1.42862277e+03, -8.80709899e+02],\n",
       "       [ 8.44226698e+02, -7.98806167e+02],\n",
       "       [ 2.24927168e+02, -8.52588382e+02],\n",
       "       [-8.67545371e+02, -5.96804018e+02],\n",
       "       [-8.00525367e+02,  7.44272410e+02],\n",
       "       [-8.30508751e+02,  4.52967907e+02],\n",
       "       [ 5.47737077e+02,  9.29062037e+02],\n",
       "       [ 4.95377133e+02, -2.38561198e+01],\n",
       "       [ 1.62743171e+03,  1.11066494e+03],\n",
       "       [ 1.95359737e+02, -7.15382038e+02],\n",
       "       [-3.30375782e+02, -1.07982438e+02],\n",
       "       [ 1.04646743e+03, -1.33635659e+03],\n",
       "       [-8.16078039e+02,  1.70593031e+03],\n",
       "       [ 8.35162053e+01,  1.46567768e+02],\n",
       "       [ 6.32157687e+02,  1.01175554e+03],\n",
       "       [-6.33671186e+01,  5.93189265e+02],\n",
       "       [ 4.13321051e+02,  3.17404723e+03],\n",
       "       [-9.33946235e+02, -7.69113078e+02],\n",
       "       [-9.37644058e+01,  1.42053726e+03],\n",
       "       [ 8.46276892e+02, -2.28290975e+02],\n",
       "       [ 9.85748037e+02, -2.65101640e+02],\n",
       "       [-2.68068959e+01, -1.46086857e+03],\n",
       "       [ 1.06232244e+03, -1.76694945e+03],\n",
       "       [ 3.25430651e+02,  8.67895653e+01],\n",
       "       [ 7.94372454e+02, -1.43450409e+03],\n",
       "       [-1.15568996e+03, -1.30058066e+03],\n",
       "       [ 5.91578126e+02,  1.41644672e+03],\n",
       "       [ 1.47877994e+01,  3.04363828e+01],\n",
       "       [-1.43964985e+03, -4.32391808e+02],\n",
       "       [-1.64385058e+03, -1.40887186e+03],\n",
       "       [ 4.35362072e+02, -5.53988205e+02],\n",
       "       [ 1.91896970e+03, -9.58514034e+02],\n",
       "       [ 1.75548207e+03, -1.10602081e+03],\n",
       "       [ 1.13142693e+03,  1.53202249e+03],\n",
       "       [ 5.96877791e+02, -1.05440710e+03],\n",
       "       [-5.16464931e+02, -9.06922773e+02],\n",
       "       [ 4.59456868e+02, -2.51432362e+01],\n",
       "       [-1.75887374e+01, -6.71784327e+02],\n",
       "       [ 4.97564639e+02, -3.96905692e+02],\n",
       "       [ 3.45624647e+02, -1.07398636e+03],\n",
       "       [-6.72775033e+01,  2.23327158e+03],\n",
       "       [-1.07530804e+02, -4.20631007e+02],\n",
       "       [ 2.35709194e+02, -3.07974085e+02],\n",
       "       [-1.19874359e+03, -5.67620516e+02]])"
      ]
     },
     "execution_count": 12,
     "metadata": {},
     "output_type": "execute_result"
    }
   ],
   "source": [
    "noise = 1000\n",
    "\n"
   ]
  },
  {
   "cell_type": "code",
   "execution_count": 5,
   "id": "535a298e",
   "metadata": {},
   "outputs": [],
   "source": [
    "N = 2**9\n",
    "r = 1\n",
    "noise = 0.1\n",
    "X = point_clouds.two_adjacent_circles(N = N, r = r, noise = noise)"
   ]
  },
  {
   "cell_type": "code",
   "execution_count": 6,
   "id": "2e66cb0d",
   "metadata": {},
   "outputs": [
    {
     "data": {
      "text/plain": [
       "array([[ 0.89640854, -0.99461993],\n",
       "       [ 1.95832827, -0.28566927],\n",
       "       [ 1.5594527 , -0.82886228],\n",
       "       ...,\n",
       "       [ 2.        ,  0.        ],\n",
       "       [ 2.        ,  0.        ],\n",
       "       [ 2.        , -0.        ]])"
      ]
     },
     "execution_count": 6,
     "metadata": {},
     "output_type": "execute_result"
    }
   ],
   "source": [
    "X"
   ]
  },
  {
   "cell_type": "code",
   "execution_count": 11,
   "id": "b9d714ea",
   "metadata": {},
   "outputs": [
    {
     "ename": "NameError",
     "evalue": "name 'plot_figure' is not defined",
     "output_type": "error",
     "traceback": [
      "\u001b[0;31m---------------------------------------------------------------------------\u001b[0m",
      "\u001b[0;31mNameError\u001b[0m                                 Traceback (most recent call last)",
      "\u001b[0;32m/var/folders/hr/pw6v38ln34d_87nsgcx3qjz80000gn/T/ipykernel_22188/761594664.py\u001b[0m in \u001b[0;36m<module>\u001b[0;34m\u001b[0m\n\u001b[1;32m     12\u001b[0m     \u001b[0;32mwith\u001b[0m \u001b[0mplt\u001b[0m\u001b[0;34m.\u001b[0m\u001b[0mrc_context\u001b[0m\u001b[0;34m(\u001b[0m\u001b[0;34m{\u001b[0m\u001b[0;34m\"figure.max_open_warning\"\u001b[0m\u001b[0;34m:\u001b[0m \u001b[0mlen\u001b[0m\u001b[0;34m(\u001b[0m\u001b[0mstyle_list\u001b[0m\u001b[0;34m)\u001b[0m\u001b[0;34m}\u001b[0m\u001b[0;34m)\u001b[0m\u001b[0;34m:\u001b[0m\u001b[0;34m\u001b[0m\u001b[0;34m\u001b[0m\u001b[0m\n\u001b[1;32m     13\u001b[0m         \u001b[0;32mwith\u001b[0m \u001b[0mplt\u001b[0m\u001b[0;34m.\u001b[0m\u001b[0mstyle\u001b[0m\u001b[0;34m.\u001b[0m\u001b[0mcontext\u001b[0m\u001b[0;34m(\u001b[0m\u001b[0mstyle_label\u001b[0m\u001b[0;34m)\u001b[0m\u001b[0;34m:\u001b[0m\u001b[0;34m\u001b[0m\u001b[0;34m\u001b[0m\u001b[0m\n\u001b[0;32m---> 14\u001b[0;31m             \u001b[0mplot_figure\u001b[0m\u001b[0;34m(\u001b[0m\u001b[0mstyle_label\u001b[0m\u001b[0;34m=\u001b[0m\u001b[0mstyle_label\u001b[0m\u001b[0;34m)\u001b[0m\u001b[0;34m\u001b[0m\u001b[0;34m\u001b[0m\u001b[0m\n\u001b[0m\u001b[1;32m     15\u001b[0m \u001b[0;34m\u001b[0m\u001b[0m\n\u001b[1;32m     16\u001b[0m \u001b[0mplt\u001b[0m\u001b[0;34m.\u001b[0m\u001b[0mshow\u001b[0m\u001b[0;34m(\u001b[0m\u001b[0;34m)\u001b[0m\u001b[0;34m\u001b[0m\u001b[0;34m\u001b[0m\u001b[0m\n",
      "\u001b[0;31mNameError\u001b[0m: name 'plot_figure' is not defined"
     ]
    }
   ],
   "source": [
    "# Setup a list of all available styles, in alphabetical order but\n",
    "# the `default` and `classic` ones, which will be forced resp. in\n",
    "# first and second position.\n",
    "# styles with leading underscores are for internal use such as testing\n",
    "# and plot types gallery. These are excluded here.\n",
    "style_list = ['default', 'classic'] + sorted(\n",
    "    style for style in plt.style.available\n",
    "    if style != 'classic' and not style.startswith('_'))\n",
    "\n",
    "# Plot a demonstration figure for every available style sheet.\n",
    "for style_label in style_list:\n",
    "    with plt.rc_context({\"figure.max_open_warning\": len(style_list)}):\n",
    "        with plt.style.context(style_label):\n",
    "            plot_figure(style_label=style_label)\n",
    "\n",
    "plt.show()"
   ]
  },
  {
   "cell_type": "code",
   "execution_count": 1,
   "id": "9a0b8ac1",
   "metadata": {},
   "outputs": [],
   "source": []
  },
  {
   "cell_type": "code",
   "execution_count": null,
   "id": "eb019ef8",
   "metadata": {},
   "outputs": [],
   "source": []
  }
 ],
 "metadata": {
  "kernelspec": {
   "display_name": "ringity",
   "language": "python",
   "name": "ringity"
  },
  "language_info": {
   "codemirror_mode": {
    "name": "ipython",
    "version": 3
   },
   "file_extension": ".py",
   "mimetype": "text/x-python",
   "name": "python",
   "nbconvert_exporter": "python",
   "pygments_lexer": "ipython3",
   "version": "3.9.5"
  }
 },
 "nbformat": 4,
 "nbformat_minor": 5
}
