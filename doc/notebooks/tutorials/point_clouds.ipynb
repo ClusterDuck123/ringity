{
 "cells": [
  {
   "cell_type": "code",
   "execution_count": 3,
   "id": "89b34166",
   "metadata": {},
   "outputs": [],
   "source": [
    "import ringity as rng\n",
    "from ringity.generators import point_clouds"
   ]
  },
  {
   "cell_type": "code",
   "execution_count": 4,
   "id": "a21ef6d1",
   "metadata": {},
   "outputs": [],
   "source": [
    "? point_clouds.two_adjacent_circles"
   ]
  },
  {
   "cell_type": "code",
   "execution_count": 5,
   "id": "535a298e",
   "metadata": {},
   "outputs": [],
   "source": [
    "N = 2**9\n",
    "r = 1\n",
    "noise = 0.1\n",
    "X = point_clouds.two_adjacent_circles(N = N, r = r, noise = noise)"
   ]
  },
  {
   "cell_type": "code",
   "execution_count": 6,
   "id": "2e66cb0d",
   "metadata": {},
   "outputs": [
    {
     "data": {
      "text/plain": [
       "array([[ 0.89640854, -0.99461993],\n",
       "       [ 1.95832827, -0.28566927],\n",
       "       [ 1.5594527 , -0.82886228],\n",
       "       ...,\n",
       "       [ 2.        ,  0.        ],\n",
       "       [ 2.        ,  0.        ],\n",
       "       [ 2.        , -0.        ]])"
      ]
     },
     "execution_count": 6,
     "metadata": {},
     "output_type": "execute_result"
    }
   ],
   "source": [
    "X"
   ]
  },
  {
   "cell_type": "code",
   "execution_count": 11,
   "id": "b9d714ea",
   "metadata": {},
   "outputs": [
    {
     "ename": "NameError",
     "evalue": "name 'plot_figure' is not defined",
     "output_type": "error",
     "traceback": [
      "\u001b[0;31m---------------------------------------------------------------------------\u001b[0m",
      "\u001b[0;31mNameError\u001b[0m                                 Traceback (most recent call last)",
      "\u001b[0;32m/var/folders/hr/pw6v38ln34d_87nsgcx3qjz80000gn/T/ipykernel_22188/761594664.py\u001b[0m in \u001b[0;36m<module>\u001b[0;34m\u001b[0m\n\u001b[1;32m     12\u001b[0m     \u001b[0;32mwith\u001b[0m \u001b[0mplt\u001b[0m\u001b[0;34m.\u001b[0m\u001b[0mrc_context\u001b[0m\u001b[0;34m(\u001b[0m\u001b[0;34m{\u001b[0m\u001b[0;34m\"figure.max_open_warning\"\u001b[0m\u001b[0;34m:\u001b[0m \u001b[0mlen\u001b[0m\u001b[0;34m(\u001b[0m\u001b[0mstyle_list\u001b[0m\u001b[0;34m)\u001b[0m\u001b[0;34m}\u001b[0m\u001b[0;34m)\u001b[0m\u001b[0;34m:\u001b[0m\u001b[0;34m\u001b[0m\u001b[0;34m\u001b[0m\u001b[0m\n\u001b[1;32m     13\u001b[0m         \u001b[0;32mwith\u001b[0m \u001b[0mplt\u001b[0m\u001b[0;34m.\u001b[0m\u001b[0mstyle\u001b[0m\u001b[0;34m.\u001b[0m\u001b[0mcontext\u001b[0m\u001b[0;34m(\u001b[0m\u001b[0mstyle_label\u001b[0m\u001b[0;34m)\u001b[0m\u001b[0;34m:\u001b[0m\u001b[0;34m\u001b[0m\u001b[0;34m\u001b[0m\u001b[0m\n\u001b[0;32m---> 14\u001b[0;31m             \u001b[0mplot_figure\u001b[0m\u001b[0;34m(\u001b[0m\u001b[0mstyle_label\u001b[0m\u001b[0;34m=\u001b[0m\u001b[0mstyle_label\u001b[0m\u001b[0;34m)\u001b[0m\u001b[0;34m\u001b[0m\u001b[0;34m\u001b[0m\u001b[0m\n\u001b[0m\u001b[1;32m     15\u001b[0m \u001b[0;34m\u001b[0m\u001b[0m\n\u001b[1;32m     16\u001b[0m \u001b[0mplt\u001b[0m\u001b[0;34m.\u001b[0m\u001b[0mshow\u001b[0m\u001b[0;34m(\u001b[0m\u001b[0;34m)\u001b[0m\u001b[0;34m\u001b[0m\u001b[0;34m\u001b[0m\u001b[0m\n",
      "\u001b[0;31mNameError\u001b[0m: name 'plot_figure' is not defined"
     ]
    }
   ],
   "source": [
    "# Setup a list of all available styles, in alphabetical order but\n",
    "# the `default` and `classic` ones, which will be forced resp. in\n",
    "# first and second position.\n",
    "# styles with leading underscores are for internal use such as testing\n",
    "# and plot types gallery. These are excluded here.\n",
    "style_list = ['default', 'classic'] + sorted(\n",
    "    style for style in plt.style.available\n",
    "    if style != 'classic' and not style.startswith('_'))\n",
    "\n",
    "# Plot a demonstration figure for every available style sheet.\n",
    "for style_label in style_list:\n",
    "    with plt.rc_context({\"figure.max_open_warning\": len(style_list)}):\n",
    "        with plt.style.context(style_label):\n",
    "            plot_figure(style_label=style_label)\n",
    "\n",
    "plt.show()"
   ]
  },
  {
   "cell_type": "code",
   "execution_count": 13,
   "id": "c33f3cfc",
   "metadata": {},
   "outputs": [],
   "source": [
    "?plt.style.context"
   ]
  },
  {
   "cell_type": "code",
   "execution_count": 16,
   "id": "4cf17045",
   "metadata": {},
   "outputs": [],
   "source": [
    "? plt.style"
   ]
  },
  {
   "cell_type": "code",
   "execution_count": null,
   "id": "5e313f93",
   "metadata": {},
   "outputs": [],
   "source": []
  }
 ],
 "metadata": {
  "kernelspec": {
   "display_name": "ringity",
   "language": "python",
   "name": "ringity"
  },
  "language_info": {
   "codemirror_mode": {
    "name": "ipython",
    "version": 3
   },
   "file_extension": ".py",
   "mimetype": "text/x-python",
   "name": "python",
   "nbconvert_exporter": "python",
   "pygments_lexer": "ipython3",
   "version": "3.9.5"
  }
 },
 "nbformat": 4,
 "nbformat_minor": 5
}
