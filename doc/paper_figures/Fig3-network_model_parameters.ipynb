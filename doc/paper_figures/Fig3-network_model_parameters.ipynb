{
 "cells": [
  {
   "cell_type": "markdown",
   "id": "32c6270e",
   "metadata": {},
   "source": [
    "## Preprocessing"
   ]
  },
  {
   "cell_type": "code",
   "execution_count": 1,
   "id": "b59b57a1",
   "metadata": {},
   "outputs": [],
   "source": [
    "import time\n",
    "import numpy as np\n",
    "import pandas as pd\n",
    "import seaborn as sns\n",
    "import networkx as nx\n",
    "import matplotlib.pyplot as plt\n",
    "\n",
    "from tqdm import tqdm\n",
    "from pathlib import Path\n",
    "from datetime import timedelta\n",
    "from itertools import product\n",
    "from collections import Counter, defaultdict\n",
    "\n",
    "# RINGITY IMPORTS\n",
    "import ringity as rng\n",
    "import ringity.utils.plotting as rplotting\n",
    "import ringity.networks.networkmodel.distributions as rdist\n",
    "import ringity.networks.networkmodel.transformations as rtrafo\n",
    "\n",
    "from ringity.utils import exceptions as rexceptions\n",
    "\n",
    "rplotting.set_theme()\n",
    "DIRNAME_DATA = Path.cwd().parent / 'data'\n",
    "DIRNAME_PLOTS = DIRNAME_DATA / 'plots'"
   ]
  },
  {
   "cell_type": "code",
   "execution_count": 2,
   "id": "0b1920aa",
   "metadata": {},
   "outputs": [],
   "source": [
    "t1 = time.time()"
   ]
  },
  {
   "cell_type": "markdown",
   "id": "519c8494",
   "metadata": {},
   "source": [
    "### Set model parameters"
   ]
  },
  {
   "cell_type": "code",
   "execution_count": 3,
   "id": "1a00616f",
   "metadata": {},
   "outputs": [
    {
     "ename": "SyntaxError",
     "evalue": "unexpected EOF while parsing (1854616034.py, line 25)",
     "output_type": "error",
     "traceback": [
      "\u001b[0;36m  Cell \u001b[0;32mIn[3], line 25\u001b[0;36m\u001b[0m\n\u001b[0;31m    }\u001b[0m\n\u001b[0m     ^\u001b[0m\n\u001b[0;31mSyntaxError\u001b[0m\u001b[0;31m:\u001b[0m unexpected EOF while parsing\n"
     ]
    }
   ],
   "source": [
    "config_dict = {\n",
    "    'default' : {\n",
    "        'c' : 0.2,\n",
    "        'r' : 0.2,\n",
    "        'beta' : 1,\n",
    "        'rho' : None,\n",
    "    },\n",
    "    'longer_response' : {\n",
    "        'c' : 0.2,\n",
    "        'r' : 0.4,\n",
    "        'beta' : 1,\n",
    "        'rho' : None,\n",
    "    },\n",
    "    'stronger_coupling' : {\n",
    "        'c' : 0.4,\n",
    "        'r' : 0.2,\n",
    "        'beta' : 1,\n",
    "        'rho' : None,\n",
    "    },\n",
    "    'shorter_delay' : {\n",
    "        'c' : 0.2,\n",
    "        'r' : 0.2,\n",
    "        'beta' : 0.75,\n",
    "        'rho' : None,\n",
    "}"
   ]
  },
  {
   "cell_type": "code",
   "execution_count": null,
   "id": "2c067d2c",
   "metadata": {},
   "outputs": [],
   "source": [
    "N = 2**10\n",
    "\n",
    "N_ENSEMBLE = 2**5\n",
    "N_ARG_POINTS = 2**6\n",
    "\n",
    "\n",
    "# N = 2**7\n",
    "\n",
    "# N_ENSEMBLE = 2**2\n",
    "# N_ARG_POINTS = 2**3"
   ]
  },
  {
   "cell_type": "markdown",
   "id": "dc4bbbfb",
   "metadata": {},
   "source": [
    "### Auciliary functions"
   ]
  },
  {
   "cell_type": "code",
   "execution_count": null,
   "id": "ff298052",
   "metadata": {},
   "outputs": [],
   "source": [
    "def draw_interaction_function(builder):\n",
    "    \n",
    "    intfunc_fig, ax = plt.subplots(figsize = (8,5))\n",
    "    \n",
    "    c = builder.coupling\n",
    "    r = builder.response\n",
    "    \n",
    "    x = np.linspace(0, np.pi, 100)\n",
    "    y = c*(1-x/(2*np.pi*r)).clip(0)\n",
    "    y_default = 0.2*(1-x/(2*np.pi*0.2)).clip(0)\n",
    "\n",
    "    ax.plot(x, y_default, 'gray', alpha = 0.25, linewidth = 5)\n",
    "    ax.plot(x, y, linewidth = 5)\n",
    "\n",
    "    plt.xticks([1, 2, 2*np.pi*r, np.pi], [r'$1$', r'$2$', r'$2\\pi r$', r'$\\pi$'])\n",
    "    plt.yticks([0, 0.25, 0.5, 1, c], [r'$0$', r'$0.25$', r'$0.5$', r'$1$', r'$c$'])\n",
    "\n",
    "    ax.set_ylim(-0.025, max(0.5, c) + 0.025)\n",
    "    \n",
    "    return intfunc_fig\n",
    "\n",
    "\n",
    "def draw_network_visualiztion(builder, N = 2**9, layout = 'both'):\n",
    "    \n",
    "    G, pos = rng.network_model(\n",
    "                                N = N,\n",
    "                                return_positions = True,\n",
    "                                c = builder.coupling,\n",
    "                                r = builder.response,\n",
    "                                rho = builder.density,\n",
    "                                beta = builder.delay)\n",
    "    \n",
    "    circ_layout = {n:(np.cos(t), np.sin(t)) for n,t in enumerate(pos)}\n",
    "    spring_layout = nx.spring_layout(G)\n",
    "    \n",
    "    if layout == 'both':\n",
    "        netviz_fig, (ax1, ax2) = plt.subplots(1, 2, figsize = (12,5))\n",
    "        ax1.set_xlim(-1.175,1.175)\n",
    "        ax1.set_ylim(-1.175,1.175)\n",
    "\n",
    "        ax2.set_xlim(-1.175,1.175)\n",
    "        ax2.set_ylim(-1.175,1.175)\n",
    "    else:\n",
    "        netviz_fig, ax = plt.subplots(figsize = (6,5))\n",
    "        ax.set_xlim(-1.175,1.175)\n",
    "        ax.set_ylim(-1.175,1.175)\n",
    "        \n",
    "    if   layout == 'spring':\n",
    "        rng.plot_nx(G, ax=ax, pos=spring_layout, edge_alpha=0.025, node_alpha=0.2)\n",
    "    elif layout == 'circular':\n",
    "        rng.plot_nx(G, ax=ax, pos=circ_layout, edge_alpha=0.025, node_alpha=0.2)\n",
    "    elif layout == 'both':\n",
    "        rng.plot_nx(G, ax=ax1, pos=circ_layout, edge_alpha=0.025, node_alpha=0.2)\n",
    "        rng.plot_nx(G, ax=ax2, pos=spring_layout, edge_alpha=0.025, node_alpha=0.2)\n",
    "    \n",
    "    return netviz_fig\n",
    "\n",
    "\n",
    "def draw_clustering_distribution(builder, n_ensemble = 2**9, with_labels = False):\n",
    "    clust = []\n",
    "\n",
    "    for _ in range(N_ENSEMBLE):\n",
    "        G = rng.network_model(N = builder.N, \n",
    "                              c = builder.coupling,\n",
    "                              r = builder.response,\n",
    "                              rho = builder.density,\n",
    "                              beta = builder.delay)\n",
    "        clust.extend(rng.networks.clustering_coefficient(G))\n",
    "\n",
    "    clustdist_fig, ax = plt.subplots(figsize = (8,5))\n",
    "\n",
    "    ax.hist(clust, \n",
    "            bins=100, range=(0, 0.4), \n",
    "            rwidth = 0.75, density = True);\n",
    "\n",
    "    if with_labels:\n",
    "        xlabel = ax.set_xlabel('clustering coefficient', fontsize=18)\n",
    "        ylabel = ax.set_ylabel('frequency', fontsize=18)\n",
    "        \n",
    "    return clustdist_fig\n",
    "\n",
    "\n",
    "def draw_degree_distribution(builder, n_ensemble = N_ENSEMBLE, with_labels = False):\n",
    "    def binomial_distribution(theta, size):\n",
    "        distribution = np.random.binomial(builder.N-1, \n",
    "                                          rtrafo.local_density(theta = theta, \n",
    "                                                               r = builder.response, \n",
    "                                                               c = builder.coupling, \n",
    "                                                               beta = builder.delay), \n",
    "                                          size=size)\n",
    "        return distribution\n",
    "\n",
    "    degs_exp = [deg for theta in rdist.delaydist.rvs(size=builder.N, beta=builder.delay) \n",
    "                        for deg in binomial_distribution(theta, size = 2**10)]\n",
    "\n",
    "    degs_exp, freqs_exp = zip(*Counter(degs_exp).items())\n",
    "    freqs_exp = np.array(freqs_exp) / sum(freqs_exp)\n",
    "    \n",
    "    degs = []\n",
    "\n",
    "    for _ in range(n_ensemble):\n",
    "        G = rng.network_model(N = builder.N, \n",
    "                              c = builder.coupling,\n",
    "                              r = builder.response,\n",
    "                              rho = builder.density,\n",
    "                              beta = builder.delay)\n",
    "        degs.extend([deg for n, deg in nx.degree(G)])\n",
    "\n",
    "    degdist_fig, ax = plt.subplots(figsize = (8,5))\n",
    "\n",
    "    ax.hist(degs, \n",
    "            bins = 75, range = (0, 150),\n",
    "            rwidth = 0.75, density = True);\n",
    "\n",
    "    ax.plot(degs_exp, freqs_exp, '*r')\n",
    "\n",
    "    if with_labels:\n",
    "        ax.set_xlabel('degree', fontsize=18)\n",
    "        ax.set_ylabel('frequency', fontsize=18)\n",
    "    return degdist_fig\n",
    "\n",
    "\n",
    "def draw_ringscore_distribution(configuration, n_ensemble = N_ENSEMBLE, with_labels = False):\n",
    "    # Get parameter that deviates from default to use ase screening parameter\n",
    "    new_kwargs = {}\n",
    "    for parameter in config_dict[configuration]:\n",
    "        if config_dict[configuration][parameter] is None:\n",
    "            continue\n",
    "        elif config_dict[configuration][parameter] != config_dict['default'][parameter]:\n",
    "            x_parameter = parameter\n",
    "        else:\n",
    "            new_kwargs[parameter] = config_dict[configuration][parameter]\n",
    "            \n",
    "    arg_list = np.linspace(0, 1, N_ARG_POINTS+1)[1:]\n",
    "\n",
    "    \n",
    "    total = len(arg_list) * N_ENSEMBLE\n",
    "    pbar = tqdm(product(arg_list, range(N_ENSEMBLE)), total = total)\n",
    "\n",
    "    score = defaultdict(list)\n",
    "    for arg, _ in pbar:\n",
    "        G = rng.network_model(N = N, **new_kwargs, **{x_parameter : arg})\n",
    "        try:\n",
    "            score[arg].append(rng.ring_score(G))\n",
    "        except rexceptions.DisconnectedGraphError:\n",
    "            continue\n",
    "            \n",
    "    chunks_score_df = [\n",
    "        pd.DataFrame(scores, columns=['score']).assign(**{x_parameter:arg}) for arg, scores in score.items()\n",
    "    ]\n",
    "\n",
    "    score_df = pd.concat(chunks_score_df, ignore_index=True)\n",
    "    plot_df = score_df.groupby(x_parameter).describe()['score']\n",
    "\n",
    "    ringdist_fig, ax = plt.subplots(figsize = (12,8))\n",
    "\n",
    "    ax.plot(plot_df.index, plot_df['mean'], linewidth = 2.5)\n",
    "    ax.fill_between(plot_df.index, plot_df['25%'], plot_df['75%'], alpha = 0.25)\n",
    "\n",
    "    if with_labels:\n",
    "        xlabel = ax.set_xlabel('response length (r)')\n",
    "        ylabel = ax.set_ylabel('ring-score')\n",
    "        \n",
    "    return ringdist_fig"
   ]
  },
  {
   "cell_type": "markdown",
   "id": "326cff9d",
   "metadata": {},
   "source": [
    "# Network model exploration"
   ]
  },
  {
   "cell_type": "markdown",
   "id": "5226080e",
   "metadata": {},
   "source": [
    "## Default model"
   ]
  },
  {
   "cell_type": "code",
   "execution_count": null,
   "id": "7ef2fbe8",
   "metadata": {},
   "outputs": [],
   "source": [
    "configuration = 'default'\n",
    "\n",
    "G, pos, builder = rng.network_model(\n",
    "                                N = N,\n",
    "                                return_positions = True, \n",
    "                                return_builder = True,\n",
    "                                **config_dict[configuration])"
   ]
  },
  {
   "cell_type": "markdown",
   "id": "c84411e1",
   "metadata": {},
   "source": [
    "### Interaction function"
   ]
  },
  {
   "cell_type": "code",
   "execution_count": null,
   "id": "b6d61a3a",
   "metadata": {},
   "outputs": [],
   "source": [
    "intfunc_fig = draw_interaction_function(builder)"
   ]
  },
  {
   "cell_type": "markdown",
   "id": "c72d1027",
   "metadata": {},
   "source": [
    "### Network visualization"
   ]
  },
  {
   "cell_type": "code",
   "execution_count": null,
   "id": "60b6738f",
   "metadata": {},
   "outputs": [],
   "source": [
    "netviz_fig = draw_network_visualiztion(builder, N = 2**10, layout = 'spring')"
   ]
  },
  {
   "cell_type": "markdown",
   "id": "fff9ae78",
   "metadata": {},
   "source": [
    "### Clustering coefficient distribution"
   ]
  },
  {
   "cell_type": "code",
   "execution_count": null,
   "id": "5ea9f3cf",
   "metadata": {},
   "outputs": [],
   "source": [
    "clustdist_fig = draw_clustering_distribution(builder, \n",
    "                                             with_labels = False, \n",
    "                                             n_ensemble = N_ENSEMBLE)"
   ]
  },
  {
   "cell_type": "markdown",
   "id": "de4dd358",
   "metadata": {},
   "source": [
    "### Degree distribution"
   ]
  },
  {
   "cell_type": "code",
   "execution_count": null,
   "id": "981efb57",
   "metadata": {},
   "outputs": [],
   "source": [
    "degdist_fig = draw_degree_distribution(builder, \n",
    "                                       n_ensemble = 2**5,\n",
    "                                       with_labels = False)"
   ]
  },
  {
   "cell_type": "markdown",
   "id": "e07025b7",
   "metadata": {},
   "source": [
    "### ring-score distribution"
   ]
  },
  {
   "cell_type": "code",
   "execution_count": null,
   "id": "f1f11a95",
   "metadata": {},
   "outputs": [],
   "source": [
    "n_ensemble = N_ENSEMBLE\n",
    "n_arg_points = 9\n",
    "\n",
    "arg_list = np.logspace(8, 10, n_arg_points, base=2, dtype=int)\n",
    "\n",
    "total = len(arg_list) * n_ensemble\n",
    "pbar = tqdm(product(arg_list, range(n_ensemble)), total = total)\n",
    "\n",
    "score = defaultdict(list)\n",
    "for arg, _ in pbar:\n",
    "    G = rng.network_model(N = arg, **config_dict[configuration])\n",
    "    try:\n",
    "        score[arg].append(rng.ring_score(G))\n",
    "    except rexceptions.DisconnectedGraphError:\n",
    "        continue"
   ]
  },
  {
   "cell_type": "code",
   "execution_count": null,
   "id": "97a01bbb",
   "metadata": {},
   "outputs": [],
   "source": [
    "chunks_score_df = [\n",
    "    pd.DataFrame(scores, columns=['score']).assign(N=arg) for arg, scores in score.items()\n",
    "]\n",
    "\n",
    "score_df = pd.concat(chunks_score_df, ignore_index=True)\n",
    "plot_df = score_df.groupby('N').describe()['score']"
   ]
  },
  {
   "cell_type": "code",
   "execution_count": null,
   "id": "2cfc2f62",
   "metadata": {},
   "outputs": [],
   "source": [
    "blues = sns.color_palette('Blues', n_arg_points)\n",
    "ringdist_fig, ax = plt.subplots(figsize = (12,8))\n",
    "\n",
    "sns.boxplot(score_df, x='N', y='score', ax = ax,  palette=blues)\n",
    "xticks = plt.xticks(np.linspace(0, n_arg_points-1, n_arg_points), arg_list)\n",
    "xlabel = ax.set_xlabel(r'Number of nodes ($N$) - log-scale')\n",
    "ylabel = ax.set_ylabel(r'ring score')"
   ]
  },
  {
   "cell_type": "code",
   "execution_count": null,
   "id": "ceca2820",
   "metadata": {},
   "outputs": [],
   "source": [
    "intfunc_fig.savefig(DIRNAME_PLOTS / f\"Fig3-modelparameters-interactionFunction-{configuration}.png\", transparent=True)\n",
    "intfunc_fig.savefig(DIRNAME_PLOTS / f\"Fig3-modelparameters-interactionFunction-{configuration}.pdf\", transparent=True)\n",
    "\n",
    "# netviz_fig.savefig(DIRNAME_PLOTS / f\"Fig3-modelparameters-networkviz-{configuration}.png\", transparent=True)\n",
    "# netviz_fig.savefig(DIRNAME_PLOTS / f\"Fig3-modelparameters-networkviz-{configuration}.pdf\", transparent=True)\n",
    "\n",
    "# clustdist_fig.savefig(DIRNAME_PLOTS / f\"Fig3-modelparameters-clusteringdist-{configuration}.png\", transparent=True)\n",
    "# clustdist_fig.savefig(DIRNAME_PLOTS / f\"Fig3-modelparameters-clusteringdist-{configuration}.pdf\", transparent=True)\n",
    "\n",
    "# degdist_fig.savefig(DIRNAME_PLOTS / f\"Fig3-modelparameters-degreedist-{configuration}.png\", transparent=True)\n",
    "# degdist_fig.savefig(DIRNAME_PLOTS / f\"Fig3-modelparameters-degreedist-{configuration}.pdf\", transparent=True)\n",
    "\n",
    "# ringdist_fig.savefig(DIRNAME_PLOTS / f\"Fig3-modelparameters-scoredist-{configuration}.png\", transparent=True)\n",
    "# ringdist_fig.savefig(DIRNAME_PLOTS / f\"Fig3-modelparameters-scoredist-{configuration}.pdf\", transparent=True)"
   ]
  },
  {
   "cell_type": "markdown",
   "id": "b66a2545",
   "metadata": {},
   "source": [
    "---"
   ]
  },
  {
   "cell_type": "markdown",
   "id": "01d91b62",
   "metadata": {},
   "source": [
    "## Longer Response"
   ]
  },
  {
   "cell_type": "code",
   "execution_count": null,
   "id": "17c3f3c2",
   "metadata": {},
   "outputs": [],
   "source": [
    "configuration = 'longer_response'\n",
    "\n",
    "G, pos, builder = rng.network_model(\n",
    "                                N = N,\n",
    "                                return_positions = True, \n",
    "                                return_builder = True,\n",
    "                                **config_dict[configuration])"
   ]
  },
  {
   "cell_type": "markdown",
   "id": "037b23f0",
   "metadata": {},
   "source": [
    "### Interaction function"
   ]
  },
  {
   "cell_type": "code",
   "execution_count": null,
   "id": "4472d172",
   "metadata": {},
   "outputs": [],
   "source": [
    "intfunc_fig = draw_interaction_function(builder)"
   ]
  },
  {
   "cell_type": "markdown",
   "id": "89de7fee",
   "metadata": {},
   "source": [
    "### Network visualization"
   ]
  },
  {
   "cell_type": "code",
   "execution_count": null,
   "id": "cb953ee7",
   "metadata": {},
   "outputs": [],
   "source": [
    "netviz_fig = draw_network_visualiztion(builder, N = 2**10, layout = 'spring')"
   ]
  },
  {
   "cell_type": "markdown",
   "id": "66c5543e",
   "metadata": {},
   "source": [
    "### Clustering coefficient distribution"
   ]
  },
  {
   "cell_type": "code",
   "execution_count": null,
   "id": "daa5cdd0",
   "metadata": {},
   "outputs": [],
   "source": [
    "clustdist_fig = draw_clustering_distribution(builder, \n",
    "                                             with_labels = False, \n",
    "                                             n_ensemble = N_ENSEMBLE)"
   ]
  },
  {
   "cell_type": "markdown",
   "id": "f93d4a6c",
   "metadata": {},
   "source": [
    "### Degree distribution"
   ]
  },
  {
   "cell_type": "code",
   "execution_count": null,
   "id": "04b01bf3",
   "metadata": {},
   "outputs": [],
   "source": [
    "degdist_fig = draw_degree_distribution(builder, \n",
    "                                       n_ensemble = 2**6,\n",
    "                                       with_labels = False)"
   ]
  },
  {
   "cell_type": "markdown",
   "id": "6ae0eb17",
   "metadata": {},
   "source": [
    "### Ring-score distribution"
   ]
  },
  {
   "cell_type": "code",
   "execution_count": null,
   "id": "b2f465a8",
   "metadata": {},
   "outputs": [],
   "source": [
    "ringdist_fig = draw_ringscore_distribution(configuration, \n",
    "                                           n_ensemble = N_ENSEMBLE, \n",
    "                                           with_labels = False)"
   ]
  },
  {
   "cell_type": "markdown",
   "id": "e27ba5f7",
   "metadata": {},
   "source": [
    "### Saving plots"
   ]
  },
  {
   "cell_type": "code",
   "execution_count": null,
   "id": "7f95387a",
   "metadata": {},
   "outputs": [],
   "source": [
    "intfunc_fig.savefig(DIRNAME_PLOTS / f\"Fig3-modelparameters-interactionFunction-{configuration}.png\", transparent=True)\n",
    "intfunc_fig.savefig(DIRNAME_PLOTS / f\"Fig3-modelparameters-interactionFunction-{configuration}.pdf\", transparent=True)\n",
    "\n",
    "# netviz_fig.savefig(DIRNAME_PLOTS / f\"Fig3-modelparameters-networkviz-{configuration}.png\", transparent=True)\n",
    "# netviz_fig.savefig(DIRNAME_PLOTS / f\"Fig3-modelparameters-networkviz-{configuration}.pdf\", transparent=True)\n",
    "\n",
    "# clustdist_fig.savefig(DIRNAME_PLOTS / f\"Fig3-modelparameters-clusteringdist-{configuration}.png\", transparent=True)\n",
    "# clustdist_fig.savefig(DIRNAME_PLOTS / f\"Fig3-modelparameters-clusteringdist-{configuration}.pdf\", transparent=True)\n",
    "\n",
    "# degdist_fig.savefig(DIRNAME_PLOTS / f\"Fig3-modelparameters-degreedist-{configuration}.png\", transparent=True)\n",
    "# degdist_fig.savefig(DIRNAME_PLOTS / f\"Fig3-modelparameters-degreedist-{configuration}.pdf\", transparent=True)\n",
    "\n",
    "# ringdist_fig.savefig(DIRNAME_PLOTS / f\"Fig3-modelparameters-scoredist-{configuration}.png\", transparent=True)\n",
    "# ringdist_fig.savefig(DIRNAME_PLOTS / f\"Fig3-modelparameters-scoredist-{configuration}.pdf\", transparent=True)"
   ]
  },
  {
   "cell_type": "markdown",
   "id": "a4f4eb58",
   "metadata": {},
   "source": [
    "---"
   ]
  },
  {
   "cell_type": "markdown",
   "id": "7b5103d1",
   "metadata": {},
   "source": [
    "## Stronger coupling"
   ]
  },
  {
   "cell_type": "code",
   "execution_count": null,
   "id": "3c27bd15",
   "metadata": {},
   "outputs": [],
   "source": [
    "configuration = 'stronger_coupling'\n",
    "\n",
    "G, pos, builder = rng.network_model(\n",
    "                                N = N,\n",
    "                                return_positions = True, \n",
    "                                return_builder = True,\n",
    "                                **config_dict[configuration])"
   ]
  },
  {
   "cell_type": "markdown",
   "id": "cc7e9b47",
   "metadata": {},
   "source": [
    "### Interaction function"
   ]
  },
  {
   "cell_type": "code",
   "execution_count": null,
   "id": "1bbec3e7",
   "metadata": {},
   "outputs": [],
   "source": [
    "intfunc_fig = draw_interaction_function(builder)"
   ]
  },
  {
   "cell_type": "markdown",
   "id": "099d600f",
   "metadata": {},
   "source": [
    "### Network visualization"
   ]
  },
  {
   "cell_type": "code",
   "execution_count": null,
   "id": "e50c31b7",
   "metadata": {},
   "outputs": [],
   "source": [
    "netviz_fig = draw_network_visualiztion(builder, N = 2**10, layout = 'spring')"
   ]
  },
  {
   "cell_type": "markdown",
   "id": "c67f9f38",
   "metadata": {},
   "source": [
    "### Clustering coefficient distribution"
   ]
  },
  {
   "cell_type": "code",
   "execution_count": null,
   "id": "4ea998bb",
   "metadata": {},
   "outputs": [],
   "source": [
    "clustdist_fig = draw_clustering_distribution(builder, \n",
    "                                             with_labels = False, \n",
    "                                             n_ensemble = N_ENSEMBLE)"
   ]
  },
  {
   "cell_type": "markdown",
   "id": "e5300a80",
   "metadata": {},
   "source": [
    "### Degree distribution"
   ]
  },
  {
   "cell_type": "code",
   "execution_count": null,
   "id": "cabc909f",
   "metadata": {},
   "outputs": [],
   "source": [
    "degdist_fig = draw_degree_distribution(builder, \n",
    "                                       n_ensemble = 2**6,\n",
    "                                       with_labels = False)"
   ]
  },
  {
   "cell_type": "markdown",
   "id": "bd38ec47",
   "metadata": {},
   "source": [
    "### Ring-score distribution"
   ]
  },
  {
   "cell_type": "code",
   "execution_count": null,
   "id": "e8c17851",
   "metadata": {},
   "outputs": [],
   "source": [
    "ringdist_fig = draw_ringscore_distribution(configuration, \n",
    "                                           n_ensemble = N_ENSEMBLE, \n",
    "                                           with_labels = False)"
   ]
  },
  {
   "cell_type": "markdown",
   "id": "1ebaa241",
   "metadata": {},
   "source": [
    "### Saving plots"
   ]
  },
  {
   "cell_type": "code",
   "execution_count": null,
   "id": "32eaa056",
   "metadata": {},
   "outputs": [],
   "source": [
    "intfunc_fig.savefig(DIRNAME_PLOTS / f\"Fig3-modelparameters-interactionFunction-{configuration}.png\", transparent=True)\n",
    "intfunc_fig.savefig(DIRNAME_PLOTS / f\"Fig3-modelparameters-interactionFunction-{configuration}.pdf\", transparent=True)\n",
    "\n",
    "# netviz_fig.savefig(DIRNAME_PLOTS / f\"Fig3-modelparameters-networkviz-{configuration}.png\", transparent=True)\n",
    "# netviz_fig.savefig(DIRNAME_PLOTS / f\"Fig3-modelparameters-networkviz-{configuration}.pdf\", transparent=True)\n",
    "\n",
    "# clustdist_fig.savefig(DIRNAME_PLOTS / f\"Fig3-modelparameters-clusteringdist-{configuration}.png\", transparent=True)\n",
    "# clustdist_fig.savefig(DIRNAME_PLOTS / f\"Fig3-modelparameters-clusteringdist-{configuration}.pdf\", transparent=True)\n",
    "\n",
    "# degdist_fig.savefig(DIRNAME_PLOTS / f\"Fig3-modelparameters-degreedist-{configuration}.png\", transparent=True)\n",
    "# degdist_fig.savefig(DIRNAME_PLOTS / f\"Fig3-modelparameters-degreedist-{configuration}.pdf\", transparent=True)\n",
    "\n",
    "# ringdist_fig.savefig(DIRNAME_PLOTS / f\"Fig3-modelparameters-scoredist-{configuration}.png\", transparent=True)\n",
    "# ringdist_fig.savefig(DIRNAME_PLOTS / f\"Fig3-modelparameters-scoredist-{configuration}.pdf\", transparent=True)"
   ]
  },
  {
   "cell_type": "markdown",
   "id": "29f3a16d",
   "metadata": {},
   "source": [
    "## Shorter delay"
   ]
  },
  {
   "cell_type": "code",
   "execution_count": null,
   "id": "70e9b7e3",
   "metadata": {},
   "outputs": [],
   "source": [
    "configuration = 'shorter_delay'\n",
    "\n",
    "G, pos, builder = rng.network_model(\n",
    "                                N = N,\n",
    "                                return_positions = True, \n",
    "                                return_builder = True,\n",
    "                                **config_dict[configuration])"
   ]
  },
  {
   "cell_type": "markdown",
   "id": "6a2f5854",
   "metadata": {},
   "source": [
    "### Interaction function"
   ]
  },
  {
   "cell_type": "code",
   "execution_count": null,
   "id": "a81d6d4e",
   "metadata": {},
   "outputs": [],
   "source": [
    "intfunc_fig = draw_interaction_function(builder)"
   ]
  },
  {
   "cell_type": "markdown",
   "id": "724e989d",
   "metadata": {},
   "source": [
    "### Network visualization"
   ]
  },
  {
   "cell_type": "code",
   "execution_count": null,
   "id": "33941d42",
   "metadata": {},
   "outputs": [],
   "source": [
    "netviz_fig = draw_network_visualiztion(builder, N = 2**10, layout = 'spring')"
   ]
  },
  {
   "cell_type": "markdown",
   "id": "b1c82354",
   "metadata": {},
   "source": [
    "### Clustering coefficient and degree distribution"
   ]
  },
  {
   "cell_type": "code",
   "execution_count": null,
   "id": "e7cf45d7",
   "metadata": {},
   "outputs": [],
   "source": [
    "clustdist_fig = draw_clustering_distribution(builder, \n",
    "                                             with_labels = False, \n",
    "                                             n_ensemble = N_ENSEMBLE)"
   ]
  },
  {
   "cell_type": "markdown",
   "id": "46de08d9",
   "metadata": {},
   "source": [
    "### Degree distribution"
   ]
  },
  {
   "cell_type": "code",
   "execution_count": null,
   "id": "88c6a57d",
   "metadata": {},
   "outputs": [],
   "source": [
    "degdist_fig = draw_degree_distribution(builder, \n",
    "                                       n_ensemble = 2**9,\n",
    "                                       with_labels = False)"
   ]
  },
  {
   "cell_type": "markdown",
   "id": "15b94e6a",
   "metadata": {},
   "source": [
    "### Ring-score distribution"
   ]
  },
  {
   "cell_type": "code",
   "execution_count": null,
   "id": "557b5e06",
   "metadata": {},
   "outputs": [],
   "source": [
    "ringdist_fig = draw_ringscore_distribution(configuration, \n",
    "                                           n_ensemble = N_ENSEMBLE, \n",
    "                                           with_labels = False)"
   ]
  },
  {
   "cell_type": "markdown",
   "id": "8bf1b7cf",
   "metadata": {},
   "source": [
    "### Save plots"
   ]
  },
  {
   "cell_type": "code",
   "execution_count": null,
   "id": "80d24477",
   "metadata": {},
   "outputs": [],
   "source": [
    "intfunc_fig.savefig(DIRNAME_PLOTS / f\"Fig3-modelparameters-interactionFunction-{configuration}.png\", transparent=True)\n",
    "intfunc_fig.savefig(DIRNAME_PLOTS / f\"Fig3-modelparameters-interactionFunction-{configuration}.pdf\", transparent=True)\n",
    "\n",
    "# netviz_fig.savefig(DIRNAME_PLOTS / f\"Fig3-modelparameters-networkviz-{configuration}.png\", transparent=True)\n",
    "# netviz_fig.savefig(DIRNAME_PLOTS / f\"Fig3-modelparameters-networkviz-{configuration}.pdf\", transparent=True)\n",
    "\n",
    "# clustdist_fig.savefig(DIRNAME_PLOTS / f\"Fig3-modelparameters-clusteringdist-{configuration}.png\", transparent=True)\n",
    "# clustdist_fig.savefig(DIRNAME_PLOTS / f\"Fig3-modelparameters-clusteringdist-{configuration}.pdf\", transparent=True)\n",
    "\n",
    "# degdist_fig.savefig(DIRNAME_PLOTS / f\"Fig3-modelparameters-degreedist-{configuration}.png\", transparent=True)\n",
    "# degdist_fig.savefig(DIRNAME_PLOTS / f\"Fig3-modelparameters-degreedist-{configuration}.pdf\", transparent=True)\n",
    "\n",
    "# ringdist_fig.savefig(DIRNAME_PLOTS / f\"Fig3-modelparameters-scoredist-{configuration}.png\", transparent=True)\n",
    "# ringdist_fig.savefig(DIRNAME_PLOTS / f\"Fig3-modelparameters-scoredist-{configuration}.pdf\", transparent=True)"
   ]
  },
  {
   "cell_type": "markdown",
   "id": "825a1597",
   "metadata": {},
   "source": [
    "---"
   ]
  },
  {
   "cell_type": "markdown",
   "id": "a9456bc2",
   "metadata": {},
   "source": [
    "## Wrap up"
   ]
  },
  {
   "cell_type": "code",
   "execution_count": null,
   "id": "9c75e905",
   "metadata": {},
   "outputs": [],
   "source": [
    "t2 = time.time()"
   ]
  },
  {
   "cell_type": "code",
   "execution_count": null,
   "id": "74d39247",
   "metadata": {
    "scrolled": true
   },
   "outputs": [],
   "source": [
    "T = round(t2-t1)\n",
    "\n",
    "print(f\"Time to run the notebook: {timedelta(seconds=T)}\")"
   ]
  },
  {
   "cell_type": "markdown",
   "id": "80fdc82c",
   "metadata": {},
   "source": [
    "Expected time: 4*45 = 3:00:00"
   ]
  }
 ],
 "metadata": {
  "kernelspec": {
   "display_name": "ringity",
   "language": "python",
   "name": "ringity"
  },
  "language_info": {
   "codemirror_mode": {
    "name": "ipython",
    "version": 3
   },
   "file_extension": ".py",
   "mimetype": "text/x-python",
   "name": "python",
   "nbconvert_exporter": "python",
   "pygments_lexer": "ipython3",
   "version": "3.9.5"
  }
 },
 "nbformat": 4,
 "nbformat_minor": 5
}
