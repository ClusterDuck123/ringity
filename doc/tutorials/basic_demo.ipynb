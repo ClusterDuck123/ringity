{
 "cells": [
  {
   "cell_type": "markdown",
   "id": "751cc5fc",
   "metadata": {},
   "source": [
    "# Live demonstration"
   ]
  },
  {
   "cell_type": "code",
   "execution_count": null,
   "id": "e6e161e6",
   "metadata": {},
   "outputs": [],
   "source": [
    "import ringity as rng\n",
    "import ringity.generators.geometric_networks as rgeom\n",
    "\n",
    "import numpy as np\n",
    "import networkx as nx\n",
    "import matplotlib.pyplot as plt"
   ]
  },
  {
   "cell_type": "markdown",
   "id": "9f3a0f20",
   "metadata": {},
   "source": [
    "The function `rgeom.circle` can generate networks from a uniformly sampled circle with Gaussian noise. <br>\n",
    "Depending on the argument, different procedures will be used to construct the network:\n",
    " - specifying the argument `n_neighbors` will result in a KNN graph.  \n",
    " - specifying any of the arguments `er_fc_th`, `rel_dist_th`, `abs_dist_th`, or `density_th` will result in a graph defined via a hard radius theshold."
   ]
  },
  {
   "cell_type": "code",
   "execution_count": null,
   "id": "7579a5a5",
   "metadata": {},
   "outputs": [],
   "source": [
    "seed = 1234\n",
    "\n",
    "n = 1000\n",
    "k = 10\n",
    "p = 0.05\n",
    "\n",
    "G_circ, X_circ = rgeom.circle(N = n, \n",
    "                              n_neighbors = k, \n",
    "                              noise = p, \n",
    "                              return_point_cloud = True,\n",
    "                              seed = seed)\n",
    "\n",
    "G_ws = nx.watts_strogatz_graph(n = n,\n",
    "                               k = k,\n",
    "                               p = p,\n",
    "                               seed = seed)"
   ]
  },
  {
   "cell_type": "code",
   "execution_count": null,
   "id": "e66f6e69",
   "metadata": {},
   "outputs": [],
   "source": [
    "# rng.plot() \n",
    "rng.plot(X_circ, figsize = (7, 7))"
   ]
  },
  {
   "cell_type": "code",
   "execution_count": null,
   "id": "ae89ac52",
   "metadata": {},
   "outputs": [],
   "source": [
    "t = np.linspace(0, 2*np.pi, n)\n",
    "X_ws = list(zip(np.cos(t), np.sin(t)))"
   ]
  },
  {
   "cell_type": "code",
   "execution_count": null,
   "id": "fde921af",
   "metadata": {},
   "outputs": [],
   "source": [
    "fig, (ax1, ax2) = plt.subplots(1, 2, figsize = (16, 7))\n",
    "\n",
    "rng.plot(G_circ, ax = ax1, pos = dict(enumerate(X_circ)))\n",
    "rng.plot(G_ws, ax = ax2, pos = dict(enumerate(X_ws)))"
   ]
  },
  {
   "cell_type": "code",
   "execution_count": null,
   "id": "2bc7d061",
   "metadata": {},
   "outputs": [],
   "source": [
    "rng.plot_nx(G_circ, dim = 3)"
   ]
  },
  {
   "cell_type": "code",
   "execution_count": null,
   "id": "5137180c",
   "metadata": {},
   "outputs": [],
   "source": [
    "rng.plot_nx(G_ws, dim = 3)"
   ]
  },
  {
   "cell_type": "code",
   "execution_count": null,
   "id": "b462ca83",
   "metadata": {},
   "outputs": [],
   "source": [
    "N = 2**8\n",
    "height = 5\n",
    "\n",
    "G = rgeom.cylinder(N = N, height = height)"
   ]
  },
  {
   "cell_type": "code",
   "execution_count": null,
   "id": "7310ccd3",
   "metadata": {},
   "outputs": [],
   "source": [
    "rng.plot(G)"
   ]
  },
  {
   "cell_type": "code",
   "execution_count": null,
   "id": "20a48365",
   "metadata": {},
   "outputs": [],
   "source": [
    "rng.plot(G, dim = 3)"
   ]
  },
  {
   "cell_type": "code",
   "execution_count": null,
   "id": "c9557895",
   "metadata": {},
   "outputs": [],
   "source": [
    "rng.plot(G, hoverinfo = 'degree', node_color = 'degree', dim = 3)"
   ]
  },
  {
   "cell_type": "markdown",
   "id": "f71978c8",
   "metadata": {},
   "source": [
    "# Code snippets"
   ]
  },
  {
   "cell_type": "code",
   "execution_count": null,
   "id": "05863a17",
   "metadata": {},
   "outputs": [],
   "source": [
    "import ringity as rng\n",
    "import ringity.generators.geometric_networks as rgeom\n",
    "\n",
    "# Construct circular KNN graph from noisy circle\n",
    "G = rgeom.circle(N = 1000, \n",
    "                 n_neighbors = 10, \n",
    "                 noise = 0.05)\n",
    "\n",
    "# Calculate ring-score\n",
    "score = rng.ring_score(G)"
   ]
  },
  {
   "cell_type": "code",
   "execution_count": null,
   "id": "5f143690",
   "metadata": {},
   "outputs": [],
   "source": [
    "print(score)"
   ]
  },
  {
   "cell_type": "code",
   "execution_count": null,
   "id": "fcfd99eb",
   "metadata": {},
   "outputs": [],
   "source": [
    "rng.plot(G)"
   ]
  },
  {
   "cell_type": "markdown",
   "id": "0b985c5d",
   "metadata": {},
   "source": [
    "---"
   ]
  },
  {
   "cell_type": "code",
   "execution_count": null,
   "id": "81bc728c",
   "metadata": {},
   "outputs": [],
   "source": [
    "import ringity as rng\n",
    "import ringity.generators.geometric_networks as rgeom\n",
    "\n",
    "import networkx as nx\n",
    "\n",
    "# Construct circular Watts Strogaty graph\n",
    "G = nx.watts_strogatz_graph(n = 1000, \n",
    "                            k = 10,\n",
    "                            p = 0.05)\n",
    "\n",
    "# Calculate ring-score\n",
    "score = rng.ring_score(G)"
   ]
  },
  {
   "cell_type": "code",
   "execution_count": null,
   "id": "45fb5c78",
   "metadata": {},
   "outputs": [],
   "source": [
    "print(score)"
   ]
  },
  {
   "cell_type": "code",
   "execution_count": null,
   "id": "5d857e55",
   "metadata": {},
   "outputs": [],
   "source": [
    "fig = rng.plot_nx(G)"
   ]
  },
  {
   "cell_type": "markdown",
   "id": "feaf5d7c",
   "metadata": {},
   "source": [
    "---"
   ]
  },
  {
   "cell_type": "code",
   "execution_count": null,
   "id": "bad50708",
   "metadata": {},
   "outputs": [],
   "source": [
    "import ringity.networkmeasures.graphlet_coefficients as rgraco\n",
    "import networkx as nx\n",
    "\n",
    "G = nx.erdos_renyi_graph(n = 2**12, p = 0.01)"
   ]
  },
  {
   "cell_type": "code",
   "execution_count": null,
   "id": "a31a5f19",
   "metadata": {},
   "outputs": [],
   "source": [
    "%%timeit\n",
    "rgraco.clustering_coefficient(G)"
   ]
  },
  {
   "cell_type": "code",
   "execution_count": null,
   "id": "dfc75c76",
   "metadata": {},
   "outputs": [],
   "source": [
    "%%timeit\n",
    "nx.clustering(G)"
   ]
  },
  {
   "cell_type": "markdown",
   "id": "b616a9ab",
   "metadata": {},
   "source": [
    "---"
   ]
  },
  {
   "cell_type": "code",
   "execution_count": null,
   "id": "5144688e",
   "metadata": {},
   "outputs": [],
   "source": [
    "import ringity.networkmeasures.centralities as rcent\n",
    "import networkx as nx\n",
    "\n",
    "G = nx.erdos_renyi_graph(n = 2**10, p = 0.01)"
   ]
  },
  {
   "cell_type": "code",
   "execution_count": null,
   "id": "1029425d",
   "metadata": {},
   "outputs": [],
   "source": [
    "%%timeit\n",
    "nx.edge_current_flow_betweenness_centrality(G)"
   ]
  },
  {
   "cell_type": "code",
   "execution_count": null,
   "id": "dcf46e0f",
   "metadata": {},
   "outputs": [],
   "source": [
    "%%timeit\n",
    "rcent.current_flow(G)"
   ]
  },
  {
   "cell_type": "markdown",
   "id": "8e4bf672",
   "metadata": {},
   "source": [
    "---"
   ]
  },
  {
   "cell_type": "markdown",
   "id": "0f7cd52c",
   "metadata": {},
   "source": [
    "# Spielwiese"
   ]
  },
  {
   "cell_type": "code",
   "execution_count": null,
   "id": "f1db35a6",
   "metadata": {},
   "outputs": [],
   "source": [
    "import ringity.networkmeasures.centralities as rcent\n"
   ]
  },
  {
   "cell_type": "code",
   "execution_count": null,
   "id": "f9c26a89",
   "metadata": {},
   "outputs": [],
   "source": []
  },
  {
   "cell_type": "code",
   "execution_count": null,
   "id": "4dc87053",
   "metadata": {},
   "outputs": [],
   "source": [
    "%%timeit\n",
    "rgraco.clustering_coefficient(G)"
   ]
  },
  {
   "cell_type": "code",
   "execution_count": null,
   "id": "810ff6ab",
   "metadata": {},
   "outputs": [],
   "source": [
    "%%timeit\n",
    "nx.clustering(G)"
   ]
  },
  {
   "cell_type": "code",
   "execution_count": null,
   "id": "f1991734",
   "metadata": {},
   "outputs": [],
   "source": []
  },
  {
   "cell_type": "code",
   "execution_count": null,
   "id": "7f1b6682",
   "metadata": {},
   "outputs": [],
   "source": [
    "rcent."
   ]
  },
  {
   "cell_type": "code",
   "execution_count": null,
   "id": "7410616b",
   "metadata": {},
   "outputs": [],
   "source": []
  }
 ],
 "metadata": {
  "kernelspec": {
   "display_name": "Python 3 (ipykernel)",
   "language": "python",
   "name": "python3"
  },
  "language_info": {
   "codemirror_mode": {
    "name": "ipython",
    "version": 3
   },
   "file_extension": ".py",
   "mimetype": "text/x-python",
   "name": "python",
   "nbconvert_exporter": "python",
   "pygments_lexer": "ipython3",
   "version": "3.9.5"
  }
 },
 "nbformat": 4,
 "nbformat_minor": 5
}
