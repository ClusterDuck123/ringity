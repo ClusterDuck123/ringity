{
 "cells": [
  {
   "cell_type": "code",
   "execution_count": 1,
   "id": "1b97493f",
   "metadata": {},
   "outputs": [],
   "source": [
    "import numpy as np\n",
    "import matplotlib.pyplot as plt\n",
    "\n",
    "from gtda.homology import VietorisRipsPersistence"
   ]
  },
  {
   "cell_type": "code",
   "execution_count": 2,
   "id": "dbeca800",
   "metadata": {},
   "outputs": [],
   "source": [
    "def sinoidal_trajectory(N, s):\n",
    "    t = np.random.uniform(0, 2*np.pi, N)\n",
    "    x = np.sin(t)\n",
    "    y = np.sin(t - s)\n",
    "    return np.array([x, y]).T"
   ]
  },
  {
   "cell_type": "code",
   "execution_count": 3,
   "id": "7be465f2",
   "metadata": {},
   "outputs": [],
   "source": [
    "N = 2**10\n",
    "s = 1/4 * np.pi\n",
    "\n",
    "X = sinoidal_trajectory(N, s)"
   ]
  },
  {
   "cell_type": "code",
   "execution_count": 4,
   "id": "0a057089",
   "metadata": {},
   "outputs": [
    {
     "data": {
      "image/png": "[encoded data removed]",
      "text/plain": [
       "<Figure size 432x288 with 1 Axes>"
      ]
     },
     "metadata": {
      "needs_background": "light"
     },
     "output_type": "display_data"
    }
   ],
   "source": [
    "plt.scatter(X[:,0], X[:,1]);"
   ]
  },
  {
   "cell_type": "code",
   "execution_count": 5,
   "id": "9a3b71ca",
   "metadata": {},
   "outputs": [],
   "source": [
    "dgms = VietorisRipsPersistence().fit_transform([X])[0]\n",
    "dgm1 = np.array([dgm[:2] for dgm in dgms if dgm[2] == 1])\n",
    "\n",
    "dgm1[:,1]"
   ]
  },
  {
   "cell_type": "code",
   "execution_count": 41,
   "id": "38d12102",
   "metadata": {},
   "outputs": [
    {
     "name": "stdout",
     "output_type": "stream",
     "text": [
      "0.0\n",
      "0.05\n",
      "0.1\n",
      "0.15000000000000002\n",
      "0.2\n",
      "0.25\n",
      "0.30000000000000004\n",
      "0.35000000000000003\n",
      "0.4\n",
      "0.45\n",
      "0.5\n"
     ]
    }
   ],
   "source": [
    "N = int(2**9 * 1.5)\n",
    "\n",
    "shift2deaths = {}\n",
    "for a in np.linspace(0, 0.5, 11):\n",
    "    print(a)\n",
    "    s = a * np.pi\n",
    "\n",
    "    X = sinoidal_trajectory(N, s)\n",
    "    dgms = VietorisRipsPersistence().fit_transform([X])[0]\n",
    "    dgm1 = np.array([dgm[:2] for dgm in dgms if dgm[2] == 1])\n",
    "\n",
    "    shift2deaths[a] = sorted(dgm1[:,1])"
   ]
  },
  {
   "cell_type": "code",
   "execution_count": 56,
   "id": "2c607a05",
   "metadata": {},
   "outputs": [
    {
     "name": "stdout",
     "output_type": "stream",
     "text": [
      "0.00 : 0.00000\n",
      "0.05 : 0.21646\n",
      "0.10 : 0.44239\n",
      "0.15 : 0.65977\n",
      "0.20 : 0.87408\n",
      "0.25 : 1.08241\n",
      "0.30 : 1.28409\n",
      "0.35 : 1.47533\n",
      "0.40 : 1.61991\n",
      "0.45 : 1.70474\n",
      "0.50 : 1.73212\n"
     ]
    }
   ],
   "source": [
    "for k, vs in shift2deaths.items():\n",
    "    minor = np.mean(vs)\n",
    "    print(f\"{k:.2f} : {minor:.5f}\")"
   ]
  },
  {
   "cell_type": "code",
   "execution_count": 61,
   "id": "097047e4",
   "metadata": {},
   "outputs": [
    {
     "name": "stdout",
     "output_type": "stream",
     "text": [
      "0.00: 0.00000\n",
      "0.05: 0.18056\n",
      "0.10: 0.36067\n",
      "0.15: 0.53988\n",
      "0.20: 0.71775\n",
      "0.25: 0.89381\n",
      "0.30: 1.06764\n",
      "0.35: 1.23881\n",
      "0.40: 1.40688\n",
      "0.45: 1.57143\n",
      "0.50: 1.73205\n"
     ]
    }
   ],
   "source": [
    "for a in np.linspace(0, 0.5, 11):\n",
    "    s = a * np.pi\n",
    "    minor = np.sin(a) * np.sqrt(3) / 0.479425538604203\n",
    "    print(f\"{a:.2f}: {minor:.5f}\")"
   ]
  },
  {
   "cell_type": "code",
   "execution_count": 58,
   "id": "87374f7f",
   "metadata": {},
   "outputs": [
    {
     "name": "stdout",
     "output_type": "stream",
     "text": [
      "0.00: 0.00000\n",
      "0.05: 0.17321\n",
      "0.10: 0.34641\n",
      "0.15: 0.51962\n",
      "0.20: 0.69282\n",
      "0.25: 0.86603\n",
      "0.30: 1.03923\n",
      "0.35: 1.21244\n",
      "0.40: 1.38564\n",
      "0.45: 1.55885\n",
      "0.50: 1.73205\n"
     ]
    }
   ],
   "source": [
    "for a in np.linspace(0, 0.5, 11):\n",
    "    s = a * np.pi\n",
    "    minor = 2 * a * np.sqrt(3)\n",
    "    print(f\"{a:.2f}: {minor:.5f}\")"
   ]
  },
  {
   "cell_type": "code",
   "execution_count": 60,
   "id": "3d6d5823",
   "metadata": {},
   "outputs": [
    {
     "name": "stdout",
     "output_type": "stream",
     "text": [
      "0.00: 0.0\n",
      "0.05: 0.19218475021339965\n",
      "0.10: 0.3831846175338192\n",
      "0.15: 0.5718220242653271\n",
      "0.20: 0.7569339580671206\n",
      "0.25: 0.9373791423113474\n",
      "0.30: 1.1120450724330289\n",
      "0.35: 1.279854874890649\n",
      "0.40: 1.4397739464496355\n",
      "0.45: 1.5908163328553386\n",
      "0.50: 1.7320508075688772\n"
     ]
    }
   ],
   "source": [
    "for a in np.linspace(0, 0.5, 11):\n",
    "    s = a * np.pi\n",
    "    minor = np.sqrt(2) * np.sin(s/2) * np.sqrt(3)\n",
    "    print(f\"{a:.2f}: {minor}\")"
   ]
  },
  {
   "cell_type": "code",
   "execution_count": 63,
   "id": "ba385d85",
   "metadata": {},
   "outputs": [
    {
     "name": "stdout",
     "output_type": "stream",
     "text": [
      "0.00: 0.0\n",
      "0.05: 0.021324419614704587\n",
      "0.10: 0.0847726004762135\n",
      "0.15: 0.18878223779927644\n",
      "0.20: 0.3307922691248037\n",
      "0.25: 0.5073059361772881\n",
      "0.30: 0.7139768866586229\n",
      "0.35: 0.9457161958663971\n",
      "0.40: 1.1968176729092423\n",
      "0.45: 1.46109836606434\n",
      "0.50: 1.732050807568877\n"
     ]
    }
   ],
   "source": [
    "for a in np.linspace(0, 0.5, 11):\n",
    "    s = a * np.pi\n",
    "    minor = (1 - np.cos(s)) * np.sqrt(3)\n",
    "    print(f\"{a:.2f}: {minor}\")"
   ]
  },
  {
   "cell_type": "code",
   "execution_count": 69,
   "id": "a00427ba",
   "metadata": {},
   "outputs": [
    {
     "data": {
      "text/plain": [
       "0.9999998749999713"
      ]
     },
     "execution_count": 69,
     "metadata": {},
     "output_type": "execute_result"
    }
   ],
   "source": [
    "s = 0.001\n",
    "np.sqrt(1 - np.sin(s/2)**2 / np.cos(s/2)**2)"
   ]
  },
  {
   "cell_type": "code",
   "execution_count": 67,
   "id": "bd366457",
   "metadata": {},
   "outputs": [
    {
     "data": {
      "text/plain": [
       "0.0005000000416666708"
      ]
     },
     "execution_count": 67,
     "metadata": {},
     "output_type": "execute_result"
    }
   ],
   "source": [
    "np.tan(s/2)"
   ]
  },
  {
   "cell_type": "code",
   "execution_count": 68,
   "id": "64d5080e",
   "metadata": {},
   "outputs": [
    {
     "data": {
      "text/plain": [
       "0.0010000003333334668"
      ]
     },
     "execution_count": 68,
     "metadata": {},
     "output_type": "execute_result"
    }
   ],
   "source": [
    "np.tan(s)"
   ]
  },
  {
   "cell_type": "code",
   "execution_count": 72,
   "id": "2d2860b1",
   "metadata": {},
   "outputs": [
    {
     "name": "stdout",
     "output_type": "stream",
     "text": [
      "0.00: 0.0\n",
      "0.05: 0.0053724576644499904\n",
      "0.10: 0.021862774869183067\n",
      "0.15: 0.050656574107951366\n",
      "0.20: 0.0939782899434372\n",
      "0.25: 0.15557328656245006\n",
      "0.30: 0.2416980141160985\n",
      "0.35: 0.363319430648908\n",
      "0.40: 0.5419214595571841\n",
      "0.45: 0.8311409629369267\n",
      "0.50: 1.7320507710686357\n"
     ]
    }
   ],
   "source": [
    "for a in np.linspace(0, 0.5, 11):\n",
    "    s = a * np.pi\n",
    "    minor = np.sqrt(3) * (1 - np.sqrt(1 - np.sin(s/2)**2 / np.cos(s/2)**2))\n",
    "    print(f\"{a:.2f}: {minor}\")"
   ]
  },
  {
   "cell_type": "code",
   "execution_count": 46,
   "id": "4c390c9a",
   "metadata": {},
   "outputs": [
    {
     "data": {
      "text/plain": [
       "[<matplotlib.lines.Line2D at 0x7fb9fb545f70>]"
      ]
     },
     "execution_count": 46,
     "metadata": {},
     "output_type": "execute_result"
    },
    {
     "data": {
      "image/png": "[encoded data removed]",
      "text/plain": [
       "<Figure size 432x288 with 1 Axes>"
      ]
     },
     "metadata": {
      "needs_background": "light"
     },
     "output_type": "display_data"
    }
   ],
   "source": [
    "plt.plot(shift2deaths.keys(), list(map(np.mean, shift2deaths.values())))"
   ]
  },
  {
   "cell_type": "code",
   "execution_count": null,
   "id": "b90269fa",
   "metadata": {},
   "outputs": [],
   "source": []
  }
 ],
 "metadata": {
  "kernelspec": {
   "display_name": "ringity",
   "language": "python",
   "name": "ringity"
  },
  "language_info": {
   "codemirror_mode": {
    "name": "ipython",
    "version": 3
   },
   "file_extension": ".py",
   "mimetype": "text/x-python",
   "name": "python",
   "nbconvert_exporter": "python",
   "pygments_lexer": "ipython3",
   "version": "3.9.5"
  }
 },
 "nbformat": 4,
 "nbformat_minor": 5
}
