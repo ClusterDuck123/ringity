{
 "cells": [
  {
   "cell_type": "markdown",
   "metadata": {},
   "source": [
    "### distribution functions"
   ]
  },
  {
   "cell_type": "code",
   "execution_count": 1,
   "metadata": {},
   "outputs": [],
   "source": [
    "from numpy import pi as PI\n",
    "\n",
    "import scipy\n",
    "import numpy as np\n",
    "\n",
    "\n",
    "# =============================================================================\n",
    "#  ---------------- (DIS-)SIMILARITY DISTRIBUTION FUNCTIONS ------------------\n",
    "# =============================================================================\n",
    "def pdf_distance(t ,kappa):\n",
    "    \"\"\"\n",
    "    Cumulative distribution function of (circular) distance of two wrapped \n",
    "    exponentialy distributed random variables with \"concentration parameter\" \n",
    "    kappa. Support is on [0,pi].\n",
    "    \"\"\"\n",
    "    support = np.where((0<t) & (t<PI), 1., 0.)\n",
    "    normalization =  kappa / (1-np.exp(-2*PI*kappa))**2\n",
    "    term1 = (1-np.exp( 2*kappa*(t-2*PI)))*np.exp(-kappa*      t)\n",
    "    term2 = (1-np.exp(-2*kappa* t)      )*np.exp(-kappa*(2*PI-t))\n",
    "    return support * normalization * (term1+term2)\n",
    "\n",
    "def cdf_distance(t, kappa):\n",
    "    \"\"\"\n",
    "    Cumulative distribution function of (circular) distance of two von Mises\n",
    "    distributed random variables with concentration parameter kappa.\n",
    "    F(t)=0 for t<0 and F(t)=1 for t>pi.\n",
    "    \"\"\"\n",
    "    support = np.where(0<=t, 1., 0.)\n",
    "    normalization =  1/np.sinh(PI*kappa)\n",
    "    return support * normalization * (np.sinh(PI*kappa) - np.sinh((PI-t)*kappa))\n",
    "\n",
    "def pdf_similarity(t, a, kappa):\n",
    "    \"\"\"\n",
    "    Probability density function of s_a ∘ d(X,Y), where X,Y are two von\n",
    "    Mises distributed random variables with concentration parameter kappa,\n",
    "    d(-,-) denotes the distance on the circle and s_a(-) is the area of the\n",
    "    (normalized) overlap of two boxes of length 2*pi*a on the circle for a given\n",
    "    distance (measured from center to center). Normalization is taken to be the\n",
    "    area of one box, 2*pi*a, to ensure the support being on [0,1].\n",
    "\n",
    "    Function not implemented yet for a>0.5!\n",
    "    \"\"\"\n",
    "\n",
    "    assert 0 <= a <= 0.5, f'Function not implemented yet for a>0.5! a={a}'\n",
    "\n",
    "    support = np.where((0<=t) & (t<=1), 1., 0.)\n",
    "    return support * 2*a*PI*pdf_distance(2*a*PI*(1-t), kappa=kappa)\n",
    "\n",
    "def cdf_similarity(t, a, kappa):\n",
    "    \"\"\"\n",
    "    Cumulative distribution function of s_a ∘ d(X,Y), where X,Y are two von\n",
    "    Mises distributed random variables with concentration parameter kappa,\n",
    "    d(-,-) denotes the distance on the circle and s_a(-) is the area of the\n",
    "    (normalized) overlap of two boxes of length 2*pi*a on the circle for a given\n",
    "    distance (measured from center to center). Normalization is taken to be the\n",
    "    area of one box, 2*pi*a, to ensure the support being on [0,1].\n",
    "\n",
    "    Function not implemented yet for a>0.5!\n",
    "    \"\"\"\n",
    "\n",
    "    assert 0 <= a <= 0.5, f'Function not implemented yet for a>0.5! a={a}'\n",
    "\n",
    "    support = np.where(0<=t, 1., 0.)\n",
    "    return support * np.where(t>=1, 1.,\n",
    "                              1 - cdf_distance(2*a*PI*(1-t), kappa=kappa))\n",
    "\n",
    "# =============================================================================\n",
    "#  ------------------------------ REFERENCES ---------------------------------\n",
    "# =============================================================================\n",
    "\n",
    "# [1] C. P. Dettmann, O. Georgiou; Random geometric graphs with general connection functions"
   ]
  },
  {
   "cell_type": "markdown",
   "metadata": {},
   "source": [
    "### network_model"
   ]
  },
  {
   "cell_type": "code",
   "execution_count": 94,
   "metadata": {},
   "outputs": [],
   "source": [
    "from ringity.distribution_functions import get_mu, mueta_to_alphabeta\n",
    "from scipy.spatial.distance import pdist, squareform\n",
    "from numpy import pi as PI\n",
    "\n",
    "import scipy\n",
    "import numpy as np\n",
    "import networkx as nx\n",
    "\n",
    "# =============================================================================\n",
    "#  -------------------------------  PREPARATION -----------------------------\n",
    "# =============================================================================\n",
    "def geodesic_distances(thetas):\n",
    "    abs_dists = pdist(thetas.reshape(-1,1))\n",
    "    return np.where(abs_dists<PI, abs_dists, 2*PI-abs_dists)\n",
    "\n",
    "\n",
    "def overlap(dist, a):\n",
    "    \"\"\"\n",
    "    Calculates the overlap of two boxes of length 2*pi*a on the circle for a\n",
    "    given distance dist (measured from center to center).\n",
    "    \"\"\"\n",
    "    x1 = (2*PI*a-dist).clip(0)\n",
    "    # for large box sizes (a>0) there is a second overlap\n",
    "    x2 = (dist-2*PI*(1-a)).clip(0)\n",
    "    return x1 + x2\n",
    "\n",
    "def slope(rho, a, kappa):\n",
    "    # percentage of p=0: 1-cdf_distance(2*PI*a, kappa)\n",
    "    return 2*rho*cdf_distance(2*PI*a, kappa)\n",
    "\n",
    "# =============================================================================\n",
    "#  ------------------------------  NETWORK MODEL ----------------------------\n",
    "# =============================================================================\n",
    "\n",
    "def weighted_network_model(N, rho, a=0.5, kappa=0):\n",
    "    \"\"\"\n",
    "    Returns samples of the Network model as described in [1]\n",
    "    The outputs are samples of the\n",
    "     - positions of the nodes placed on the circle according to a von\n",
    "       Mises distribution,\n",
    "     - their pairwise distances\n",
    "     - their similarities, given an 'activity window' of size a\n",
    "     - their connection probabilities, given the parameters eta and rho.\n",
    "    \"\"\"\n",
    "\n",
    "    # just maiking sure no one tries to be funny...\n",
    "    assert 0 <= kappa\n",
    "    assert 0 <   a  <= 0.5\n",
    "    assert 0 <= rho <= 1\n",
    "\n",
    "    posis = np.random.exponential(scale=kappa, size=N) % (2*PI)\n",
    "    dists = geodesic_distances(posis)\n",
    "    simis = overlap(dists, a)/(2*PI*a)\n",
    "    probs = simis*slope(rho, a, kappa)\n",
    "\n",
    "    return probs\n",
    "\n",
    "\n",
    "def network_model(N, rho, kappa=0, a=0.5):\n",
    "    \"\"\"\n",
    "    Network model as described in [1]. The output is the (empirical) positions\n",
    "    of the nodes placed on the circle according to a von Mises distribution,\n",
    "    followed by a tripple consisting of the (empirical) distribution of the\n",
    "    pairwise distances, similarities and connection probabilities respectively.\n",
    "    \"\"\"\n",
    "    probs = weighted_network_model(N = N,\n",
    "                                   rho = rho,\n",
    "                                   kappa = kappa,\n",
    "                                   a = a)\n",
    "    rands = np.random.uniform(size=round(N*(N-1)/2))\n",
    "    A = squareform(np.where(probs>rands, 1, 0))\n",
    "    G = nx.from_numpy_array(A)\n",
    "    return G\n",
    "\n",
    "# =============================================================================\n",
    "#  ------------------------------ REFERENCES ---------------------------------\n",
    "# =============================================================================\n",
    "\n",
    "# [1] Not published yet."
   ]
  },
  {
   "cell_type": "markdown",
   "metadata": {},
   "source": [
    "## Here we go"
   ]
  },
  {
   "cell_type": "code",
   "execution_count": 95,
   "metadata": {},
   "outputs": [],
   "source": [
    "from itertools import combinations\n",
    "from scipy.integrate import quad\n",
    "\n",
    "import numpy as np\n",
    "import matplotlib.pyplot as plt"
   ]
  },
  {
   "cell_type": "code",
   "execution_count": 96,
   "metadata": {},
   "outputs": [],
   "source": [
    "N = 2**13\n",
    "a = 0.1\n",
    "kappa = 10.67\n",
    "\n",
    "centers = np.random.exponential(scale=1/kappa, size=N) % (2*PI)\n",
    "dists = geodesic_distances(centers)\n",
    "simis = overlap(dists, a)/(2*PI*a)"
   ]
  },
  {
   "cell_type": "code",
   "execution_count": 97,
   "metadata": {},
   "outputs": [],
   "source": [
    "N = 2**11\n",
    "rho= 0.05\n",
    "a = 0.3\n",
    "kappa = 100"
   ]
  },
  {
   "cell_type": "code",
   "execution_count": 98,
   "metadata": {},
   "outputs": [],
   "source": [
    "G = network_model(N, rho, a=a, kappa=kappa)"
   ]
  },
  {
   "cell_type": "code",
   "execution_count": 99,
   "metadata": {},
   "outputs": [
    {
     "data": {
      "text/plain": [
       "0"
      ]
     },
     "execution_count": 99,
     "metadata": {},
     "output_type": "execute_result"
    }
   ],
   "source": [
    "nx.density(G)"
   ]
  },
  {
   "cell_type": "code",
   "execution_count": 40,
   "metadata": {},
   "outputs": [],
   "source": [
    "#thetas = np.linspace(0,PI,100)\n",
    "#x = np.sort(dists)\n",
    "#y = np.linspace(0,1,len(x))\n",
    "#plt.plot(x, y)\n",
    "#plt.plot(thetas, cdf_distance(thetas, kappa))"
   ]
  },
  {
   "cell_type": "code",
   "execution_count": 41,
   "metadata": {},
   "outputs": [
    {
     "data": {
      "text/plain": [
       "0.0017717259225064094"
      ]
     },
     "execution_count": 41,
     "metadata": {},
     "output_type": "execute_result"
    }
   ],
   "source": [
    "np.sum(simis==0)/len(simis)"
   ]
  },
  {
   "cell_type": "code",
   "execution_count": 35,
   "metadata": {},
   "outputs": [
    {
     "data": {
      "text/plain": [
       "0.0012258035108825283"
      ]
     },
     "execution_count": 35,
     "metadata": {},
     "output_type": "execute_result"
    }
   ],
   "source": [
    "1-cdf_distance(2*PI*a, kappa)"
   ]
  },
  {
   "cell_type": "code",
   "execution_count": 71,
   "metadata": {},
   "outputs": [],
   "source": [
    "x = np.linspace(-0.1,1.1, 100)\n",
    "f_X = kappa*np.exp(-kappa*x)/(1-np.exp(-2*PI*kappa))\n",
    "f_D = pdf_similarity(x, a, kappa)"
   ]
  },
  {
   "cell_type": "code",
   "execution_count": 72,
   "metadata": {},
   "outputs": [
    {
     "data": {
      "text/plain": [
       "[<matplotlib.lines.Line2D at 0x11cbdd410>]"
      ]
     },
     "execution_count": 72,
     "metadata": {},
     "output_type": "execute_result"
    },
    {
     "data": {
      "image/png": "[encoded data removed]",
      "text/plain": [
       "<Figure size 432x288 with 1 Axes>"
      ]
     },
     "metadata": {
      "needs_background": "light"
     },
     "output_type": "display_data"
    }
   ],
   "source": [
    "plt.hist(simis  , bins=50, alpha=0.50, density=True);\n",
    "plt.plot(x, f_D)"
   ]
  },
  {
   "cell_type": "code",
   "execution_count": 83,
   "metadata": {},
   "outputs": [
    {
     "data": {
      "image/png": "[encoded data removed]",
      "text/plain": [
       "<Figure size 432x288 with 1 Axes>"
      ]
     },
     "metadata": {
      "needs_background": "light"
     },
     "output_type": "display_data"
    }
   ],
   "source": [
    "plt.hist(dists, bins=50, density=True);"
   ]
  },
  {
   "cell_type": "code",
   "execution_count": 86,
   "metadata": {},
   "outputs": [
    {
     "data": {
      "text/plain": [
       "[<matplotlib.lines.Line2D at 0x11d211c90>]"
      ]
     },
     "execution_count": 86,
     "metadata": {},
     "output_type": "execute_result"
    },
    {
     "data": {
      "image/png": "[encoded data removed]",
      "text/plain": [
       "<Figure size 432x288 with 1 Axes>"
      ]
     },
     "metadata": {
      "needs_background": "light"
     },
     "output_type": "display_data"
    }
   ],
   "source": [
    "x = np.sort(dists)\n",
    "y = np.linspace(0,1,len(x))\n",
    "plt.plot(x, y)"
   ]
  },
  {
   "cell_type": "code",
   "execution_count": 85,
   "metadata": {},
   "outputs": [
    {
     "data": {
      "text/plain": [
       "array([1.56568077e+00, 3.91647665e+00, 4.76854540e+00, ...,\n",
       "       3.25216499e+06, 3.25216570e+06, 3.25216812e+06])"
      ]
     },
     "execution_count": 85,
     "metadata": {},
     "output_type": "execute_result"
    }
   ],
   "source": [
    "np.cumsum(dists)"
   ]
  },
  {
   "cell_type": "code",
   "execution_count": 5,
   "metadata": {},
   "outputs": [],
   "source": [
    "? np.positive"
   ]
  },
  {
   "cell_type": "code",
   "execution_count": 9,
   "metadata": {},
   "outputs": [
    {
     "ename": "NameError",
     "evalue": "name 'dists' is not defined",
     "output_type": "error",
     "traceback": [
      "\u001b[0;31m---------------------------------------------------------------------------\u001b[0m",
      "\u001b[0;31mNameError\u001b[0m                                 Traceback (most recent call last)",
      "\u001b[0;32m<ipython-input-9-69875c2e068c>\u001b[0m in \u001b[0;36m<module>\u001b[0;34m\u001b[0m\n\u001b[0;32m----> 1\u001b[0;31m \u001b[0mdists\u001b[0m\u001b[0;34m\u001b[0m\u001b[0;34m\u001b[0m\u001b[0m\n\u001b[0m",
      "\u001b[0;31mNameError\u001b[0m: name 'dists' is not defined"
     ]
    }
   ],
   "source": [
    "dis"
   ]
  },
  {
   "cell_type": "code",
   "execution_count": 31,
   "metadata": {},
   "outputs": [
    {
     "data": {
      "text/plain": [
       "False"
      ]
     },
     "execution_count": 31,
     "metadata": {},
     "output_type": "execute_result"
    }
   ],
   "source": [
    "np.isclose(overlap(dists, 0.1),(dists-2*PI*(1-a)).clip(0)).all()"
   ]
  },
  {
   "cell_type": "code",
   "execution_count": 35,
   "metadata": {},
   "outputs": [
    {
     "data": {
      "text/plain": [
       "False"
      ]
     },
     "execution_count": 35,
     "metadata": {},
     "output_type": "execute_result"
    }
   ],
   "source": [
    "(np.where(2*PI*a-dists > 0, 2*PI*a-dists, 0) == 2*PI*a-dists).all()"
   ]
  },
  {
   "cell_type": "code",
   "execution_count": 25,
   "metadata": {},
   "outputs": [
    {
     "data": {
      "text/plain": [
       "array([0.24209446, 0.5318966 , 1.8836107 , ..., 0.07417661, 1.12890346,\n",
       "       1.45854728])"
      ]
     },
     "execution_count": 25,
     "metadata": {},
     "output_type": "execute_result"
    }
   ],
   "source": [
    "2*PI*a-dists"
   ]
  },
  {
   "cell_type": "code",
   "execution_count": 28,
   "metadata": {},
   "outputs": [
    {
     "data": {
      "text/plain": [
       "array([0., 0., 0., ..., 0., 0., 0.])"
      ]
     },
     "execution_count": 28,
     "metadata": {},
     "output_type": "execute_result"
    }
   ],
   "source": [
    "(dists-2*PI*(1-a)).clip(0)"
   ]
  },
  {
   "cell_type": "code",
   "execution_count": 55,
   "metadata": {},
   "outputs": [],
   "source": [
    "a=0.1"
   ]
  },
  {
   "cell_type": "code",
   "execution_count": 56,
   "metadata": {},
   "outputs": [],
   "source": [
    "x1 = np.where(2*PI*a-dists     > 0, 2*PI*a-dists    , 0)\n",
    "    # for large box sizes (a>0) there is a second overlap\n",
    "x2 = np.where(dists-2*PI*(1-a) > 0, dists-2*PI*(1-a), 0)"
   ]
  },
  {
   "cell_type": "code",
   "execution_count": 152,
   "metadata": {},
   "outputs": [
    {
     "data": {
      "text/plain": [
       "4.265588237643848e-14"
      ]
     },
     "execution_count": 152,
     "metadata": {},
     "output_type": "execute_result"
    }
   ],
   "source": [
    "kappa = 10.02\n",
    "\n",
    "2*np.exp(-3*PI*kappa)*(np.exp(2*PI*kappa)-1) / (1-np.exp(-2*PI*kappa))**2"
   ]
  },
  {
   "cell_type": "code",
   "execution_count": 153,
   "metadata": {},
   "outputs": [
    {
     "data": {
      "text/plain": [
       "4.265588237643864e-14"
      ]
     },
     "execution_count": 153,
     "metadata": {},
     "output_type": "execute_result"
    }
   ],
   "source": [
    "1/np.sinh(PI*kappa)"
   ]
  },
  {
   "cell_type": "code",
   "execution_count": null,
   "metadata": {},
   "outputs": [],
   "source": []
  }
 ],
 "metadata": {
  "kernelspec": {
   "display_name": "ringity",
   "language": "python",
   "name": "ringity"
  },
  "language_info": {
   "codemirror_mode": {
    "name": "ipython",
    "version": 3
   },
   "file_extension": ".py",
   "mimetype": "text/x-python",
   "name": "python",
   "nbconvert_exporter": "python",
   "pygments_lexer": "ipython3",
   "version": "3.7.7"
  }
 },
 "nbformat": 4,
 "nbformat_minor": 2
}
