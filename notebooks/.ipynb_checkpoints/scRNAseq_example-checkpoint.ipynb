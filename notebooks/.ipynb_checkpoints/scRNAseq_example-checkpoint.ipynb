{
 "cells": [
  {
   "cell_type": "code",
   "execution_count": null,
   "id": "f0474848",
   "metadata": {},
   "outputs": [],
   "source": [
    "import scanpy\n",
    "import ringity as rng"
   ]
  },
  {
   "cell_type": "code",
   "execution_count": null,
   "id": "9a94cd4b",
   "metadata": {},
   "outputs": [],
   "source": [
    "adata = scanpy.datasets.ebi_expression_atlas(\"E-GEOD-75688\")"
   ]
  },
  {
   "cell_type": "code",
   "execution_count": null,
   "id": "19652318",
   "metadata": {},
   "outputs": [],
   "source": [
    "cc_genes = rng.get_cell_cycle_genes(gene_id='ensembl')"
   ]
  },
  {
   "cell_type": "code",
   "execution_count": 7,
   "id": "c54f942b",
   "metadata": {},
   "outputs": [
    {
     "data": {
      "text/plain": [
       "102"
      ]
     },
     "execution_count": 7,
     "metadata": {},
     "output_type": "execute_result"
    }
   ],
   "source": [
    "rng.ring_score(rng.adata[:,cc_genes].X)"
   ]
  },
  {
   "cell_type": "code",
   "execution_count": 2,
   "id": "08d7b89b",
   "metadata": {},
   "outputs": [],
   "source": [
    "import networkx as nx"
   ]
  },
  {
   "cell_type": "code",
   "execution_count": 3,
   "id": "01b57eab",
   "metadata": {},
   "outputs": [],
   "source": [
    "G = nx.Graph()"
   ]
  },
  {
   "cell_type": "code",
   "execution_count": 14,
   "id": "5d418a2b",
   "metadata": {},
   "outputs": [
    {
     "data": {
      "text/plain": [
       "networkx.classes.graph.Graph"
      ]
     },
     "execution_count": 14,
     "metadata": {},
     "output_type": "execute_result"
    },
    {
     "data": {
      "text/plain": [
       "networkx.classes.graph.Graph"
      ]
     },
     "execution_count": 14,
     "metadata": {},
     "output_type": "execute_result"
    }
   ],
   "source": [
    "type(G)"
   ]
  },
  {
   "cell_type": "code",
   "execution_count": 5,
   "id": "918c0878",
   "metadata": {},
   "outputs": [
    {
     "data": {
      "text/plain": [
       "type"
      ]
     },
     "execution_count": 5,
     "metadata": {},
     "output_type": "execute_result"
    },
    {
     "data": {
      "text/plain": [
       "type"
      ]
     },
     "execution_count": 5,
     "metadata": {},
     "output_type": "execute_result"
    }
   ],
   "source": [
    "type(nx.Graph)"
   ]
  },
  {
   "cell_type": "code",
   "execution_count": 15,
   "id": "85c1ac0a",
   "metadata": {},
   "outputs": [],
   "source": [
    "import scipy\n",
    "import scipy.sparse"
   ]
  },
  {
   "cell_type": "code",
   "execution_count": 16,
   "id": "80250659",
   "metadata": {},
   "outputs": [
    {
     "data": {
      "text/plain": [
       "[scipy.sparse.csc.csc_matrix,\n",
       " scipy.sparse.compressed._cs_matrix,\n",
       " scipy.sparse.data._data_matrix,\n",
       " scipy.sparse.base.spmatrix,\n",
       " scipy.sparse.data._minmax_mixin,\n",
       " scipy.sparse._index.IndexMixin,\n",
       " object]"
      ]
     },
     "execution_count": 16,
     "metadata": {},
     "output_type": "execute_result"
    },
    {
     "data": {
      "text/plain": [
       "[scipy.sparse.csc.csc_matrix,\n",
       " scipy.sparse.compressed._cs_matrix,\n",
       " scipy.sparse.data._data_matrix,\n",
       " scipy.sparse.base.spmatrix,\n",
       " scipy.sparse.data._minmax_mixin,\n",
       " scipy.sparse._index.IndexMixin,\n",
       " object]"
      ]
     },
     "execution_count": 16,
     "metadata": {},
     "output_type": "execute_result"
    }
   ],
   "source": [
    "scipy.sparse.csc_matrix.mro()"
   ]
  },
  {
   "cell_type": "code",
   "execution_count": 21,
   "id": "deb02269",
   "metadata": {},
   "outputs": [
    {
     "data": {
      "text/plain": [
       "scipy.sparse.base.spmatrix"
      ]
     },
     "execution_count": 21,
     "metadata": {},
     "output_type": "execute_result"
    },
    {
     "data": {
      "text/plain": [
       "scipy.sparse.base.spmatrix"
      ]
     },
     "execution_count": 21,
     "metadata": {},
     "output_type": "execute_result"
    }
   ],
   "source": []
  },
  {
   "cell_type": "code",
   "execution_count": null,
   "id": "fdde09ae",
   "metadata": {},
   "outputs": [],
   "source": []
  }
 ],
 "metadata": {
  "kernelspec": {
   "display_name": "ringity",
   "language": "python",
   "name": "ringity"
  },
  "language_info": {
   "codemirror_mode": {
    "name": "ipython",
    "version": 3
   },
   "file_extension": ".py",
   "mimetype": "text/x-python",
   "name": "python",
   "nbconvert_exporter": "python",
   "pygments_lexer": "ipython3",
   "version": "3.9.5"
  }
 },
 "nbformat": 4,
 "nbformat_minor": 5
}
