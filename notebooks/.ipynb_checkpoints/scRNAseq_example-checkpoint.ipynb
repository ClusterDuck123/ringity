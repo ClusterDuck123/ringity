{
 "cells": [
  {
   "cell_type": "code",
   "execution_count": 2,
   "id": "f0474848",
   "metadata": {},
   "outputs": [],
   "source": [
    "import scanpy as sc\n",
    "import ringity as rng"
   ]
  },
  {
   "cell_type": "code",
   "execution_count": null,
   "id": "12afbbab",
   "metadata": {},
   "outputs": [],
   "source": [
    "#Single cell sequencing of colorectal tumors and adjacent non-malignant colon tissue\n",
    "exmepriment = 'E-MTAB-8410'"
   ]
  },
  {
   "cell_type": "code",
   "execution_count": 14,
   "id": "3056226a",
   "metadata": {},
   "outputs": [
    {
     "data": {
      "text/plain": [
       "['fibroblast']\n",
       "Categories (1, object): ['fibroblast']"
      ]
     },
     "execution_count": 14,
     "metadata": {},
     "output_type": "execute_result"
    }
   ],
   "source": [
    "adata.obs['Sample Characteristic[cell type]'].unique()"
   ]
  },
  {
   "cell_type": "code",
   "execution_count": 12,
   "id": "ac6ed83b",
   "metadata": {},
   "outputs": [
    {
     "data": {
      "text/plain": [
       "['normal', 'cutaneous melanoma']\n",
       "Categories (2, object): ['cutaneous melanoma', 'normal']"
      ]
     },
     "execution_count": 12,
     "metadata": {},
     "output_type": "execute_result"
    }
   ],
   "source": [
    "adata.obs['Sample Characteristic[disease]'].unique()"
   ]
  },
  {
   "cell_type": "code",
   "execution_count": 10,
   "id": "3a77b313",
   "metadata": {},
   "outputs": [
    {
     "data": {
      "application/vnd.jupyter.widget-view+json": {
       "model_id": "fcdf9733bd38495c84d9bb42c0734a7e",
       "version_major": 2,
       "version_minor": 0
      },
      "text/plain": [
       "  0%|          | 0.00/11.4M [00:00<?, ?B/s]"
      ]
     },
     "metadata": {},
     "output_type": "display_data"
    },
    {
     "data": {
      "application/vnd.jupyter.widget-view+json": {
       "model_id": "6c853eb3a14f44b1a19a0441e4d227c6",
       "version_major": 2,
       "version_minor": 0
      },
      "text/plain": [
       "0.00B [00:00, ?B/s]"
      ]
     },
     "metadata": {},
     "output_type": "display_data"
    },
    {
     "name": "stderr",
     "output_type": "stream",
     "text": [
      "/Users/markusyoussef/Documents/coding/venvs/ringity/lib/python3.9/site-packages/anndata/_core/anndata.py:1228: FutureWarning: The `inplace` parameter in pandas.Categorical.reorder_categories is deprecated and will be removed in a future version. Reordering categories will always return a new Categorical object.\n",
      "  c.reorder_categories(natsorted(c.categories), inplace=True)\n",
      "... storing 'Sample Characteristic[organism]' as categorical\n",
      "/Users/markusyoussef/Documents/coding/venvs/ringity/lib/python3.9/site-packages/anndata/_core/anndata.py:1228: FutureWarning: The `inplace` parameter in pandas.Categorical.reorder_categories is deprecated and will be removed in a future version. Reordering categories will always return a new Categorical object.\n",
      "  c.reorder_categories(natsorted(c.categories), inplace=True)\n",
      "... storing 'Sample Characteristic Ontology Term[organism]' as categorical\n",
      "/Users/markusyoussef/Documents/coding/venvs/ringity/lib/python3.9/site-packages/anndata/_core/anndata.py:1228: FutureWarning: The `inplace` parameter in pandas.Categorical.reorder_categories is deprecated and will be removed in a future version. Reordering categories will always return a new Categorical object.\n",
      "  c.reorder_categories(natsorted(c.categories), inplace=True)\n",
      "... storing 'Sample Characteristic[developmental stage]' as categorical\n",
      "/Users/markusyoussef/Documents/coding/venvs/ringity/lib/python3.9/site-packages/anndata/_core/anndata.py:1228: FutureWarning: The `inplace` parameter in pandas.Categorical.reorder_categories is deprecated and will be removed in a future version. Reordering categories will always return a new Categorical object.\n",
      "  c.reorder_categories(natsorted(c.categories), inplace=True)\n",
      "... storing 'Sample Characteristic Ontology Term[developmental stage]' as categorical\n",
      "/Users/markusyoussef/Documents/coding/venvs/ringity/lib/python3.9/site-packages/anndata/_core/anndata.py:1228: FutureWarning: The `inplace` parameter in pandas.Categorical.reorder_categories is deprecated and will be removed in a future version. Reordering categories will always return a new Categorical object.\n",
      "  c.reorder_categories(natsorted(c.categories), inplace=True)\n",
      "... storing 'Sample Characteristic[disease]' as categorical\n",
      "/Users/markusyoussef/Documents/coding/venvs/ringity/lib/python3.9/site-packages/anndata/_core/anndata.py:1228: FutureWarning: The `inplace` parameter in pandas.Categorical.reorder_categories is deprecated and will be removed in a future version. Reordering categories will always return a new Categorical object.\n",
      "  c.reorder_categories(natsorted(c.categories), inplace=True)\n",
      "... storing 'Sample Characteristic Ontology Term[disease]' as categorical\n",
      "/Users/markusyoussef/Documents/coding/venvs/ringity/lib/python3.9/site-packages/anndata/_core/anndata.py:1228: FutureWarning: The `inplace` parameter in pandas.Categorical.reorder_categories is deprecated and will be removed in a future version. Reordering categories will always return a new Categorical object.\n",
      "  c.reorder_categories(natsorted(c.categories), inplace=True)\n",
      "... storing 'Sample Characteristic[organism part]' as categorical\n",
      "/Users/markusyoussef/Documents/coding/venvs/ringity/lib/python3.9/site-packages/anndata/_core/anndata.py:1228: FutureWarning: The `inplace` parameter in pandas.Categorical.reorder_categories is deprecated and will be removed in a future version. Reordering categories will always return a new Categorical object.\n",
      "  c.reorder_categories(natsorted(c.categories), inplace=True)\n",
      "... storing 'Sample Characteristic[sampling site]' as categorical\n",
      "/Users/markusyoussef/Documents/coding/venvs/ringity/lib/python3.9/site-packages/anndata/_core/anndata.py:1228: FutureWarning: The `inplace` parameter in pandas.Categorical.reorder_categories is deprecated and will be removed in a future version. Reordering categories will always return a new Categorical object.\n",
      "  c.reorder_categories(natsorted(c.categories), inplace=True)\n",
      "... storing 'Sample Characteristic Ontology Term[sampling site]' as categorical\n",
      "/Users/markusyoussef/Documents/coding/venvs/ringity/lib/python3.9/site-packages/anndata/_core/anndata.py:1228: FutureWarning: The `inplace` parameter in pandas.Categorical.reorder_categories is deprecated and will be removed in a future version. Reordering categories will always return a new Categorical object.\n",
      "  c.reorder_categories(natsorted(c.categories), inplace=True)\n",
      "... storing 'Sample Characteristic[cell type]' as categorical\n",
      "/Users/markusyoussef/Documents/coding/venvs/ringity/lib/python3.9/site-packages/anndata/_core/anndata.py:1228: FutureWarning: The `inplace` parameter in pandas.Categorical.reorder_categories is deprecated and will be removed in a future version. Reordering categories will always return a new Categorical object.\n",
      "  c.reorder_categories(natsorted(c.categories), inplace=True)\n",
      "... storing 'Sample Characteristic Ontology Term[cell type]' as categorical\n",
      "/Users/markusyoussef/Documents/coding/venvs/ringity/lib/python3.9/site-packages/anndata/_core/anndata.py:1228: FutureWarning: The `inplace` parameter in pandas.Categorical.reorder_categories is deprecated and will be removed in a future version. Reordering categories will always return a new Categorical object.\n",
      "  c.reorder_categories(natsorted(c.categories), inplace=True)\n",
      "... storing 'Factor Value[disease]' as categorical\n",
      "/Users/markusyoussef/Documents/coding/venvs/ringity/lib/python3.9/site-packages/anndata/_core/anndata.py:1228: FutureWarning: The `inplace` parameter in pandas.Categorical.reorder_categories is deprecated and will be removed in a future version. Reordering categories will always return a new Categorical object.\n",
      "  c.reorder_categories(natsorted(c.categories), inplace=True)\n",
      "... storing 'Factor Value Ontology Term[disease]' as categorical\n",
      "/Users/markusyoussef/Documents/coding/venvs/ringity/lib/python3.9/site-packages/anndata/_core/anndata.py:1228: FutureWarning: The `inplace` parameter in pandas.Categorical.reorder_categories is deprecated and will be removed in a future version. Reordering categories will always return a new Categorical object.\n",
      "  c.reorder_categories(natsorted(c.categories), inplace=True)\n",
      "... storing 'Factor Value[stimulus]' as categorical\n",
      "/Users/markusyoussef/Documents/coding/venvs/ringity/lib/python3.9/site-packages/anndata/_core/anndata.py:1228: FutureWarning: The `inplace` parameter in pandas.Categorical.reorder_categories is deprecated and will be removed in a future version. Reordering categories will always return a new Categorical object.\n",
      "  c.reorder_categories(natsorted(c.categories), inplace=True)\n",
      "... storing 'Factor Value Ontology Term[stimulus]' as categorical\n"
     ]
    },
    {
     "ename": "KeyError",
     "evalue": "'Sample Characteristic[cell line]'",
     "output_type": "error",
     "traceback": [
      "\u001b[0;31m---------------------------------------------------------------------------\u001b[0m",
      "\u001b[0;31mKeyError\u001b[0m                                  Traceback (most recent call last)",
      "\u001b[0;32m~/Documents/coding/venvs/ringity/lib/python3.9/site-packages/pandas/core/indexes/base.py\u001b[0m in \u001b[0;36mget_loc\u001b[0;34m(self, key, method, tolerance)\u001b[0m\n\u001b[1;32m   3360\u001b[0m             \u001b[0;32mtry\u001b[0m\u001b[0;34m:\u001b[0m\u001b[0;34m\u001b[0m\u001b[0;34m\u001b[0m\u001b[0m\n\u001b[0;32m-> 3361\u001b[0;31m                 \u001b[0;32mreturn\u001b[0m \u001b[0mself\u001b[0m\u001b[0;34m.\u001b[0m\u001b[0m_engine\u001b[0m\u001b[0;34m.\u001b[0m\u001b[0mget_loc\u001b[0m\u001b[0;34m(\u001b[0m\u001b[0mcasted_key\u001b[0m\u001b[0;34m)\u001b[0m\u001b[0;34m\u001b[0m\u001b[0;34m\u001b[0m\u001b[0m\n\u001b[0m\u001b[1;32m   3362\u001b[0m             \u001b[0;32mexcept\u001b[0m \u001b[0mKeyError\u001b[0m \u001b[0;32mas\u001b[0m \u001b[0merr\u001b[0m\u001b[0;34m:\u001b[0m\u001b[0;34m\u001b[0m\u001b[0;34m\u001b[0m\u001b[0m\n",
      "\u001b[0;32m~/Documents/coding/venvs/ringity/lib/python3.9/site-packages/pandas/_libs/index.pyx\u001b[0m in \u001b[0;36mpandas._libs.index.IndexEngine.get_loc\u001b[0;34m()\u001b[0m\n",
      "\u001b[0;32m~/Documents/coding/venvs/ringity/lib/python3.9/site-packages/pandas/_libs/index.pyx\u001b[0m in \u001b[0;36mpandas._libs.index.IndexEngine.get_loc\u001b[0;34m()\u001b[0m\n",
      "\u001b[0;32mpandas/_libs/hashtable_class_helper.pxi\u001b[0m in \u001b[0;36mpandas._libs.hashtable.PyObjectHashTable.get_item\u001b[0;34m()\u001b[0m\n",
      "\u001b[0;32mpandas/_libs/hashtable_class_helper.pxi\u001b[0m in \u001b[0;36mpandas._libs.hashtable.PyObjectHashTable.get_item\u001b[0;34m()\u001b[0m\n",
      "\u001b[0;31mKeyError\u001b[0m: 'Sample Characteristic[cell line]'",
      "\nThe above exception was the direct cause of the following exception:\n",
      "\u001b[0;31mKeyError\u001b[0m                                  Traceback (most recent call last)",
      "\u001b[0;32m/var/folders/hr/pw6v38ln34d_87nsgcx3qjz80000gn/T/ipykernel_94553/3755880724.py\u001b[0m in \u001b[0;36m<module>\u001b[0;34m\u001b[0m\n\u001b[1;32m     11\u001b[0m \u001b[0;31m# Calculate ring score of subspace\u001b[0m\u001b[0;34m\u001b[0m\u001b[0;34m\u001b[0m\u001b[0;34m\u001b[0m\u001b[0m\n\u001b[1;32m     12\u001b[0m \u001b[0;34m\u001b[0m\u001b[0m\n\u001b[0;32m---> 13\u001b[0;31m \u001b[0;32mfor\u001b[0m \u001b[0mcell_line\u001b[0m \u001b[0;32min\u001b[0m \u001b[0madata\u001b[0m\u001b[0;34m.\u001b[0m\u001b[0mobs\u001b[0m\u001b[0;34m[\u001b[0m\u001b[0;34m\"Sample Characteristic[cell line]\"\u001b[0m\u001b[0;34m]\u001b[0m\u001b[0;34m.\u001b[0m\u001b[0munique\u001b[0m\u001b[0;34m(\u001b[0m\u001b[0;34m)\u001b[0m\u001b[0;34m:\u001b[0m\u001b[0;34m\u001b[0m\u001b[0;34m\u001b[0m\u001b[0m\n\u001b[0m\u001b[1;32m     14\u001b[0m     \u001b[0madata_cl\u001b[0m \u001b[0;34m=\u001b[0m \u001b[0madata\u001b[0m\u001b[0;34m[\u001b[0m\u001b[0madata\u001b[0m\u001b[0;34m.\u001b[0m\u001b[0mobs\u001b[0m\u001b[0;34m[\u001b[0m\u001b[0;34m\"Sample Characteristic[cell line]\"\u001b[0m\u001b[0;34m]\u001b[0m \u001b[0;34m==\u001b[0m \u001b[0mcell_line\u001b[0m\u001b[0;34m]\u001b[0m\u001b[0;34m\u001b[0m\u001b[0;34m\u001b[0m\u001b[0m\n\u001b[1;32m     15\u001b[0m     \u001b[0mprint\u001b[0m\u001b[0;34m(\u001b[0m\u001b[0mcell_line\u001b[0m\u001b[0;34m,\u001b[0m \u001b[0mrng\u001b[0m\u001b[0;34m.\u001b[0m\u001b[0mring_score\u001b[0m\u001b[0;34m(\u001b[0m\u001b[0madata_cl\u001b[0m\u001b[0;34m[\u001b[0m\u001b[0;34m:\u001b[0m\u001b[0;34m,\u001b[0m\u001b[0mcc_genes\u001b[0m\u001b[0;34m]\u001b[0m\u001b[0;34m.\u001b[0m\u001b[0mX\u001b[0m\u001b[0;34m)\u001b[0m\u001b[0;34m)\u001b[0m\u001b[0;34m\u001b[0m\u001b[0;34m\u001b[0m\u001b[0m\n",
      "\u001b[0;32m~/Documents/coding/venvs/ringity/lib/python3.9/site-packages/pandas/core/frame.py\u001b[0m in \u001b[0;36m__getitem__\u001b[0;34m(self, key)\u001b[0m\n\u001b[1;32m   3456\u001b[0m             \u001b[0;32mif\u001b[0m \u001b[0mself\u001b[0m\u001b[0;34m.\u001b[0m\u001b[0mcolumns\u001b[0m\u001b[0;34m.\u001b[0m\u001b[0mnlevels\u001b[0m \u001b[0;34m>\u001b[0m \u001b[0;36m1\u001b[0m\u001b[0;34m:\u001b[0m\u001b[0;34m\u001b[0m\u001b[0;34m\u001b[0m\u001b[0m\n\u001b[1;32m   3457\u001b[0m                 \u001b[0;32mreturn\u001b[0m \u001b[0mself\u001b[0m\u001b[0;34m.\u001b[0m\u001b[0m_getitem_multilevel\u001b[0m\u001b[0;34m(\u001b[0m\u001b[0mkey\u001b[0m\u001b[0;34m)\u001b[0m\u001b[0;34m\u001b[0m\u001b[0;34m\u001b[0m\u001b[0m\n\u001b[0;32m-> 3458\u001b[0;31m             \u001b[0mindexer\u001b[0m \u001b[0;34m=\u001b[0m \u001b[0mself\u001b[0m\u001b[0;34m.\u001b[0m\u001b[0mcolumns\u001b[0m\u001b[0;34m.\u001b[0m\u001b[0mget_loc\u001b[0m\u001b[0;34m(\u001b[0m\u001b[0mkey\u001b[0m\u001b[0;34m)\u001b[0m\u001b[0;34m\u001b[0m\u001b[0;34m\u001b[0m\u001b[0m\n\u001b[0m\u001b[1;32m   3459\u001b[0m             \u001b[0;32mif\u001b[0m \u001b[0mis_integer\u001b[0m\u001b[0;34m(\u001b[0m\u001b[0mindexer\u001b[0m\u001b[0;34m)\u001b[0m\u001b[0;34m:\u001b[0m\u001b[0;34m\u001b[0m\u001b[0;34m\u001b[0m\u001b[0m\n\u001b[1;32m   3460\u001b[0m                 \u001b[0mindexer\u001b[0m \u001b[0;34m=\u001b[0m \u001b[0;34m[\u001b[0m\u001b[0mindexer\u001b[0m\u001b[0;34m]\u001b[0m\u001b[0;34m\u001b[0m\u001b[0;34m\u001b[0m\u001b[0m\n",
      "\u001b[0;32m~/Documents/coding/venvs/ringity/lib/python3.9/site-packages/pandas/core/indexes/base.py\u001b[0m in \u001b[0;36mget_loc\u001b[0;34m(self, key, method, tolerance)\u001b[0m\n\u001b[1;32m   3361\u001b[0m                 \u001b[0;32mreturn\u001b[0m \u001b[0mself\u001b[0m\u001b[0;34m.\u001b[0m\u001b[0m_engine\u001b[0m\u001b[0;34m.\u001b[0m\u001b[0mget_loc\u001b[0m\u001b[0;34m(\u001b[0m\u001b[0mcasted_key\u001b[0m\u001b[0;34m)\u001b[0m\u001b[0;34m\u001b[0m\u001b[0;34m\u001b[0m\u001b[0m\n\u001b[1;32m   3362\u001b[0m             \u001b[0;32mexcept\u001b[0m \u001b[0mKeyError\u001b[0m \u001b[0;32mas\u001b[0m \u001b[0merr\u001b[0m\u001b[0;34m:\u001b[0m\u001b[0;34m\u001b[0m\u001b[0;34m\u001b[0m\u001b[0m\n\u001b[0;32m-> 3363\u001b[0;31m                 \u001b[0;32mraise\u001b[0m \u001b[0mKeyError\u001b[0m\u001b[0;34m(\u001b[0m\u001b[0mkey\u001b[0m\u001b[0;34m)\u001b[0m \u001b[0;32mfrom\u001b[0m \u001b[0merr\u001b[0m\u001b[0;34m\u001b[0m\u001b[0;34m\u001b[0m\u001b[0m\n\u001b[0m\u001b[1;32m   3364\u001b[0m \u001b[0;34m\u001b[0m\u001b[0m\n\u001b[1;32m   3365\u001b[0m         \u001b[0;32mif\u001b[0m \u001b[0mis_scalar\u001b[0m\u001b[0;34m(\u001b[0m\u001b[0mkey\u001b[0m\u001b[0;34m)\u001b[0m \u001b[0;32mand\u001b[0m \u001b[0misna\u001b[0m\u001b[0;34m(\u001b[0m\u001b[0mkey\u001b[0m\u001b[0;34m)\u001b[0m \u001b[0;32mand\u001b[0m \u001b[0;32mnot\u001b[0m \u001b[0mself\u001b[0m\u001b[0;34m.\u001b[0m\u001b[0mhasnans\u001b[0m\u001b[0;34m:\u001b[0m\u001b[0;34m\u001b[0m\u001b[0;34m\u001b[0m\u001b[0m\n",
      "\u001b[0;31mKeyError\u001b[0m: 'Sample Characteristic[cell line]'"
     ]
    }
   ],
   "source": [
    "# Download melanoma samples\n",
    "adata = sc.datasets.ebi_expression_atlas(\"E-MTAB-10290\")\n",
    "\n",
    "# Preprocessing: Count normalization\n",
    "sc.pp.normalize_total(adata, target_sum=1e4)\n",
    "sc.pp.log1p(adata)\n",
    "\n",
    "# Get cell cycle genes\n",
    "cc_genes = rng.get_cell_cycle_genes(gene_id='ensembl')\n",
    "\n",
    "# Calculate ring score of subspace\n",
    "\n",
    "for cell_line in adata.obs[\"Sample Characteristic[cell line]\"].unique():\n",
    "    adata_cl = adata[adata.obs[\"Sample Characteristic[cell line]\"] == cell_line]\n",
    "    print(cell_line, rng.ring_score(adata_cl[:,cc_genes].X))"
   ]
  },
  {
   "cell_type": "code",
   "execution_count": 9,
   "id": "9a94cd4b",
   "metadata": {},
   "outputs": [
    {
     "name": "stdout",
     "output_type": "stream",
     "text": [
      "Ma-Mel-123 0.7754868171058791\n",
      "Ma-Mel-93 0.5957423852849641\n",
      "Ma-Mel-108 0.38478421944096164\n"
     ]
    }
   ],
   "source": [
    "# Download melanoma samples\n",
    "adata = sc.datasets.ebi_expression_atlas(\"E-GEOD-81383\")\n",
    "\n",
    "# Preprocessing: Count normalization\n",
    "sc.pp.normalize_total(adata, target_sum=1e4)\n",
    "sc.pp.log1p(adata)\n",
    "\n",
    "# Get cell cycle genes\n",
    "cc_genes = rng.get_cell_cycle_genes(gene_id='ensembl')\n",
    "\n",
    "# Calculate ring score of subspace\n",
    "\n",
    "for cell_line in adata.obs[\"Sample Characteristic[cell line]\"].unique():\n",
    "    adata_cl = adata[adata.obs[\"Sample Characteristic[cell line]\"] == cell_line]\n",
    "    print(cell_line, rng.ring_score(adata_cl[:,cc_genes].X))"
   ]
  },
  {
   "cell_type": "code",
   "execution_count": 4,
   "id": "f7efdf9c",
   "metadata": {},
   "outputs": [
    {
     "data": {
      "text/plain": [
       "0.7754868171058791"
      ]
     },
     "execution_count": 4,
     "metadata": {},
     "output_type": "execute_result"
    }
   ],
   "source": [
    "mamel123_\n",
    "rng.ring_score(mamel123_adata[:,cc_genes].X)"
   ]
  },
  {
   "cell_type": "code",
   "execution_count": 41,
   "id": "8539019c",
   "metadata": {},
   "outputs": [],
   "source": [
    "import pandas as pd\n",
    "import matplotlib.pyplot as plt"
   ]
  },
  {
   "cell_type": "code",
   "execution_count": 48,
   "id": "03870e13",
   "metadata": {},
   "outputs": [
    {
     "data": {
      "text/plain": [
       "(226, 23944)"
      ]
     },
     "execution_count": 48,
     "metadata": {},
     "output_type": "execute_result"
    }
   ],
   "source": [
    "adata.shape"
   ]
  },
  {
   "cell_type": "code",
   "execution_count": 49,
   "id": "047d57d2",
   "metadata": {},
   "outputs": [],
   "source": [
    "sc.pp.filter_cells(adata, min_genes=200)\n",
    "sc.pp.filter_genes(adata, min_cells=3)"
   ]
  },
  {
   "cell_type": "code",
   "execution_count": 50,
   "id": "acb3ac4e",
   "metadata": {},
   "outputs": [
    {
     "data": {
      "text/plain": [
       "(226, 23944)"
      ]
     },
     "execution_count": 50,
     "metadata": {},
     "output_type": "execute_result"
    }
   ],
   "source": [
    "adata.shape"
   ]
  },
  {
   "cell_type": "code",
   "execution_count": 51,
   "id": "23926f75",
   "metadata": {},
   "outputs": [],
   "source": []
  },
  {
   "cell_type": "code",
   "execution_count": 52,
   "id": "68fe2fb8",
   "metadata": {},
   "outputs": [],
   "source": []
  },
  {
   "cell_type": "code",
   "execution_count": 54,
   "id": "2f5fdcf3",
   "metadata": {},
   "outputs": [
    {
     "data": {
      "text/plain": [
       "0.332328958616102"
      ]
     },
     "execution_count": 54,
     "metadata": {},
     "output_type": "execute_result"
    }
   ],
   "source": [
    "rng.ring_score(adata[:,cc_genes].X)"
   ]
  },
  {
   "cell_type": "code",
   "execution_count": 45,
   "id": "c4a5d7aa",
   "metadata": {},
   "outputs": [
    {
     "data": {
      "image/png": "[encoded data removed]",
      "text/plain": [
       "<Figure size 432x288 with 1 Axes>"
      ]
     },
     "metadata": {
      "needs_background": "light"
     },
     "output_type": "display_data"
    }
   ],
   "source": [
    "plt.hist(adata.X.A.flatten(), bins = 50);"
   ]
  },
  {
   "cell_type": "code",
   "execution_count": 38,
   "id": "44729b44",
   "metadata": {},
   "outputs": [
    {
     "data": {
      "text/html": [
       "<div>\n",
       "<style scoped>\n",
       "    .dataframe tbody tr th:only-of-type {\n",
       "        vertical-align: middle;\n",
       "    }\n",
       "\n",
       "    .dataframe tbody tr th {\n",
       "        vertical-align: top;\n",
       "    }\n",
       "\n",
       "    .dataframe thead th {\n",
       "        text-align: right;\n",
       "    }\n",
       "</style>\n",
       "<table border=\"1\" class=\"dataframe\">\n",
       "  <thead>\n",
       "    <tr style=\"text-align: right;\">\n",
       "      <th></th>\n",
       "      <th>0</th>\n",
       "      <th>1</th>\n",
       "      <th>2</th>\n",
       "      <th>3</th>\n",
       "      <th>4</th>\n",
       "      <th>5</th>\n",
       "      <th>6</th>\n",
       "      <th>7</th>\n",
       "      <th>8</th>\n",
       "      <th>9</th>\n",
       "    </tr>\n",
       "  </thead>\n",
       "  <tbody>\n",
       "    <tr>\n",
       "      <th>0</th>\n",
       "      <td>103.474396</td>\n",
       "      <td>42.421158</td>\n",
       "      <td>14.166894</td>\n",
       "      <td>76.779510</td>\n",
       "      <td>531.296265</td>\n",
       "      <td>554.372070</td>\n",
       "      <td>31.038767</td>\n",
       "      <td>292.00000</td>\n",
       "      <td>22.219841</td>\n",
       "      <td>10.506041</td>\n",
       "    </tr>\n",
       "    <tr>\n",
       "      <th>1</th>\n",
       "      <td>1.031504</td>\n",
       "      <td>4.000000</td>\n",
       "      <td>3.000000</td>\n",
       "      <td>1.000000</td>\n",
       "      <td>4.984148</td>\n",
       "      <td>183.785950</td>\n",
       "      <td>5.813410</td>\n",
       "      <td>105.47908</td>\n",
       "      <td>35.409237</td>\n",
       "      <td>57.000000</td>\n",
       "    </tr>\n",
       "    <tr>\n",
       "      <th>2</th>\n",
       "      <td>108.954773</td>\n",
       "      <td>150.672043</td>\n",
       "      <td>0.000000</td>\n",
       "      <td>1.193830</td>\n",
       "      <td>13.125800</td>\n",
       "      <td>83.000000</td>\n",
       "      <td>79.000000</td>\n",
       "      <td>139.00000</td>\n",
       "      <td>7.018336</td>\n",
       "      <td>14.093799</td>\n",
       "    </tr>\n",
       "    <tr>\n",
       "      <th>3</th>\n",
       "      <td>1.756297</td>\n",
       "      <td>3.000000</td>\n",
       "      <td>17.482908</td>\n",
       "      <td>208.074005</td>\n",
       "      <td>0.000000</td>\n",
       "      <td>0.000000</td>\n",
       "      <td>0.000000</td>\n",
       "      <td>0.00000</td>\n",
       "      <td>3.020782</td>\n",
       "      <td>2.000000</td>\n",
       "    </tr>\n",
       "    <tr>\n",
       "      <th>4</th>\n",
       "      <td>2.089691</td>\n",
       "      <td>32.975075</td>\n",
       "      <td>0.000000</td>\n",
       "      <td>0.000000</td>\n",
       "      <td>9.485618</td>\n",
       "      <td>1.000000</td>\n",
       "      <td>0.000000</td>\n",
       "      <td>0.00000</td>\n",
       "      <td>10.000000</td>\n",
       "      <td>207.000000</td>\n",
       "    </tr>\n",
       "    <tr>\n",
       "      <th>5</th>\n",
       "      <td>20.348711</td>\n",
       "      <td>138.478058</td>\n",
       "      <td>3.639101</td>\n",
       "      <td>12.360899</td>\n",
       "      <td>54.966187</td>\n",
       "      <td>33.000000</td>\n",
       "      <td>3.040354</td>\n",
       "      <td>217.00000</td>\n",
       "      <td>5.421701</td>\n",
       "      <td>6.315918</td>\n",
       "    </tr>\n",
       "    <tr>\n",
       "      <th>6</th>\n",
       "      <td>0.000000</td>\n",
       "      <td>75.000000</td>\n",
       "      <td>49.000000</td>\n",
       "      <td>21.000000</td>\n",
       "      <td>1.241400</td>\n",
       "      <td>19.000000</td>\n",
       "      <td>0.000000</td>\n",
       "      <td>0.00000</td>\n",
       "      <td>3.024606</td>\n",
       "      <td>431.000000</td>\n",
       "    </tr>\n",
       "    <tr>\n",
       "      <th>7</th>\n",
       "      <td>3.495140</td>\n",
       "      <td>120.000000</td>\n",
       "      <td>1.000000</td>\n",
       "      <td>50.000000</td>\n",
       "      <td>3.000000</td>\n",
       "      <td>83.000000</td>\n",
       "      <td>0.000000</td>\n",
       "      <td>2.00000</td>\n",
       "      <td>79.031113</td>\n",
       "      <td>1693.794189</td>\n",
       "    </tr>\n",
       "    <tr>\n",
       "      <th>8</th>\n",
       "      <td>297.198608</td>\n",
       "      <td>231.379303</td>\n",
       "      <td>56.129185</td>\n",
       "      <td>68.870811</td>\n",
       "      <td>2.289146</td>\n",
       "      <td>197.759781</td>\n",
       "      <td>3.000000</td>\n",
       "      <td>137.00000</td>\n",
       "      <td>7.024256</td>\n",
       "      <td>4.032874</td>\n",
       "    </tr>\n",
       "    <tr>\n",
       "      <th>9</th>\n",
       "      <td>0.000000</td>\n",
       "      <td>15.000000</td>\n",
       "      <td>2.000000</td>\n",
       "      <td>0.000000</td>\n",
       "      <td>0.000000</td>\n",
       "      <td>1.000000</td>\n",
       "      <td>11.101731</td>\n",
       "      <td>5.00000</td>\n",
       "      <td>0.000000</td>\n",
       "      <td>1.000000</td>\n",
       "    </tr>\n",
       "  </tbody>\n",
       "</table>\n",
       "</div>"
      ],
      "text/plain": [
       "            0           1          2           3           4           5  \\\n",
       "0  103.474396   42.421158  14.166894   76.779510  531.296265  554.372070   \n",
       "1    1.031504    4.000000   3.000000    1.000000    4.984148  183.785950   \n",
       "2  108.954773  150.672043   0.000000    1.193830   13.125800   83.000000   \n",
       "3    1.756297    3.000000  17.482908  208.074005    0.000000    0.000000   \n",
       "4    2.089691   32.975075   0.000000    0.000000    9.485618    1.000000   \n",
       "5   20.348711  138.478058   3.639101   12.360899   54.966187   33.000000   \n",
       "6    0.000000   75.000000  49.000000   21.000000    1.241400   19.000000   \n",
       "7    3.495140  120.000000   1.000000   50.000000    3.000000   83.000000   \n",
       "8  297.198608  231.379303  56.129185   68.870811    2.289146  197.759781   \n",
       "9    0.000000   15.000000   2.000000    0.000000    0.000000    1.000000   \n",
       "\n",
       "           6          7          8            9  \n",
       "0  31.038767  292.00000  22.219841    10.506041  \n",
       "1   5.813410  105.47908  35.409237    57.000000  \n",
       "2  79.000000  139.00000   7.018336    14.093799  \n",
       "3   0.000000    0.00000   3.020782     2.000000  \n",
       "4   0.000000    0.00000  10.000000   207.000000  \n",
       "5   3.040354  217.00000   5.421701     6.315918  \n",
       "6   0.000000    0.00000   3.024606   431.000000  \n",
       "7   0.000000    2.00000  79.031113  1693.794189  \n",
       "8   3.000000  137.00000   7.024256     4.032874  \n",
       "9  11.101731    5.00000   0.000000     1.000000  "
      ]
     },
     "execution_count": 38,
     "metadata": {},
     "output_type": "execute_result"
    }
   ],
   "source": [
    "pd.DataFrame(adata.X[:10,:10].A)"
   ]
  },
  {
   "cell_type": "code",
   "execution_count": 18,
   "id": "8b92282a",
   "metadata": {},
   "outputs": [
    {
     "data": {
      "text/html": [
       "<div>\n",
       "<style scoped>\n",
       "    .dataframe tbody tr th:only-of-type {\n",
       "        vertical-align: middle;\n",
       "    }\n",
       "\n",
       "    .dataframe tbody tr th {\n",
       "        vertical-align: top;\n",
       "    }\n",
       "\n",
       "    .dataframe thead th {\n",
       "        text-align: right;\n",
       "    }\n",
       "</style>\n",
       "<table border=\"1\" class=\"dataframe\">\n",
       "  <thead>\n",
       "    <tr style=\"text-align: right;\">\n",
       "      <th></th>\n",
       "      <th>Sample Characteristic[individual]</th>\n",
       "      <th>Sample Characteristic Ontology Term[individual]</th>\n",
       "      <th>Sample Characteristic[organism part]</th>\n",
       "      <th>Sample Characteristic Ontology Term[organism part]</th>\n",
       "      <th>Sample Characteristic[sampling site]</th>\n",
       "      <th>Sample Characteristic Ontology Term[sampling site]</th>\n",
       "      <th>Sample Characteristic[histology]</th>\n",
       "      <th>Sample Characteristic Ontology Term[histology]</th>\n",
       "      <th>Factor Value[single cell identifier]</th>\n",
       "      <th>Factor Value Ontology Term[single cell identifier]</th>\n",
       "      <th>Factor Value[histology]</th>\n",
       "      <th>Factor Value Ontology Term[histology]</th>\n",
       "      <th>Factor Value[sampling site]</th>\n",
       "      <th>Factor Value Ontology Term[sampling site]</th>\n",
       "    </tr>\n",
       "  </thead>\n",
       "  <tbody>\n",
       "    <tr>\n",
       "      <th>SRR2973279</th>\n",
       "      <td>BC01</td>\n",
       "      <td>NaN</td>\n",
       "      <td>breast</td>\n",
       "      <td>http://purl.obolibrary.org/obo/UBERON_0000310</td>\n",
       "      <td>primary tumor</td>\n",
       "      <td>http://www.ebi.ac.uk/efo/EFO_0000616</td>\n",
       "      <td>estrogen-receptor positive breast cancer</td>\n",
       "      <td>http://www.ebi.ac.uk/efo/EFO_1000649</td>\n",
       "      <td>BC01_02</td>\n",
       "      <td>NaN</td>\n",
       "      <td>estrogen-receptor positive breast cancer</td>\n",
       "      <td>http://www.ebi.ac.uk/efo/EFO_1000649</td>\n",
       "      <td>primary tumor</td>\n",
       "      <td>http://www.ebi.ac.uk/efo/EFO_0000616</td>\n",
       "    </tr>\n",
       "    <tr>\n",
       "      <th>SRR2973280</th>\n",
       "      <td>BC01</td>\n",
       "      <td>NaN</td>\n",
       "      <td>breast</td>\n",
       "      <td>http://purl.obolibrary.org/obo/UBERON_0000310</td>\n",
       "      <td>primary tumor</td>\n",
       "      <td>http://www.ebi.ac.uk/efo/EFO_0000616</td>\n",
       "      <td>estrogen-receptor positive breast cancer</td>\n",
       "      <td>http://www.ebi.ac.uk/efo/EFO_1000649</td>\n",
       "      <td>BC01_03</td>\n",
       "      <td>NaN</td>\n",
       "      <td>estrogen-receptor positive breast cancer</td>\n",
       "      <td>http://www.ebi.ac.uk/efo/EFO_1000649</td>\n",
       "      <td>primary tumor</td>\n",
       "      <td>http://www.ebi.ac.uk/efo/EFO_0000616</td>\n",
       "    </tr>\n",
       "    <tr>\n",
       "      <th>SRR2973281</th>\n",
       "      <td>BC01</td>\n",
       "      <td>NaN</td>\n",
       "      <td>breast</td>\n",
       "      <td>http://purl.obolibrary.org/obo/UBERON_0000310</td>\n",
       "      <td>primary tumor</td>\n",
       "      <td>http://www.ebi.ac.uk/efo/EFO_0000616</td>\n",
       "      <td>estrogen-receptor positive breast cancer</td>\n",
       "      <td>http://www.ebi.ac.uk/efo/EFO_1000649</td>\n",
       "      <td>BC01_04</td>\n",
       "      <td>NaN</td>\n",
       "      <td>estrogen-receptor positive breast cancer</td>\n",
       "      <td>http://www.ebi.ac.uk/efo/EFO_1000649</td>\n",
       "      <td>primary tumor</td>\n",
       "      <td>http://www.ebi.ac.uk/efo/EFO_0000616</td>\n",
       "    </tr>\n",
       "    <tr>\n",
       "      <th>SRR2973282</th>\n",
       "      <td>BC01</td>\n",
       "      <td>NaN</td>\n",
       "      <td>breast</td>\n",
       "      <td>http://purl.obolibrary.org/obo/UBERON_0000310</td>\n",
       "      <td>primary tumor</td>\n",
       "      <td>http://www.ebi.ac.uk/efo/EFO_0000616</td>\n",
       "      <td>estrogen-receptor positive breast cancer</td>\n",
       "      <td>http://www.ebi.ac.uk/efo/EFO_1000649</td>\n",
       "      <td>BC01_05</td>\n",
       "      <td>NaN</td>\n",
       "      <td>estrogen-receptor positive breast cancer</td>\n",
       "      <td>http://www.ebi.ac.uk/efo/EFO_1000649</td>\n",
       "      <td>primary tumor</td>\n",
       "      <td>http://www.ebi.ac.uk/efo/EFO_0000616</td>\n",
       "    </tr>\n",
       "    <tr>\n",
       "      <th>SRR2973283</th>\n",
       "      <td>BC01</td>\n",
       "      <td>NaN</td>\n",
       "      <td>breast</td>\n",
       "      <td>http://purl.obolibrary.org/obo/UBERON_0000310</td>\n",
       "      <td>primary tumor</td>\n",
       "      <td>http://www.ebi.ac.uk/efo/EFO_0000616</td>\n",
       "      <td>estrogen-receptor positive breast cancer</td>\n",
       "      <td>http://www.ebi.ac.uk/efo/EFO_1000649</td>\n",
       "      <td>BC01_06</td>\n",
       "      <td>NaN</td>\n",
       "      <td>estrogen-receptor positive breast cancer</td>\n",
       "      <td>http://www.ebi.ac.uk/efo/EFO_1000649</td>\n",
       "      <td>primary tumor</td>\n",
       "      <td>http://www.ebi.ac.uk/efo/EFO_0000616</td>\n",
       "    </tr>\n",
       "    <tr>\n",
       "      <th>...</th>\n",
       "      <td>...</td>\n",
       "      <td>...</td>\n",
       "      <td>...</td>\n",
       "      <td>...</td>\n",
       "      <td>...</td>\n",
       "      <td>...</td>\n",
       "      <td>...</td>\n",
       "      <td>...</td>\n",
       "      <td>...</td>\n",
       "      <td>...</td>\n",
       "      <td>...</td>\n",
       "      <td>...</td>\n",
       "      <td>...</td>\n",
       "      <td>...</td>\n",
       "    </tr>\n",
       "    <tr>\n",
       "      <th>SRR5023668</th>\n",
       "      <td>BC11</td>\n",
       "      <td>NaN</td>\n",
       "      <td>breast</td>\n",
       "      <td>http://purl.obolibrary.org/obo/UBERON_0000310</td>\n",
       "      <td>primary tumor</td>\n",
       "      <td>http://www.ebi.ac.uk/efo/EFO_0000616</td>\n",
       "      <td>triple-negative breast cancer</td>\n",
       "      <td>http://www.ebi.ac.uk/efo/EFO_0005537</td>\n",
       "      <td>BC11_69</td>\n",
       "      <td>NaN</td>\n",
       "      <td>triple-negative breast cancer</td>\n",
       "      <td>http://www.ebi.ac.uk/efo/EFO_0005537</td>\n",
       "      <td>primary tumor</td>\n",
       "      <td>http://www.ebi.ac.uk/efo/EFO_0000616</td>\n",
       "    </tr>\n",
       "    <tr>\n",
       "      <th>SRR5023669</th>\n",
       "      <td>BC11</td>\n",
       "      <td>NaN</td>\n",
       "      <td>breast</td>\n",
       "      <td>http://purl.obolibrary.org/obo/UBERON_0000310</td>\n",
       "      <td>primary tumor</td>\n",
       "      <td>http://www.ebi.ac.uk/efo/EFO_0000616</td>\n",
       "      <td>triple-negative breast cancer</td>\n",
       "      <td>http://www.ebi.ac.uk/efo/EFO_0005537</td>\n",
       "      <td>BC11_70</td>\n",
       "      <td>NaN</td>\n",
       "      <td>triple-negative breast cancer</td>\n",
       "      <td>http://www.ebi.ac.uk/efo/EFO_0005537</td>\n",
       "      <td>primary tumor</td>\n",
       "      <td>http://www.ebi.ac.uk/efo/EFO_0000616</td>\n",
       "    </tr>\n",
       "    <tr>\n",
       "      <th>SRR5023670</th>\n",
       "      <td>BC11</td>\n",
       "      <td>NaN</td>\n",
       "      <td>breast</td>\n",
       "      <td>http://purl.obolibrary.org/obo/UBERON_0000310</td>\n",
       "      <td>primary tumor</td>\n",
       "      <td>http://www.ebi.ac.uk/efo/EFO_0000616</td>\n",
       "      <td>triple-negative breast cancer</td>\n",
       "      <td>http://www.ebi.ac.uk/efo/EFO_0005537</td>\n",
       "      <td>BC11_78</td>\n",
       "      <td>NaN</td>\n",
       "      <td>triple-negative breast cancer</td>\n",
       "      <td>http://www.ebi.ac.uk/efo/EFO_0005537</td>\n",
       "      <td>primary tumor</td>\n",
       "      <td>http://www.ebi.ac.uk/efo/EFO_0000616</td>\n",
       "    </tr>\n",
       "    <tr>\n",
       "      <th>SRR5023671</th>\n",
       "      <td>BC11</td>\n",
       "      <td>NaN</td>\n",
       "      <td>breast</td>\n",
       "      <td>http://purl.obolibrary.org/obo/UBERON_0000310</td>\n",
       "      <td>primary tumor</td>\n",
       "      <td>http://www.ebi.ac.uk/efo/EFO_0000616</td>\n",
       "      <td>triple-negative breast cancer</td>\n",
       "      <td>http://www.ebi.ac.uk/efo/EFO_0005537</td>\n",
       "      <td>BC11_81</td>\n",
       "      <td>NaN</td>\n",
       "      <td>triple-negative breast cancer</td>\n",
       "      <td>http://www.ebi.ac.uk/efo/EFO_0005537</td>\n",
       "      <td>primary tumor</td>\n",
       "      <td>http://www.ebi.ac.uk/efo/EFO_0000616</td>\n",
       "    </tr>\n",
       "    <tr>\n",
       "      <th>SRR5023672</th>\n",
       "      <td>BC11</td>\n",
       "      <td>NaN</td>\n",
       "      <td>breast</td>\n",
       "      <td>http://purl.obolibrary.org/obo/UBERON_0000310</td>\n",
       "      <td>primary tumor</td>\n",
       "      <td>http://www.ebi.ac.uk/efo/EFO_0000616</td>\n",
       "      <td>triple-negative breast cancer</td>\n",
       "      <td>http://www.ebi.ac.uk/efo/EFO_0005537</td>\n",
       "      <td>BC11_88</td>\n",
       "      <td>NaN</td>\n",
       "      <td>triple-negative breast cancer</td>\n",
       "      <td>http://www.ebi.ac.uk/efo/EFO_0005537</td>\n",
       "      <td>primary tumor</td>\n",
       "      <td>http://www.ebi.ac.uk/efo/EFO_0000616</td>\n",
       "    </tr>\n",
       "  </tbody>\n",
       "</table>\n",
       "<p>520 rows × 14 columns</p>\n",
       "</div>"
      ],
      "text/plain": [
       "           Sample Characteristic[individual]  \\\n",
       "SRR2973279                              BC01   \n",
       "SRR2973280                              BC01   \n",
       "SRR2973281                              BC01   \n",
       "SRR2973282                              BC01   \n",
       "SRR2973283                              BC01   \n",
       "...                                      ...   \n",
       "SRR5023668                              BC11   \n",
       "SRR5023669                              BC11   \n",
       "SRR5023670                              BC11   \n",
       "SRR5023671                              BC11   \n",
       "SRR5023672                              BC11   \n",
       "\n",
       "            Sample Characteristic Ontology Term[individual]  \\\n",
       "SRR2973279                                              NaN   \n",
       "SRR2973280                                              NaN   \n",
       "SRR2973281                                              NaN   \n",
       "SRR2973282                                              NaN   \n",
       "SRR2973283                                              NaN   \n",
       "...                                                     ...   \n",
       "SRR5023668                                              NaN   \n",
       "SRR5023669                                              NaN   \n",
       "SRR5023670                                              NaN   \n",
       "SRR5023671                                              NaN   \n",
       "SRR5023672                                              NaN   \n",
       "\n",
       "           Sample Characteristic[organism part]  \\\n",
       "SRR2973279                               breast   \n",
       "SRR2973280                               breast   \n",
       "SRR2973281                               breast   \n",
       "SRR2973282                               breast   \n",
       "SRR2973283                               breast   \n",
       "...                                         ...   \n",
       "SRR5023668                               breast   \n",
       "SRR5023669                               breast   \n",
       "SRR5023670                               breast   \n",
       "SRR5023671                               breast   \n",
       "SRR5023672                               breast   \n",
       "\n",
       "           Sample Characteristic Ontology Term[organism part]  \\\n",
       "SRR2973279      http://purl.obolibrary.org/obo/UBERON_0000310   \n",
       "SRR2973280      http://purl.obolibrary.org/obo/UBERON_0000310   \n",
       "SRR2973281      http://purl.obolibrary.org/obo/UBERON_0000310   \n",
       "SRR2973282      http://purl.obolibrary.org/obo/UBERON_0000310   \n",
       "SRR2973283      http://purl.obolibrary.org/obo/UBERON_0000310   \n",
       "...                                                       ...   \n",
       "SRR5023668      http://purl.obolibrary.org/obo/UBERON_0000310   \n",
       "SRR5023669      http://purl.obolibrary.org/obo/UBERON_0000310   \n",
       "SRR5023670      http://purl.obolibrary.org/obo/UBERON_0000310   \n",
       "SRR5023671      http://purl.obolibrary.org/obo/UBERON_0000310   \n",
       "SRR5023672      http://purl.obolibrary.org/obo/UBERON_0000310   \n",
       "\n",
       "           Sample Characteristic[sampling site]  \\\n",
       "SRR2973279                        primary tumor   \n",
       "SRR2973280                        primary tumor   \n",
       "SRR2973281                        primary tumor   \n",
       "SRR2973282                        primary tumor   \n",
       "SRR2973283                        primary tumor   \n",
       "...                                         ...   \n",
       "SRR5023668                        primary tumor   \n",
       "SRR5023669                        primary tumor   \n",
       "SRR5023670                        primary tumor   \n",
       "SRR5023671                        primary tumor   \n",
       "SRR5023672                        primary tumor   \n",
       "\n",
       "           Sample Characteristic Ontology Term[sampling site]  \\\n",
       "SRR2973279               http://www.ebi.ac.uk/efo/EFO_0000616   \n",
       "SRR2973280               http://www.ebi.ac.uk/efo/EFO_0000616   \n",
       "SRR2973281               http://www.ebi.ac.uk/efo/EFO_0000616   \n",
       "SRR2973282               http://www.ebi.ac.uk/efo/EFO_0000616   \n",
       "SRR2973283               http://www.ebi.ac.uk/efo/EFO_0000616   \n",
       "...                                                       ...   \n",
       "SRR5023668               http://www.ebi.ac.uk/efo/EFO_0000616   \n",
       "SRR5023669               http://www.ebi.ac.uk/efo/EFO_0000616   \n",
       "SRR5023670               http://www.ebi.ac.uk/efo/EFO_0000616   \n",
       "SRR5023671               http://www.ebi.ac.uk/efo/EFO_0000616   \n",
       "SRR5023672               http://www.ebi.ac.uk/efo/EFO_0000616   \n",
       "\n",
       "                    Sample Characteristic[histology]  \\\n",
       "SRR2973279  estrogen-receptor positive breast cancer   \n",
       "SRR2973280  estrogen-receptor positive breast cancer   \n",
       "SRR2973281  estrogen-receptor positive breast cancer   \n",
       "SRR2973282  estrogen-receptor positive breast cancer   \n",
       "SRR2973283  estrogen-receptor positive breast cancer   \n",
       "...                                              ...   \n",
       "SRR5023668             triple-negative breast cancer   \n",
       "SRR5023669             triple-negative breast cancer   \n",
       "SRR5023670             triple-negative breast cancer   \n",
       "SRR5023671             triple-negative breast cancer   \n",
       "SRR5023672             triple-negative breast cancer   \n",
       "\n",
       "           Sample Characteristic Ontology Term[histology]  \\\n",
       "SRR2973279           http://www.ebi.ac.uk/efo/EFO_1000649   \n",
       "SRR2973280           http://www.ebi.ac.uk/efo/EFO_1000649   \n",
       "SRR2973281           http://www.ebi.ac.uk/efo/EFO_1000649   \n",
       "SRR2973282           http://www.ebi.ac.uk/efo/EFO_1000649   \n",
       "SRR2973283           http://www.ebi.ac.uk/efo/EFO_1000649   \n",
       "...                                                   ...   \n",
       "SRR5023668           http://www.ebi.ac.uk/efo/EFO_0005537   \n",
       "SRR5023669           http://www.ebi.ac.uk/efo/EFO_0005537   \n",
       "SRR5023670           http://www.ebi.ac.uk/efo/EFO_0005537   \n",
       "SRR5023671           http://www.ebi.ac.uk/efo/EFO_0005537   \n",
       "SRR5023672           http://www.ebi.ac.uk/efo/EFO_0005537   \n",
       "\n",
       "           Factor Value[single cell identifier]  \\\n",
       "SRR2973279                              BC01_02   \n",
       "SRR2973280                              BC01_03   \n",
       "SRR2973281                              BC01_04   \n",
       "SRR2973282                              BC01_05   \n",
       "SRR2973283                              BC01_06   \n",
       "...                                         ...   \n",
       "SRR5023668                              BC11_69   \n",
       "SRR5023669                              BC11_70   \n",
       "SRR5023670                              BC11_78   \n",
       "SRR5023671                              BC11_81   \n",
       "SRR5023672                              BC11_88   \n",
       "\n",
       "            Factor Value Ontology Term[single cell identifier]  \\\n",
       "SRR2973279                                                NaN    \n",
       "SRR2973280                                                NaN    \n",
       "SRR2973281                                                NaN    \n",
       "SRR2973282                                                NaN    \n",
       "SRR2973283                                                NaN    \n",
       "...                                                       ...    \n",
       "SRR5023668                                                NaN    \n",
       "SRR5023669                                                NaN    \n",
       "SRR5023670                                                NaN    \n",
       "SRR5023671                                                NaN    \n",
       "SRR5023672                                                NaN    \n",
       "\n",
       "                             Factor Value[histology]  \\\n",
       "SRR2973279  estrogen-receptor positive breast cancer   \n",
       "SRR2973280  estrogen-receptor positive breast cancer   \n",
       "SRR2973281  estrogen-receptor positive breast cancer   \n",
       "SRR2973282  estrogen-receptor positive breast cancer   \n",
       "SRR2973283  estrogen-receptor positive breast cancer   \n",
       "...                                              ...   \n",
       "SRR5023668             triple-negative breast cancer   \n",
       "SRR5023669             triple-negative breast cancer   \n",
       "SRR5023670             triple-negative breast cancer   \n",
       "SRR5023671             triple-negative breast cancer   \n",
       "SRR5023672             triple-negative breast cancer   \n",
       "\n",
       "           Factor Value Ontology Term[histology] Factor Value[sampling site]  \\\n",
       "SRR2973279  http://www.ebi.ac.uk/efo/EFO_1000649               primary tumor   \n",
       "SRR2973280  http://www.ebi.ac.uk/efo/EFO_1000649               primary tumor   \n",
       "SRR2973281  http://www.ebi.ac.uk/efo/EFO_1000649               primary tumor   \n",
       "SRR2973282  http://www.ebi.ac.uk/efo/EFO_1000649               primary tumor   \n",
       "SRR2973283  http://www.ebi.ac.uk/efo/EFO_1000649               primary tumor   \n",
       "...                                          ...                         ...   \n",
       "SRR5023668  http://www.ebi.ac.uk/efo/EFO_0005537               primary tumor   \n",
       "SRR5023669  http://www.ebi.ac.uk/efo/EFO_0005537               primary tumor   \n",
       "SRR5023670  http://www.ebi.ac.uk/efo/EFO_0005537               primary tumor   \n",
       "SRR5023671  http://www.ebi.ac.uk/efo/EFO_0005537               primary tumor   \n",
       "SRR5023672  http://www.ebi.ac.uk/efo/EFO_0005537               primary tumor   \n",
       "\n",
       "           Factor Value Ontology Term[sampling site]  \n",
       "SRR2973279      http://www.ebi.ac.uk/efo/EFO_0000616  \n",
       "SRR2973280      http://www.ebi.ac.uk/efo/EFO_0000616  \n",
       "SRR2973281      http://www.ebi.ac.uk/efo/EFO_0000616  \n",
       "SRR2973282      http://www.ebi.ac.uk/efo/EFO_0000616  \n",
       "SRR2973283      http://www.ebi.ac.uk/efo/EFO_0000616  \n",
       "...                                              ...  \n",
       "SRR5023668      http://www.ebi.ac.uk/efo/EFO_0000616  \n",
       "SRR5023669      http://www.ebi.ac.uk/efo/EFO_0000616  \n",
       "SRR5023670      http://www.ebi.ac.uk/efo/EFO_0000616  \n",
       "SRR5023671      http://www.ebi.ac.uk/efo/EFO_0000616  \n",
       "SRR5023672      http://www.ebi.ac.uk/efo/EFO_0000616  \n",
       "\n",
       "[520 rows x 14 columns]"
      ]
     },
     "execution_count": 18,
     "metadata": {},
     "output_type": "execute_result"
    }
   ],
   "source": [
    "adata.obs.loc[:, adata.obs.nunique() != 1]"
   ]
  },
  {
   "cell_type": "code",
   "execution_count": 16,
   "id": "17b87716",
   "metadata": {},
   "outputs": [
    {
     "data": {
      "text/plain": [
       "(520, 18)"
      ]
     },
     "execution_count": 16,
     "metadata": {},
     "output_type": "execute_result"
    }
   ],
   "source": [
    "adata.obs.shape"
   ]
  },
  {
   "cell_type": "code",
   "execution_count": 4,
   "id": "fdde09ae",
   "metadata": {},
   "outputs": [],
   "source": [
    "import random"
   ]
  },
  {
   "cell_type": "code",
   "execution_count": 5,
   "id": "871b88dc",
   "metadata": {},
   "outputs": [
    {
     "data": {
      "text/plain": [
       "array(['ENSG00000000003', 'ENSG00000000419', 'ENSG00000000457', ...,\n",
       "       'ENSG00000289701', 'ENSG00000289716', 'ENSG00000289718'],\n",
       "      dtype=object)"
      ]
     },
     "execution_count": 5,
     "metadata": {},
     "output_type": "execute_result"
    }
   ],
   "source": [
    "adata.var_names.values"
   ]
  },
  {
   "cell_type": "code",
   "execution_count": null,
   "id": "59860cc2",
   "metadata": {},
   "outputs": [],
   "source": []
  }
 ],
 "metadata": {
  "kernelspec": {
   "display_name": "ringity",
   "language": "python",
   "name": "ringity"
  },
  "language_info": {
   "codemirror_mode": {
    "name": "ipython",
    "version": 3
   },
   "file_extension": ".py",
   "mimetype": "text/x-python",
   "name": "python",
   "nbconvert_exporter": "python",
   "pygments_lexer": "ipython3",
   "version": "3.9.5"
  }
 },
 "nbformat": 4,
 "nbformat_minor": 5
}
