{
 "cells": [
  {
   "cell_type": "code",
   "execution_count": 157,
   "id": "0381572e",
   "metadata": {},
   "outputs": [],
   "source": [
    "import numpy as np\n",
    "import ringity as rng\n",
    "import matplotlib.pyplot as plt\n",
    "\n",
    "from scipy.integrate import quad\n",
    "from ringity.classes.network_model import NetworkBuilder"
   ]
  },
  {
   "cell_type": "code",
   "execution_count": 128,
   "id": "a3301892",
   "metadata": {},
   "outputs": [],
   "source": [
    "rate = 1.234\n",
    "\n",
    "N = 2**19\n",
    "beta = 1-0.123\n",
    "alpha = 0.24\n",
    "K = 0.345 + 0.2\n",
    "\n",
    "rate  = np.tan(np.pi * (1-beta) / 2)\n",
    "\n",
    "network_builder = NetworkBuilder(random_state = 1234)\n",
    "network_builder.set_distribution('exponential', scale = 1/rate)\n",
    "network_builder.instantiate_positions(N)"
   ]
  },
  {
   "cell_type": "code",
   "execution_count": 129,
   "id": "99d2a434",
   "metadata": {},
   "outputs": [],
   "source": [
    "def pdf_Theta(t, rate, alpha):\n",
    "    denom = (1-np.exp(-2*np.pi*rate))\n",
    "    c_norm = rate / denom\n",
    "    term = np.exp(-rate*t)\n",
    "    \n",
    "    return np.where(t >= 2*np.pi*(1-alpha), c_norm * term, 0)\n",
    "\n",
    "\n",
    "def pdf_D(t, rate, alpha):\n",
    "    denom = (1-np.exp(-2*np.pi*rate))\n",
    "    c_norm = rate / denom\n",
    "    term = np.exp(-rate*(2*np.pi - t))\n",
    "    \n",
    "    return np.where(t <= 2*np.pi*alpha, c_norm * term, 0)\n",
    "\n",
    "\n",
    "def pdf_S(t, rate, alpha):\n",
    "    denom = (1-np.exp(-2*np.pi*rate))\n",
    "    c_norm = 2*np.pi*alpha*rate / denom\n",
    "    term = np.exp(-rate*2*np.pi*(1-(alpha*(1-t))))\n",
    "    \n",
    "    return np.where(t <= 1, c_norm * term, 0)\n",
    "\n",
    "\n",
    "def pdf_P(t, rate, alpha, K):\n",
    "    denom = (1-np.exp(-2*np.pi*rate)) * K\n",
    "    c_norm = 2*np.pi*alpha*rate / denom\n",
    "    term = np.exp(-rate*2*np.pi*(1-(alpha*(1-t/K))))\n",
    "    \n",
    "    return np.where(t <= K, c_norm * term, 0)"
   ]
  },
  {
   "cell_type": "code",
   "execution_count": 130,
   "id": "ca227740",
   "metadata": {},
   "outputs": [],
   "source": [
    "Theta = np.where(network_builder.positions >= 2*np.pi*(1-alpha), \n",
    "                 network_builder.positions,\n",
    "                 2*np.pi*(1-alpha))"
   ]
  },
  {
   "cell_type": "code",
   "execution_count": 131,
   "id": "cfb67b99",
   "metadata": {},
   "outputs": [
    {
     "data": {
      "text/plain": [
       "(0.0, 0.2)"
      ]
     },
     "execution_count": 131,
     "metadata": {},
     "output_type": "execute_result"
    },
    {
     "data": {
      "image/png": "[encoded data removed]",
      "text/plain": [
       "<Figure size 432x288 with 1 Axes>"
      ]
     },
     "metadata": {
      "needs_background": "light"
     },
     "output_type": "display_data"
    }
   ],
   "source": [
    "x = np.linspace(np.pi, 2*np.pi, 100)\n",
    "\n",
    "fig, ax = plt.subplots()\n",
    "\n",
    "ax.hist(Theta, bins=50, density=True);\n",
    "ax.plot(x, pdf_Theta(x, rate=rate, alpha=alpha), 'r', linewidth = 5)\n",
    "ax.set_ylim(0, 0.2)"
   ]
  },
  {
   "cell_type": "code",
   "execution_count": 132,
   "id": "d85f1fc8",
   "metadata": {},
   "outputs": [],
   "source": [
    "D = 2*np.pi - Theta"
   ]
  },
  {
   "cell_type": "code",
   "execution_count": 133,
   "id": "b474bb2d",
   "metadata": {},
   "outputs": [
    {
     "data": {
      "text/plain": [
       "(0.0, 0.2)"
      ]
     },
     "execution_count": 133,
     "metadata": {},
     "output_type": "execute_result"
    },
    {
     "data": {
      "image/png": "[encoded data removed]",
      "text/plain": [
       "<Figure size 432x288 with 1 Axes>"
      ]
     },
     "metadata": {
      "needs_background": "light"
     },
     "output_type": "display_data"
    }
   ],
   "source": [
    "x = np.linspace(0, np.pi, 100)\n",
    "\n",
    "fig, ax = plt.subplots()\n",
    "\n",
    "ax.hist(D, bins=50, density=True);\n",
    "ax.plot(x, pdf_D(x, rate=rate, alpha=alpha), 'r', linewidth = 5)\n",
    "ax.set_ylim(0, 0.2)"
   ]
  },
  {
   "cell_type": "code",
   "execution_count": 134,
   "id": "d3b4551d",
   "metadata": {},
   "outputs": [],
   "source": [
    "S = 1 - D / (2*np.pi*alpha)"
   ]
  },
  {
   "cell_type": "code",
   "execution_count": 135,
   "id": "84e6145b",
   "metadata": {},
   "outputs": [
    {
     "data": {
      "text/plain": [
       "(0.0, 0.4)"
      ]
     },
     "execution_count": 135,
     "metadata": {},
     "output_type": "execute_result"
    },
    {
     "data": {
      "image/png": "[encoded data removed]",
      "text/plain": [
       "<Figure size 432x288 with 1 Axes>"
      ]
     },
     "metadata": {
      "needs_background": "light"
     },
     "output_type": "display_data"
    }
   ],
   "source": [
    "x = np.linspace(0, 1, 100)\n",
    "\n",
    "fig, ax = plt.subplots()\n",
    "\n",
    "ax.hist(S, bins=50, density=True);\n",
    "ax.plot(x, pdf_S(x, rate=rate, alpha=alpha), 'r', linewidth = 5)\n",
    "ax.set_ylim(0, 0.4)"
   ]
  },
  {
   "cell_type": "code",
   "execution_count": 136,
   "id": "0ee75f18",
   "metadata": {},
   "outputs": [],
   "source": [
    "P = K*S"
   ]
  },
  {
   "cell_type": "code",
   "execution_count": 137,
   "id": "4e2fa6d8",
   "metadata": {},
   "outputs": [
    {
     "data": {
      "text/plain": [
       "(0.0, 0.7)"
      ]
     },
     "execution_count": 137,
     "metadata": {},
     "output_type": "execute_result"
    },
    {
     "data": {
      "image/png": "[encoded data removed]",
      "text/plain": [
       "<Figure size 432x288 with 1 Axes>"
      ]
     },
     "metadata": {
      "needs_background": "light"
     },
     "output_type": "display_data"
    }
   ],
   "source": [
    "x = np.linspace(0, 1, 100)\n",
    "\n",
    "fig, ax = plt.subplots()\n",
    "\n",
    "ax.hist(P, bins=50, density=True);\n",
    "ax.plot(x, pdf_P(x, rate=rate, alpha=alpha, K=K), 'r', linewidth = 5)\n",
    "ax.set_ylim(0, 0.7)"
   ]
  },
  {
   "cell_type": "code",
   "execution_count": 162,
   "id": "086b1635",
   "metadata": {},
   "outputs": [
    {
     "data": {
      "text/plain": [
       "0.0366704474878943"
      ]
     },
     "execution_count": 162,
     "metadata": {},
     "output_type": "execute_result"
    }
   ],
   "source": [
    "np.mean(P)"
   ]
  },
  {
   "cell_type": "code",
   "execution_count": 175,
   "id": "17c8ca17",
   "metadata": {},
   "outputs": [
    {
     "data": {
      "text/plain": [
       "0.03676241783027503"
      ]
     },
     "execution_count": 175,
     "metadata": {},
     "output_type": "execute_result"
    }
   ],
   "source": [
    "A = 2*np.pi*rate\n",
    "\n",
    "K / (alpha*A) * (1 - np.exp(alpha*A) + A*alpha)/(1 - np.exp(A))"
   ]
  },
  {
   "cell_type": "code",
   "execution_count": 176,
   "id": "6a2e6cae",
   "metadata": {},
   "outputs": [
    {
     "data": {
      "text/plain": [
       "0.036762417830275056"
      ]
     },
     "execution_count": 176,
     "metadata": {},
     "output_type": "execute_result"
    }
   ],
   "source": [
    "quad(lambda t : t*pdf_P(t, rate=rate, alpha=alpha, K=K),\n",
    "     0.00, K)[0]"
   ]
  },
  {
   "cell_type": "code",
   "execution_count": 186,
   "id": "d3e5b8bb",
   "metadata": {},
   "outputs": [
    {
     "data": {
      "text/plain": [
       "[<matplotlib.lines.Line2D at 0x7fc1d0e03730>]"
      ]
     },
     "execution_count": 186,
     "metadata": {},
     "output_type": "execute_result"
    },
    {
     "data": {
      "image/png": "[encoded data removed]",
      "text/plain": [
       "<Figure size 432x288 with 1 Axes>"
      ]
     },
     "metadata": {
      "needs_background": "light"
     },
     "output_type": "display_data"
    }
   ],
   "source": [
    "A = np.linspace(0.01, 10, 100)\n",
    "\n",
    "alpha1 = 0.1\n",
    "y1 = 1-(1 - np.exp(alpha1*A) + alpha1*A) / (alpha1*A * (1 - np.exp(A)))\n",
    "\n",
    "alpha2 = 0.5\n",
    "y2 = 1-(1 - np.exp(alpha2*A) + alpha2*A) / (alpha2*A * (1 - np.exp(A)))\n",
    "\n",
    "fig, ax = plt.subplots()\n",
    "\n",
    "ax.plot(A, y1, 'r', linewidth = 5)\n",
    "ax.plot(A, y2, 'b', linewidth = 5)"
   ]
  },
  {
   "cell_type": "code",
   "execution_count": 200,
   "id": "ea52bcad",
   "metadata": {},
   "outputs": [
    {
     "data": {
      "text/plain": [
       "[<matplotlib.lines.Line2D at 0x7fc1c0883dc0>]"
      ]
     },
     "execution_count": 200,
     "metadata": {},
     "output_type": "execute_result"
    },
    {
     "data": {
      "image/png": "[encoded data removed]",
      "text/plain": [
       "<Figure size 432x288 with 1 Axes>"
      ]
     },
     "metadata": {
      "needs_background": "light"
     },
     "output_type": "display_data"
    }
   ],
   "source": [
    "x = np.linspace(0.00000001, 0.001, 100)\n",
    "y = 2 / (np.exp(x/2) + 1) * (1/x) + (1 / (1 - np.exp(x)))\n",
    "\n",
    "fig, ax = plt.subplots()\n",
    "\n",
    "ax.plot(x, y, 'r', linewidth = 5)"
   ]
  },
  {
   "cell_type": "code",
   "execution_count": null,
   "id": "de00d6ef",
   "metadata": {},
   "outputs": [],
   "source": []
  }
 ],
 "metadata": {
  "kernelspec": {
   "display_name": "ringity",
   "language": "python",
   "name": "ringity"
  },
  "language_info": {
   "codemirror_mode": {
    "name": "ipython",
    "version": 3
   },
   "file_extension": ".py",
   "mimetype": "text/x-python",
   "name": "python",
   "nbconvert_exporter": "python",
   "pygments_lexer": "ipython3",
   "version": "3.8.3"
  }
 },
 "nbformat": 4,
 "nbformat_minor": 5
}
