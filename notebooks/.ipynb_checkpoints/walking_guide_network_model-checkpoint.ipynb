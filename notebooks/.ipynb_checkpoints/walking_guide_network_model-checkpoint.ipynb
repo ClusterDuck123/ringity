{
 "cells": [
  {
   "cell_type": "code",
   "execution_count": 27,
   "id": "9b3df83f",
   "metadata": {},
   "outputs": [],
   "source": [
    "import numpy as np\n",
    "import scipy\n",
    "import inspect\n",
    "import ringity as rng\n",
    "import matplotlib.pyplot as plt"
   ]
  },
  {
   "cell_type": "code",
   "execution_count": 37,
   "id": "7a651f1b",
   "metadata": {},
   "outputs": [
    {
     "data": {
      "image/png": "[encoded data removed]",
      "text/plain": [
       "<Figure size 432x288 with 1 Axes>"
      ]
     },
     "metadata": {
      "needs_background": "light"
     },
     "output_type": "display_data"
    }
   ],
   "source": [
    "fig = plt.plot([1,2], [1,2], '*')"
   ]
  },
  {
   "cell_type": "code",
   "execution_count": 38,
   "id": "32c24e63",
   "metadata": {},
   "outputs": [
    {
     "data": {
      "text/plain": [
       "[<matplotlib.lines.Line2D at 0x7f840945deb0>]"
      ]
     },
     "execution_count": 38,
     "metadata": {},
     "output_type": "execute_result"
    }
   ],
   "source": [
    "fig"
   ]
  },
  {
   "cell_type": "code",
   "execution_count": 39,
   "id": "be175c85",
   "metadata": {},
   "outputs": [
    {
     "data": {
      "text/plain": [
       "<module 'scipy.stats._continuous_distns' from '/Users/dottolab/Documents/my_stuff/ringity_testing/ringity/lib/python3.8/site-packages/scipy/stats/_continuous_distns.py'>"
      ]
     },
     "execution_count": 39,
     "metadata": {},
     "output_type": "execute_result"
    }
   ],
   "source": [
    "scipy.stats._continuous_distns"
   ]
  },
  {
   "cell_type": "code",
   "execution_count": 44,
   "id": "7af06f7b",
   "metadata": {},
   "outputs": [
    {
     "data": {
      "text/plain": [
       "(module, object)"
      ]
     },
     "execution_count": 44,
     "metadata": {},
     "output_type": "execute_result"
    }
   ],
   "source": [
    "inspect.getmro(type(np.random))"
   ]
  },
  {
   "cell_type": "code",
   "execution_count": 42,
   "id": "23f5f115",
   "metadata": {},
   "outputs": [
    {
     "data": {
      "text/plain": [
       "(function, object)"
      ]
     },
     "execution_count": 42,
     "metadata": {},
     "output_type": "execute_result"
    }
   ],
   "source": [
    "inspect.getmro(type(np.mean))"
   ]
  },
  {
   "cell_type": "code",
   "execution_count": 36,
   "id": "b76e1d2d",
   "metadata": {},
   "outputs": [
    {
     "data": {
      "text/plain": [
       "(matplotlib.lines.Line2D, matplotlib.artist.Artist, object)"
      ]
     },
     "execution_count": 36,
     "metadata": {},
     "output_type": "execute_result"
    }
   ],
   "source": [
    "inspect.getmro(type(fig[0]))"
   ]
  },
  {
   "cell_type": "code",
   "execution_count": 65,
   "id": "141db163",
   "metadata": {},
   "outputs": [
    {
     "data": {
      "text/plain": [
       "(scipy.stats._continuous_distns.expon_gen,\n",
       " scipy.stats._distn_infrastructure.rv_continuous,\n",
       " scipy.stats._distn_infrastructure.rv_generic,\n",
       " object)"
      ]
     },
     "execution_count": 65,
     "metadata": {},
     "output_type": "execute_result"
    }
   ],
   "source": [
    "inspect.getmro(type(scipy.stats.expon))"
   ]
  },
  {
   "cell_type": "code",
   "execution_count": 13,
   "id": "547106fe",
   "metadata": {},
   "outputs": [
    {
     "data": {
      "text/plain": [
       "<function RandomState.exponential>"
      ]
     },
     "execution_count": 13,
     "metadata": {},
     "output_type": "execute_result"
    }
   ],
   "source": [
    "np.random.exponential"
   ]
  },
  {
   "cell_type": "code",
   "execution_count": 12,
   "id": "e56c50c5",
   "metadata": {},
   "outputs": [
    {
     "data": {
      "text/plain": [
       "function"
      ]
     },
     "execution_count": 12,
     "metadata": {},
     "output_type": "execute_result"
    }
   ],
   "source": [
    "type(np.mean)"
   ]
  },
  {
   "cell_type": "code",
   "execution_count": 45,
   "id": "483bd8cd",
   "metadata": {},
   "outputs": [
    {
     "data": {
      "text/plain": [
       "True"
      ]
     },
     "execution_count": 45,
     "metadata": {},
     "output_type": "execute_result"
    }
   ],
   "source": [
    "issubclass(bool, int)"
   ]
  },
  {
   "cell_type": "code",
   "execution_count": 46,
   "id": "efc44c9c",
   "metadata": {},
   "outputs": [
    {
     "data": {
      "text/plain": [
       "<scipy.stats._continuous_distns.expon_gen at 0x7f8439f43e20>"
      ]
     },
     "execution_count": 46,
     "metadata": {},
     "output_type": "execute_result"
    }
   ],
   "source": [
    "scipy.stats.expon."
   ]
  },
  {
   "cell_type": "code",
   "execution_count": 54,
   "id": "0f09aaaa",
   "metadata": {},
   "outputs": [
    {
     "data": {
      "text/plain": [
       "(method_descriptor, object)"
      ]
     },
     "execution_count": 54,
     "metadata": {},
     "output_type": "execute_result"
    }
   ],
   "source": [
    "inspect.getmro(type(np.random.Generator.exponential))"
   ]
  },
  {
   "cell_type": "code",
   "execution_count": 108,
   "id": "8dfd825f",
   "metadata": {},
   "outputs": [],
   "source": [
    "import scipy.stats as ss\n",
    "import numpy as np\n",
    "\n",
    "n, p = 1.5, 0.3\n",
    "rv  = ss.expon(n, p)"
   ]
  },
  {
   "cell_type": "code",
   "execution_count": 109,
   "id": "3e009af3",
   "metadata": {},
   "outputs": [
    {
     "data": {
      "text/plain": [
       "(scipy.stats._distn_infrastructure.rv_frozen, object)"
      ]
     },
     "execution_count": 109,
     "metadata": {},
     "output_type": "execute_result"
    }
   ],
   "source": [
    "inspect.getmro(type(rv))\n"
   ]
  },
  {
   "cell_type": "code",
   "execution_count": 110,
   "id": "69d313a5",
   "metadata": {},
   "outputs": [
    {
     "data": {
      "text/plain": [
       "True"
      ]
     },
     "execution_count": 110,
     "metadata": {},
     "output_type": "execute_result"
    }
   ],
   "source": [
    "isinstance(rv, object)"
   ]
  },
  {
   "cell_type": "code",
   "execution_count": 121,
   "id": "9c48fce2",
   "metadata": {},
   "outputs": [],
   "source": []
  },
  {
   "cell_type": "code",
   "execution_count": 122,
   "id": "a5ff8a17",
   "metadata": {},
   "outputs": [
    {
     "data": {
      "text/plain": [
       "(1.5, inf)"
      ]
     },
     "execution_count": 122,
     "metadata": {},
     "output_type": "execute_result"
    }
   ],
   "source": [
    "rv.support()"
   ]
  },
  {
   "cell_type": "code",
   "execution_count": 123,
   "id": "053ade19",
   "metadata": {},
   "outputs": [],
   "source": [
    "rv2 = rv.dist()"
   ]
  },
  {
   "cell_type": "code",
   "execution_count": 124,
   "id": "55450dbd",
   "metadata": {},
   "outputs": [
    {
     "data": {
      "text/plain": [
       "True"
      ]
     },
     "execution_count": 124,
     "metadata": {},
     "output_type": "execute_result"
    }
   ],
   "source": [
    "type(rv2) == type(rv)"
   ]
  },
  {
   "cell_type": "code",
   "execution_count": 125,
   "id": "77eeafe5",
   "metadata": {},
   "outputs": [],
   "source": [
    "rv2.args = (1,5)"
   ]
  },
  {
   "cell_type": "code",
   "execution_count": 126,
   "id": "5f968a9e",
   "metadata": {},
   "outputs": [
    {
     "data": {
      "text/plain": [
       "6.0"
      ]
     },
     "execution_count": 126,
     "metadata": {},
     "output_type": "execute_result"
    }
   ],
   "source": [
    "rv2.mean()"
   ]
  },
  {
   "cell_type": "code",
   "execution_count": 127,
   "id": "1da5ddb7",
   "metadata": {},
   "outputs": [
    {
     "data": {
      "text/plain": [
       "1.0"
      ]
     },
     "execution_count": 127,
     "metadata": {},
     "output_type": "execute_result"
    }
   ],
   "source": [
    "rv.sf(0.02)"
   ]
  },
  {
   "cell_type": "code",
   "execution_count": 138,
   "id": "b32e6c83",
   "metadata": {},
   "outputs": [
    {
     "data": {
      "text/plain": [
       "array([1.57530599, 2.11376096, 1.56947339, 2.25255421])"
      ]
     },
     "execution_count": 138,
     "metadata": {},
     "output_type": "execute_result"
    }
   ],
   "source": [
    "rv.random_state = 5\n",
    "rv.rvs(4)"
   ]
  },
  {
   "cell_type": "code",
   "execution_count": 128,
   "id": "220e2133",
   "metadata": {},
   "outputs": [
    {
     "data": {
      "text/plain": [
       "(array(1.8), array(0.09))"
      ]
     },
     "execution_count": 128,
     "metadata": {},
     "output_type": "execute_result"
    }
   ],
   "source": [
    "rv.stats()"
   ]
  },
  {
   "cell_type": "code",
   "execution_count": 129,
   "id": "9a5de6ae",
   "metadata": {},
   "outputs": [
    {
     "ename": "NameError",
     "evalue": "name 'expon' is not defined",
     "output_type": "error",
     "traceback": [
      "\u001b[0;31m---------------------------------------------------------------------------\u001b[0m",
      "\u001b[0;31mNameError\u001b[0m                                 Traceback (most recent call last)",
      "\u001b[0;32m/var/folders/23/x6k6nl0x2_nf3xh26x_v6n5r0000gp/T/ipykernel_56959/658634914.py\u001b[0m in \u001b[0;36m<module>\u001b[0;34m\u001b[0m\n\u001b[0;32m----> 1\u001b[0;31m \u001b[0mexpon\u001b[0m\u001b[0;34m.\u001b[0m\u001b[0mrvs\u001b[0m\u001b[0;34m(\u001b[0m\u001b[0msize\u001b[0m\u001b[0;34m=\u001b[0m\u001b[0;36m10\u001b[0m\u001b[0;34m)\u001b[0m\u001b[0;34m\u001b[0m\u001b[0;34m\u001b[0m\u001b[0m\n\u001b[0m",
      "\u001b[0;31mNameError\u001b[0m: name 'expon' is not defined"
     ]
    }
   ],
   "source": [
    "expon.rvs(size=10)"
   ]
  },
  {
   "cell_type": "code",
   "execution_count": 152,
   "id": "b06b7ba9",
   "metadata": {},
   "outputs": [],
   "source": [
    "? rv.rvs"
   ]
  },
  {
   "cell_type": "code",
   "execution_count": 150,
   "id": "305e6c40",
   "metadata": {},
   "outputs": [
    {
     "data": {
      "text/plain": [
       "scipy.stats._distn_infrastructure.rv_frozen"
      ]
     },
     "execution_count": 150,
     "metadata": {},
     "output_type": "execute_result"
    }
   ],
   "source": [
    "type(rv)"
   ]
  },
  {
   "cell_type": "code",
   "execution_count": 140,
   "id": "5c3efb9a",
   "metadata": {},
   "outputs": [
    {
     "data": {
      "text/plain": [
       "(scipy.stats._distn_infrastructure.rv_frozen, object)"
      ]
     },
     "execution_count": 140,
     "metadata": {},
     "output_type": "execute_result"
    }
   ],
   "source": [
    "inspect.getmro(type(rv))"
   ]
  },
  {
   "cell_type": "code",
   "execution_count": 141,
   "id": "f00a3c1c",
   "metadata": {},
   "outputs": [],
   "source": [
    "? inspect.getmro"
   ]
  },
  {
   "cell_type": "code",
   "execution_count": 149,
   "id": "2ea701bc",
   "metadata": {},
   "outputs": [
    {
     "data": {
      "text/plain": [
       "{'dashboard': {'dashboard': {'data': {'data': {'content': {}}}}},\n",
       " 'docs': {'docs': {'content': {}, 'analytics': {}}}}"
      ]
     },
     "execution_count": 149,
     "metadata": {},
     "output_type": "execute_result"
    }
   ],
   "source": [
    "{\"dashboard\": {\"dashboard\": {\"data\": {\"data\": {\"content\": {}}}}},\n",
    " \"docs\": {\"docs\": {\"content\": {}, \"analytics\": {}}}}"
   ]
  },
  {
   "cell_type": "code",
   "execution_count": 147,
   "id": "69994527",
   "metadata": {},
   "outputs": [
    {
     "ename": "TypeError",
     "evalue": "unhashable type: 'dict'",
     "output_type": "error",
     "traceback": [
      "\u001b[0;31m---------------------------------------------------------------------------\u001b[0m",
      "\u001b[0;31mTypeError\u001b[0m                                 Traceback (most recent call last)",
      "\u001b[0;32m/var/folders/23/x6k6nl0x2_nf3xh26x_v6n5r0000gp/T/ipykernel_56959/2706300315.py\u001b[0m in \u001b[0;36m<module>\u001b[0;34m\u001b[0m\n\u001b[0;32m----> 1\u001b[0;31m {{\"id\": \"dashboard\",\n\u001b[0m\u001b[1;32m      2\u001b[0m   \"children\": [{\"id\": \"dashboard\",\n\u001b[1;32m      3\u001b[0m                 \"children\": [{\"id\": \"data\",\n\u001b[1;32m      4\u001b[0m                               \"children\": [{\"id\": \"data\",\n\u001b[1;32m      5\u001b[0m                                             \u001b[0;34m\"children\"\u001b[0m\u001b[0;34m:\u001b[0m \u001b[0;34m[\u001b[0m\u001b[0;34m{\u001b[0m\u001b[0;34m\"id\"\u001b[0m\u001b[0;34m:\u001b[0m \u001b[0;34m\"content\"\u001b[0m\u001b[0;34m}\u001b[0m\u001b[0;34m]\u001b[0m\u001b[0;34m\u001b[0m\u001b[0;34m\u001b[0m\u001b[0m\n",
      "\u001b[0;31mTypeError\u001b[0m: unhashable type: 'dict'"
     ]
    }
   ],
   "source": [
    "{{\"id\": \"dashboard\",\n",
    "  \"children\": [{\"id\": \"dashboard\",\n",
    "                \"children\": [{\"id\": \"data\",\n",
    "                              \"children\": [{\"id\": \"data\",\n",
    "                                            \"children\": [{\"id\": \"content\"}]\n",
    "                                           }]\n",
    "                            }]\n",
    "                }]\n",
    "    },\n",
    "    {\"id\": \"docs\",\n",
    "     \"children\": [{\"id\": \"docs\",\n",
    "                   \"children\": [{\"id\": \"content\",\n",
    "                                 \"id\": \"analytics\"\n",
    "                                }]\n",
    "                  }]\n",
    "    }\n",
    "}"
   ]
  },
  {
   "cell_type": "code",
   "execution_count": null,
   "id": "8ee1b8e1",
   "metadata": {},
   "outputs": [],
   "source": []
  }
 ],
 "metadata": {
  "kernelspec": {
   "display_name": "ringity",
   "language": "python",
   "name": "ringity"
  },
  "language_info": {
   "codemirror_mode": {
    "name": "ipython",
    "version": 3
   },
   "file_extension": ".py",
   "mimetype": "text/x-python",
   "name": "python",
   "nbconvert_exporter": "python",
   "pygments_lexer": "ipython3",
   "version": "3.8.3"
  }
 },
 "nbformat": 4,
 "nbformat_minor": 5
}
