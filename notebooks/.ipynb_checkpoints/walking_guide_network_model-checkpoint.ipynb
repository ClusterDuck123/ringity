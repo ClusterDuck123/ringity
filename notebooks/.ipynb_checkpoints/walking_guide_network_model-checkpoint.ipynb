{
 "cells": [
  {
   "cell_type": "code",
   "execution_count": null,
   "id": "36c48fa6",
   "metadata": {},
   "outputs": [],
   "source": [
    "import numpy as np\n",
    "import ringity as rng\n",
    "import scipy.stats as ss\n",
    "import scipy.special as sc\n",
    "import matplotlib.pyplot as plt\n",
    "import ringity.classes._distns as rng2\n",
    "import ringity.classes.network_model as rng3"
   ]
  },
  {
   "cell_type": "code",
   "execution_count": 2,
   "id": "b1af138e",
   "metadata": {},
   "outputs": [],
   "source": [
    "rate = 0.123"
   ]
  },
  {
   "cell_type": "code",
   "execution_count": 3,
   "id": "5a848345",
   "metadata": {},
   "outputs": [],
   "source": [
    "rv = rng2.wrapexpon(rate)"
   ]
  },
  {
   "cell_type": "code",
   "execution_count": 4,
   "id": "689244fc",
   "metadata": {},
   "outputs": [
    {
     "data": {
      "text/plain": [
       "[<matplotlib.lines.Line2D at 0x7fa8487c31c0>]"
      ]
     },
     "execution_count": 4,
     "metadata": {},
     "output_type": "execute_result"
    },
    {
     "data": {
      "image/png": "[encoded data removed]",
      "text/plain": [
       "<Figure size 432x288 with 1 Axes>"
      ]
     },
     "metadata": {
      "needs_background": "light"
     },
     "output_type": "display_data"
    }
   ],
   "source": [
    "N = 2**6\n",
    "x = np.linspace(-0.05, 7, N)\n",
    "\n",
    "plt.plot(x, rng.pdf_delay(x, rate))\n",
    "plt.plot(x, rv.pdf(x))"
   ]
  },
  {
   "cell_type": "code",
   "execution_count": 7,
   "id": "01e7b364",
   "metadata": {},
   "outputs": [],
   "source": [
    "positions = rng3.PositionGenerator(N, rate = 1.234)"
   ]
  },
  {
   "cell_type": "code",
   "execution_count": 8,
   "id": "b432849a",
   "metadata": {},
   "outputs": [
    {
     "data": {
      "text/plain": [
       "array([1.5487941 , 0.50898783, 1.30210734, 2.51301371, 0.02188066,\n",
       "       0.82979853, 0.5718924 , 0.6407981 , 0.02038027, 0.18770132,\n",
       "       1.03092518, 0.5029128 , 0.12232915, 0.13800167, 0.61710724,\n",
       "       0.93789694, 0.73319773, 0.48879018, 0.74905414, 1.23822853,\n",
       "       2.68961562, 0.10177487, 1.37020795, 0.17107597, 0.41678528,\n",
       "       5.31064641, 0.0906076 , 0.19381345, 0.18733062, 0.12375891,\n",
       "       0.3042398 , 1.54189753, 0.19244866, 0.24079775, 3.06412059,\n",
       "       0.31490569, 2.33507691, 0.02046739, 0.12339277, 1.40481264,\n",
       "       1.48595773, 0.06832654, 2.36456029, 0.21124101, 0.23881623,\n",
       "       0.29447716, 0.60419034, 0.05042444, 0.21711493, 4.65497797,\n",
       "       0.33600634, 1.69921263, 2.41525079, 0.90264632, 0.02535652,\n",
       "       0.06673455, 1.84124916, 0.14713552, 0.05251961, 0.29160312,\n",
       "       0.64264806, 0.20719357, 1.20253894, 0.08971545])"
      ]
     },
     "execution_count": 8,
     "metadata": {},
     "output_type": "execute_result"
    }
   ],
   "source": [
    "positions.positions"
   ]
  },
  {
   "cell_type": "code",
   "execution_count": 145,
   "id": "6cad3860",
   "metadata": {},
   "outputs": [],
   "source": [
    "class wrappedExponGenerator(ss.rv_continuous):\n",
    "    r\"\"\"\n",
    "    A wrapped exponential continuous random variable with rate parameter rate.\n",
    "    \"\"\"\n",
    "    def _argcheck(self, rate):\n",
    "        return rate >= 0\n",
    "\n",
    "    def _pdf(self, x, rate):\n",
    "        return rate*np.exp(-x*rate) / -sc.expm1(-2*np.pi*rate)\n",
    "\n",
    "    def _cdf(self, x, rate):\n",
    "        return -sc.expm1(-x*rate) / -sc.expm1(-2*np.pi*rate)\n",
    "\n",
    "wrapexpon = wrappedExponGenerator(a=0.0, b=2*np.pi, name='wrapexpon')"
   ]
  },
  {
   "cell_type": "code",
   "execution_count": 165,
   "id": "bc24df49",
   "metadata": {},
   "outputs": [],
   "source": [
    "wrapexpon.random_state = 3"
   ]
  },
  {
   "cell_type": "code",
   "execution_count": 166,
   "id": "a4a353b7",
   "metadata": {},
   "outputs": [
    {
     "data": {
      "text/plain": [
       "0.40013905540942796"
      ]
     },
     "execution_count": 166,
     "metadata": {},
     "output_type": "execute_result"
    }
   ],
   "source": [
    "wrapexpon.rvs(2)"
   ]
  },
  {
   "cell_type": "code",
   "execution_count": 154,
   "id": "0130cd98",
   "metadata": {},
   "outputs": [
    {
     "data": {
      "text/plain": [
       "[scipy.stats._continuous_distns.expon_gen,\n",
       " scipy.stats._distn_infrastructure.rv_continuous,\n",
       " scipy.stats._distn_infrastructure.rv_generic,\n",
       " object]"
      ]
     },
     "execution_count": 154,
     "metadata": {},
     "output_type": "execute_result"
    }
   ],
   "source": [
    "type(ss.expon).mro()"
   ]
  },
  {
   "cell_type": "code",
   "execution_count": 146,
   "id": "f87d4247",
   "metadata": {},
   "outputs": [
    {
     "data": {
      "text/plain": [
       "3.2898681336964524"
      ]
     },
     "execution_count": 146,
     "metadata": {},
     "output_type": "execute_result"
    }
   ],
   "source": [
    "ss.uniform(scale = 2*np.pi).var()"
   ]
  },
  {
   "cell_type": "code",
   "execution_count": 147,
   "id": "9d420de1",
   "metadata": {},
   "outputs": [],
   "source": [
    "rv = wrapexpon(rate = np.inf)"
   ]
  },
  {
   "cell_type": "code",
   "execution_count": 152,
   "id": "26a50150",
   "metadata": {},
   "outputs": [
    {
     "data": {
      "text/plain": [
       "array([8.51804822e-15, 5.46862033e-15, 5.07505169e-15, 0.00000000e+00,\n",
       "       6.15674880e-15, 0.00000000e+00, 0.00000000e+00, 0.00000000e+00,\n",
       "       0.00000000e+00, 0.00000000e+00, 0.00000000e+00, 7.10471286e-15,\n",
       "       0.00000000e+00, 8.50629957e-15, 0.00000000e+00, 7.58735536e-15,\n",
       "       0.00000000e+00, 7.38288237e-15, 8.14560438e-15, 7.61957486e-15])"
      ]
     },
     "execution_count": 152,
     "metadata": {},
     "output_type": "execute_result"
    }
   ],
   "source": [
    "rv.rvs(20)"
   ]
  },
  {
   "cell_type": "code",
   "execution_count": 149,
   "id": "9effcc8f",
   "metadata": {},
   "outputs": [
    {
     "data": {
      "text/plain": [
       "(0.0, 6.283185307179586)"
      ]
     },
     "execution_count": 149,
     "metadata": {},
     "output_type": "execute_result"
    }
   ],
   "source": [
    "rv.support()"
   ]
  },
  {
   "cell_type": "code",
   "execution_count": 150,
   "id": "0edca352",
   "metadata": {},
   "outputs": [
    {
     "name": "stderr",
     "output_type": "stream",
     "text": [
      "/var/folders/23/x6k6nl0x2_nf3xh26x_v6n5r0000gp/T/ipykernel_59982/94042171.py:27: RuntimeWarning: invalid value encountered in multiply\n",
      "  return rate*np.exp(-x*rate) / -sc.expm1(-2*np.pi*rate)\n"
     ]
    },
    {
     "data": {
      "image/png": "[encoded data removed]",
      "text/plain": [
       "<Figure size 432x288 with 1 Axes>"
      ]
     },
     "metadata": {
      "needs_background": "light"
     },
     "output_type": "display_data"
    }
   ],
   "source": [
    "x = np.linspace(-0.05, 7, 2**5)\n",
    "\n",
    "plt.plot(x, rv.pdf(x));"
   ]
  },
  {
   "cell_type": "code",
   "execution_count": 26,
   "id": "9da808a8",
   "metadata": {},
   "outputs": [
    {
     "data": {
      "text/plain": [
       "[int, object]"
      ]
     },
     "execution_count": 26,
     "metadata": {},
     "output_type": "execute_result"
    }
   ],
   "source": [
    "int.mro()"
   ]
  },
  {
   "cell_type": "code",
   "execution_count": 28,
   "id": "ea98c941",
   "metadata": {},
   "outputs": [
    {
     "data": {
      "text/plain": [
       "[bool, int, object]"
      ]
     },
     "execution_count": 28,
     "metadata": {},
     "output_type": "execute_result"
    }
   ],
   "source": [
    "bool.mro()"
   ]
  },
  {
   "cell_type": "code",
   "execution_count": 31,
   "id": "66c6a8d4",
   "metadata": {},
   "outputs": [
    {
     "data": {
      "text/plain": [
       "[scipy.stats._continuous_distns.expon_gen,\n",
       " scipy.stats._distn_infrastructure.rv_continuous,\n",
       " scipy.stats._distn_infrastructure.rv_generic,\n",
       " object]"
      ]
     },
     "execution_count": 31,
     "metadata": {},
     "output_type": "execute_result"
    }
   ],
   "source": [
    "type(ss.expon).mro()"
   ]
  },
  {
   "cell_type": "code",
   "execution_count": 35,
   "id": "69a36ba4",
   "metadata": {},
   "outputs": [
    {
     "ename": "SyntaxError",
     "evalue": "invalid syntax (2645441643.py, line 1)",
     "output_type": "error",
     "traceback": [
      "\u001b[0;36m  File \u001b[0;32m\"/var/folders/23/x6k6nl0x2_nf3xh26x_v6n5r0000gp/T/ipykernel_59982/2645441643.py\"\u001b[0;36m, line \u001b[0;32m1\u001b[0m\n\u001b[0;31m    dict('a':1, 'b':2, 'c':3)\u001b[0m\n\u001b[0m            ^\u001b[0m\n\u001b[0;31mSyntaxError\u001b[0m\u001b[0;31m:\u001b[0m invalid syntax\n"
     ]
    }
   ],
   "source": [
    "dict('a':1, 'b':2, 'c':3)"
   ]
  },
  {
   "cell_type": "code",
   "execution_count": 36,
   "id": "5a0245d9",
   "metadata": {},
   "outputs": [],
   "source": [
    "? dict"
   ]
  },
  {
   "cell_type": "code",
   "execution_count": 42,
   "id": "5b234f5c",
   "metadata": {},
   "outputs": [
    {
     "data": {
      "text/plain": [
       "[builtin_function_or_method, object]"
      ]
     },
     "execution_count": 42,
     "metadata": {},
     "output_type": "execute_result"
    }
   ],
   "source": [
    "type(iter).mro()"
   ]
  },
  {
   "cell_type": "code",
   "execution_count": 7,
   "id": "e2580421",
   "metadata": {},
   "outputs": [
    {
     "data": {
      "text/plain": [
       "[NotImplementedType, object]"
      ]
     },
     "execution_count": 7,
     "metadata": {},
     "output_type": "execute_result"
    }
   ],
   "source": [
    "type(NotImplemented).mro()"
   ]
  },
  {
   "cell_type": "code",
   "execution_count": 11,
   "id": "8e6406cd",
   "metadata": {},
   "outputs": [],
   "source": [
    "? type.mro"
   ]
  },
  {
   "cell_type": "code",
   "execution_count": null,
   "id": "cbc318d9",
   "metadata": {},
   "outputs": [],
   "source": []
  }
 ],
 "metadata": {
  "kernelspec": {
   "display_name": "ringity",
   "language": "python",
   "name": "ringity"
  },
  "language_info": {
   "codemirror_mode": {
    "name": "ipython",
    "version": 3
   },
   "file_extension": ".py",
   "mimetype": "text/x-python",
   "name": "python",
   "nbconvert_exporter": "python",
   "pygments_lexer": "ipython3",
   "version": "3.8.3"
  }
 },
 "nbformat": 4,
 "nbformat_minor": 5
}
