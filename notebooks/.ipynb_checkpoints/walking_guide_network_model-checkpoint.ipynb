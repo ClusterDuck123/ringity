{
 "cells": [
  {
   "cell_type": "markdown",
   "id": "3c6e64a7",
   "metadata": {},
   "source": [
    "# As a statistical interaction network model"
   ]
  },
  {
   "cell_type": "markdown",
   "id": "0f42453d",
   "metadata": {},
   "source": [
    "Fixed parameters of the model are:\n",
    " - an _internal state spce / response space / local microstates_, $\\sigma_{\\mathit int} = \\{ 0, 1\\}$\n",
    " - an _external state space_, $\\sigma_{\\mathit ext} = [ 0, 2\\pi]$\n",
    " - position distribution of elements / components / statistical units, $X_i \\sim WExp(\\lambda)$\n",
    " - a connection function, \n",
    "$p:\\sigma_{\\mathit ext} \\times \\sigma_{\\mathit ext} \\rightarrow [0,1]: (\\theta_i, \\theta_j) \\mapsto \\min \\Big\\{1, k - \\frac{k}{2\\pi a}d(\\theta_i, \\theta_j) \\Big\\}$,\n",
    "\n",
    "where $d(.,.)$ is the \"_periodic distance_\", i.e. $d(\\theta_i, \\theta_j) = \\min {\\Big\\{ \\big|\\theta_i-\\theta_j\\big|, 2\\pi-\\big|\\theta_i-\\theta_j\\big|} \\Big\\}$"
   ]
  },
  {
   "cell_type": "markdown",
   "id": "1abf6d91",
   "metadata": {},
   "source": [
    "# As an Ising model with a \"_random lattice_\""
   ]
  },
  {
   "cell_type": "markdown",
   "id": "58144bdd",
   "metadata": {},
   "source": [
    "---\n",
    "**NEW**\n",
    "\n",
    "I think the Ising model makes more sense for the \"line graph\", i.e. where the edges represent components and nodes define interactions.\n",
    "\n",
    "---"
   ]
  },
  {
   "cell_type": "markdown",
   "id": "ea02d20b",
   "metadata": {},
   "source": [
    "Given the three parameters $N$, $a$ and $\\beta$ we can construct a \"_random lattice_\" $\\Lambda$ via:\n",
    "$$\\langle ij \\rangle \\Leftrightarrow d(\\Theta_i, \\Theta_j) < 2\\pi a \\, , \\text{where } \\Theta_k \\sim \\mathit WExp (\\lambda)$$\n",
    "\n",
    "The two parameters $\\lambda$ and $\\beta$ can be transformed into each other via\n",
    " - $\\lambda = 1 / \\tan\\Big(\\frac{\\pi}{2}\\beta\\Big)$\n",
    " - $\\beta = \\frac{2}{\\pi} \\cdot \\arctan(1/\\lambda)$"
   ]
  },
  {
   "cell_type": "markdown",
   "id": "165d9f6d",
   "metadata": {},
   "source": [
    "# As a Generalized random geometric graph (RGG)"
   ]
  },
  {
   "cell_type": "markdown",
   "id": "4cb33605",
   "metadata": {},
   "source": [
    "The connection fucntion is taken from the \"_Quasi unit disk model_\" via\n",
    "$$H(d) =\n",
    "    \\begin{cases}\n",
    "      1, & \\text{if}\\ d \\leq d_- \\\\\n",
    "      \\frac{d_+ - d}{d_+ - d_-}, & \\text{if}\\ d_- \\leq d \\leq d_+ \\\\\n",
    "      0, & \\text{if}\\ d \\geq d_+\n",
    "    \\end{cases} \\, ,$$ \n",
    "    \n",
    "where $d_- = 2\\pi a (1-1/k)$ and $d_+ = 2$. \n",
    "\n",
    "The small $d$ expansion is the constant $1$ (similar to a random geometric graph model with a \"hard\" cutoff)."
   ]
  },
  {
   "cell_type": "markdown",
   "id": "7c0317de",
   "metadata": {},
   "source": [
    "### References\n",
    "- Dettmann, Carl P., and Orestis Georgiou. \"Random geometric graphs with general connection functions.\" Physical Review E 93.3 (2016): 032313.\n",
    "- Kuhn, F., R. Wattenhofer, and A. Zollinger. \"Proceedings of the 2003 Joint Workshop on Foundations of Mobile Computing.\" (2003): 69-78.\n",
    "- Gao, Deyun, et al. \"Hop-distance relationship analysis with quasi-UDG model for node localization in wireless sensor networks.\" EURASIP Journal on Wireless Communications and Networking 2011.1 (2011): 1-11"
   ]
  },
  {
   "cell_type": "markdown",
   "id": "d887d8c6",
   "metadata": {},
   "source": [
    "# Parameter identifications\n",
    "\n",
    "$\\lambda = \\dfrac{1}{\\tan\\Big(\\frac{\\pi}{2}\\beta\\Big)}$"
   ]
  },
  {
   "cell_type": "markdown",
   "id": "decc0c8e",
   "metadata": {},
   "source": [
    "# Walking guide"
   ]
  },
  {
   "cell_type": "markdown",
   "id": "43b036a3",
   "metadata": {},
   "source": [
    "First we initialize a random drawing of the positions on the circle."
   ]
  },
  {
   "cell_type": "code",
   "execution_count": 1,
   "id": "f242158c",
   "metadata": {},
   "outputs": [],
   "source": [
    "import inspect\n",
    "import ringity as rng\n",
    "import scipy.stats as ss\n",
    "\n",
    "from ringity.classes.network_model import NetworkBuilder"
   ]
  },
  {
   "cell_type": "code",
   "execution_count": 2,
   "id": "39922072",
   "metadata": {},
   "outputs": [],
   "source": [
    "def network_model(N, beta=None, rate=None, rho=None, a=None, k_max=None):\n",
    "    network_builder = NetworkBuilder(N, beta=None, rate=None, rho=None, a=None, k_max=None)\n",
    "    \n",
    "    network_builder.get_positions()\n",
    "    network_builder.get_distances()\n",
    "    network_builder.get_similarities()\n",
    "    network_builder.get_probabilities()\n",
    "    \n",
    "    return network_builder.instanciate_network()"
   ]
  },
  {
   "cell_type": "code",
   "execution_count": 3,
   "id": "503abde5",
   "metadata": {},
   "outputs": [],
   "source": [
    "N = 2**5\n",
    "beta = 0.123\n",
    "rho = 0.1\n",
    "network_builder = NetworkBuilder(N, delay=beta, rate=None, rho=rho, a=None, k_max=None)"
   ]
  },
  {
   "cell_type": "code",
   "execution_count": 4,
   "id": "1491c0f6",
   "metadata": {},
   "outputs": [],
   "source": [
    "network_builder.get_positions()"
   ]
  },
  {
   "cell_type": "code",
   "execution_count": 5,
   "id": "e94541bc",
   "metadata": {},
   "outputs": [
    {
     "data": {
      "text/plain": [
       "<ringity.classes.network_model.PositionGenerator at 0x7fef5bce1c40>"
      ]
     },
     "execution_count": 5,
     "metadata": {},
     "output_type": "execute_result"
    },
    {
     "data": {
      "text/plain": [
       "<ringity.classes.network_model.PositionGenerator at 0x7fef5bce1c40>"
      ]
     },
     "execution_count": 5,
     "metadata": {},
     "output_type": "execute_result"
    }
   ],
   "source": [
    "network_builder.positions"
   ]
  },
  {
   "cell_type": "code",
   "execution_count": 67,
   "id": "e8faf16f",
   "metadata": {},
   "outputs": [
    {
     "data": {
      "text/plain": [
       "'frozen'"
      ]
     },
     "execution_count": 67,
     "metadata": {},
     "output_type": "execute_result"
    }
   ],
   "source": [
    "ss.rv_continuous(name = 'frozen').name"
   ]
  },
  {
   "cell_type": "code",
   "execution_count": 70,
   "id": "39581773",
   "metadata": {},
   "outputs": [],
   "source": [
    "frozen = random_position(rate = 0.5)"
   ]
  },
  {
   "cell_type": "code",
   "execution_count": 71,
   "id": "6fb9c481",
   "metadata": {},
   "outputs": [],
   "source": [
    "? frozen.rvs"
   ]
  },
  {
   "cell_type": "code",
   "execution_count": 63,
   "id": "428994e4",
   "metadata": {},
   "outputs": [],
   "source": [
    "random_position = rng.classes._distns._get_rv('wrappedexpon')\n",
    "parameters = {'rate' : 0.1, 'delay' : 0.5}\n",
    "possible_parameters = inspect.getfullargspec(random_position._parse_args)[0]\n",
    "frozen_position = random_position(**{key:value for (key,value) in parameters.items() if key in possible_parameters})"
   ]
  },
  {
   "cell_type": "code",
   "execution_count": 65,
   "id": "df43c70e",
   "metadata": {},
   "outputs": [
    {
     "data": {
      "text/plain": [
       "{'rate': 0.1}"
      ]
     },
     "execution_count": 65,
     "metadata": {},
     "output_type": "execute_result"
    }
   ],
   "source": [
    "{key:value for (key,value) in parameters.items() if key in possible_parameters}"
   ]
  },
  {
   "cell_type": "code",
   "execution_count": 49,
   "id": "c657b386",
   "metadata": {},
   "outputs": [
    {
     "data": {
      "text/plain": [
       "FullArgSpec(args=['self'], varargs='args', varkw='kwds', defaults=None, kwonlyargs=[], kwonlydefaults=None, annotations={})"
      ]
     },
     "execution_count": 49,
     "metadata": {},
     "output_type": "execute_result"
    }
   ],
   "source": [
    "inspect.getfullargspec(random_position)"
   ]
  },
  {
   "cell_type": "code",
   "execution_count": null,
   "id": "4a306998",
   "metadata": {},
   "outputs": [],
   "source": []
  },
  {
   "cell_type": "code",
   "execution_count": 50,
   "id": "998fa456",
   "metadata": {},
   "outputs": [],
   "source": [
    "? random_position"
   ]
  },
  {
   "cell_type": "code",
   "execution_count": 9,
   "id": "d33a57be",
   "metadata": {},
   "outputs": [
    {
     "data": {
      "text/plain": [
       "<scipy.stats._distn_infrastructure.rv_frozen at 0x7fd7214cec10>"
      ]
     },
     "execution_count": 9,
     "metadata": {},
     "output_type": "execute_result"
    }
   ],
   "source": [
    "frozen_position"
   ]
  },
  {
   "cell_type": "code",
   "execution_count": 10,
   "id": "79e70bbf",
   "metadata": {},
   "outputs": [],
   "source": [
    "test_dict = {'rate' : 0.5, 'delay' : 0.1}"
   ]
  },
  {
   "cell_type": "code",
   "execution_count": 38,
   "id": "f25c2a19",
   "metadata": {},
   "outputs": [],
   "source": [
    "test_rv = ss.norm(loc = 5)"
   ]
  },
  {
   "cell_type": "code",
   "execution_count": 41,
   "id": "2d66bd52",
   "metadata": {},
   "outputs": [
    {
     "data": {
      "text/plain": [
       "5.939733173260034"
      ]
     },
     "execution_count": 41,
     "metadata": {},
     "output_type": "execute_result"
    }
   ],
   "source": [
    "test_rv.rvs()"
   ]
  },
  {
   "cell_type": "code",
   "execution_count": 15,
   "id": "eda14327",
   "metadata": {},
   "outputs": [
    {
     "ename": "TypeError",
     "evalue": "rvs() got an unexpected keyword argument 'rate'",
     "output_type": "error",
     "traceback": [
      "\u001b[0;31m---------------------------------------------------------------------------\u001b[0m",
      "\u001b[0;31mTypeError\u001b[0m                                 Traceback (most recent call last)",
      "\u001b[0;32m/var/folders/hr/pw6v38ln34d_87nsgcx3qjz80000gn/T/ipykernel_52818/56101866.py\u001b[0m in \u001b[0;36m<module>\u001b[0;34m\u001b[0m\n\u001b[0;32m----> 1\u001b[0;31m \u001b[0mrandom_positions\u001b[0m \u001b[0;34m=\u001b[0m \u001b[0mrng\u001b[0m\u001b[0;34m.\u001b[0m\u001b[0mclasses\u001b[0m\u001b[0;34m.\u001b[0m\u001b[0mnetwork_model\u001b[0m\u001b[0;34m.\u001b[0m\u001b[0mPositionGenerator\u001b[0m\u001b[0;34m(\u001b[0m\u001b[0mN\u001b[0m \u001b[0;34m=\u001b[0m \u001b[0;36m2\u001b[0m\u001b[0;34m**\u001b[0m\u001b[0;36m10\u001b[0m\u001b[0;34m,\u001b[0m \u001b[0mrate\u001b[0m \u001b[0;34m=\u001b[0m \u001b[0;36m0.1\u001b[0m\u001b[0;34m)\u001b[0m\u001b[0;34m\u001b[0m\u001b[0;34m\u001b[0m\u001b[0m\n\u001b[0m\u001b[1;32m      2\u001b[0m \u001b[0mrandom_positions\u001b[0m\u001b[0;34m.\u001b[0m\u001b[0mfixed_position\u001b[0m\u001b[0;34m\u001b[0m\u001b[0;34m\u001b[0m\u001b[0m\n",
      "\u001b[0;32m~/Documents/coding/venvs/ringity/lib/python3.9/site-packages/ringity/classes/network_model.py\u001b[0m in \u001b[0;36m__init__\u001b[0;34m(self, N, distn, random_state, **kwargs)\u001b[0m\n\u001b[1;32m     47\u001b[0m             \u001b[0;32massert\u001b[0m \u001b[0;32mFalse\u001b[0m\u001b[0;34m,\u001b[0m \u001b[0;34mf\"data type of distn recognized: ({type(self.distribution)})\"\u001b[0m\u001b[0;34m\u001b[0m\u001b[0;34m\u001b[0m\u001b[0m\n\u001b[1;32m     48\u001b[0m \u001b[0;34m\u001b[0m\u001b[0m\n\u001b[0;32m---> 49\u001b[0;31m         self.current_position = self.frozen_position.rvs(size = N,\n\u001b[0m\u001b[1;32m     50\u001b[0m                                                          \u001b[0mrandom_state\u001b[0m \u001b[0;34m=\u001b[0m \u001b[0mrandom_state\u001b[0m\u001b[0;34m,\u001b[0m\u001b[0;34m\u001b[0m\u001b[0;34m\u001b[0m\u001b[0m\n\u001b[1;32m     51\u001b[0m                                                          **kwargs)\n",
      "\u001b[0;31mTypeError\u001b[0m: rvs() got an unexpected keyword argument 'rate'"
     ]
    }
   ],
   "source": [
    "random_positions = rng.classes.network_model.PositionGenerator(N = 2**10, rate = 0.1)\n",
    "random_positions.fixed_position"
   ]
  },
  {
   "cell_type": "markdown",
   "id": "bd307ab4",
   "metadata": {},
   "source": [
    "Then we calculate pairwise distances."
   ]
  },
  {
   "cell_type": "code",
   "execution_count": 14,
   "id": "1996123e",
   "metadata": {},
   "outputs": [],
   "source": [
    "random_distances = rng.positions_to_distances(random_positions)"
   ]
  },
  {
   "cell_type": "code",
   "execution_count": 15,
   "id": "68db0c9d",
   "metadata": {},
   "outputs": [
    {
     "data": {
      "text/plain": [
       "array([0.52419554, 0.78786364, 0.27098876, ..., 1.10116242, 2.30507859,\n",
       "       1.20391617])"
      ]
     },
     "execution_count": 15,
     "metadata": {},
     "output_type": "execute_result"
    }
   ],
   "source": [
    "random_distances"
   ]
  },
  {
   "cell_type": "code",
   "execution_count": 16,
   "id": "77002bd1",
   "metadata": {},
   "outputs": [],
   "source": [
    "from ringity.classes._distns import wrapexpon"
   ]
  },
  {
   "cell_type": "code",
   "execution_count": 19,
   "id": "42741edf",
   "metadata": {},
   "outputs": [
    {
     "data": {
      "text/plain": [
       "[ringity.classes._distns.wrappedExponGenerator,\n",
       " scipy.stats._distn_infrastructure.rv_continuous,\n",
       " scipy.stats._distn_infrastructure.rv_generic,\n",
       " object]"
      ]
     },
     "execution_count": 19,
     "metadata": {},
     "output_type": "execute_result"
    }
   ],
   "source": [
    "type(wrapexpon).mro()"
   ]
  },
  {
   "cell_type": "markdown",
   "id": "7a0e0764",
   "metadata": {},
   "source": [
    "# Spielwiese"
   ]
  },
  {
   "cell_type": "code",
   "execution_count": 388,
   "id": "39249801",
   "metadata": {},
   "outputs": [],
   "source": [
    "import numpy as np\n",
    "import pandas as pd\n",
    "import networkx as nx\n",
    "import matplotlib.pyplot as plt\n",
    "\n",
    "from scipy.spatial.distance import pdist, squareform"
   ]
  },
  {
   "cell_type": "code",
   "execution_count": 374,
   "id": "f0596fba",
   "metadata": {},
   "outputs": [],
   "source": [
    "m = 5\n",
    "n = 2\n",
    "\n",
    "X = np.random.uniform(10, size=(m, n))\n",
    "\n",
    "En = np.ones((n,n))\n",
    "Em = np.ones((m,m))\n",
    "Jn = np.eye(n) - En/n\n",
    "Jm = np.eye(m) - Em/m\n",
    "\n",
    "X = Jm@X\n",
    "\n",
    "M = X@En\n",
    "X_cen = X@Jn\n",
    "Q = X@Jn@X.T / (n-1)"
   ]
  },
  {
   "cell_type": "code",
   "execution_count": 375,
   "id": "6c9d469e",
   "metadata": {},
   "outputs": [
    {
     "data": {
      "text/html": [
       "<div>\n",
       "<style scoped>\n",
       "    .dataframe tbody tr th:only-of-type {\n",
       "        vertical-align: middle;\n",
       "    }\n",
       "\n",
       "    .dataframe tbody tr th {\n",
       "        vertical-align: top;\n",
       "    }\n",
       "\n",
       "    .dataframe thead th {\n",
       "        text-align: right;\n",
       "    }\n",
       "</style>\n",
       "<table border=\"1\" class=\"dataframe\">\n",
       "  <thead>\n",
       "    <tr style=\"text-align: right;\">\n",
       "      <th></th>\n",
       "      <th>0</th>\n",
       "      <th>1</th>\n",
       "      <th>2</th>\n",
       "      <th>3</th>\n",
       "      <th>4</th>\n",
       "    </tr>\n",
       "  </thead>\n",
       "  <tbody>\n",
       "    <tr>\n",
       "      <th>0</th>\n",
       "      <td>1.695361</td>\n",
       "      <td>2.337084</td>\n",
       "      <td>0.243149</td>\n",
       "      <td>-5.497737</td>\n",
       "      <td>1.222142</td>\n",
       "    </tr>\n",
       "    <tr>\n",
       "      <th>1</th>\n",
       "      <td>2.337084</td>\n",
       "      <td>3.221711</td>\n",
       "      <td>0.335185</td>\n",
       "      <td>-7.578724</td>\n",
       "      <td>1.684744</td>\n",
       "    </tr>\n",
       "    <tr>\n",
       "      <th>2</th>\n",
       "      <td>0.243149</td>\n",
       "      <td>0.335185</td>\n",
       "      <td>0.034872</td>\n",
       "      <td>-0.788487</td>\n",
       "      <td>0.175280</td>\n",
       "    </tr>\n",
       "    <tr>\n",
       "      <th>3</th>\n",
       "      <td>-5.497737</td>\n",
       "      <td>-7.578724</td>\n",
       "      <td>-0.788487</td>\n",
       "      <td>17.828125</td>\n",
       "      <td>-3.963177</td>\n",
       "    </tr>\n",
       "    <tr>\n",
       "      <th>4</th>\n",
       "      <td>1.222142</td>\n",
       "      <td>1.684744</td>\n",
       "      <td>0.175280</td>\n",
       "      <td>-3.963177</td>\n",
       "      <td>0.881011</td>\n",
       "    </tr>\n",
       "  </tbody>\n",
       "</table>\n",
       "</div>"
      ],
      "text/plain": [
       "          0         1         2          3         4\n",
       "0  1.695361  2.337084  0.243149  -5.497737  1.222142\n",
       "1  2.337084  3.221711  0.335185  -7.578724  1.684744\n",
       "2  0.243149  0.335185  0.034872  -0.788487  0.175280\n",
       "3 -5.497737 -7.578724 -0.788487  17.828125 -3.963177\n",
       "4  1.222142  1.684744  0.175280  -3.963177  0.881011"
      ]
     },
     "execution_count": 375,
     "metadata": {},
     "output_type": "execute_result"
    }
   ],
   "source": [
    "pd.DataFrame(np.cov(X))"
   ]
  },
  {
   "cell_type": "code",
   "execution_count": 376,
   "id": "569031db",
   "metadata": {},
   "outputs": [
    {
     "data": {
      "text/html": [
       "<div>\n",
       "<style scoped>\n",
       "    .dataframe tbody tr th:only-of-type {\n",
       "        vertical-align: middle;\n",
       "    }\n",
       "\n",
       "    .dataframe tbody tr th {\n",
       "        vertical-align: top;\n",
       "    }\n",
       "\n",
       "    .dataframe thead th {\n",
       "        text-align: right;\n",
       "    }\n",
       "</style>\n",
       "<table border=\"1\" class=\"dataframe\">\n",
       "  <thead>\n",
       "    <tr style=\"text-align: right;\">\n",
       "      <th></th>\n",
       "      <th>0</th>\n",
       "      <th>1</th>\n",
       "      <th>2</th>\n",
       "      <th>3</th>\n",
       "      <th>4</th>\n",
       "    </tr>\n",
       "  </thead>\n",
       "  <tbody>\n",
       "    <tr>\n",
       "      <th>0</th>\n",
       "      <td>1.695361</td>\n",
       "      <td>2.337084</td>\n",
       "      <td>0.243149</td>\n",
       "      <td>-5.497737</td>\n",
       "      <td>1.222142</td>\n",
       "    </tr>\n",
       "    <tr>\n",
       "      <th>1</th>\n",
       "      <td>2.337084</td>\n",
       "      <td>3.221711</td>\n",
       "      <td>0.335185</td>\n",
       "      <td>-7.578724</td>\n",
       "      <td>1.684744</td>\n",
       "    </tr>\n",
       "    <tr>\n",
       "      <th>2</th>\n",
       "      <td>0.243149</td>\n",
       "      <td>0.335185</td>\n",
       "      <td>0.034872</td>\n",
       "      <td>-0.788487</td>\n",
       "      <td>0.175280</td>\n",
       "    </tr>\n",
       "    <tr>\n",
       "      <th>3</th>\n",
       "      <td>-5.497737</td>\n",
       "      <td>-7.578724</td>\n",
       "      <td>-0.788487</td>\n",
       "      <td>17.828125</td>\n",
       "      <td>-3.963177</td>\n",
       "    </tr>\n",
       "    <tr>\n",
       "      <th>4</th>\n",
       "      <td>1.222142</td>\n",
       "      <td>1.684744</td>\n",
       "      <td>0.175280</td>\n",
       "      <td>-3.963177</td>\n",
       "      <td>0.881011</td>\n",
       "    </tr>\n",
       "  </tbody>\n",
       "</table>\n",
       "</div>"
      ],
      "text/plain": [
       "          0         1         2          3         4\n",
       "0  1.695361  2.337084  0.243149  -5.497737  1.222142\n",
       "1  2.337084  3.221711  0.335185  -7.578724  1.684744\n",
       "2  0.243149  0.335185  0.034872  -0.788487  0.175280\n",
       "3 -5.497737 -7.578724 -0.788487  17.828125 -3.963177\n",
       "4  1.222142  1.684744  0.175280  -3.963177  0.881011"
      ]
     },
     "execution_count": 376,
     "metadata": {},
     "output_type": "execute_result"
    }
   ],
   "source": [
    "pd.DataFrame(X_cen@X_cen.T) / (n-1)"
   ]
  },
  {
   "cell_type": "code",
   "execution_count": 377,
   "id": "7ac2a5f8",
   "metadata": {},
   "outputs": [
    {
     "data": {
      "text/html": [
       "<div>\n",
       "<style scoped>\n",
       "    .dataframe tbody tr th:only-of-type {\n",
       "        vertical-align: middle;\n",
       "    }\n",
       "\n",
       "    .dataframe tbody tr th {\n",
       "        vertical-align: top;\n",
       "    }\n",
       "\n",
       "    .dataframe thead th {\n",
       "        text-align: right;\n",
       "    }\n",
       "</style>\n",
       "<table border=\"1\" class=\"dataframe\">\n",
       "  <thead>\n",
       "    <tr style=\"text-align: right;\">\n",
       "      <th></th>\n",
       "      <th>0</th>\n",
       "      <th>1</th>\n",
       "      <th>2</th>\n",
       "      <th>3</th>\n",
       "      <th>4</th>\n",
       "    </tr>\n",
       "  </thead>\n",
       "  <tbody>\n",
       "    <tr>\n",
       "      <th>0</th>\n",
       "      <td>1.695361</td>\n",
       "      <td>2.337084</td>\n",
       "      <td>0.243149</td>\n",
       "      <td>-5.497737</td>\n",
       "      <td>1.222142</td>\n",
       "    </tr>\n",
       "    <tr>\n",
       "      <th>1</th>\n",
       "      <td>2.337084</td>\n",
       "      <td>3.221711</td>\n",
       "      <td>0.335185</td>\n",
       "      <td>-7.578724</td>\n",
       "      <td>1.684744</td>\n",
       "    </tr>\n",
       "    <tr>\n",
       "      <th>2</th>\n",
       "      <td>0.243149</td>\n",
       "      <td>0.335185</td>\n",
       "      <td>0.034872</td>\n",
       "      <td>-0.788487</td>\n",
       "      <td>0.175280</td>\n",
       "    </tr>\n",
       "    <tr>\n",
       "      <th>3</th>\n",
       "      <td>-5.497737</td>\n",
       "      <td>-7.578724</td>\n",
       "      <td>-0.788487</td>\n",
       "      <td>17.828125</td>\n",
       "      <td>-3.963177</td>\n",
       "    </tr>\n",
       "    <tr>\n",
       "      <th>4</th>\n",
       "      <td>1.222142</td>\n",
       "      <td>1.684744</td>\n",
       "      <td>0.175280</td>\n",
       "      <td>-3.963177</td>\n",
       "      <td>0.881011</td>\n",
       "    </tr>\n",
       "  </tbody>\n",
       "</table>\n",
       "</div>"
      ],
      "text/plain": [
       "          0         1         2          3         4\n",
       "0  1.695361  2.337084  0.243149  -5.497737  1.222142\n",
       "1  2.337084  3.221711  0.335185  -7.578724  1.684744\n",
       "2  0.243149  0.335185  0.034872  -0.788487  0.175280\n",
       "3 -5.497737 -7.578724 -0.788487  17.828125 -3.963177\n",
       "4  1.222142  1.684744  0.175280  -3.963177  0.881011"
      ]
     },
     "execution_count": 377,
     "metadata": {},
     "output_type": "execute_result"
    }
   ],
   "source": [
    "pd.DataFrame(Q)"
   ]
  },
  {
   "cell_type": "code",
   "execution_count": 378,
   "id": "eb652736",
   "metadata": {},
   "outputs": [],
   "source": [
    "X_cen2 = (Jm@X)"
   ]
  },
  {
   "cell_type": "code",
   "execution_count": 379,
   "id": "539128eb",
   "metadata": {},
   "outputs": [
    {
     "data": {
      "text/html": [
       "<div>\n",
       "<style scoped>\n",
       "    .dataframe tbody tr th:only-of-type {\n",
       "        vertical-align: middle;\n",
       "    }\n",
       "\n",
       "    .dataframe tbody tr th {\n",
       "        vertical-align: top;\n",
       "    }\n",
       "\n",
       "    .dataframe thead th {\n",
       "        text-align: right;\n",
       "    }\n",
       "</style>\n",
       "<table border=\"1\" class=\"dataframe\">\n",
       "  <thead>\n",
       "    <tr style=\"text-align: right;\">\n",
       "      <th></th>\n",
       "      <th>0</th>\n",
       "      <th>1</th>\n",
       "      <th>2</th>\n",
       "      <th>3</th>\n",
       "      <th>4</th>\n",
       "    </tr>\n",
       "  </thead>\n",
       "  <tbody>\n",
       "    <tr>\n",
       "      <th>0</th>\n",
       "      <td>1.970284</td>\n",
       "      <td>3.351884</td>\n",
       "      <td>-0.500748</td>\n",
       "      <td>-7.300270</td>\n",
       "      <td>2.478850</td>\n",
       "    </tr>\n",
       "    <tr>\n",
       "      <th>1</th>\n",
       "      <td>3.351884</td>\n",
       "      <td>6.967565</td>\n",
       "      <td>-2.410708</td>\n",
       "      <td>-14.232276</td>\n",
       "      <td>6.323535</td>\n",
       "    </tr>\n",
       "    <tr>\n",
       "      <th>2</th>\n",
       "      <td>-0.500748</td>\n",
       "      <td>-2.410708</td>\n",
       "      <td>2.047745</td>\n",
       "      <td>4.088890</td>\n",
       "      <td>-3.225178</td>\n",
       "    </tr>\n",
       "    <tr>\n",
       "      <th>3</th>\n",
       "      <td>-7.300270</td>\n",
       "      <td>-14.232276</td>\n",
       "      <td>4.088890</td>\n",
       "      <td>29.646458</td>\n",
       "      <td>-12.202802</td>\n",
       "    </tr>\n",
       "    <tr>\n",
       "      <th>4</th>\n",
       "      <td>2.478850</td>\n",
       "      <td>6.323535</td>\n",
       "      <td>-3.225178</td>\n",
       "      <td>-12.202802</td>\n",
       "      <td>6.625596</td>\n",
       "    </tr>\n",
       "  </tbody>\n",
       "</table>\n",
       "</div>"
      ],
      "text/plain": [
       "          0          1         2          3          4\n",
       "0  1.970284   3.351884 -0.500748  -7.300270   2.478850\n",
       "1  3.351884   6.967565 -2.410708 -14.232276   6.323535\n",
       "2 -0.500748  -2.410708  2.047745   4.088890  -3.225178\n",
       "3 -7.300270 -14.232276  4.088890  29.646458 -12.202802\n",
       "4  2.478850   6.323535 -3.225178 -12.202802   6.625596"
      ]
     },
     "execution_count": 379,
     "metadata": {},
     "output_type": "execute_result"
    }
   ],
   "source": [
    "pd.DataFrame(X_cen2@X_cen2.T)"
   ]
  },
  {
   "cell_type": "code",
   "execution_count": 380,
   "id": "1f6c5159",
   "metadata": {},
   "outputs": [],
   "source": [
    "D = squareform(pdist(X_cen2))**2"
   ]
  },
  {
   "cell_type": "code",
   "execution_count": 381,
   "id": "ee50e6a4",
   "metadata": {},
   "outputs": [],
   "source": [
    "G = pd.DataFrame(-1/2*Jm@D@Jm)"
   ]
  },
  {
   "cell_type": "code",
   "execution_count": 382,
   "id": "af86b0e0",
   "metadata": {},
   "outputs": [
    {
     "data": {
      "text/html": [
       "<div>\n",
       "<style scoped>\n",
       "    .dataframe tbody tr th:only-of-type {\n",
       "        vertical-align: middle;\n",
       "    }\n",
       "\n",
       "    .dataframe tbody tr th {\n",
       "        vertical-align: top;\n",
       "    }\n",
       "\n",
       "    .dataframe thead th {\n",
       "        text-align: right;\n",
       "    }\n",
       "</style>\n",
       "<table border=\"1\" class=\"dataframe\">\n",
       "  <thead>\n",
       "    <tr style=\"text-align: right;\">\n",
       "      <th></th>\n",
       "      <th>0</th>\n",
       "      <th>1</th>\n",
       "      <th>2</th>\n",
       "      <th>3</th>\n",
       "      <th>4</th>\n",
       "    </tr>\n",
       "  </thead>\n",
       "  <tbody>\n",
       "    <tr>\n",
       "      <th>0</th>\n",
       "      <td>1.970284</td>\n",
       "      <td>3.351884</td>\n",
       "      <td>-0.500748</td>\n",
       "      <td>-7.300270</td>\n",
       "      <td>2.478850</td>\n",
       "    </tr>\n",
       "    <tr>\n",
       "      <th>1</th>\n",
       "      <td>3.351884</td>\n",
       "      <td>6.967565</td>\n",
       "      <td>-2.410708</td>\n",
       "      <td>-14.232276</td>\n",
       "      <td>6.323535</td>\n",
       "    </tr>\n",
       "    <tr>\n",
       "      <th>2</th>\n",
       "      <td>-0.500748</td>\n",
       "      <td>-2.410708</td>\n",
       "      <td>2.047745</td>\n",
       "      <td>4.088890</td>\n",
       "      <td>-3.225178</td>\n",
       "    </tr>\n",
       "    <tr>\n",
       "      <th>3</th>\n",
       "      <td>-7.300270</td>\n",
       "      <td>-14.232276</td>\n",
       "      <td>4.088890</td>\n",
       "      <td>29.646458</td>\n",
       "      <td>-12.202802</td>\n",
       "    </tr>\n",
       "    <tr>\n",
       "      <th>4</th>\n",
       "      <td>2.478850</td>\n",
       "      <td>6.323535</td>\n",
       "      <td>-3.225178</td>\n",
       "      <td>-12.202802</td>\n",
       "      <td>6.625596</td>\n",
       "    </tr>\n",
       "  </tbody>\n",
       "</table>\n",
       "</div>"
      ],
      "text/plain": [
       "          0          1         2          3          4\n",
       "0  1.970284   3.351884 -0.500748  -7.300270   2.478850\n",
       "1  3.351884   6.967565 -2.410708 -14.232276   6.323535\n",
       "2 -0.500748  -2.410708  2.047745   4.088890  -3.225178\n",
       "3 -7.300270 -14.232276  4.088890  29.646458 -12.202802\n",
       "4  2.478850   6.323535 -3.225178 -12.202802   6.625596"
      ]
     },
     "execution_count": 382,
     "metadata": {},
     "output_type": "execute_result"
    }
   ],
   "source": [
    "pd.DataFrame(G)"
   ]
  },
  {
   "cell_type": "code",
   "execution_count": 383,
   "id": "50b9b252",
   "metadata": {},
   "outputs": [
    {
     "data": {
      "text/plain": [
       "[-0.0, 0.0, 0.0, 2.972, 44.2857]"
      ]
     },
     "execution_count": 383,
     "metadata": {},
     "output_type": "execute_result"
    }
   ],
   "source": [
    "list(map(lambda x:round(x, 4), np.linalg.eigvalsh(G)))"
   ]
  },
  {
   "cell_type": "code",
   "execution_count": 384,
   "id": "df506686",
   "metadata": {},
   "outputs": [
    {
     "data": {
      "text/plain": [
       "[-0.0, 0.0, 0.0, 0.0, 23.6611]"
      ]
     },
     "execution_count": 384,
     "metadata": {},
     "output_type": "execute_result"
    }
   ],
   "source": [
    "list(map(lambda x:round(x, 4), np.linalg.eigvalsh(Q)))"
   ]
  },
  {
   "cell_type": "code",
   "execution_count": 391,
   "id": "dee1094e",
   "metadata": {},
   "outputs": [],
   "source": [
    "m = 5\n",
    "n = 2\n",
    "\n",
    "X = np.random.uniform(10, size=(m, n))\n",
    "\n",
    "En = np.ones((n,n))\n",
    "Em = np.ones((m,m))\n",
    "Jn = np.eye(n) - En/n\n",
    "Jm = np.eye(m) - Em/m"
   ]
  },
  {
   "cell_type": "code",
   "execution_count": 398,
   "id": "a3a36674",
   "metadata": {},
   "outputs": [
    {
     "data": {
      "text/plain": [
       "[<matplotlib.lines.Line2D at 0x7fb1f73bbbe0>]"
      ]
     },
     "execution_count": 398,
     "metadata": {},
     "output_type": "execute_result"
    },
    {
     "data": {
      "image/png": "[encoded data removed]",
      "text/plain": [
       "<Figure size 432x288 with 1 Axes>"
      ]
     },
     "metadata": {
      "needs_background": "light"
     },
     "output_type": "display_data"
    }
   ],
   "source": [
    "plt.plot(X[:, 0], X[:, 1], '*')\n",
    "plt.plot((X@Jn)[:, 0], (X@Jn)[:, 1], '*')"
   ]
  },
  {
   "cell_type": "code",
   "execution_count": 397,
   "id": "75e56225",
   "metadata": {},
   "outputs": [
    {
     "data": {
      "text/plain": [
       "[<matplotlib.lines.Line2D at 0x7fb1f8ecd6d0>]"
      ]
     },
     "execution_count": 397,
     "metadata": {},
     "output_type": "execute_result"
    },
    {
     "data": {
      "image/png": "[encoded data removed]",
      "text/plain": [
       "<Figure size 432x288 with 1 Axes>"
      ]
     },
     "metadata": {
      "needs_background": "light"
     },
     "output_type": "display_data"
    }
   ],
   "source": [
    "plt.plot((Jm@X)[:, 0], (Jm@X)[:, 1], '*')\n",
    "plt.plot((X@Jn)[:, 0], (X@Jn)[:, 1], '*')"
   ]
  },
  {
   "cell_type": "code",
   "execution_count": 409,
   "id": "4798a425",
   "metadata": {},
   "outputs": [],
   "source": [
    "?plt.plot"
   ]
  },
  {
   "cell_type": "code",
   "execution_count": 408,
   "id": "94eabf61",
   "metadata": {},
   "outputs": [
    {
     "ename": "AttributeError",
     "evalue": "'LineCollection' object has no property 'fmt'",
     "output_type": "error",
     "traceback": [
      "\u001b[0;31m---------------------------------------------------------------------------\u001b[0m",
      "\u001b[0;31mAttributeError\u001b[0m                            Traceback (most recent call last)",
      "\u001b[0;32m/var/folders/hr/pw6v38ln34d_87nsgcx3qjz80000gn/T/ipykernel_22733/2790276572.py\u001b[0m in \u001b[0;36m<module>\u001b[0;34m\u001b[0m\n\u001b[1;32m      1\u001b[0m \u001b[0mplt\u001b[0m\u001b[0;34m.\u001b[0m\u001b[0mplot\u001b[0m\u001b[0;34m(\u001b[0m\u001b[0;34m(\u001b[0m\u001b[0mX\u001b[0m\u001b[0;34m@\u001b[0m\u001b[0mJn\u001b[0m\u001b[0;34m)\u001b[0m\u001b[0;34m[\u001b[0m\u001b[0;34m:\u001b[0m\u001b[0;34m,\u001b[0m \u001b[0;36m0\u001b[0m\u001b[0;34m]\u001b[0m\u001b[0;34m,\u001b[0m \u001b[0;34m(\u001b[0m\u001b[0mX\u001b[0m\u001b[0;34m@\u001b[0m\u001b[0mJn\u001b[0m\u001b[0;34m)\u001b[0m\u001b[0;34m[\u001b[0m\u001b[0;34m:\u001b[0m\u001b[0;34m,\u001b[0m \u001b[0;36m1\u001b[0m\u001b[0;34m]\u001b[0m\u001b[0;34m,\u001b[0m \u001b[0;34m'*'\u001b[0m\u001b[0;34m)\u001b[0m\u001b[0;34m\u001b[0m\u001b[0;34m\u001b[0m\u001b[0m\n\u001b[0;32m----> 2\u001b[0;31m \u001b[0mplt\u001b[0m\u001b[0;34m.\u001b[0m\u001b[0mhlines\u001b[0m\u001b[0;34m(\u001b[0m\u001b[0my\u001b[0m\u001b[0;34m=\u001b[0m\u001b[0;36m0\u001b[0m\u001b[0;34m,\u001b[0m \u001b[0mxmin\u001b[0m\u001b[0;34m=\u001b[0m\u001b[0;34m-\u001b[0m\u001b[0;36m3\u001b[0m\u001b[0;34m,\u001b[0m \u001b[0mxmax\u001b[0m\u001b[0;34m=\u001b[0m\u001b[0;36m3\u001b[0m\u001b[0;34m,\u001b[0m \u001b[0mfmt\u001b[0m \u001b[0;34m=\u001b[0m \u001b[0;34m'*'\u001b[0m\u001b[0;34m)\u001b[0m\u001b[0;34m\u001b[0m\u001b[0;34m\u001b[0m\u001b[0m\n\u001b[0m",
      "\u001b[0;32m~/Documents/coding/venvs/ringity/lib/python3.9/site-packages/matplotlib/pyplot.py\u001b[0m in \u001b[0;36mhlines\u001b[0;34m(y, xmin, xmax, colors, linestyles, label, data, **kwargs)\u001b[0m\n\u001b[1;32m   2888\u001b[0m         \u001b[0my\u001b[0m\u001b[0;34m,\u001b[0m \u001b[0mxmin\u001b[0m\u001b[0;34m,\u001b[0m \u001b[0mxmax\u001b[0m\u001b[0;34m,\u001b[0m \u001b[0mcolors\u001b[0m\u001b[0;34m=\u001b[0m\u001b[0;32mNone\u001b[0m\u001b[0;34m,\u001b[0m \u001b[0mlinestyles\u001b[0m\u001b[0;34m=\u001b[0m\u001b[0;34m'solid'\u001b[0m\u001b[0;34m,\u001b[0m \u001b[0mlabel\u001b[0m\u001b[0;34m=\u001b[0m\u001b[0;34m''\u001b[0m\u001b[0;34m,\u001b[0m \u001b[0;34m*\u001b[0m\u001b[0;34m,\u001b[0m\u001b[0;34m\u001b[0m\u001b[0;34m\u001b[0m\u001b[0m\n\u001b[1;32m   2889\u001b[0m         data=None, **kwargs):\n\u001b[0;32m-> 2890\u001b[0;31m     return gca().hlines(\n\u001b[0m\u001b[1;32m   2891\u001b[0m         \u001b[0my\u001b[0m\u001b[0;34m,\u001b[0m \u001b[0mxmin\u001b[0m\u001b[0;34m,\u001b[0m \u001b[0mxmax\u001b[0m\u001b[0;34m,\u001b[0m \u001b[0mcolors\u001b[0m\u001b[0;34m=\u001b[0m\u001b[0mcolors\u001b[0m\u001b[0;34m,\u001b[0m \u001b[0mlinestyles\u001b[0m\u001b[0;34m=\u001b[0m\u001b[0mlinestyles\u001b[0m\u001b[0;34m,\u001b[0m\u001b[0;34m\u001b[0m\u001b[0;34m\u001b[0m\u001b[0m\n\u001b[1;32m   2892\u001b[0m         \u001b[0mlabel\u001b[0m\u001b[0;34m=\u001b[0m\u001b[0mlabel\u001b[0m\u001b[0;34m,\u001b[0m \u001b[0;34m**\u001b[0m\u001b[0;34m(\u001b[0m\u001b[0;34m{\u001b[0m\u001b[0;34m\"data\"\u001b[0m\u001b[0;34m:\u001b[0m \u001b[0mdata\u001b[0m\u001b[0;34m}\u001b[0m \u001b[0;32mif\u001b[0m \u001b[0mdata\u001b[0m \u001b[0;32mis\u001b[0m \u001b[0;32mnot\u001b[0m \u001b[0;32mNone\u001b[0m \u001b[0;32melse\u001b[0m \u001b[0;34m{\u001b[0m\u001b[0;34m}\u001b[0m\u001b[0;34m)\u001b[0m\u001b[0;34m,\u001b[0m\u001b[0;34m\u001b[0m\u001b[0;34m\u001b[0m\u001b[0m\n",
      "\u001b[0;32m~/Documents/coding/venvs/ringity/lib/python3.9/site-packages/matplotlib/__init__.py\u001b[0m in \u001b[0;36minner\u001b[0;34m(ax, data, *args, **kwargs)\u001b[0m\n\u001b[1;32m   1359\u001b[0m     \u001b[0;32mdef\u001b[0m \u001b[0minner\u001b[0m\u001b[0;34m(\u001b[0m\u001b[0max\u001b[0m\u001b[0;34m,\u001b[0m \u001b[0;34m*\u001b[0m\u001b[0margs\u001b[0m\u001b[0;34m,\u001b[0m \u001b[0mdata\u001b[0m\u001b[0;34m=\u001b[0m\u001b[0;32mNone\u001b[0m\u001b[0;34m,\u001b[0m \u001b[0;34m**\u001b[0m\u001b[0mkwargs\u001b[0m\u001b[0;34m)\u001b[0m\u001b[0;34m:\u001b[0m\u001b[0;34m\u001b[0m\u001b[0;34m\u001b[0m\u001b[0m\n\u001b[1;32m   1360\u001b[0m         \u001b[0;32mif\u001b[0m \u001b[0mdata\u001b[0m \u001b[0;32mis\u001b[0m \u001b[0;32mNone\u001b[0m\u001b[0;34m:\u001b[0m\u001b[0;34m\u001b[0m\u001b[0;34m\u001b[0m\u001b[0m\n\u001b[0;32m-> 1361\u001b[0;31m             \u001b[0;32mreturn\u001b[0m \u001b[0mfunc\u001b[0m\u001b[0;34m(\u001b[0m\u001b[0max\u001b[0m\u001b[0;34m,\u001b[0m \u001b[0;34m*\u001b[0m\u001b[0mmap\u001b[0m\u001b[0;34m(\u001b[0m\u001b[0msanitize_sequence\u001b[0m\u001b[0;34m,\u001b[0m \u001b[0margs\u001b[0m\u001b[0;34m)\u001b[0m\u001b[0;34m,\u001b[0m \u001b[0;34m**\u001b[0m\u001b[0mkwargs\u001b[0m\u001b[0;34m)\u001b[0m\u001b[0;34m\u001b[0m\u001b[0;34m\u001b[0m\u001b[0m\n\u001b[0m\u001b[1;32m   1362\u001b[0m \u001b[0;34m\u001b[0m\u001b[0m\n\u001b[1;32m   1363\u001b[0m         \u001b[0mbound\u001b[0m \u001b[0;34m=\u001b[0m \u001b[0mnew_sig\u001b[0m\u001b[0;34m.\u001b[0m\u001b[0mbind\u001b[0m\u001b[0;34m(\u001b[0m\u001b[0max\u001b[0m\u001b[0;34m,\u001b[0m \u001b[0;34m*\u001b[0m\u001b[0margs\u001b[0m\u001b[0;34m,\u001b[0m \u001b[0;34m**\u001b[0m\u001b[0mkwargs\u001b[0m\u001b[0;34m)\u001b[0m\u001b[0;34m\u001b[0m\u001b[0;34m\u001b[0m\u001b[0m\n",
      "\u001b[0;32m~/Documents/coding/venvs/ringity/lib/python3.9/site-packages/matplotlib/axes/_axes.py\u001b[0m in \u001b[0;36mhlines\u001b[0;34m(self, y, xmin, xmax, colors, linestyles, label, **kwargs)\u001b[0m\n\u001b[1;32m   1041\u001b[0m                                      linestyles=linestyles, label=label)\n\u001b[1;32m   1042\u001b[0m         \u001b[0mself\u001b[0m\u001b[0;34m.\u001b[0m\u001b[0madd_collection\u001b[0m\u001b[0;34m(\u001b[0m\u001b[0mlines\u001b[0m\u001b[0;34m,\u001b[0m \u001b[0mautolim\u001b[0m\u001b[0;34m=\u001b[0m\u001b[0;32mFalse\u001b[0m\u001b[0;34m)\u001b[0m\u001b[0;34m\u001b[0m\u001b[0;34m\u001b[0m\u001b[0m\n\u001b[0;32m-> 1043\u001b[0;31m         \u001b[0mlines\u001b[0m\u001b[0;34m.\u001b[0m\u001b[0mupdate\u001b[0m\u001b[0;34m(\u001b[0m\u001b[0mkwargs\u001b[0m\u001b[0;34m)\u001b[0m\u001b[0;34m\u001b[0m\u001b[0;34m\u001b[0m\u001b[0m\n\u001b[0m\u001b[1;32m   1044\u001b[0m \u001b[0;34m\u001b[0m\u001b[0m\n\u001b[1;32m   1045\u001b[0m         \u001b[0;32mif\u001b[0m \u001b[0mlen\u001b[0m\u001b[0;34m(\u001b[0m\u001b[0my\u001b[0m\u001b[0;34m)\u001b[0m \u001b[0;34m>\u001b[0m \u001b[0;36m0\u001b[0m\u001b[0;34m:\u001b[0m\u001b[0;34m\u001b[0m\u001b[0;34m\u001b[0m\u001b[0m\n",
      "\u001b[0;32m~/Documents/coding/venvs/ringity/lib/python3.9/site-packages/matplotlib/artist.py\u001b[0m in \u001b[0;36mupdate\u001b[0;34m(self, props)\u001b[0m\n\u001b[1;32m   1060\u001b[0m                     \u001b[0mfunc\u001b[0m \u001b[0;34m=\u001b[0m \u001b[0mgetattr\u001b[0m\u001b[0;34m(\u001b[0m\u001b[0mself\u001b[0m\u001b[0;34m,\u001b[0m \u001b[0;34mf\"set_{k}\"\u001b[0m\u001b[0;34m,\u001b[0m \u001b[0;32mNone\u001b[0m\u001b[0;34m)\u001b[0m\u001b[0;34m\u001b[0m\u001b[0;34m\u001b[0m\u001b[0m\n\u001b[1;32m   1061\u001b[0m                     \u001b[0;32mif\u001b[0m \u001b[0;32mnot\u001b[0m \u001b[0mcallable\u001b[0m\u001b[0;34m(\u001b[0m\u001b[0mfunc\u001b[0m\u001b[0;34m)\u001b[0m\u001b[0;34m:\u001b[0m\u001b[0;34m\u001b[0m\u001b[0;34m\u001b[0m\u001b[0m\n\u001b[0;32m-> 1062\u001b[0;31m                         raise AttributeError(f\"{type(self).__name__!r} object \"\n\u001b[0m\u001b[1;32m   1063\u001b[0m                                              f\"has no property {k!r}\")\n\u001b[1;32m   1064\u001b[0m                     \u001b[0mret\u001b[0m\u001b[0;34m.\u001b[0m\u001b[0mappend\u001b[0m\u001b[0;34m(\u001b[0m\u001b[0mfunc\u001b[0m\u001b[0;34m(\u001b[0m\u001b[0mv\u001b[0m\u001b[0;34m)\u001b[0m\u001b[0;34m)\u001b[0m\u001b[0;34m\u001b[0m\u001b[0;34m\u001b[0m\u001b[0m\n",
      "\u001b[0;31mAttributeError\u001b[0m: 'LineCollection' object has no property 'fmt'"
     ]
    },
    {
     "data": {
      "image/png": "[encoded data removed]",
      "text/plain": [
       "<Figure size 432x288 with 1 Axes>"
      ]
     },
     "metadata": {
      "needs_background": "light"
     },
     "output_type": "display_data"
    }
   ],
   "source": [
    "plt.plot((X@Jn)[:, 0], (X@Jn)[:, 1], '*')\n",
    "plt.hlines(y=0, xmin=-3, xmax=3, fmt = '*')"
   ]
  },
  {
   "cell_type": "code",
   "execution_count": 400,
   "id": "5068f08c",
   "metadata": {},
   "outputs": [
    {
     "data": {
      "text/plain": [
       "array([0., 0., 0., 0., 0.])"
      ]
     },
     "execution_count": 400,
     "metadata": {},
     "output_type": "execute_result"
    }
   ],
   "source": [
    "(X@Jn).sum(axis=1)"
   ]
  },
  {
   "cell_type": "code",
   "execution_count": 401,
   "id": "2a49c207",
   "metadata": {},
   "outputs": [
    {
     "data": {
      "text/plain": [
       "array([[ 0.10321591, -0.10321591],\n",
       "       [ 1.42689583, -1.42689583],\n",
       "       [-2.64950178,  2.64950178],\n",
       "       [ 0.27582641, -0.27582641],\n",
       "       [ 0.47134826, -0.47134826]])"
      ]
     },
     "execution_count": 401,
     "metadata": {},
     "output_type": "execute_result"
    }
   ],
   "source": [
    "(X@Jn)"
   ]
  },
  {
   "cell_type": "markdown",
   "id": "7116b387",
   "metadata": {},
   "source": [
    "## Spielwiese"
   ]
  },
  {
   "cell_type": "code",
   "execution_count": 90,
   "id": "a4886377",
   "metadata": {},
   "outputs": [],
   "source": [
    "import numpy as np\n",
    "import matplotlib.pyplot as plt"
   ]
  },
  {
   "cell_type": "code",
   "execution_count": 78,
   "id": "5a68d6f9",
   "metadata": {},
   "outputs": [
    {
     "data": {
      "text/plain": [
       "5.094218780366074"
      ]
     },
     "execution_count": 78,
     "metadata": {},
     "output_type": "execute_result"
    }
   ],
   "source": [
    "delay = 0.1234\n",
    "scaled_delay = np.pi*delay/2\n",
    "np.cos(scaled_delay) / np.sin(scaled_delay)"
   ]
  },
  {
   "cell_type": "code",
   "execution_count": 108,
   "id": "f1c7663d",
   "metadata": {},
   "outputs": [
    {
     "data": {
      "text/plain": [
       "0.12340000000000007"
      ]
     },
     "execution_count": 108,
     "metadata": {},
     "output_type": "execute_result"
    }
   ],
   "source": [
    "rate = 0.1234\n",
    "\n",
    "delay = 1 - 2/np.pi*np.arctan(rate)\n",
    "rate = np.tan(np.pi*(1-delay)/2)\n",
    "\n",
    "rate"
   ]
  },
  {
   "cell_type": "code",
   "execution_count": 109,
   "id": "05329d21",
   "metadata": {},
   "outputs": [
    {
     "data": {
      "text/plain": [
       "0.12339999999999995"
      ]
     },
     "execution_count": 109,
     "metadata": {},
     "output_type": "execute_result"
    }
   ],
   "source": [
    "delay = 0.1234\n",
    "\n",
    "rate = np.tan(np.pi*(1-delay)/2)\n",
    "delay = 1 - 2/np.pi*np.arctan(rate)\n",
    "\n",
    "delay"
   ]
  },
  {
   "cell_type": "code",
   "execution_count": 81,
   "id": "2d0cc3a6",
   "metadata": {},
   "outputs": [
    {
     "data": {
      "text/plain": [
       "0.12339999999999998"
      ]
     },
     "execution_count": 81,
     "metadata": {},
     "output_type": "execute_result"
    }
   ],
   "source": [
    "2*np.arctan(1/5.094218780366074)/np.pi"
   ]
  },
  {
   "cell_type": "code",
   "execution_count": 84,
   "id": "151ebedd",
   "metadata": {},
   "outputs": [
    {
     "data": {
      "text/plain": [
       "0.12339999999999998"
      ]
     },
     "execution_count": 84,
     "metadata": {},
     "output_type": "execute_result"
    }
   ],
   "source": [
    "dela = 0.1234\n",
    "2*np.arctan(1/(1/np.tan(np.pi*delay/2)))/np.pi"
   ]
  },
  {
   "cell_type": "code",
   "execution_count": 85,
   "id": "0297e38a",
   "metadata": {},
   "outputs": [
    {
     "data": {
      "text/plain": [
       "0.1233999999999999"
      ]
     },
     "execution_count": 85,
     "metadata": {},
     "output_type": "execute_result"
    }
   ],
   "source": [
    "rate = 0.1234\n",
    "1/np.tan(np.pi*(2*np.arctan(1/rate)/np.pi)/2)"
   ]
  },
  {
   "cell_type": "code",
   "execution_count": 86,
   "id": "d321550d",
   "metadata": {},
   "outputs": [
    {
     "data": {
      "text/plain": [
       "5.094218780366074"
      ]
     },
     "execution_count": 86,
     "metadata": {},
     "output_type": "execute_result"
    }
   ],
   "source": [
    "1/np.tan(np.pi*delay/2)"
   ]
  },
  {
   "cell_type": "code",
   "execution_count": 89,
   "id": "46c00948",
   "metadata": {},
   "outputs": [
    {
     "data": {
      "text/plain": [
       "5.094218780366075"
      ]
     },
     "execution_count": 89,
     "metadata": {},
     "output_type": "execute_result"
    }
   ],
   "source": [
    "np.tan(np.pi*(1-delay)/2)"
   ]
  },
  {
   "cell_type": "code",
   "execution_count": 100,
   "id": "64e4f972",
   "metadata": {},
   "outputs": [],
   "source": [
    "x = np.linspace(-2*np.pi, 2*np.pi, 100)\n",
    "\n",
    "y = np.arctan(1/np.tan(x))"
   ]
  },
  {
   "cell_type": "code",
   "execution_count": 104,
   "id": "8c77f9fb",
   "metadata": {},
   "outputs": [
    {
     "data": {
      "text/plain": [
       "[<matplotlib.lines.Line2D at 0x7f9df778b490>]"
      ]
     },
     "execution_count": 104,
     "metadata": {},
     "output_type": "execute_result"
    },
    {
     "data": {
      "image/png": "[encoded data removed]",
      "text/plain": [
       "<Figure size 432x288 with 1 Axes>"
      ]
     },
     "metadata": {
      "needs_background": "light"
     },
     "output_type": "display_data"
    }
   ],
   "source": [
    "plt.plot(x, y)\n",
    "plt.plot(x, np.pi/2 - x)"
   ]
  },
  {
   "cell_type": "code",
   "execution_count": 102,
   "id": "2834ff68",
   "metadata": {},
   "outputs": [
    {
     "data": {
      "text/plain": [
       "1.5707963267948963"
      ]
     },
     "execution_count": 102,
     "metadata": {},
     "output_type": "execute_result"
    }
   ],
   "source": [
    "y.max()"
   ]
  },
  {
   "cell_type": "code",
   "execution_count": 103,
   "id": "a28b565c",
   "metadata": {},
   "outputs": [
    {
     "data": {
      "text/plain": [
       "1.5707963267948966"
      ]
     },
     "execution_count": 103,
     "metadata": {},
     "output_type": "execute_result"
    }
   ],
   "source": [
    "np.pi/2"
   ]
  },
  {
   "cell_type": "code",
   "execution_count": null,
   "id": "f72328b4",
   "metadata": {},
   "outputs": [],
   "source": []
  }
 ],
 "metadata": {
  "kernelspec": {
   "display_name": "ringity",
   "language": "python",
   "name": "ringity"
  },
  "language_info": {
   "codemirror_mode": {
    "name": "ipython",
    "version": 3
   },
   "file_extension": ".py",
   "mimetype": "text/x-python",
   "name": "python",
   "nbconvert_exporter": "python",
   "pygments_lexer": "ipython3",
   "version": "3.9.5"
  }
 },
 "nbformat": 4,
 "nbformat_minor": 5
}
