{
 "cells": [
  {
   "cell_type": "markdown",
   "id": "10069f81",
   "metadata": {},
   "source": [
    "# As a statistical interaction network model"
   ]
  },
  {
   "cell_type": "markdown",
   "id": "321b496e",
   "metadata": {},
   "source": [
    "Fixed parameters of the model are:\n",
    " - an _internal state spce / response space / local microstates_, $\\sigma_{\\mathit int} = \\{ 0, 1\\}$\n",
    " - an _external state space_, $\\sigma_{\\mathit ext} = [ 0, 2\\pi]$\n",
    " - position distribution of elements / components / statistical units, $X_i \\sim WExp(\\lambda)$\n",
    " - a _conncetivity function_ [NAME DEBATABLE], \n",
    "$p:\\sigma_{\\mathit ext} \\times \\sigma_{\\mathit ext} \\rightarrow [0,1]: (\\theta_i, \\theta_j) \\mapsto 1- \\frac{d(\\theta_i, \\theta_j)}{\\pi}$"
   ]
  },
  {
   "cell_type": "markdown",
   "id": "9bfd58fe",
   "metadata": {},
   "source": [
    "# As an Ising model with a \"_random lattice_\""
   ]
  },
  {
   "cell_type": "markdown",
   "id": "632dff1c",
   "metadata": {},
   "source": [
    "Given the three parameters $N$, $a$ and $\\beta$ we can construct a \"_random lattice_\" $\\Lambda$ via:\n",
    "$$\\langle ij \\rangle \\Leftrightarrow d(\\Theta_i, \\Theta_j) < 2\\pi a \\, , \\text{where } \\Theta_k \\sim \\mathit WExp (\\lambda)$$\n",
    "\n",
    "The two parameters $\\lambda$ and $\\beta$ can be transformed into each other via\n",
    " - $\\lambda = 1 / \\tan\\Big(\\frac{\\pi}{2}\\beta\\Big)$\n",
    " - $\\beta = \\frac{2}{\\pi} \\cdot \\arctan(1/\\lambda)$"
   ]
  },
  {
   "cell_type": "markdown",
   "id": "985295bc",
   "metadata": {},
   "source": [
    "# As a Generalized random geometric graph (RGG)"
   ]
  },
  {
   "cell_type": "markdown",
   "id": "451fa434",
   "metadata": {},
   "source": [
    "Connection fucntion $H(d) = $ in the \n",
    "Quasi unit disk model {cite}`ahu61`"
   ]
  },
  {
   "cell_type": "markdown",
   "id": "ed33588e",
   "metadata": {},
   "source": [
    "# Parameter identifications\n",
    "\n",
    "$\\lambda = \\dfrac{1}{\\tan\\Big(\\frac{\\pi}{2}\\beta\\Big)}$"
   ]
  },
  {
   "cell_type": "code",
   "execution_count": null,
   "id": "83179f39",
   "metadata": {},
   "outputs": [],
   "source": []
  }
 ],
 "metadata": {
  "kernelspec": {
   "display_name": "Python 3",
   "language": "python",
   "name": "python3"
  },
  "language_info": {
   "codemirror_mode": {
    "name": "ipython",
    "version": 3
   },
   "file_extension": ".py",
   "mimetype": "text/x-python",
   "name": "python",
   "nbconvert_exporter": "python",
   "pygments_lexer": "ipython3",
   "version": "3.8.3"
  }
 },
 "nbformat": 4,
 "nbformat_minor": 5
}
