{
 "cells": [
  {
   "cell_type": "code",
   "execution_count": 113,
   "metadata": {},
   "outputs": [],
   "source": [
    "import numpy as np\n",
    "import pandas as pd\n",
    "import ringity as rng\n",
    "import seaborn as sns\n",
    "import networkx as nx\n",
    "import matplotlib.pyplot as plt\n",
    "\n",
    "from scipy.spatial.distance import squareform"
   ]
  },
  {
   "cell_type": "code",
   "execution_count": 2,
   "metadata": {},
   "outputs": [],
   "source": [
    "N = 2**9\n",
    "rho = np.random.uniform(0,0.05)\n",
    "beta = np.random.uniform()\n",
    "a = np.random.uniform(0,0.5)"
   ]
  },
  {
   "cell_type": "code",
   "execution_count": 20,
   "metadata": {},
   "outputs": [],
   "source": [
    "degs = []\n",
    "\n",
    "for i in range(2**10):\n",
    "    G = rng.network_model(N, a=a, rho=rho, beta=beta)\n",
    "    degs.append([deg for (node, deg) in nx.degree(G)])\n",
    "    \n",
    "degs = np.array(degs).flatten()"
   ]
  },
  {
   "cell_type": "code",
   "execution_count": 22,
   "metadata": {},
   "outputs": [
    {
     "data": {
      "image/png": "[encoded data removed]",
      "text/plain": [
       "<Figure size 432x288 with 1 Axes>"
      ]
     },
     "metadata": {
      "needs_background": "light"
     },
     "output_type": "display_data"
    }
   ],
   "source": [
    "plt.hist(degs, bins=50);"
   ]
  },
  {
   "cell_type": "code",
   "execution_count": 48,
   "metadata": {},
   "outputs": [],
   "source": [
    "obs_deg_dist = []\n",
    "\n",
    "for i in range(2**9):\n",
    "    delas = rng.get_delays(N, beta)\n",
    "    dists = rng.delays_to_distances(delas)\n",
    "    simis = rng.distances_to_similarities(dists, a=a)\n",
    "    probs = rng.similarities_to_probabilities(simis, a=a, rho=rho, param=beta, parameter_type = 'delay')\n",
    "    deg_dist = np.sum(squareform(probs) > np.random.uniform(size=[N,N]), axis=1)\n",
    "    obs_deg_dist.append(deg_dist)\n",
    "    \n",
    "obs_deg_dist = np.array(obs_deg_dist).flatten()"
   ]
  },
  {
   "cell_type": "code",
   "execution_count": 50,
   "metadata": {},
   "outputs": [
    {
     "data": {
      "image/png": "[encoded data removed]",
      "text/plain": [
       "<Figure size 432x288 with 1 Axes>"
      ]
     },
     "metadata": {
      "needs_background": "light"
     },
     "output_type": "display_data"
    }
   ],
   "source": [
    "plt.hist(degs        , bins=50, alpha=0.5, density=True);\n",
    "plt.hist(obs_deg_dist, bins=50, alpha=0.5, density=True);"
   ]
  },
  {
   "cell_type": "code",
   "execution_count": 28,
   "metadata": {},
   "outputs": [],
   "source": [
    "exp_deg_dist1 = []\n",
    "\n",
    "for i in range(2**10):\n",
    "    delas = rng.get_delays(N, beta)\n",
    "    dists = rng.delays_to_distances(delas)\n",
    "    simis = rng.distances_to_similarities(dists, a=a)\n",
    "    probs = rng.similarities_to_probabilities(simis, a=a, rho=rho, param=beta, parameter_type = 'delay')\n",
    "    exp_deg_dist1.append(squareform(probs).mean(axis=0)*(N-1))\n",
    "    \n",
    "exp_deg_dist1 = np.array(exp_deg_dist1).flatten()"
   ]
  },
  {
   "cell_type": "code",
   "execution_count": 37,
   "metadata": {},
   "outputs": [
    {
     "data": {
      "image/png": "[encoded data removed]",
      "text/plain": [
       "<Figure size 432x288 with 1 Axes>"
      ]
     },
     "metadata": {
      "needs_background": "light"
     },
     "output_type": "display_data"
    }
   ],
   "source": [
    "# plt.hist(degs         , bins=50, alpha=0.5);\n",
    "plt.hist(obs_deg_dist , bins=50, alpha=0.5);\n",
    "plt.hist(exp_deg_dist1, bins=50, alpha=0.5);"
   ]
  },
  {
   "cell_type": "code",
   "execution_count": 45,
   "metadata": {},
   "outputs": [],
   "source": [
    "delas = rng.get_delays(2**14, beta)\n",
    "exp_deg_dist2 = np.vectorize(rng.expected_node_degree)(delas, a=a, rho=rho, \n",
    "                                                       parameter=beta, parameter_type='delay')*(N-1)"
   ]
  },
  {
   "cell_type": "code",
   "execution_count": 46,
   "metadata": {},
   "outputs": [
    {
     "data": {
      "image/png": "[encoded data removed]",
      "text/plain": [
       "<Figure size 432x288 with 1 Axes>"
      ]
     },
     "metadata": {
      "needs_background": "light"
     },
     "output_type": "display_data"
    }
   ],
   "source": [
    "# plt.hist(degs         , bins=50, alpha=0.5, density=True);\n",
    "# plt.hist(obs_deg_dist , bins=50, alpha=0.5, density=True);\n",
    "plt.hist(exp_deg_dist1, bins=50, alpha=0.5, density=True);\n",
    "plt.hist(exp_deg_dist2, bins=50, alpha=0.5, density=True);"
   ]
  },
  {
   "cell_type": "markdown",
   "metadata": {},
   "source": [
    "## Exploring the parameter landscape"
   ]
  },
  {
   "cell_type": "code",
   "execution_count": 116,
   "metadata": {},
   "outputs": [],
   "source": [
    "N = 2**10\n",
    "rho = 0.1\n",
    "a = 0.1"
   ]
  },
  {
   "cell_type": "code",
   "execution_count": null,
   "metadata": {
    "scrolled": false
   },
   "outputs": [],
   "source": [
    "for a in (0.1, 0.2, 0.3, 0.4, 0.5):\n",
    "    df = pd.DataFrame(index=('score', 'LCC'))\n",
    "\n",
    "    fig, ax = plt.subplots(figsize=(12,12))\n",
    "\n",
    "    for beta in np.linspace(0.01, 0.99, 5):\n",
    "\n",
    "        obs_deg_dist = []\n",
    "\n",
    "        for i in range(2**10):\n",
    "            delas = rng.get_delays(N, beta)\n",
    "            dists = rng.delays_to_distances(delas)\n",
    "            simis = rng.distances_to_similarities(dists, a=a)\n",
    "            probs = rng.similarities_to_probabilities(simis, a=a, rho=rho, param=beta, parameter_type = 'delay')\n",
    "            deg_dist = np.sum(squareform(probs) > np.random.uniform(size=[N,N]), axis=1)\n",
    "            obs_deg_dist.append(deg_dist)\n",
    "\n",
    "        obs_deg_dist = np.array(obs_deg_dist).flatten()\n",
    "\n",
    "        sns.kdeplot(obs_deg_dist, ax=ax, label = f\"beta = {beta:.2f}\", bw_adjust=2)\n",
    "\n",
    "        A = squareform(probs) > np.random.uniform(size=[N,N])\n",
    "        G = nx.from_numpy_array(A)\n",
    "        S = nx.induced_subgraph(G, max(nx.connected_components(G), key=len))\n",
    "        score = rng.diagram(S).score\n",
    "        LCC = len(S)/len(G)\n",
    "\n",
    "        print(f\"beta = {beta:.2f}\") \n",
    "        print(f\"score = {score:.2f}\")\n",
    "        print(f\"LCC = {LCC:.2f}\")\n",
    "        print()\n",
    "\n",
    "        df[beta] = (score, LCC)\n",
    "\n",
    "    ax.legend()\n",
    "    ax.set_title(f\"a = {a:.2f}\", fontsize = 18)\n",
    "\n",
    "    fig.savefig(f\"/Users/dottolab/Desktop/ringity_plots/rho_{rho}_a_{a}.pdf\")\n",
    "    df.to_csv(f\"/Users/dottolab/Desktop/ringity_plots/rho_{rho}_a_{a}.csv\")"
   ]
  },
  {
   "cell_type": "code",
   "execution_count": 100,
   "metadata": {},
   "outputs": [],
   "source": [
    "A = squareform(probs) > np.random.uniform(size=[N,N])\n",
    "G = nx.from_numpy_array(A)"
   ]
  },
  {
   "cell_type": "code",
   "execution_count": 101,
   "metadata": {},
   "outputs": [
    {
     "data": {
      "text/plain": [
       "0.007943989223752168"
      ]
     },
     "execution_count": 101,
     "metadata": {},
     "output_type": "execute_result"
    }
   ],
   "source": [
    "rng.diagram(G).score"
   ]
  },
  {
   "cell_type": "code",
   "execution_count": 102,
   "metadata": {},
   "outputs": [
    {
     "data": {
      "text/plain": [
       "0.99"
      ]
     },
     "execution_count": 102,
     "metadata": {},
     "output_type": "execute_result"
    }
   ],
   "source": [
    "beta"
   ]
  },
  {
   "cell_type": "code",
   "execution_count": 108,
   "metadata": {},
   "outputs": [
    {
     "data": {
      "image/png": "[encoded data removed]",
      "text/plain": [
       "<Figure size 864x576 with 1 Axes>"
      ]
     },
     "metadata": {},
     "output_type": "display_data"
    }
   ],
   "source": [
    "rng.plot_nx(G)"
   ]
  },
  {
   "cell_type": "code",
   "execution_count": null,
   "metadata": {},
   "outputs": [],
   "source": []
  }
 ],
 "metadata": {
  "kernelspec": {
   "display_name": "Python 3",
   "language": "python",
   "name": "python3"
  },
  "language_info": {
   "codemirror_mode": {
    "name": "ipython",
    "version": 3
   },
   "file_extension": ".py",
   "mimetype": "text/x-python",
   "name": "python",
   "nbconvert_exporter": "python",
   "pygments_lexer": "ipython3",
   "version": "3.8.3"
  }
 },
 "nbformat": 4,
 "nbformat_minor": 4
}
