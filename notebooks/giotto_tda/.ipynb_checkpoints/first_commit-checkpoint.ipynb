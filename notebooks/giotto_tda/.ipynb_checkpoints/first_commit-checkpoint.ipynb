{
 "cells": [
  {
   "cell_type": "code",
   "execution_count": 1,
   "metadata": {},
   "outputs": [],
   "source": [
    "import numpy as np\n",
    "import igraph as ig\n",
    "\n",
    "from scipy import sparse, stats\n",
    "from gtda.homology import VietorisRipsPersistence"
   ]
  },
  {
   "cell_type": "markdown",
   "metadata": {},
   "source": [
    "# Functions"
   ]
  },
  {
   "cell_type": "markdown",
   "metadata": {},
   "source": [
    "## Network matrices"
   ]
  },
  {
   "cell_type": "code",
   "execution_count": 2,
   "metadata": {},
   "outputs": [],
   "source": [
    "def oriented_incidence_matrix(g):\n",
    "    A = g.get_adjacency_sparse()\n",
    "    N = A.shape[0]\n",
    "    E = int(A.nnz/2)\n",
    "    B = sparse.lil_matrix((E, N))\n",
    "\n",
    "    edges = edge_extractor(A)\n",
    "    # alternatively `map(lambda x:x.tuple, g.es)`\n",
    "\n",
    "    for ei, (u,v) in enumerate(edges):\n",
    "        B[ei, u] = -1\n",
    "        B[ei, v] = 1\n",
    "    return B"
   ]
  },
  {
   "cell_type": "code",
   "execution_count": 3,
   "metadata": {},
   "outputs": [],
   "source": [
    "def edge_extractor(A):\n",
    "    N = A.shape[0]\n",
    "    indices = A.indices\n",
    "    indptr  = A.indptr\n",
    "\n",
    "    for i in range(N):\n",
    "        for index in range(indptr[i], indptr[i+1]):\n",
    "            j = indices[index]\n",
    "            if j<i:\n",
    "                continue\n",
    "            yield i,j"
   ]
  },
  {
   "cell_type": "markdown",
   "metadata": {},
   "source": [
    "## Egde weights"
   ]
  },
  {
   "cell_type": "code",
   "execution_count": 4,
   "metadata": {},
   "outputs": [],
   "source": [
    "def net_flow(g):\n",
    "    L = np.array(g.laplacian())\n",
    "    C = np.zeros(L.shape)\n",
    "    C[1:,1:] = np.linalg.inv(L[1:,1:])\n",
    "\n",
    "    N = len(g.vs)\n",
    "    E = len(g.es)\n",
    "    B = oriented_incidence_matrix(g)\n",
    "\n",
    "    values = np.zeros(E)\n",
    "    for idx, B_row in enumerate(B):\n",
    "        F_row = B_row@C\n",
    "        rank = stats.rankdata(F_row)\n",
    "        values[idx] = np.sum((2*rank-1-N)*F_row)\n",
    "\n",
    "    return values"
   ]
  },
  {
   "cell_type": "code",
   "execution_count": 5,
   "metadata": {},
   "outputs": [],
   "source": [
    "def resistance(g):\n",
    "    L = g.laplacian()\n",
    "    Gamm = np.linalg.pinv(L)\n",
    "    diag = np.diag(Gamm)\n",
    "    return (-2*Gamm + diag).T + diag"
   ]
  },
  {
   "cell_type": "markdown",
   "metadata": {},
   "source": [
    "## ring score"
   ]
  },
  {
   "cell_type": "code",
   "execution_count": 6,
   "metadata": {},
   "outputs": [],
   "source": [
    "def diagram_to_sequence(dgm, homology_dimension = 1):\n",
    "    persistences = sorted([death-birth for (birth, death, p) in dgm if p == 1], \n",
    "                                   reverse=True)\n",
    "    signal = persistences[0]\n",
    "    \n",
    "    if signal == 0:\n",
    "        return np.array([0.])\n",
    "    else:\n",
    "        return np.array(persistences) / signal"
   ]
  },
  {
   "cell_type": "code",
   "execution_count": 7,
   "metadata": {},
   "outputs": [],
   "source": [
    "def ring_score(dgm):\n",
    "    sequence = diagram_to_sequence(dgm)\n",
    "    signal = sequence[0]\n",
    "    \n",
    "    if signal == 0:\n",
    "        return 0\n",
    "    else:\n",
    "        return 1-sum((noise/signal) / 2**i for i,noise in enumerate(sequence[1:],1))"
   ]
  },
  {
   "cell_type": "markdown",
   "metadata": {},
   "source": [
    "# Examples - resistance distance"
   ]
  },
  {
   "cell_type": "code",
   "execution_count": 8,
   "metadata": {},
   "outputs": [],
   "source": [
    "VR = VietorisRipsPersistence(metric = \"precomputed\", homology_dimensions=[1])"
   ]
  },
  {
   "cell_type": "markdown",
   "metadata": {},
   "source": [
    "### Ring graph"
   ]
  },
  {
   "cell_type": "code",
   "execution_count": 9,
   "metadata": {},
   "outputs": [
    {
     "name": "stdout",
     "output_type": "stream",
     "text": [
      "Ring score of ring-graph is: 1.000\n"
     ]
    }
   ],
   "source": [
    "# Create graph\n",
    "g = ig.Graph.Ring(2**9)\n",
    "\n",
    "# Calculate distance matrix\n",
    "D = resistance(g)\n",
    "\n",
    "# PD of Vietoris-Rips complex\n",
    "diagram, = VR.fit_transform([D])\n",
    "\n",
    "print(f\"Ring score of ring-graph is: {ring_score(diagram):.3f}\")"
   ]
  },
  {
   "cell_type": "markdown",
   "metadata": {},
   "source": [
    "### Geometric Random Graph"
   ]
  },
  {
   "cell_type": "code",
   "execution_count": 10,
   "metadata": {},
   "outputs": [
    {
     "name": "stdout",
     "output_type": "stream",
     "text": [
      "Ring score of GRG-graph is: 0.623\n"
     ]
    }
   ],
   "source": [
    "# Create graph\n",
    "g = ig.Graph.GRG(2**9, 0.1)\n",
    "\n",
    "# Calculate distance matrix\n",
    "D = resistance(g)\n",
    "\n",
    "# PD of Vietoris-Rips complex\n",
    "diagram, = VR.fit_transform([D])\n",
    "\n",
    "print(f\"Ring score of GRG-graph is: {ring_score(diagram):.3f}\")"
   ]
  },
  {
   "cell_type": "markdown",
   "metadata": {},
   "source": [
    "## Examples - net-flow distance"
   ]
  },
  {
   "cell_type": "code",
   "execution_count": 11,
   "metadata": {},
   "outputs": [],
   "source": [
    "g.es['net_flow'] = net_flow(g)"
   ]
  },
  {
   "cell_type": "code",
   "execution_count": null,
   "metadata": {},
   "outputs": [],
   "source": []
  }
 ],
 "metadata": {
  "kernelspec": {
   "display_name": "Python 3",
   "language": "python",
   "name": "python3"
  },
  "language_info": {
   "codemirror_mode": {
    "name": "ipython",
    "version": 3
   },
   "file_extension": ".py",
   "mimetype": "text/x-python",
   "name": "python",
   "nbconvert_exporter": "python",
   "pygments_lexer": "ipython3",
   "version": "3.7.7"
  }
 },
 "nbformat": 4,
 "nbformat_minor": 2
}
