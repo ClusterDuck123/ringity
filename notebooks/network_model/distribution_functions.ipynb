{
 "cells": [
  {
   "cell_type": "markdown",
   "id": "fa19a94b",
   "metadata": {},
   "source": [
    "# Praxis"
   ]
  },
  {
   "cell_type": "code",
   "execution_count": 1,
   "id": "f242158c",
   "metadata": {},
   "outputs": [],
   "source": [
    "import time\n",
    "import numpy as np\n",
    "import pandas as pd\n",
    "import ringity as rng\n",
    "import networkx as nx\n",
    "import scipy.stats as ss\n",
    "import plotly.express as px\n",
    "import plotly.graph_objects as go\n",
    "import plotly.figure_factory as ff\n",
    "import matplotlib.pyplot as plt\n",
    "\n",
    "from scipy.integrate import quad\n",
    "from scipy.spatial.distance import pdist, squareform\n",
    "from ringity.classes.network_model import NetworkBuilder"
   ]
  },
  {
   "cell_type": "markdown",
   "id": "17984f57",
   "metadata": {},
   "source": [
    "## Distribution"
   ]
  },
  {
   "cell_type": "code",
   "execution_count": 2,
   "id": "d54be5fd",
   "metadata": {},
   "outputs": [],
   "source": [
    "N = 2**14\n",
    "beta = 0.523\n",
    "\n",
    "rate  = np.tan(np.pi * (1-beta) / 2)\n",
    "delay = 1 - 2/np.pi * np.arctan(rate)\n",
    "\n",
    "network_builder = NetworkBuilder(random_state = 1234)\n",
    "network_builder.set_distribution('exponential', scale = 1/rate)\n",
    "network_builder.instantiate_positions(N)"
   ]
  },
  {
   "cell_type": "code",
   "execution_count": 3,
   "id": "ec952cb4",
   "metadata": {},
   "outputs": [],
   "source": [
    "assert np.isclose(delay, beta)"
   ]
  },
  {
   "cell_type": "markdown",
   "id": "e6b503d7",
   "metadata": {},
   "source": [
    "Given a wrapped exponential distribution with rate parameter $\\lambda$, i.e. $\\Theta\\sim \\mathit{WrapExp}(\\lambda)$ the pdf can be expressed as\n",
    "$$f_{\\Theta}(t) = \\frac{\\lambda e^{-\\lambda t}}{1-e^{-2\\pi\\lambda}} \\; .$$"
   ]
  },
  {
   "cell_type": "code",
   "execution_count": 4,
   "id": "b6a90d8f",
   "metadata": {},
   "outputs": [
    {
     "data": {
      "image/png": "[encoded data removed]",
      "text/plain": [
       "<Figure size 432x288 with 1 Axes>"
      ]
     },
     "metadata": {
      "needs_background": "light"
     },
     "output_type": "display_data"
    }
   ],
   "source": [
    "x = np.linspace(-0.1,2*np.pi+0.1,100)\n",
    "\n",
    "plt.hist(network_builder.positions, density=True, bins=50);\n",
    "plt.plot(x, rng.pdf_delay(x, rate, 'rate') , linewidth=3)\n",
    "\n",
    "plt.suptitle(\"Delay distribution - $T$\", fontsize=18);"
   ]
  },
  {
   "cell_type": "code",
   "execution_count": 5,
   "id": "3de8b258",
   "metadata": {},
   "outputs": [
    {
     "name": "stdout",
     "output_type": "stream",
     "text": [
      "1.060866553071504\n",
      "1.056757304047466\n"
     ]
    }
   ],
   "source": [
    "mu1 = np.mean(network_builder._positions)\n",
    "mu2 = quad(lambda x : x*rng.pdf_delay(x, rate, 'rate'), 0, 2*np.pi)[0]\n",
    "\n",
    "print(mu1)\n",
    "print(mu2)"
   ]
  },
  {
   "cell_type": "code",
   "execution_count": 6,
   "id": "ed7d8e4c",
   "metadata": {},
   "outputs": [
    {
     "data": {
      "text/plain": [
       "1.0567573040474658"
      ]
     },
     "execution_count": 6,
     "metadata": {},
     "output_type": "execute_result"
    }
   ],
   "source": [
    "rv = ss.truncexpon(b = 2*np.pi*rate, scale = 1/rate)\n",
    "rv.mean()"
   ]
  },
  {
   "cell_type": "code",
   "execution_count": 7,
   "id": "e4109e41",
   "metadata": {},
   "outputs": [
    {
     "data": {
      "text/plain": [
       "KstestResult(statistic=0.005849190884225863, pvalue=0.6271770410864851)"
      ]
     },
     "execution_count": 7,
     "metadata": {},
     "output_type": "execute_result"
    }
   ],
   "source": [
    "ss.ks_1samp(network_builder._positions, rv.cdf)"
   ]
  },
  {
   "cell_type": "markdown",
   "id": "dc9adcf4",
   "metadata": {},
   "source": [
    "## Distances and Similarity"
   ]
  },
  {
   "cell_type": "code",
   "execution_count": 8,
   "id": "e13cad64",
   "metadata": {},
   "outputs": [],
   "source": [
    "N = 2**13\n",
    "beta = np.random.uniform()\n",
    "alpha = np.random.uniform(0, 0.5)\n",
    "\n",
    "rate  = np.tan(np.pi * (1-beta) / 2)\n",
    "delay = 2/np.pi * np.arctan(rate)\n",
    "\n",
    "network_builder = NetworkBuilder(random_state = 1234)\n",
    "network_builder.set_distribution('exponential', scale = 1/rate)\n",
    "network_builder.instantiate_positions(N)\n",
    "network_builder.calculate_distances(metric = 'euclidean', circular = True)\n",
    "network_builder.calculate_similarities(alpha = alpha, sim_func = 'box_cosine')"
   ]
  },
  {
   "cell_type": "markdown",
   "id": "e02cc4d0",
   "metadata": {},
   "source": [
    "The circular distance is defined as $D = \\min {\\left\\{ |X-Y|, 2\\pi-|X-Y|\\right\\}}$. The corresponding pdf can be calculated via $f_{D}(t) = f_{|X-Y|}(t) + f_{|X-Y|}(2\\pi-t)$ where $f_{|X-Y|}(t) = 2 \\cdot f_{\\Theta}(t) * f_{\\Theta}(-t)$. This boils down to\n",
    "\n",
    "$$f_{D}(t) = \\frac {\\lambda}{\\sinh(\\pi\\lambda)}\\cdot \\cosh(\\lambda \\cdot (\\pi-t)) \\; .$$\n",
    "\n",
    "The corresponding conditional density distribution is defined as $D_{\\vartheta} = \\min {\\left\\{ |X-\\vartheta|, 2\\pi-|X-\\vartheta| \\right\\}}$ and can be calculated via $f_{D_{\\vartheta}}(t) = f_{|X-\\vartheta|}(t) + f_{|X-\\vartheta|}(2\\pi-t)$ where $f_{|X-\\vartheta|}(t) = f_{\\Theta}(\\vartheta+t) + f_{\\Theta}(\\vartheta-t)$. This boils down to \n",
    "\n",
    "$$f_{D_{\\vartheta}}(t) = \\frac{2\\lambda e^{-\\lambda \\vartheta}}{1 - e^{-2\\pi\\lambda}} \\cdot\n",
    "\\begin{cases}\n",
    "\\cosh(\\lambda t) & \\text{, for } t \\leq \\min \\{ \\vartheta, 2\\pi - \\vartheta \\} \\\\\n",
    "\\cosh(\\lambda (\\pi-t)) \\cdot e^{\\operatorname{sgn} (\\vartheta - t) \\lambda \\pi}  & \\text{, for } t \\geq \\min \\{ \\vartheta, 2\\pi - \\vartheta \\} \\; .\n",
    "\\end{cases}\n",
    "$$"
   ]
  },
  {
   "cell_type": "code",
   "execution_count": 231,
   "id": "e730150e",
   "metadata": {},
   "outputs": [],
   "source": [
    "def pdf_conditional_absolute_distance(t, theta, rate):\n",
    "    support = np.where((0 <= t) & (t <= 2*np.pi), 1, 0.)\n",
    "    norm = rate / (1 - np.exp(-2*np.pi*rate))\n",
    "    \n",
    "    cond1 = (t <= theta) & (t <= 2*np.pi - theta)\n",
    "    cond2 = (t >= theta) & (t <= 2*np.pi - theta)\n",
    "    cond3 = (t <= theta) & (t >= 2*np.pi - theta)\n",
    "    cond4 = (t >= theta) & (t >= 2*np.pi - theta)\n",
    "    \n",
    "    term1 = np.where(cond1, 2 * np.exp(-rate*theta) * np.cosh(rate*t), 1)\n",
    "    term2 = np.where(cond2, np.exp(-rate*(theta+t)), 1)\n",
    "    term3 = np.where(cond3, np.exp(-rate*(theta-t)), 1)\n",
    "    term4 = np.where(cond4, 0, 1)\n",
    "    \n",
    "    term = term1*term2*term3*term4\n",
    "    \n",
    "    return support * norm * term\n",
    "\n",
    "def pdf_conditional_circular_distance(t, theta, rate):\n",
    "    support = np.where((0 <= t) & (t <= np.pi), 1, 0.)\n",
    "    norm = 2*rate*np.exp(-rate*theta) / (1 - np.exp(-2*np.pi*rate))\n",
    "    \n",
    "    cond1 = (t <= theta) & (t <= 2*np.pi - theta)\n",
    "    cond2 = (t >= theta) & (t <= 2*np.pi - theta)\n",
    "    cond3 = (t <= theta) & (t >= 2*np.pi - theta)\n",
    "    \n",
    "    term1 = np.where(cond1, np.cosh(rate*t), 1)\n",
    "    term2 = np.where(cond2, np.cosh(rate*(np.pi-t)) * np.exp(-rate * np.pi), 1)\n",
    "    term3 = np.where(cond3, np.cosh(rate*(np.pi-t)) * np.exp( rate * np.pi), 1)\n",
    "    \n",
    "    term = term1*term2*term3\n",
    "    \n",
    "    return support * norm * term\n",
    "\n",
    "\n",
    "def pdf_conditional_circular_distance(t, theta, rate):\n",
    "    support = np.where((0 <= t) & (t <= np.pi), 1, 0.)\n",
    "    norm = 2*rate*np.exp(-rate*theta) / (1 - np.exp(-2*np.pi*rate))\n",
    "    \n",
    "    cond1 = (t <= min(theta, 2*np.pi-theta))\n",
    "    cond2 = (t >= min(theta, 2*np.pi-theta))\n",
    "    \n",
    "    term1 = np.where(cond1, np.cosh(rate*t), 1)\n",
    "    term2 = np.where(cond2, np.cosh(rate*(np.pi-t)) * np.exp(np.sign(theta-t)*rate * np.pi), 1)\n",
    "    \n",
    "    term = term1*term2\n",
    "    \n",
    "    return support * norm * term"
   ]
  },
  {
   "cell_type": "code",
   "execution_count": 232,
   "id": "e51154d4",
   "metadata": {},
   "outputs": [
    {
     "data": {
      "text/plain": [
       "[<matplotlib.lines.Line2D at 0x7fd1b1c12400>]"
      ]
     },
     "execution_count": 232,
     "metadata": {},
     "output_type": "execute_result"
    },
    {
     "data": {
      "image/png": "[encoded data removed]",
      "text/plain": [
       "<Figure size 432x288 with 1 Axes>"
      ]
     },
     "metadata": {
      "needs_background": "light"
     },
     "output_type": "display_data"
    }
   ],
   "source": [
    "x = np.linspace(-0.1, 2*np.pi+0.1, 100)\n",
    "theta = 6\n",
    "\n",
    "fig, ax = plt.subplots()\n",
    "\n",
    "ax.plot(x, rng.pdf_conditional_circular_distance(x, theta=theta, parameter=rate, parameter_type='rate'), \n",
    "        linewidth=5)\n",
    "#ax.plot(x, rng.pdf_delay(x-theta, parameter=rate, parameter_type='rate') +\n",
    "#           rng.pdf_delay(x+theta, parameter=rate, parameter_type='rate'), linewidth=3)\n",
    "ax.plot(x, pdf_conditional_circular_distance(x, theta, rate) , linewidth=2)"
   ]
  },
  {
   "cell_type": "code",
   "execution_count": 233,
   "id": "cc1047c1",
   "metadata": {},
   "outputs": [
    {
     "name": "stdout",
     "output_type": "stream",
     "text": [
      "113 µs ± 7.94 µs per loop (mean ± std. dev. of 7 runs, 10000 loops each)\n"
     ]
    }
   ],
   "source": [
    "%%timeit \n",
    "\n",
    "rng.pdf_conditional_circular_distance(x, theta=theta, parameter=rate, parameter_type='rate')"
   ]
  },
  {
   "cell_type": "code",
   "execution_count": 234,
   "id": "aa200844",
   "metadata": {},
   "outputs": [
    {
     "name": "stdout",
     "output_type": "stream",
     "text": [
      "46.8 µs ± 178 ns per loop (mean ± std. dev. of 7 runs, 10000 loops each)\n"
     ]
    }
   ],
   "source": [
    "%%timeit\n",
    "\n",
    "pdf_conditional_circular_distance(x, theta, rate)"
   ]
  },
  {
   "cell_type": "code",
   "execution_count": 118,
   "id": "5496daee",
   "metadata": {},
   "outputs": [
    {
     "name": "stdout",
     "output_type": "stream",
     "text": [
      "64.4 µs ± 402 ns per loop (mean ± std. dev. of 7 runs, 10000 loops each)\n"
     ]
    }
   ],
   "source": [
    "%%timeit\n",
    "\n",
    "pdf_conditional_circular_distance(x, theta, rate)"
   ]
  },
  {
   "cell_type": "code",
   "execution_count": 235,
   "id": "308a12a1",
   "metadata": {},
   "outputs": [
    {
     "data": {
      "image/png": "[encoded data removed]",
      "text/plain": [
       "<Figure size 864x360 with 2 Axes>"
      ]
     },
     "metadata": {
      "needs_background": "light"
     },
     "output_type": "display_data"
    }
   ],
   "source": [
    "x = np.linspace(-0.1, np.pi+0.1, 100)\n",
    "\n",
    "i = 100\n",
    "theta = network_builder._positions[i]\n",
    "\n",
    "fix, (ax1, ax2) = plt.subplots(1, 2, figsize=(12,5))\n",
    "\n",
    "ax1.hist(network_builder._distances, density=True, bins=100);\n",
    "ax1.plot(x, rng.pdf_circular_distance(x, rate, 'rate') , linewidth=3)\n",
    "ax1.set_title(\"Distance distribution\", fontsize=18);\n",
    "\n",
    "ax2.hist(network_builder.distances[i,:], density=True, bins=100);\n",
    "ax2.plot(x, rng.pdf_conditional_circular_distance(x, theta=theta, parameter=rate, parameter_type='rate') , linewidth=3)\n",
    "ax2.plot(x, pdf_conditional_circular_distance(x, theta=theta, rate=rate) , linewidth=3, c='k')\n",
    "ax2.set_title(rf\"Cond. Distance distribution ($\\theta = {theta:.2f}$)\", fontsize=18);"
   ]
  },
  {
   "cell_type": "code",
   "execution_count": 10,
   "id": "a953c2d3",
   "metadata": {},
   "outputs": [
    {
     "name": "stdout",
     "output_type": "stream",
     "text": [
      "0.34361943278981644\n",
      "0.343580655285218\n"
     ]
    }
   ],
   "source": [
    "mu1 = np.mean(network_builder._distances)\n",
    "mu2 = quad(lambda x : x*rng.pdf_circular_distance(x, rate, 'rate'), 0, 2*np.pi)[0]\n",
    "\n",
    "print(mu1)\n",
    "print(mu2)"
   ]
  },
  {
   "cell_type": "code",
   "execution_count": 11,
   "id": "f0380458",
   "metadata": {},
   "outputs": [],
   "source": [
    "disc_part = 2*(network_builder._similarities!=0).sum() / (N*(N-1))"
   ]
  },
  {
   "cell_type": "code",
   "execution_count": 12,
   "id": "8ed171fa",
   "metadata": {},
   "outputs": [
    {
     "data": {
      "image/png": "[encoded data removed]",
      "text/plain": [
       "<Figure size 432x288 with 1 Axes>"
      ]
     },
     "metadata": {
      "needs_background": "light"
     },
     "output_type": "display_data"
    }
   ],
   "source": [
    "x = np.linspace(-0.1, 1.1, 100)\n",
    "\n",
    "plt.hist(network_builder._similarities[network_builder._similarities!=0], density=True, bins=100);\n",
    "plt.plot(x, rng.pdf_similarity(x, parameter = rate, a = alpha, parameter_type = 'rate')/disc_part , linewidth=3)\n",
    "\n",
    "plt.suptitle(\"Similarity distribution\", fontsize=18);"
   ]
  },
  {
   "cell_type": "code",
   "execution_count": 13,
   "id": "95a0f25c",
   "metadata": {},
   "outputs": [
    {
     "name": "stdout",
     "output_type": "stream",
     "text": [
      "0.32224083237871715\n",
      "0.3241550454442353\n"
     ]
    }
   ],
   "source": [
    "mu1 = np.mean(network_builder._similarities)\n",
    "mu2 = quad(lambda x : x*rng.pdf_similarity(x, parameter = rate, a=alpha, parameter_type='rate'), \n",
    "           0, 2*np.pi)[0]\n",
    "\n",
    "print(mu1)\n",
    "print(mu2)"
   ]
  },
  {
   "cell_type": "code",
   "execution_count": 14,
   "id": "c1d8d855",
   "metadata": {},
   "outputs": [
    {
     "data": {
      "text/plain": [
       "0.32415504526088246"
      ]
     },
     "execution_count": 14,
     "metadata": {},
     "output_type": "execute_result"
    }
   ],
   "source": [
    "rng.classes.network_model.mean_similarity(a=alpha, rate = rate)"
   ]
  },
  {
   "cell_type": "code",
   "execution_count": 15,
   "id": "29d60976",
   "metadata": {},
   "outputs": [],
   "source": [
    "def mean_similarity(rate, a):\n",
    "    \"\"\"Calculate expected mean similarity (equivalently maximal expected density). \n",
    "    \n",
    "    This function assumies a (wrapped) exponential function and a cosine similarity \n",
    "    of box functions.\n",
    "    \"\"\"\n",
    "    palph = a*2\n",
    "    plamb = np.pi * rate\n",
    "    \n",
    "    # Alternatively:\n",
    "    numerator = 2*(np.sinh(plamb*(1-a)) * np.sinh(plamb*a))\n",
    "#    numerator = (np.cosh(plamb) - np.cosh(plamb*(1 - palph)))\n",
    "    denominator = (palph*plamb * np.sinh(plamb))\n",
    "    \n",
    "    return 1 - numerator / denominator "
   ]
  },
  {
   "cell_type": "code",
   "execution_count": 16,
   "id": "82b3c3ee",
   "metadata": {},
   "outputs": [
    {
     "data": {
      "text/plain": [
       "0.3241550452608818"
      ]
     },
     "execution_count": 16,
     "metadata": {},
     "output_type": "execute_result"
    }
   ],
   "source": [
    "mean_similarity(a=alpha, rate = rate)"
   ]
  },
  {
   "cell_type": "markdown",
   "id": "e7c18685",
   "metadata": {},
   "source": [
    "## Probability"
   ]
  },
  {
   "cell_type": "code",
   "execution_count": 51,
   "id": "e3c21276",
   "metadata": {},
   "outputs": [],
   "source": [
    "N = 2**9\n",
    "beta = np.random.uniform()\n",
    "alpha = np.random.uniform(0, 0.5)\n",
    "\n",
    "rate  = np.tan(np.pi * (1-beta) / 2)\n",
    "\n",
    "max_rho = rng.classes.network_model.mean_similarity(a=alpha, rate = rate)\n",
    "rho = np.random.uniform(0, max_rho)\n",
    "\n",
    "K = rng.classes.network_model.density_to_interaction_strength(rho, a=alpha, rate=rate)\n",
    "density = rng.classes.network_model.mean_similarity(a=alpha, rate = rate)*K\n",
    "\n",
    "network_builder = NetworkBuilder()\n",
    "network_builder.set_distribution('exponential', scale = 1/rate)\n",
    "network_builder.instantiate_positions(N)\n",
    "network_builder.calculate_distances(metric = 'euclidean', circular = True)\n",
    "network_builder.calculate_similarities(alpha = alpha, sim_func = 'box_cosine')\n",
    "network_builder.calculate_probabilities(intercept=0, slope = K)\n",
    "network_builder.instantiate_network()"
   ]
  },
  {
   "cell_type": "code",
   "execution_count": 52,
   "id": "85daaabc",
   "metadata": {},
   "outputs": [],
   "source": [
    "assert np.isclose(rho, density)"
   ]
  },
  {
   "cell_type": "code",
   "execution_count": 53,
   "id": "49c56841",
   "metadata": {},
   "outputs": [],
   "source": [
    "disc_part = 2*(network_builder._probabilities!=0).sum() / (N*(N-1))"
   ]
  },
  {
   "cell_type": "code",
   "execution_count": 54,
   "id": "c7a84461",
   "metadata": {},
   "outputs": [
    {
     "data": {
      "image/png": "[encoded data removed]",
      "text/plain": [
       "<Figure size 432x288 with 1 Axes>"
      ]
     },
     "metadata": {
      "needs_background": "light"
     },
     "output_type": "display_data"
    }
   ],
   "source": [
    "x = np.linspace(-0.05, 1.05, 100)\n",
    "\n",
    "plt.hist(network_builder._probabilities[network_builder._probabilities != 0], density=True, bins=25);\n",
    "plt.plot(x, rng.pdf_probability(x, \n",
    "                                rho = rho,\n",
    "                                parameter = rate, \n",
    "                                a = alpha, \n",
    "                                parameter_type = 'rate')/disc_part , linewidth=3)\n",
    "\n",
    "plt.suptitle(\"Probabilities distribution\", fontsize=18);"
   ]
  },
  {
   "cell_type": "code",
   "execution_count": 55,
   "id": "392e7d19",
   "metadata": {},
   "outputs": [
    {
     "name": "stdout",
     "output_type": "stream",
     "text": [
      "0.04683326319551728\n",
      "0.04644061639041624\n"
     ]
    }
   ],
   "source": [
    "mu1 = np.mean(network_builder._probabilities)\n",
    "mu2 = quad(lambda x : x*rng.pdf_probability(x, parameter = rate, a=alpha, rho=rho, parameter_type='rate'), \n",
    "           0, 2*np.pi)[0]\n",
    "\n",
    "print(mu1)\n",
    "print(mu2)"
   ]
  },
  {
   "cell_type": "markdown",
   "id": "69a0d046",
   "metadata": {},
   "source": [
    "# Conditional distributions"
   ]
  },
  {
   "cell_type": "markdown",
   "id": "939c6f19",
   "metadata": {},
   "source": [
    "## Conditional Distances and Similarity"
   ]
  },
  {
   "cell_type": "code",
   "execution_count": 56,
   "id": "97c484e4",
   "metadata": {},
   "outputs": [],
   "source": [
    "# Pipeline\n",
    "\n",
    "N = 2**13\n",
    "beta = np.random.uniform()\n",
    "alpha = np.random.uniform(0, 0.5)\n",
    "\n",
    "rate  = np.tan(np.pi * (1-beta) / 2)\n",
    "delay = 2/np.pi * np.arctan(rate)\n",
    "\n",
    "network_builder = NetworkBuilder(random_state = 1234)\n",
    "network_builder.set_distribution('exponential', scale = 1/rate)\n",
    "network_builder.instantiate_positions(N)\n",
    "network_builder.calculate_distances(metric = 'euclidean', circular = True)\n",
    "network_builder.calculate_similarities(alpha = alpha, sim_func = 'box_cosine')\n",
    "\n",
    "theta = network_builder.positions[0]"
   ]
  },
  {
   "cell_type": "code",
   "execution_count": 63,
   "id": "08f25c87",
   "metadata": {},
   "outputs": [
    {
     "data": {
      "image/png": "[encoded data removed]",
      "text/plain": [
       "<Figure size 432x288 with 1 Axes>"
      ]
     },
     "metadata": {
      "needs_background": "light"
     },
     "output_type": "display_data"
    }
   ],
   "source": [
    "x = np.linspace(-0.1, np.pi+0.1, 100)\n",
    "\n",
    "plt.hist(network_builder.distances[0], density=True, bins=100);\n",
    "plt.plot(x, rng.pdf_conditional_circular_distance(x, \n",
    "                                                  theta=theta, \n",
    "                                                  parameter=rate, \n",
    "                                                  parameter_type='rate') , linewidth=3)\n",
    "\n",
    "plt.suptitle(\"Distance distribution\", fontsize=18);"
   ]
  },
  {
   "cell_type": "code",
   "execution_count": 72,
   "id": "fb3b30f6",
   "metadata": {},
   "outputs": [
    {
     "data": {
      "image/png": "[encoded data removed]",
      "text/plain": [
       "<Figure size 432x288 with 1 Axes>"
      ]
     },
     "metadata": {
      "needs_background": "light"
     },
     "output_type": "display_data"
    }
   ],
   "source": [
    "x = np.linspace(-0.1, 1.1, 100)\n",
    "\n",
    "similarities = network_builder.similarities[0]\n",
    "disc_part = 2*(similarities!=0).sum() / (N*(N-1))\n",
    "\n",
    "plt.hist(similarities[similarities!=0], density=True, bins=100);\n",
    "plt.plot(x, rng.pdf_conditional_similarity(x, \n",
    "                                           theta = theta,\n",
    "                                           parameter = rate, \n",
    "                                           a = alpha, \n",
    "                                           parameter_type = 'rate') , linewidth=3)\n",
    "\n",
    "plt.suptitle(\"Similarity distribution\", fontsize=18);"
   ]
  },
  {
   "cell_type": "markdown",
   "id": "3dee91dd",
   "metadata": {},
   "source": [
    "## Conditional probabilities"
   ]
  },
  {
   "cell_type": "code",
   "execution_count": 88,
   "id": "d09bbade",
   "metadata": {},
   "outputs": [],
   "source": [
    "N = 2**9\n",
    "beta = np.random.uniform()\n",
    "alpha = np.random.uniform(0, 0.5)\n",
    "\n",
    "rate  = np.tan(np.pi * (1-beta) / 2)\n",
    "\n",
    "max_rho = rng.classes.network_model.mean_similarity(a=alpha, rate = rate)\n",
    "rho = np.random.uniform(0, max_rho)\n",
    "\n",
    "K = rng.classes.network_model.density_to_interaction_strength(rho, a=alpha, rate=rate)\n",
    "density = rng.classes.network_model.mean_similarity(a=alpha, rate = rate)*K\n",
    "\n",
    "network_builder = NetworkBuilder()\n",
    "network_builder.set_distribution('exponential', scale = 1/rate)\n",
    "network_builder.instantiate_positions(N)\n",
    "network_builder.calculate_distances(metric = 'euclidean', circular = True)\n",
    "network_builder.calculate_similarities(alpha = alpha, sim_func = 'box_cosine')\n",
    "network_builder.calculate_probabilities(intercept=0, slope = K)\n",
    "network_builder.instantiate_network()\n",
    "\n",
    "theta = network_builder.positions[0]"
   ]
  },
  {
   "cell_type": "code",
   "execution_count": 89,
   "id": "3f113ff7",
   "metadata": {},
   "outputs": [
    {
     "data": {
      "image/png": "[encoded data removed]",
      "text/plain": [
       "<Figure size 432x288 with 1 Axes>"
      ]
     },
     "metadata": {
      "needs_background": "light"
     },
     "output_type": "display_data"
    }
   ],
   "source": [
    "x = np.linspace(-0.05, 1.05, 100)\n",
    "\n",
    "probabilities = network_builder.probabilities[0]\n",
    "disc_part = 2*(probabilities!=0).sum() / (N*(N-1))\n",
    "\n",
    "plt.hist(probabilities[probabilities!=0], density=True, bins=100);\n",
    "\n",
    "plt.plot(x, rng.pdf_conditional_probability(x, \n",
    "                                            theta = theta,\n",
    "                                            rho = rho,\n",
    "                                            parameter = rate, \n",
    "                                            a = alpha, \n",
    "                                            parameter_type = 'rate') , linewidth=3)\n",
    "\n",
    "plt.suptitle(\"Probabilities distribution\", fontsize=18);"
   ]
  },
  {
   "cell_type": "code",
   "execution_count": null,
   "id": "d367b1fb",
   "metadata": {},
   "outputs": [],
   "source": []
  }
 ],
 "metadata": {
  "kernelspec": {
   "display_name": "ringity",
   "language": "python",
   "name": "ringity"
  },
  "language_info": {
   "codemirror_mode": {
    "name": "ipython",
    "version": 3
   },
   "file_extension": ".py",
   "mimetype": "text/x-python",
   "name": "python",
   "nbconvert_exporter": "python",
   "pygments_lexer": "ipython3",
   "version": "3.9.5"
  }
 },
 "nbformat": 4,
 "nbformat_minor": 5
}
