{
 "cells": [
  {
   "cell_type": "markdown",
   "id": "7ba02597",
   "metadata": {},
   "source": [
    "# Theory"
   ]
  },
  {
   "cell_type": "markdown",
   "id": "49896228",
   "metadata": {},
   "source": [
    "## Mathematical definition"
   ]
  },
  {
   "cell_type": "markdown",
   "id": "779d1396",
   "metadata": {},
   "source": [
    "Given the following parameters\n",
    "- $N \\in \\mathbb{N} \\dots$ size parameter (number of components)\n",
    "- $\\lambda \\in \\mathbb{R}_+ \\dots$ rate paremeter (exponential distribution of delays)\n",
    "- $\\alpha \\in \\left[0, \\tfrac{1}{2}\\right]\\dots$ window size parameter (activity window of response function)\n",
    "- $K \\in [0, 1] \\dots$ coupling constant (interaction probability of components)\n",
    "\n",
    "we construct a network on $N$ vertices as follows:\n",
    "1. Each vertex $i$ is associated with a _position_ $\\theta_i \\sim \\operatorname{WrapExp}(\\lambda)$ drawn from a wrapped exponential distribution with rate parameter $\\lambda$.\n",
    "2. Now the edge probability for the two vertices $i$ and $j$ is given by the \"positive part\" of a linear function of the distance of $\\theta_i$ and $\\theta_j$, i.e."
   ]
  },
  {
   "cell_type": "markdown",
   "id": "51555bd1",
   "metadata": {},
   "source": [
    "$$p_{ij} \n",
    "= K \\cdot \\left| 1- \\frac{d\\left(\\theta_i, \\theta_j\\right)}{2\\pi\\alpha} \\right|_+ \\, ,$$\n",
    "\n",
    "where $d$ is the \"circular distance\" of two points, i.e. $d(x,y) = \\min \\big\\{{|x-y|, 2\\pi-|x-y|} \\big\\}$ and $|x|_+$ is the positive part, i.e. $|x|_+ = x$ for $x \\geq 0$ and $|x|_+ = 0$ otherwise."
   ]
  },
  {
   "cell_type": "markdown",
   "id": "c62b4ffb",
   "metadata": {},
   "source": [
    "**Note:** The positions $\\theta_i$ completely determine the probability matrix $P = (p_{ij})$ which (for $\\lambda < \\infty$) describes an _inhomogenious_ random graph model."
   ]
  },
  {
   "cell_type": "markdown",
   "id": "a5fe3fcf",
   "metadata": {},
   "source": [
    "Assuming the response functions are elements of $r_i, r_j \\in L^2([0, 2\\pi])$ we can calculate the \"cosine similarity\" as\n",
    "$$s_{i,j} = \\frac{\\langle r_i, r_j \\rangle}{\\|r_i \\| \\|r_j \\|} = \\left| 1 - \\frac{d(\\theta_i, \\theta_j)}{2\\pi \\alpha} \\right|_{+} \\, ,$$\n",
    "where $| x |_+$ is the _positive part_ of $x$, i.e. $|x|_+ = x$ for $x \\geq 0$ and $|x|_+ = 0$ otherwise.\n",
    "\n",
    "Since $s_{ij} \\in [0,1]$ we can take $S = (s_{ij})$ already to define the random network. However, these networks tend to be densly connected and hence we introduce an additional parameter $K \\in [0,1]$ to have more control over the overall connectivity by linearly scaling the similarities $P = K\\cdot S$. The coupling constant $K$ is corresponds to the probability with which two components are interacting when they have exactly the same response function."
   ]
  },
  {
   "cell_type": "markdown",
   "id": "10c309c5",
   "metadata": {},
   "source": [
    "## Alternative parametrization"
   ]
  },
  {
   "cell_type": "markdown",
   "id": "2334fd04",
   "metadata": {},
   "source": [
    "### Delay as normalized distribution parameter"
   ]
  },
  {
   "cell_type": "markdown",
   "id": "ccf3c8ab",
   "metadata": {},
   "source": [
    "[WRONG DIRECTION]\n",
    "We will introduce a _delay parameter_ $\\beta$ to parametrize the exponential distribution with a bounded parameter $\\beta \\in [0,1]$ such that $\\beta = 0$ results in the delta distribution at the origin ($\\lambda \\rightarrow 0$), wheras $\\beta = 1$ results in the uniform distribution $\\lambda \\rightarrow \\infty$. To that end define the transformations\n",
    "- $\\beta = 1 - \\frac{2}{\\pi} \\arctan(\\lambda)$.\n",
    "- $\\lambda = \\tan \\left(\\frac{\\pi}{2}(1-\\beta) \\right)$\n",
    "\n",
    "The parameter $\\beta$ has the interpretation of a _response parameter_ of the internal states to an external signal. $\\beta = 0$ means an immediate response of all internal states to the signal, whereas $\\beta = 1$ results in no influence of internal states to the external stimulus. \n",
    "\n",
    "**Note 1:** For $\\beta = 0$ the model \"looses its stochasticity\" on the node level, forcing each node to behave the same. This system is _homogeneous_ and we recover the _Erdös-Renyi model_.\n",
    "\n",
    "**Note 2:** For $\\beta = 1$ the components are uniformly sampled on the circle and we obtain a _generalized geometric random graph_ with connection function specified by $p$. However, for $K \\rightarrow \\infty$ we recover the \"classical\" geometric random graph on the circle with a \"hard cutoff\" at $2\\pi \\alpha$."
   ]
  },
  {
   "cell_type": "markdown",
   "id": "2c589d54",
   "metadata": {},
   "source": [
    "### Network density as normalized coupling strength\n",
    "\n",
    "$$\\rho = K \\cdot \\frac{ 2\\sinh(2A + B)\\sinh(A) \\sinh(A+B)}\n",
    "{A\\big(\\cosh(2A+2B)-1\\big)} \\,$$\n",
    "for $K \\leq 1$ and $A = a\\pi\\lambda$ and $B = \\pi\\lambda - 2A$.\n",
    "\n",
    "For $a = \\frac{1}{2}$ this reduces to\n",
    "$$\\rho = K \\cdot \\left(1 -  \\frac{\\tanh (\\pi\\lambda / 2)}{\\pi \\lambda} \\right)$$\n",
    "\n",
    "- $K = $ [SOMETHING]"
   ]
  },
  {
   "cell_type": "markdown",
   "id": "b1d478e8",
   "metadata": {},
   "source": [
    "### Discontinous jump at $\\beta = 0$ (lack of phase transition)"
   ]
  },
  {
   "cell_type": "markdown",
   "id": "1043d695",
   "metadata": {},
   "source": [
    "The network becomes \"ringy\" with probability\n",
    "$$p_{\\text{ring}} = 1 - \\left( 1 - \\frac{K}{\\alpha \\lambda'} \\cdot \\frac{1 - e^{\\alpha \\lambda'} + \\alpha\\lambda'}{1 - e^{\\lambda'}} \\right)^N \\,$$\n",
    "with $\\lambda' = 2\\pi\\lambda$."
   ]
  },
  {
   "cell_type": "markdown",
   "id": "2cbc2f08",
   "metadata": {},
   "source": [
    "A quick calculation shows that\n",
    "$$T(\\lambda') = K \\left(\\frac{1}{\\alpha x} \\cdot \\frac{1 - e^{\\alpha x} + \\alpha \\lambda'}{1 - e^{\\lambda'}} \\right)\n",
    "\\xrightarrow{\\lambda' \\rightarrow 0} \\frac{K\\alpha}{2} > 0 \\, $$\n",
    "\n",
    "and hence, for any constant $K$ and $\\alpha$ the probability of the network forming a ring approaches $1$ as $N \\rightarrow \\infty$ and $\\beta \\rightarrow 1$.\n",
    "\n",
    "Conversely, we have\n",
    "\n",
    "$$T(x) \\xrightarrow{x \\rightarrow \\infty} 0 \\, $$\n",
    "and hence the nework does not form a ring for $\\beta \\rightarrow 0$. \n",
    "\n",
    "The term $T(x)$ is positive for $x < \\infty$ and hence the network will eventually become circular."
   ]
  },
  {
   "cell_type": "markdown",
   "id": "fa19a94b",
   "metadata": {},
   "source": [
    "# Praxis"
   ]
  },
  {
   "cell_type": "code",
   "execution_count": 1,
   "id": "f242158c",
   "metadata": {},
   "outputs": [],
   "source": [
    "import time\n",
    "import numpy as np\n",
    "import pandas as pd\n",
    "import ringity as rng\n",
    "import networkx as nx\n",
    "import scipy.stats as ss\n",
    "import plotly.express as px\n",
    "import plotly.graph_objects as go\n",
    "import plotly.figure_factory as ff\n",
    "import matplotlib.pyplot as plt\n",
    "\n",
    "from scipy.integrate import quad\n",
    "from scipy.spatial.distance import pdist, squareform\n",
    "from ringity.classes.network_model import NetworkBuilder"
   ]
  },
  {
   "cell_type": "markdown",
   "id": "17984f57",
   "metadata": {},
   "source": [
    "## Distribution"
   ]
  },
  {
   "cell_type": "code",
   "execution_count": 2,
   "id": "d54be5fd",
   "metadata": {},
   "outputs": [],
   "source": [
    "# Pipeline\n",
    "\n",
    "N = 2**14\n",
    "beta = 0.523\n",
    "\n",
    "rate  = np.tan(np.pi * (1-beta) / 2)\n",
    "delay = 1 - 2/np.pi * np.arctan(rate)\n",
    "\n",
    "network_builder = NetworkBuilder(random_state = 1234)\n",
    "network_builder.set_distribution('exponential', scale = 1/rate)\n",
    "network_builder.instantiate_positions(N)"
   ]
  },
  {
   "cell_type": "code",
   "execution_count": 3,
   "id": "ec952cb4",
   "metadata": {},
   "outputs": [],
   "source": [
    "assert np.isclose(delay, beta)"
   ]
  },
  {
   "cell_type": "code",
   "execution_count": 4,
   "id": "b6a90d8f",
   "metadata": {},
   "outputs": [
    {
     "data": {
      "image/png": "[encoded data removed]",
      "text/plain": [
       "<Figure size 432x288 with 1 Axes>"
      ]
     },
     "metadata": {
      "needs_background": "light"
     },
     "output_type": "display_data"
    }
   ],
   "source": [
    "x = np.linspace(-0.1,2*np.pi+0.1,100)\n",
    "\n",
    "plt.hist(network_builder.positions, density=True, bins=50);\n",
    "plt.plot(x, rng.pdf_delay(x, rate, 'rate') , linewidth=3)\n",
    "\n",
    "plt.suptitle(\"Delay distribution - $T$\", fontsize=18);"
   ]
  },
  {
   "cell_type": "code",
   "execution_count": 5,
   "id": "3de8b258",
   "metadata": {},
   "outputs": [
    {
     "name": "stdout",
     "output_type": "stream",
     "text": [
      "1.060866553071504\n",
      "1.056757304047466\n"
     ]
    }
   ],
   "source": [
    "mu1 = np.mean(network_builder._positions)\n",
    "mu2 = quad(lambda x : x*rng.pdf_delay(x, rate, 'rate'), 0, 2*np.pi)[0]\n",
    "\n",
    "print(mu1)\n",
    "print(mu2)"
   ]
  },
  {
   "cell_type": "code",
   "execution_count": 6,
   "id": "ed7d8e4c",
   "metadata": {},
   "outputs": [
    {
     "data": {
      "text/plain": [
       "1.0567573040474658"
      ]
     },
     "execution_count": 6,
     "metadata": {},
     "output_type": "execute_result"
    }
   ],
   "source": [
    "rv = ss.truncexpon(b = 2*np.pi*rate, scale = 1/rate)\n",
    "rv.mean()"
   ]
  },
  {
   "cell_type": "code",
   "execution_count": 7,
   "id": "e4109e41",
   "metadata": {},
   "outputs": [
    {
     "data": {
      "text/plain": [
       "KstestResult(statistic=0.005849190884225863, pvalue=0.6271770410864851)"
      ]
     },
     "execution_count": 7,
     "metadata": {},
     "output_type": "execute_result"
    }
   ],
   "source": [
    "ss.ks_1samp(network_builder._positions, rv.cdf)"
   ]
  },
  {
   "cell_type": "markdown",
   "id": "dc9adcf4",
   "metadata": {},
   "source": [
    "## Distances and Similarity"
   ]
  },
  {
   "cell_type": "code",
   "execution_count": 8,
   "id": "e13cad64",
   "metadata": {},
   "outputs": [],
   "source": [
    "# Pipeline\n",
    "\n",
    "N = 2**13\n",
    "beta = np.random.uniform()\n",
    "alpha = np.random.uniform(0, 0.5)\n",
    "\n",
    "rate  = np.tan(np.pi * (1-beta) / 2)\n",
    "delay = 2/np.pi * np.arctan(rate)\n",
    "\n",
    "network_builder = NetworkBuilder(random_state = 1234)\n",
    "network_builder.set_distribution('exponential', scale = 1/rate)\n",
    "network_builder.instantiate_positions(N)\n",
    "network_builder.calculate_distances(metric = 'euclidean', circular = True)\n",
    "network_builder.calculate_similarities(alpha = alpha, sim_func = 'box_cosine')"
   ]
  },
  {
   "cell_type": "code",
   "execution_count": 9,
   "id": "308a12a1",
   "metadata": {},
   "outputs": [
    {
     "data": {
      "image/png": "[encoded data removed]",
      "text/plain": [
       "<Figure size 432x288 with 1 Axes>"
      ]
     },
     "metadata": {
      "needs_background": "light"
     },
     "output_type": "display_data"
    }
   ],
   "source": [
    "x = np.linspace(-0.1, np.pi+0.1, 100)\n",
    "\n",
    "plt.hist(network_builder._distances, density=True, bins=100);\n",
    "plt.plot(x, rng.pdf_circular_distance(x, rate, 'rate') , linewidth=3)\n",
    "\n",
    "plt.suptitle(\"Distance distribution\", fontsize=18);"
   ]
  },
  {
   "cell_type": "code",
   "execution_count": 10,
   "id": "a953c2d3",
   "metadata": {},
   "outputs": [
    {
     "name": "stdout",
     "output_type": "stream",
     "text": [
      "0.34361943278981644\n",
      "0.343580655285218\n"
     ]
    }
   ],
   "source": [
    "mu1 = np.mean(network_builder._distances)\n",
    "mu2 = quad(lambda x : x*rng.pdf_circular_distance(x, rate, 'rate'), 0, 2*np.pi)[0]\n",
    "\n",
    "print(mu1)\n",
    "print(mu2)"
   ]
  },
  {
   "cell_type": "code",
   "execution_count": 11,
   "id": "f0380458",
   "metadata": {},
   "outputs": [],
   "source": [
    "disc_part = 2*(network_builder._similarities!=0).sum() / (N*(N-1))"
   ]
  },
  {
   "cell_type": "code",
   "execution_count": 12,
   "id": "8ed171fa",
   "metadata": {},
   "outputs": [
    {
     "data": {
      "image/png": "[encoded data removed]",
      "text/plain": [
       "<Figure size 432x288 with 1 Axes>"
      ]
     },
     "metadata": {
      "needs_background": "light"
     },
     "output_type": "display_data"
    }
   ],
   "source": [
    "x = np.linspace(-0.1, 1.1, 100)\n",
    "\n",
    "plt.hist(network_builder._similarities[network_builder._similarities!=0], density=True, bins=100);\n",
    "plt.plot(x, rng.pdf_similarity(x, parameter = rate, a = alpha, parameter_type = 'rate')/disc_part , linewidth=3)\n",
    "\n",
    "plt.suptitle(\"Similarity distribution\", fontsize=18);"
   ]
  },
  {
   "cell_type": "code",
   "execution_count": 13,
   "id": "95a0f25c",
   "metadata": {},
   "outputs": [
    {
     "name": "stdout",
     "output_type": "stream",
     "text": [
      "0.32224083237871715\n",
      "0.3241550454442353\n"
     ]
    }
   ],
   "source": [
    "mu1 = np.mean(network_builder._similarities)\n",
    "mu2 = quad(lambda x : x*rng.pdf_similarity(x, parameter = rate, a=alpha, parameter_type='rate'), \n",
    "           0, 2*np.pi)[0]\n",
    "\n",
    "print(mu1)\n",
    "print(mu2)"
   ]
  },
  {
   "cell_type": "code",
   "execution_count": 14,
   "id": "c1d8d855",
   "metadata": {},
   "outputs": [
    {
     "data": {
      "text/plain": [
       "0.32415504526088246"
      ]
     },
     "execution_count": 14,
     "metadata": {},
     "output_type": "execute_result"
    }
   ],
   "source": [
    "rng.classes.network_model.mean_similarity(a=alpha, rate = rate)"
   ]
  },
  {
   "cell_type": "code",
   "execution_count": 15,
   "id": "29d60976",
   "metadata": {},
   "outputs": [],
   "source": [
    "def mean_similarity(rate, a):\n",
    "    \"\"\"Calculate expected mean similarity (equivalently maximal expected density). \n",
    "    \n",
    "    This function assumies a (wrapped) exponential function and a cosine similarity \n",
    "    of box functions.\n",
    "    \"\"\"\n",
    "    palph = a*2\n",
    "    plamb = np.pi * rate\n",
    "    \n",
    "    # Alternatively:\n",
    "    numerator = 2*(np.sinh(plamb*(1-a)) * np.sinh(plamb*a))\n",
    "#    numerator = (np.cosh(plamb) - np.cosh(plamb*(1 - palph)))\n",
    "    denominator = (palph*plamb * np.sinh(plamb))\n",
    "    \n",
    "    return 1 - numerator / denominator "
   ]
  },
  {
   "cell_type": "code",
   "execution_count": 16,
   "id": "82b3c3ee",
   "metadata": {},
   "outputs": [
    {
     "data": {
      "text/plain": [
       "0.3241550452608818"
      ]
     },
     "execution_count": 16,
     "metadata": {},
     "output_type": "execute_result"
    }
   ],
   "source": [
    "mean_similarity(a=alpha, rate = rate)"
   ]
  },
  {
   "cell_type": "markdown",
   "id": "e7c18685",
   "metadata": {},
   "source": [
    "## Probability"
   ]
  },
  {
   "cell_type": "code",
   "execution_count": 51,
   "id": "e3c21276",
   "metadata": {},
   "outputs": [],
   "source": [
    "N = 2**9\n",
    "beta = np.random.uniform()\n",
    "alpha = np.random.uniform(0, 0.5)\n",
    "\n",
    "rate  = np.tan(np.pi * (1-beta) / 2)\n",
    "\n",
    "max_rho = rng.classes.network_model.mean_similarity(a=alpha, rate = rate)\n",
    "rho = np.random.uniform(0, max_rho)\n",
    "\n",
    "K = rng.classes.network_model.density_to_interaction_strength(rho, a=alpha, rate=rate)\n",
    "density = rng.classes.network_model.mean_similarity(a=alpha, rate = rate)*K\n",
    "\n",
    "network_builder = NetworkBuilder()\n",
    "network_builder.set_distribution('exponential', scale = 1/rate)\n",
    "network_builder.instantiate_positions(N)\n",
    "network_builder.calculate_distances(metric = 'euclidean', circular = True)\n",
    "network_builder.calculate_similarities(alpha = alpha, sim_func = 'box_cosine')\n",
    "network_builder.calculate_probabilities(intercept=0, slope = K)\n",
    "network_builder.instantiate_network()"
   ]
  },
  {
   "cell_type": "code",
   "execution_count": 52,
   "id": "85daaabc",
   "metadata": {},
   "outputs": [],
   "source": [
    "assert np.isclose(rho, density)"
   ]
  },
  {
   "cell_type": "code",
   "execution_count": 53,
   "id": "49c56841",
   "metadata": {},
   "outputs": [],
   "source": [
    "disc_part = 2*(network_builder._probabilities!=0).sum() / (N*(N-1))"
   ]
  },
  {
   "cell_type": "code",
   "execution_count": 54,
   "id": "c7a84461",
   "metadata": {},
   "outputs": [
    {
     "data": {
      "image/png": "[encoded data removed]",
      "text/plain": [
       "<Figure size 432x288 with 1 Axes>"
      ]
     },
     "metadata": {
      "needs_background": "light"
     },
     "output_type": "display_data"
    }
   ],
   "source": [
    "x = np.linspace(-0.05, 1.05, 100)\n",
    "\n",
    "plt.hist(network_builder._probabilities[network_builder._probabilities != 0], density=True, bins=25);\n",
    "plt.plot(x, rng.pdf_probability(x, \n",
    "                                rho = rho,\n",
    "                                parameter = rate, \n",
    "                                a = alpha, \n",
    "                                parameter_type = 'rate')/disc_part , linewidth=3)\n",
    "\n",
    "plt.suptitle(\"Probabilities distribution\", fontsize=18);"
   ]
  },
  {
   "cell_type": "code",
   "execution_count": 55,
   "id": "392e7d19",
   "metadata": {},
   "outputs": [
    {
     "name": "stdout",
     "output_type": "stream",
     "text": [
      "0.04683326319551728\n",
      "0.04644061639041624\n"
     ]
    }
   ],
   "source": [
    "mu1 = np.mean(network_builder._probabilities)\n",
    "mu2 = quad(lambda x : x*rng.pdf_probability(x, parameter = rate, a=alpha, rho=rho, parameter_type='rate'), \n",
    "           0, 2*np.pi)[0]\n",
    "\n",
    "print(mu1)\n",
    "print(mu2)"
   ]
  },
  {
   "cell_type": "markdown",
   "id": "69a0d046",
   "metadata": {},
   "source": [
    "# Conditional distributions"
   ]
  },
  {
   "cell_type": "markdown",
   "id": "939c6f19",
   "metadata": {},
   "source": [
    "## Conditional Distances and Similarity"
   ]
  },
  {
   "cell_type": "code",
   "execution_count": 56,
   "id": "97c484e4",
   "metadata": {},
   "outputs": [],
   "source": [
    "# Pipeline\n",
    "\n",
    "N = 2**13\n",
    "beta = np.random.uniform()\n",
    "alpha = np.random.uniform(0, 0.5)\n",
    "\n",
    "rate  = np.tan(np.pi * (1-beta) / 2)\n",
    "delay = 2/np.pi * np.arctan(rate)\n",
    "\n",
    "network_builder = NetworkBuilder(random_state = 1234)\n",
    "network_builder.set_distribution('exponential', scale = 1/rate)\n",
    "network_builder.instantiate_positions(N)\n",
    "network_builder.calculate_distances(metric = 'euclidean', circular = True)\n",
    "network_builder.calculate_similarities(alpha = alpha, sim_func = 'box_cosine')\n",
    "\n",
    "theta = network_builder.positions[0]"
   ]
  },
  {
   "cell_type": "code",
   "execution_count": 63,
   "id": "08f25c87",
   "metadata": {},
   "outputs": [
    {
     "data": {
      "image/png": "[encoded data removed]",
      "text/plain": [
       "<Figure size 432x288 with 1 Axes>"
      ]
     },
     "metadata": {
      "needs_background": "light"
     },
     "output_type": "display_data"
    }
   ],
   "source": [
    "x = np.linspace(-0.1, np.pi+0.1, 100)\n",
    "\n",
    "plt.hist(network_builder.distances[0], density=True, bins=100);\n",
    "plt.plot(x, rng.pdf_conditional_circular_distance(x, \n",
    "                                                  theta=theta, \n",
    "                                                  parameter=rate, \n",
    "                                                  parameter_type='rate') , linewidth=3)\n",
    "\n",
    "plt.suptitle(\"Distance distribution\", fontsize=18);"
   ]
  },
  {
   "cell_type": "code",
   "execution_count": 72,
   "id": "fb3b30f6",
   "metadata": {},
   "outputs": [
    {
     "data": {
      "image/png": "[encoded data removed]",
      "text/plain": [
       "<Figure size 432x288 with 1 Axes>"
      ]
     },
     "metadata": {
      "needs_background": "light"
     },
     "output_type": "display_data"
    }
   ],
   "source": [
    "x = np.linspace(-0.1, 1.1, 100)\n",
    "\n",
    "similarities = network_builder.similarities[0]\n",
    "disc_part = 2*(similarities!=0).sum() / (N*(N-1))\n",
    "\n",
    "plt.hist(similarities[similarities!=0], density=True, bins=100);\n",
    "plt.plot(x, rng.pdf_conditional_similarity(x, \n",
    "                                           theta = theta,\n",
    "                                           parameter = rate, \n",
    "                                           a = alpha, \n",
    "                                           parameter_type = 'rate') , linewidth=3)\n",
    "\n",
    "plt.suptitle(\"Similarity distribution\", fontsize=18);"
   ]
  },
  {
   "cell_type": "markdown",
   "id": "3dee91dd",
   "metadata": {},
   "source": [
    "## Conditional probabilities"
   ]
  },
  {
   "cell_type": "code",
   "execution_count": 88,
   "id": "d09bbade",
   "metadata": {},
   "outputs": [],
   "source": [
    "N = 2**9\n",
    "beta = np.random.uniform()\n",
    "alpha = np.random.uniform(0, 0.5)\n",
    "\n",
    "rate  = np.tan(np.pi * (1-beta) / 2)\n",
    "\n",
    "max_rho = rng.classes.network_model.mean_similarity(a=alpha, rate = rate)\n",
    "rho = np.random.uniform(0, max_rho)\n",
    "\n",
    "K = rng.classes.network_model.density_to_interaction_strength(rho, a=alpha, rate=rate)\n",
    "density = rng.classes.network_model.mean_similarity(a=alpha, rate = rate)*K\n",
    "\n",
    "network_builder = NetworkBuilder()\n",
    "network_builder.set_distribution('exponential', scale = 1/rate)\n",
    "network_builder.instantiate_positions(N)\n",
    "network_builder.calculate_distances(metric = 'euclidean', circular = True)\n",
    "network_builder.calculate_similarities(alpha = alpha, sim_func = 'box_cosine')\n",
    "network_builder.calculate_probabilities(intercept=0, slope = K)\n",
    "network_builder.instantiate_network()\n",
    "\n",
    "theta = network_builder.positions[0]"
   ]
  },
  {
   "cell_type": "code",
   "execution_count": 89,
   "id": "3f113ff7",
   "metadata": {},
   "outputs": [
    {
     "data": {
      "image/png": "[encoded data removed]",
      "text/plain": [
       "<Figure size 432x288 with 1 Axes>"
      ]
     },
     "metadata": {
      "needs_background": "light"
     },
     "output_type": "display_data"
    }
   ],
   "source": [
    "x = np.linspace(-0.05, 1.05, 100)\n",
    "\n",
    "probabilities = network_builder.probabilities[0]\n",
    "disc_part = 2*(probabilities!=0).sum() / (N*(N-1))\n",
    "\n",
    "plt.hist(probabilities[probabilities!=0], density=True, bins=100);\n",
    "\n",
    "plt.plot(x, rng.pdf_conditional_probability(x, \n",
    "                                            theta = theta,\n",
    "                                            rho = rho,\n",
    "                                            parameter = rate, \n",
    "                                            a = alpha, \n",
    "                                            parameter_type = 'rate') , linewidth=3)\n",
    "\n",
    "plt.suptitle(\"Probabilities distribution\", fontsize=18);"
   ]
  },
  {
   "cell_type": "code",
   "execution_count": null,
   "id": "d367b1fb",
   "metadata": {},
   "outputs": [],
   "source": []
  }
 ],
 "metadata": {
  "kernelspec": {
   "display_name": "ringity",
   "language": "python",
   "name": "ringity"
  },
  "language_info": {
   "codemirror_mode": {
    "name": "ipython",
    "version": 3
   },
   "file_extension": ".py",
   "mimetype": "text/x-python",
   "name": "python",
   "nbconvert_exporter": "python",
   "pygments_lexer": "ipython3",
   "version": "3.8.3"
  }
 },
 "nbformat": 4,
 "nbformat_minor": 5
}
