{
 "cells": [
  {
   "cell_type": "code",
   "execution_count": 1,
   "id": "f0474848",
   "metadata": {},
   "outputs": [],
   "source": [
    "import scanpy\n",
    "import ringity as rng"
   ]
  },
  {
   "cell_type": "code",
   "execution_count": 2,
   "id": "9a94cd4b",
   "metadata": {},
   "outputs": [
    {
     "data": {
      "text/plain": [
       "0.44930427242712256"
      ]
     },
     "execution_count": 2,
     "metadata": {},
     "output_type": "execute_result"
    },
    {
     "data": {
      "text/plain": [
       "0.44930427242712256"
      ]
     },
     "execution_count": 2,
     "metadata": {},
     "output_type": "execute_result"
    }
   ],
   "source": [
    "adata = scanpy.datasets.ebi_expression_atlas(\"E-GEOD-75688\")\n",
    "cc_genes = rng.get_cell_cycle_genes(gene_id='ensembl')\n",
    "rng.ring_score(adata[:,cc_genes].X)"
   ]
  },
  {
   "cell_type": "code",
   "execution_count": 3,
   "id": "fdde09ae",
   "metadata": {},
   "outputs": [],
   "source": [
    "import random"
   ]
  },
  {
   "cell_type": "code",
   "execution_count": 7,
   "id": "871b88dc",
   "metadata": {},
   "outputs": [
    {
     "data": {
      "text/plain": [
       "array(['ENSG00000000003', 'ENSG00000000419', 'ENSG00000000457', ...,\n",
       "       'ENSG00000289701', 'ENSG00000289716', 'ENSG00000289718'],\n",
       "      dtype=object)"
      ]
     },
     "execution_count": 7,
     "metadata": {},
     "output_type": "execute_result"
    },
    {
     "data": {
      "text/plain": [
       "array(['ENSG00000000003', 'ENSG00000000419', 'ENSG00000000457', ...,\n",
       "       'ENSG00000289701', 'ENSG00000289716', 'ENSG00000289718'],\n",
       "      dtype=object)"
      ]
     },
     "execution_count": 7,
     "metadata": {},
     "output_type": "execute_result"
    }
   ],
   "source": [
    "adata.var_names.values"
   ]
  },
  {
   "cell_type": "code",
   "execution_count": 12,
   "id": "90e129a9",
   "metadata": {},
   "outputs": [],
   "source": [
    "? scanpy.datasets.ebi_expression_atlas"
   ]
  },
  {
   "cell_type": "code",
   "execution_count": null,
   "id": "59860cc2",
   "metadata": {},
   "outputs": [],
   "source": []
  }
 ],
 "metadata": {
  "kernelspec": {
   "display_name": "ringity",
   "language": "python",
   "name": "ringity"
  },
  "language_info": {
   "codemirror_mode": {
    "name": "ipython",
    "version": 3
   },
   "file_extension": ".py",
   "mimetype": "text/x-python",
   "name": "python",
   "nbconvert_exporter": "python",
   "pygments_lexer": "ipython3",
   "version": "3.9.5"
  }
 },
 "nbformat": 4,
 "nbformat_minor": 5
}
