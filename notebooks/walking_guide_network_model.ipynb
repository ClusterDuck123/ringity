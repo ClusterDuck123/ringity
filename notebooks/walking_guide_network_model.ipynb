{
 "cells": [
  {
   "cell_type": "code",
   "execution_count": 2,
   "id": "36c48fa6",
   "metadata": {},
   "outputs": [],
   "source": [
    "import numpy as np\n",
    "import inspect\n",
    "import ringity as rng\n",
    "import scipy.stats as ss\n",
    "import matplotlib.pyplot as plt"
   ]
  },
  {
   "cell_type": "code",
   "execution_count": 64,
   "id": "a7ccb1bf",
   "metadata": {},
   "outputs": [],
   "source": [
    "rv = ss.expon(scale = 1.2, loc = 0.1)"
   ]
  },
  {
   "cell_type": "code",
   "execution_count": 43,
   "id": "9f47bbae",
   "metadata": {},
   "outputs": [
    {
     "data": {
      "text/plain": [
       "()"
      ]
     },
     "execution_count": 43,
     "metadata": {},
     "output_type": "execute_result"
    }
   ],
   "source": [
    "rv.args"
   ]
  },
  {
   "cell_type": "code",
   "execution_count": 44,
   "id": "05d39884",
   "metadata": {},
   "outputs": [],
   "source": [
    "rv.a = 0"
   ]
  },
  {
   "cell_type": "code",
   "execution_count": 45,
   "id": "e353d219",
   "metadata": {},
   "outputs": [
    {
     "data": {
      "text/plain": [
       "1.3"
      ]
     },
     "execution_count": 45,
     "metadata": {},
     "output_type": "execute_result"
    }
   ],
   "source": [
    "rv.mean()"
   ]
  },
  {
   "cell_type": "code",
   "execution_count": 51,
   "id": "f364bd7f",
   "metadata": {},
   "outputs": [
    {
     "data": {
      "text/plain": [
       "(array(1.3), array(1.44), array(2.), array(6.))"
      ]
     },
     "execution_count": 51,
     "metadata": {},
     "output_type": "execute_result"
    }
   ],
   "source": [
    "rv.stats(moments = 'mvsk')"
   ]
  },
  {
   "cell_type": "code",
   "execution_count": 54,
   "id": "2d084b31",
   "metadata": {},
   "outputs": [
    {
     "data": {
      "text/plain": [
       "'/Users/dottolab/Documents/my_stuff/ringity_testing/ringity/lib/python3.8/site-packages/scipy/stats/__init__.py'"
      ]
     },
     "execution_count": 54,
     "metadata": {},
     "output_type": "execute_result"
    }
   ],
   "source": [
    "ss.__file__"
   ]
  },
  {
   "cell_type": "code",
   "execution_count": 56,
   "id": "cf25b226",
   "metadata": {},
   "outputs": [
    {
     "data": {
      "text/plain": [
       "(scipy.stats._continuous_distns.expon_gen,\n",
       " scipy.stats._distn_infrastructure.rv_continuous,\n",
       " scipy.stats._distn_infrastructure.rv_generic,\n",
       " object)"
      ]
     },
     "execution_count": 56,
     "metadata": {},
     "output_type": "execute_result"
    }
   ],
   "source": [
    "inspect.getmro(ss._continuous_distns.expon_gen)"
   ]
  },
  {
   "cell_type": "code",
   "execution_count": 58,
   "id": "c0dd8d2d",
   "metadata": {},
   "outputs": [
    {
     "data": {
      "text/plain": [
       "(scipy.stats._continuous_distns.expon_gen,\n",
       " scipy.stats._distn_infrastructure.rv_continuous,\n",
       " scipy.stats._distn_infrastructure.rv_generic,\n",
       " object)"
      ]
     },
     "execution_count": 58,
     "metadata": {},
     "output_type": "execute_result"
    }
   ],
   "source": [
    "inspect.getmro(type(ss._continuous_distns.expon))"
   ]
  },
  {
   "cell_type": "code",
   "execution_count": 59,
   "id": "a4b0d75c",
   "metadata": {},
   "outputs": [
    {
     "data": {
      "text/plain": [
       "(scipy.stats._continuous_distns.expon_gen,\n",
       " scipy.stats._distn_infrastructure.rv_continuous,\n",
       " scipy.stats._distn_infrastructure.rv_generic,\n",
       " object)"
      ]
     },
     "execution_count": 59,
     "metadata": {},
     "output_type": "execute_result"
    }
   ],
   "source": [
    "inspect.getmro(type(ss.expon))"
   ]
  },
  {
   "cell_type": "code",
   "execution_count": 60,
   "id": "2f1b0a0d",
   "metadata": {},
   "outputs": [
    {
     "data": {
      "text/plain": [
       "(scipy.stats._distn_infrastructure.rv_frozen, object)"
      ]
     },
     "execution_count": 60,
     "metadata": {},
     "output_type": "execute_result"
    }
   ],
   "source": [
    "inspect.getmro(type(ss.expon()))"
   ]
  },
  {
   "cell_type": "code",
   "execution_count": 63,
   "id": "788c32d2",
   "metadata": {},
   "outputs": [],
   "source": [
    "class deterministic_gen(ss.rv_continuous):\n",
    "    def _cdf(self, x):\n",
    "        return np.where(x < 0, 0., 1.)\n",
    "    def _stats(self):\n",
    "        return 0., 0., 0., 0"
   ]
  },
  {
   "cell_type": "code",
   "execution_count": 67,
   "id": "a5a05585",
   "metadata": {},
   "outputs": [
    {
     "data": {
      "text/plain": [
       "array(6.)"
      ]
     },
     "execution_count": 67,
     "metadata": {},
     "output_type": "execute_result"
    }
   ],
   "source": [
    "rv.stats(moments = 'k')"
   ]
  },
  {
   "cell_type": "code",
   "execution_count": 164,
   "id": "db6ce2e4",
   "metadata": {},
   "outputs": [],
   "source": [
    "def wrapped_exponential(rate):\n",
    "    b = 2*np.pi*rate\n",
    "    return ss.truncexpon(b = b, scale = 1/rate)"
   ]
  },
  {
   "cell_type": "code",
   "execution_count": 166,
   "id": "26f0f807",
   "metadata": {},
   "outputs": [],
   "source": [
    "rv = wrapped_exponential(2)"
   ]
  },
  {
   "cell_type": "code",
   "execution_count": 167,
   "id": "c226d92f",
   "metadata": {},
   "outputs": [
    {
     "data": {
      "text/plain": [
       "scipy.stats._distn_infrastructure.rv_frozen"
      ]
     },
     "execution_count": 167,
     "metadata": {},
     "output_type": "execute_result"
    }
   ],
   "source": [
    "type(rv)"
   ]
  },
  {
   "cell_type": "code",
   "execution_count": 146,
   "id": "a697f15a",
   "metadata": {},
   "outputs": [],
   "source": [
    "scale = 2**12\n",
    "b = 2/scale\n",
    "rv = ss.truncexpon(b = b, scale = scale)"
   ]
  },
  {
   "cell_type": "code",
   "execution_count": 173,
   "id": "6b9a6469",
   "metadata": {},
   "outputs": [
    {
     "data": {
      "image/png": "[encoded data removed]",
      "text/plain": [
       "<Figure size 432x288 with 1 Axes>"
      ]
     },
     "metadata": {
      "needs_background": "light"
     },
     "output_type": "display_data"
    }
   ],
   "source": [
    "rv = wrapped_exponential(0.01)\n",
    "\n",
    "points = rv.rvs(size = 2**13)\n",
    "plt.hist(points, bins = 50);"
   ]
  },
  {
   "cell_type": "code",
   "execution_count": 163,
   "id": "5a76f2c4",
   "metadata": {},
   "outputs": [
    {
     "data": {
      "text/plain": [
       "KstestResult(statistic=0.048034192512752094, pvalue=3.838097782567525e-66)"
      ]
     },
     "execution_count": 163,
     "metadata": {},
     "output_type": "execute_result"
    }
   ],
   "source": [
    "ss.kstest(rv.rvs, ss.uniform(scale = 2.1).cdf, N = 2**15)"
   ]
  },
  {
   "cell_type": "code",
   "execution_count": 150,
   "id": "1c7d27f5",
   "metadata": {},
   "outputs": [],
   "source": [
    "? ss.kstest"
   ]
  },
  {
   "cell_type": "code",
   "execution_count": null,
   "id": "6cad3860",
   "metadata": {},
   "outputs": [],
   "source": []
  }
 ],
 "metadata": {
  "kernelspec": {
   "display_name": "ringity",
   "language": "python",
   "name": "ringity"
  },
  "language_info": {
   "codemirror_mode": {
    "name": "ipython",
    "version": 3
   },
   "file_extension": ".py",
   "mimetype": "text/x-python",
   "name": "python",
   "nbconvert_exporter": "python",
   "pygments_lexer": "ipython3",
   "version": "3.8.3"
  }
 },
 "nbformat": 4,
 "nbformat_minor": 5
}
