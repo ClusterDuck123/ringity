{
 "cells": [
  {
   "cell_type": "markdown",
   "id": "10069f81",
   "metadata": {},
   "source": [
    "# As a statistical interaction network model"
   ]
  },
  {
   "cell_type": "markdown",
   "id": "321b496e",
   "metadata": {},
   "source": [
    "Fixed parameters of the model are:\n",
    " - an _internal state spce / response space / local microstates_, $\\sigma_{\\mathit int} = \\{ 0, 1\\}$\n",
    " - an _external state space_, $\\sigma_{\\mathit ext} = [ 0, 2\\pi]$\n",
    " - position distribution of elements / components / statistical units, $X_i \\sim WExp(\\lambda)$\n",
    " - a connection function, \n",
    "$p:\\sigma_{\\mathit ext} \\times \\sigma_{\\mathit ext} \\rightarrow [0,1]: (\\theta_i, \\theta_j) \\mapsto \\min \\Big\\{1, k - \\frac{k}{2\\pi a}d(\\theta_i, \\theta_j) \\Big\\}$,\n",
    "\n",
    "where $d(.,.)$ is the \"_periodic distance_\", i.e. $d(\\theta_i, \\theta_j) = \\min {\\Big\\{ \\big|\\theta_i-\\theta_j\\big|, 2\\pi-\\big|\\theta_i-\\theta_j\\big|} \\Big\\}$"
   ]
  },
  {
   "cell_type": "markdown",
   "id": "9bfd58fe",
   "metadata": {},
   "source": [
    "# As an Ising model with a \"_random lattice_\""
   ]
  },
  {
   "cell_type": "markdown",
   "id": "632dff1c",
   "metadata": {},
   "source": [
    "Given the three parameters $N$, $a$ and $\\beta$ we can construct a \"_random lattice_\" $\\Lambda$ via:\n",
    "$$\\langle ij \\rangle \\Leftrightarrow d(\\Theta_i, \\Theta_j) < 2\\pi a \\, , \\text{where } \\Theta_k \\sim \\mathit WExp (\\lambda)$$\n",
    "\n",
    "The two parameters $\\lambda$ and $\\beta$ can be transformed into each other via\n",
    " - $\\lambda = 1 / \\tan\\Big(\\frac{\\pi}{2}\\beta\\Big)$\n",
    " - $\\beta = \\frac{2}{\\pi} \\cdot \\arctan(1/\\lambda)$"
   ]
  },
  {
   "cell_type": "markdown",
   "id": "985295bc",
   "metadata": {},
   "source": [
    "# As a Generalized random geometric graph (RGG)"
   ]
  },
  {
   "cell_type": "markdown",
   "id": "451fa434",
   "metadata": {},
   "source": [
    "The connection fucntion is taken from the \"_Quasi unit disk model_\" via\n",
    "$$H(d) =\n",
    "    \\begin{cases}\n",
    "      1, & \\text{if}\\ d \\leq d_- \\\\\n",
    "      \\frac{d_+ - d}{d_+ - d_-}, & \\text{if}\\ d_- \\leq d \\leq d_+ \\\\\n",
    "      0, & \\text{if}\\ d \\geq d_+\n",
    "    \\end{cases} \\, ,$$ \n",
    "    \n",
    "where $d_- = 2\\pi a (1-1/k)$ and $d_+ = 2$. \n",
    "\n",
    "The small $d$ expansion is the constant $1$ (similar to a random geometric graph model with a \"hard\" cutoff)."
   ]
  },
  {
   "cell_type": "markdown",
   "id": "984990e1",
   "metadata": {},
   "source": [
    "### References\n",
    "- Dettmann, Carl P., and Orestis Georgiou. \"Random geometric graphs with general connection functions.\" Physical Review E 93.3 (2016): 032313.\n",
    "- Kuhn, F., R. Wattenhofer, and A. Zollinger. \"Proceedings of the 2003 Joint Workshop on Foundations of Mobile Computing.\" (2003): 69-78.\n",
    "- Gao, Deyun, et al. \"Hop-distance relationship analysis with quasi-UDG model for node localization in wireless sensor networks.\" EURASIP Journal on Wireless Communications and Networking 2011.1 (2011): 1-11"
   ]
  },
  {
   "cell_type": "markdown",
   "id": "ed33588e",
   "metadata": {},
   "source": [
    "# Parameter identifications\n",
    "\n",
    "$\\lambda = \\dfrac{1}{\\tan\\Big(\\frac{\\pi}{2}\\beta\\Big)}$"
   ]
  },
  {
   "cell_type": "code",
   "execution_count": null,
   "id": "83179f39",
   "metadata": {},
   "outputs": [],
   "source": []
  }
 ],
 "metadata": {
  "kernelspec": {
   "display_name": "Python 3",
   "language": "python",
   "name": "python3"
  },
  "language_info": {
   "codemirror_mode": {
    "name": "ipython",
    "version": 3
   },
   "file_extension": ".py",
   "mimetype": "text/x-python",
   "name": "python",
   "nbconvert_exporter": "python",
   "pygments_lexer": "ipython3",
   "version": "3.8.3"
  }
 },
 "nbformat": 4,
 "nbformat_minor": 5
}
